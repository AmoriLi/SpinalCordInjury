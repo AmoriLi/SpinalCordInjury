{
 "cells": [
  {
   "cell_type": "code",
   "execution_count": null,
   "metadata": {
    "vscode": {
     "languageId": "r"
    }
   },
   "outputs": [],
   "source": [
    "#wd<-\"/home/jovyan/zxli_SCI/result/RCTD/testC5/WT_all/fc1.fcreg1.conf5_220317/\"\n",
    "wd<-\"/result/RCTD/testC5/WT_all/fc1/\"\n",
    "if(!dir.exists(wd))\n",
    "    dir.create(wd)\n",
    "setwd(wd)\n",
    "getwd()"
   ]
  },
  {
   "cell_type": "code",
   "execution_count": 2,
   "metadata": {
    "vscode": {
     "languageId": "r"
    }
   },
   "outputs": [],
   "source": [
    "source(\"/script/SPOTlightHelper-Copy1.R\")\n",
    "source(\"/script/DotPlot_ct.R\")"
   ]
  },
  {
   "cell_type": "code",
   "execution_count": null,
   "metadata": {
    "vscode": {
     "languageId": "r"
    }
   },
   "outputs": [],
   "source": [
    "count_interactions <- function(x, min_prop) {\n",
    "    # for each pair of groups count how many\n",
    "    # samples have value above 'min_prop'\n",
    "    x <- x > min_prop\n",
    "    ij <- combn(colnames(x), 2)\n",
    "    y <- apply(ij, 2, function(.) sum(rowAlls(x[, ., drop = FALSE])))\n",
    "\n",
    "    # construct 'data.frame'\n",
    "    df <- data.frame(t(ij), y)\n",
    "    names(df) <- c(\"from\", \"to\", \"n\")\n",
    "    return(df)\n",
    "}\n",
    "               \n",
    "plot_network <- function(x, df, ...) {\n",
    "    # Check necessary packages are installed and if not STOP\n",
    "    #.test_installed(\"igraph\")\n",
    "\n",
    "    w <- scale(df$n, 1)\n",
    "    g <- igraph::graph_from_data_frame(df,\n",
    "        vertices = colnames(x),\n",
    "        directed = FALSE)\n",
    "    \n",
    "    igraph::plot.igraph(g, edge.width = w, ...)\n",
    "}"
   ]
  },
  {
   "cell_type": "code",
   "execution_count": null,
   "metadata": {
    "collapsed": true,
    "vscode": {
     "languageId": "r"
    }
   },
   "outputs": [],
   "source": [
    "library(spacexr)\n",
    "library(Seurat)\n",
    "library(ggplot2)\n",
    "library(patchwork)\n",
    "library(dplyr)\n",
    "#library(hdf5r)\n",
    "library(png)\n",
    "library(viridis)\n",
    "library(ggsci)\n",
    "library(ggalluvial)\n",
    "#library(tidyverse)\n",
    "#library(clustree)\n",
    "library(RCTD)\n",
    "library(Matrix)\n",
    "#library(SPOTlight)\n",
    "library(future)\n",
    "library(grid)\n",
    "library(RColorBrewer)\n",
    "#library(pheatmap)\n",
    "library(circlize)\n",
    "library(igraph)\n",
    "library(ComplexHeatmap)\n",
    "library(stringr)\n",
    "library(ComplexHeatmap)\n",
    "library(cowplot)\n",
    "library(scales)\n",
    "library(tidyr)\n",
    "library(scater)\n",
    "library(scran)\n",
    "library(reshape2)"
   ]
  },
  {
   "cell_type": "code",
   "execution_count": 20,
   "metadata": {
    "vscode": {
     "languageId": "r"
    }
   },
   "outputs": [],
   "source": [
    "get_marker_data <- function(cell_type_names, cell_type_means, gene_list) {\n",
    "  marker_means = cell_type_means[gene_list,]\n",
    "  marker_norm = marker_means / rowSums(marker_means)\n",
    "  marker_data = as.data.frame(cell_type_names[max.col(marker_means)])\n",
    "  marker_data$max_epr <- apply(cell_type_means[gene_list,],1,max)\n",
    "  colnames(marker_data) = c(\"cell_type\",'max_epr')\n",
    "  rownames(marker_data) = gene_list\n",
    "  marker_data$log_fc <- 0\n",
    "  epsilon <- 1e-9\n",
    "  for(cell_type in unique(marker_data$cell_type)) {\n",
    "    cur_genes <- gene_list[marker_data$cell_type == cell_type]\n",
    "    other_mean = rowMeans(cell_type_means[cur_genes,cell_type_names != cell_type])\n",
    "    marker_data$log_fc[marker_data$cell_type == cell_type] <- log(epsilon + cell_type_means[cur_genes,cell_type]) - log(epsilon + other_mean)\n",
    "  }\n",
    "  return(marker_data)\n",
    "}"
   ]
  },
  {
   "cell_type": "code",
   "execution_count": 9,
   "metadata": {
    "vscode": {
     "languageId": "r"
    }
   },
   "outputs": [],
   "source": [
    "reference<-readRDS(\"/result/RCTD/ref_10x_astr/L3_taxon/Astrocyte_integrate_split2A/2reference.3astr.labeltransfer.L3.astrocyte_RCTD.reference.seed1234.down1000.without7dpi.rds\")"
   ]
  },
  {
   "cell_type": "code",
   "execution_count": 12,
   "metadata": {
    "vscode": {
     "languageId": "r"
    }
   },
   "outputs": [],
   "source": [
    "puck<-readRDS(\"/result/RCTD/WT.replace_v2.SCT.puck.rds\")"
   ]
  },
  {
   "cell_type": "code",
   "execution_count": null,
   "metadata": {
    "collapsed": true,
    "vscode": {
     "languageId": "r"
    }
   },
   "outputs": [],
   "source": [
    "myRCTD <- create.RCTD(puck, reference,CELL_MIN_INSTANCE = 10,max_cores=10,\n",
    "                      UMI_min = (min(puck@nUMI)-1),UMI_max = 200000000,fc_cutoff=1,fc_cutoff_reg = 1)\n",
    "#myRCTD@config$CONFIDENCE_THRESHOLD<-5\n",
    "myRCTD.multi <- run.RCTD(myRCTD, doublet_mode = 'multi')\n",
    "saveRDS(myRCTD.multi,'myRCTD_visium_multi.rds')"
   ]
  },
  {
   "cell_type": "markdown",
   "metadata": {},
   "source": [
    "### get the cell type highest marker list and df"
   ]
  },
  {
   "cell_type": "code",
   "execution_count": null,
   "metadata": {
    "collapsed": true,
    "vscode": {
     "languageId": "r"
    }
   },
   "outputs": [],
   "source": [
    "sc_exp<-myRCTD@cell_type_info$info[[1]]\n",
    "#sc_exp$gene<-rownames(sc_exp)\n",
    "head(sc_exp)\n",
    "sc_df<-get_marker_data(myRCTD@cell_type_info$info[[2]],myRCTD@cell_type_info$info[[1]],myRCTD@internal_vars$gene_list_bulk)\n",
    "sc_df$gene<-rownames(sc_df)\n",
    "head(sc_df)\n",
    "dim(sc_df)\n",
    "range(sc_df$log_fc)\n",
    "table(sc_df$cell_type)\n",
    "sc_exp_norm<-sc_exp[sc_df$gene,]\n",
    "dim(sc_exp_norm)\n",
    "head(sc_exp_norm)\n",
    "sc_exp_norm<-sc_exp_norm / rowSums(sc_exp_norm)\n",
    "sc_exp_norm$gene<-rownames(sc_exp_norm)\n",
    "head(sc_exp_norm)\n",
    "table(sc_exp_norm$gene==sc_df$gene)\n",
    "dev_marker_df<-cbind(sc_exp_norm,sc_df)\n",
    "head(dev_marker_df)\n"
   ]
  },
  {
   "cell_type": "code",
   "execution_count": 22,
   "metadata": {
    "vscode": {
     "languageId": "r"
    }
   },
   "outputs": [],
   "source": [
    "write.csv(dev_marker_df,\"fc1.fcreg1.deconvolution.celltype.marker.normalized.data.frame.csv\")"
   ]
  },
  {
   "cell_type": "markdown",
   "metadata": {},
   "source": [
    "### get the deconvolution dataframe"
   ]
  },
  {
   "cell_type": "code",
   "execution_count": null,
   "metadata": {
    "vscode": {
     "languageId": "r"
    }
   },
   "outputs": [],
   "source": [
    "result<-myRCTD.multi@results\n",
    "length(result)"
   ]
  },
  {
   "cell_type": "code",
   "execution_count": 16,
   "metadata": {
    "vscode": {
     "languageId": "r"
    }
   },
   "outputs": [],
   "source": [
    "sub_weights <- data.frame(result[[1]]$sub_weights)\n",
    "sub_weights$ct <- row.names(sub_weights)\n",
    "colnames(sub_weights)[1]<-1\n",
    "\n",
    "sub_weights_conf <- data.frame(result[[1]]$sub_weights[result[[1]]$conf_list])\n",
    "sub_weights_conf$ct <- row.names(sub_weights_conf)\n",
    "colnames(sub_weights_conf)[1]<-1\n",
    "for(i in seq(2, length(result))){\n",
    "    tmp <- data.frame(result[[i]]$sub_weights[result[[i]]$conf_list])\n",
    "    tmp$ct <- row.names(data.frame(tmp))\n",
    "    colnames(tmp)[1]<-i\n",
    "    sub_weights_conf <- merge(x = sub_weights_conf, y =tmp, by = \"ct\", all = T)\n",
    "    \n",
    "    tmp2 <- data.frame(result[[i]]$sub_weights)\n",
    "    tmp2$ct <- row.names(data.frame(tmp2))\n",
    "    colnames(tmp2)[1]<-i\n",
    "    sub_weights <- merge(x = sub_weights, y =tmp2, by = \"ct\", all = T)\n",
    "}"
   ]
  },
  {
   "cell_type": "code",
   "execution_count": null,
   "metadata": {
    "collapsed": true,
    "vscode": {
     "languageId": "r"
    }
   },
   "outputs": [],
   "source": [
    "sub_weights[is.na(sub_weights)] <- 0\n",
    "sub_weights[1:5,1:5]\n",
    "\n",
    "sub_weights_conf[is.na(sub_weights_conf)] <- 0\n",
    "sub_weights_conf[1:5,1:5]"
   ]
  },
  {
   "cell_type": "code",
   "execution_count": null,
   "metadata": {
    "collapsed": true,
    "vscode": {
     "languageId": "r"
    }
   },
   "outputs": [],
   "source": [
    "dec_mtx<-sub_weights\n",
    "rownames(dec_mtx)<-dec_mtx$ct\n",
    "dec_mtx<-dec_mtx[,-1]\n",
    "dec_mtx.t<-t(dec_mtx)\n",
    "head(dec_mtx.t)"
   ]
  },
  {
   "cell_type": "code",
   "execution_count": null,
   "metadata": {
    "collapsed": true,
    "vscode": {
     "languageId": "r"
    }
   },
   "outputs": [],
   "source": [
    "dec_mtx_conf<-sub_weights_conf\n",
    "rownames(dec_mtx_conf)<-dec_mtx_conf$ct\n",
    "dec_mtx_conf<-dec_mtx_conf[,-1]\n",
    "dec_mtx_conf.t<-t(dec_mtx_conf)\n",
    "head(dec_mtx_conf.t)"
   ]
  },
  {
   "cell_type": "code",
   "execution_count": null,
   "metadata": {
    "collapsed": true,
    "vscode": {
     "languageId": "r"
    }
   },
   "outputs": [],
   "source": [
    "### normalize confident dec_mtx\n",
    "empty_cells<-rownames(dec_mtx_conf.t)[rowSums(dec_mtx_conf.t)==0]\n",
    "length(empty_cells)\n",
    "empty_cells\n",
    "\n",
    "dec_mtx_conf.t_nor<-normalize_weights(dec_mtx_conf.t)\n",
    "dec_mtx_conf.t_nor[empty_cells,]<-0\n",
    "table(rowSums(dec_mtx_conf.t_nor)==0)"
   ]
  },
  {
   "cell_type": "code",
   "execution_count": null,
   "metadata": {
    "collapsed": true,
    "vscode": {
     "languageId": "r"
    }
   },
   "outputs": [],
   "source": [
    "rownames(dec_mtx.t)<-colnames(puck@counts)\n",
    "head(dec_mtx.t)\n",
    "\n",
    "rownames(dec_mtx_conf.t_nor)<-colnames(puck@counts)\n",
    "head(dec_mtx_conf.t_nor)"
   ]
  },
  {
   "cell_type": "code",
   "execution_count": null,
   "metadata": {
    "vscode": {
     "languageId": "r"
    }
   },
   "outputs": [],
   "source": [
    "colnames(dec_mtx.t)<-gsub(\"[[:punct:]]\",\".\",colnames(dec_mtx.t))\n",
    "colnames(dec_mtx.t)<-gsub(\" \",\".\",colnames(dec_mtx.t))\n",
    "colnames(dec_mtx.t)"
   ]
  },
  {
   "cell_type": "code",
   "execution_count": null,
   "metadata": {
    "vscode": {
     "languageId": "r"
    }
   },
   "outputs": [],
   "source": [
    "colnames(dec_mtx_conf.t_nor)<-gsub(\"[[:punct:]]\",\".\",colnames(dec_mtx_conf.t_nor))\n",
    "colnames(dec_mtx_conf.t_nor)<-gsub(\" \",\".\",colnames(dec_mtx_conf.t_nor))\n",
    "colnames(dec_mtx_conf.t_nor)"
   ]
  },
  {
   "cell_type": "code",
   "execution_count": 30,
   "metadata": {
    "vscode": {
     "languageId": "r"
    }
   },
   "outputs": [],
   "source": [
    "write.csv(dec_mtx.t, \"WT.fc1.fcreg1_subweights.decon.mtx.csv\")\n",
    "write.csv(dec_mtx_conf.t_nor, \"WT.fc1.fcreg1_subweights_conf_normalized.decon.mtx.csv\")"
   ]
  },
  {
   "cell_type": "code",
   "execution_count": null,
   "metadata": {
    "vscode": {
     "languageId": "r"
    }
   },
   "outputs": [],
   "source": [
    "### merged into 16 cell types\n",
    "df_merged<-as.data.frame(dec_mtx_conf.t_nor)\n",
    "df_merged$Vascular<-rowSums(df_merged[,c(\"A.Endothelial\",\"C.Endothelial\",'Pericyte','Tip.Cell','U.Vascular','V.Endothelial','VSMC')])\n",
    "df_merged$OPC<-rowSums(df_merged[,c('Div.OPC','OPC.A','OPC.B','Pre.Oligo')])\n",
    "df_merged$Macrophage<-rowSums(df_merged[,c('Border.Associated.Mac','Chemotaxis.Inducing.Mac','Inflammatory.Mac')])\n",
    "#H_Microglia<-apply(df_merged[,c('Homeostatic.Microglia')],1,sum)\n",
    "df_merged$R.Microglia<-rowSums(df_merged[,c('Dividing.Microglia','Inflammatory.Microglia','Migrating.Microglia')])\n",
    "df_merged$Myeloid<-rowSums(df_merged[,c('Dividing.Myeloid','Interferon.Myeloid')])\n",
    "df_merged$Ependymal<-rowSums(df_merged[,c('Astroependymal','Ependymal.A','Ependymal.B')])\n",
    "df_merged<-df_merged[,-which(colnames(df_merged)%in%c(\"A.Endothelial\",\"C.Endothelial\",'Pericyte','Tip.Cell','U.Vascular','V.Endothelial','VSMC',\n",
    "                                                        'Div.OPC','OPC.A','OPC.B','Pre.Oligo',\n",
    "                                                        'Border.Associated.Mac','Chemotaxis.Inducing.Mac','Inflammatory.Mac',\n",
    "                                                        #'Homeostatic.Microglia',\n",
    "                                                        'Dividing.Microglia','Inflammatory.Microglia','Migrating.Microglia',\n",
    "                                                        'Dividing.Myeloid','Interferon.Myeloid',\n",
    "                                                        'Astroependymal','Ependymal.A','Ependymal.B'))]\n",
    "colnames(df_merged)\n",
    "colSums(df_merged)"
   ]
  },
  {
   "cell_type": "code",
   "execution_count": 45,
   "metadata": {
    "vscode": {
     "languageId": "r"
    }
   },
   "outputs": [],
   "source": [
    "write.csv(df_merged,\"WT.fc1.fcreg1_subweights.decon_conf.nor.merged16celltypes.csv\")"
   ]
  },
  {
   "cell_type": "code",
   "execution_count": null,
   "metadata": {
    "collapsed": true,
    "vscode": {
     "languageId": "r"
    }
   },
   "outputs": [],
   "source": [
    "meta<-read.csv(\"/home/jovyan/zxli_SCI/result/Seurat/reg.CC/WT_replace_v2/res02_220310/WT.SCT.pc20.k50.res02.meta.data.csv\")\n",
    "rownames(meta)<-meta[,1]\n",
    "head(meta)"
   ]
  },
  {
   "cell_type": "code",
   "execution_count": null,
   "metadata": {
    "vscode": {
     "languageId": "r"
    }
   },
   "outputs": [],
   "source": [
    "meta_dec<-cbind(meta,df_merged)\n",
    "colnames(meta_dec)"
   ]
  },
  {
   "cell_type": "code",
   "execution_count": 49,
   "metadata": {
    "vscode": {
     "languageId": "r"
    }
   },
   "outputs": [],
   "source": [
    "write.csv(meta_dec,\"16celltypes.dec_conf.nor.meta.csv\")"
   ]
  },
  {
   "cell_type": "code",
   "execution_count": null,
   "metadata": {
    "vscode": {
     "languageId": "r"
    }
   },
   "outputs": [],
   "source": [
    "meta_dec_all<-cbind(meta,dec_mtx_conf.t_nor)\n",
    "colnames(meta_dec_all)"
   ]
  },
  {
   "cell_type": "code",
   "execution_count": 55,
   "metadata": {
    "vscode": {
     "languageId": "r"
    }
   },
   "outputs": [],
   "source": [
    "write.csv(meta_dec_all,\"32celltypes.dec_conf.nor.meta.csv\")"
   ]
  },
  {
   "cell_type": "code",
   "execution_count": 41,
   "metadata": {
    "vscode": {
     "languageId": "r"
    }
   },
   "outputs": [],
   "source": [
    "all_celltypes<-c('A.Endothelial','Astro.Svep1','Astrocyte.Gfap','Astrocyte.Slc7a10','Astroependymal',\n",
    "                 'Border.Associated.Mac','C.Endothelial','Chemotaxis.Inducing.Mac','Dendritic','Div.OPC',\n",
    "                 'Dividing.Microglia','Dividing.Myeloid','Ependymal.A','Ependymal.B','Fibroblast',\n",
    "                 'Homeostatic.Microglia','Inflammatory.Mac','Inflammatory.Microglia','Interferon.Myeloid',\n",
    "                 'Migrating.Microglia','Monocyte','Neuron','Neutrophil','Oligodendrocyte',\n",
    "                 'OPC.A','OPC.B','Pericyte','Pre.Oligo','Tip.Cell','U.Vascular','V.Endothelial','VSMC')\n",
    "celltypes<-c('Neuron','Oligodendrocyte','OPC','Ependymal','Vascular','Fibroblast','Macrophage','Myeloid',\n",
    "                'Monocyte','Dendritic','Neutrophil','Homeostatic.Microglia','R.Microglia','Astrocyte.Gfap','Astrocyte.Slc7a10',\n",
    "    'Astro.Svep1')\n",
    "#celltypes2<-c('Neuron','Oligodendrocyte','OPC','Ependymal','Vascular','Fibroblast','Macrophage','Myeloid',\n",
    "#                'Monocyte','Homeostatic.Microglia','R.Microglia','Astrocyte.Gfap','Astrocyte.Slc7a10')"
   ]
  },
  {
   "cell_type": "code",
   "execution_count": 56,
   "metadata": {
    "vscode": {
     "languageId": "r"
    }
   },
   "outputs": [],
   "source": [
    "sf<-\"32celltypes.conf_spatial/\"\n",
    "if(!dir.exists(sf))\n",
    "    dir.create(sf)\n",
    "\n",
    "options(repr.plot.width=20,repr.plot.height=16)\n",
    "for(i in all_celltypes){\n",
    "    ggplot(meta_dec_all,aes_string(\"x.ad\",\"y.ad\",color=i))+\n",
    "    geom_point(size=1)+\n",
    "    scale_color_gradientn(colours = colorRampPalette(rev(brewer.pal(n=11,name=\"Spectral\")))(50))+\n",
    "    xlab(paste0(\"\"))+\n",
    "    ylab(paste0(\"\"))+\n",
    "    theme(panel.background = element_blank(),\n",
    "         panel.grid.major=element_blank(),\n",
    "         panel.grid.minor=element_blank(),\n",
    "          axis.text.x=element_blank(),\n",
    "          axis.text.y=element_blank()\n",
    "         )\n",
    "    ggsave(paste0(sf,i,\".spatialplot.png\"),width=20,height=16,dpi=300)\n",
    "}"
   ]
  },
  {
   "cell_type": "code",
   "execution_count": 53,
   "metadata": {
    "vscode": {
     "languageId": "r"
    }
   },
   "outputs": [],
   "source": [
    "sf<-\"16celltypes.conf_spatial/\"\n",
    "if(!dir.exists(sf))\n",
    "    dir.create(sf)\n",
    "\n",
    "options(repr.plot.width=20,repr.plot.height=16)\n",
    "for(i in celltypes){\n",
    "    ggplot(meta_dec,aes_string(\"x.ad\",\"y.ad\",color=i))+\n",
    "    geom_point(size=1)+\n",
    "    scale_color_gradientn(colours = colorRampPalette(rev(brewer.pal(n=11,name=\"Spectral\")))(50))+\n",
    "    xlab(paste0(\"\"))+\n",
    "    ylab(paste0(\"\"))+\n",
    "    theme(panel.background = element_blank(),\n",
    "         panel.grid.major=element_blank(),\n",
    "         panel.grid.minor=element_blank(),\n",
    "          axis.text.x=element_blank(),\n",
    "          axis.text.y=element_blank()\n",
    "         )\n",
    "    ggsave(paste0(sf,i,\".spatialplot.png\"),width=20,height=16,dpi=300)\n",
    "}"
   ]
  },
  {
   "cell_type": "markdown",
   "metadata": {},
   "source": [
    "### stacked area plot"
   ]
  },
  {
   "cell_type": "code",
   "execution_count": null,
   "metadata": {
    "scrolled": true,
    "vscode": {
     "languageId": "r"
    }
   },
   "outputs": [],
   "source": [
    "col1<-alpha(c('#000075','#008080','#ffe119','#800000',#'#bcf60c',,\n",
    "        #\n",
    "        #'\n",
    "        '#aaffc3',\n",
    "        #'#808080',\n",
    "                            '#46f0f0' ,\n",
    "        #\n",
    "        '#e6194b',\n",
    "        #\n",
    "        '#f58231',\n",
    "        \n",
    "        #'#9a6324',#'#fffac8',\n",
    "        '#808000',\n",
    "        #'#3cb44b',\n",
    "        \n",
    "        '#fabebe',\n",
    "        \n",
    "        \n",
    "        '#fffac8','#ffd8b1',\n",
    "              '#4363d8','#911eb4','#e6beff','#f032e6'\n",
    "      ),0.8)\n",
    "show_col(col1)\n",
    "\n",
    "#col2<-alpha(c('#000075','#008080','#ffe119','#800000',#'#bcf60c',#'#fffac8',#'#ffd8b1',#'#4363d8',\n",
    "#        #\n",
    "#        #'\n",
    "#        '#aaffc3',\n",
    "#        #'#808080',\n",
    "#                            '#46f0f0' ,\n",
    "#        #\n",
    "#        '#e6194b',\n",
    "#        #\n",
    "#        '#f58231',\n",
    "#        '#e6beff',\n",
    "#        #'#9a6324',#'#fffac8',\n",
    "#        '#808000',\n",
    "#        #'#3cb44b',\n",
    "#        \n",
    "#        '#fabebe',\n",
    "#        \n",
    "#        '#911eb4',\n",
    "#        '#f032e6'\n",
    "#      ),0.8)\n",
    "#col2\n",
    "#show_col(col2)"
   ]
  },
  {
   "cell_type": "code",
   "execution_count": 499,
   "metadata": {
    "vscode": {
     "languageId": "r"
    }
   },
   "outputs": [],
   "source": [
    "mycol<-col1\n",
    "names(mycol)<-celltypes"
   ]
  },
  {
   "cell_type": "code",
   "execution_count": null,
   "metadata": {
    "collapsed": true,
    "vscode": {
     "languageId": "r"
    }
   },
   "outputs": [],
   "source": [
    "df<-meta_dec[,c(\"time\",celltypes)]\n",
    "head(df)\n",
    "df2<-df %>% gather(key = \"cell_type\",value = \"total_proportion\",-c(1))\n",
    "head(df2)\n",
    "df3<-df2 %>% group_by(time,cell_type) %>% summarise(n=sum(total_proportion)) %>% mutate(percentage=n/sum(n))\n",
    "head(df3)\n",
    "df3$time2<-NA\n",
    "df3[grepl(\"WT_sham\",df3$time,fixed = T),\"time2\"]<-1\n",
    "df3[grepl(\"WT_3h\",df3$time,fixed = T),\"time2\"]<-2\n",
    "df3[grepl(\"WT_24h\",df3$time,fixed = T),\"time2\"]<-3\n",
    "df3[grepl(\"WT_72h\",df3$time,fixed = T),\"time2\"]<-4\n",
    "head(df3)\n",
    "df3$cell_type<-factor(df3$cell_type,levels=c(celltypes))\n",
    "options(repr.plot.width=8,repr.plot.height=6)\n",
    "ggplot(df3,aes(x=time2,y=percentage,fill=cell_type))+\n",
    "    geom_area(alpha=1,size=0.2,color=\"black\")+\n",
    "    #scale_fill_viridis(discrete = T,option = \"D\")\n",
    "    #scale_color_npg()\n",
    "    #scale_color_discrete()\n",
    "    scale_fill_manual(values =col1)+\n",
    "    theme_bw()+\n",
    "    theme(panel.grid.major = element_blank(),panel.grid.minor = element_blank(),axis.title = element_blank()\n",
    "         )\n",
    "ggsave(\"WT.fc1.fcreg1.conf5.subweights.16celltypes.time.stacked.area.plot_220325.png\",width=8,height = 6,dpi=300)"
   ]
  },
  {
   "cell_type": "markdown",
   "metadata": {},
   "source": [
    "### dotplot"
   ]
  },
  {
   "cell_type": "code",
   "execution_count": 131,
   "metadata": {
    "vscode": {
     "languageId": "r"
    }
   },
   "outputs": [],
   "source": [
    "da<-readRDS(\"/result/Seurat/reg.CC/WT_replace_v2/res02_220310/WT.merge.replace_v2.SCT.regress_CC.nC.mt.ident.pc20.k50.res02.rds\")"
   ]
  },
  {
   "cell_type": "code",
   "execution_count": null,
   "metadata": {
    "collapsed": true,
    "vscode": {
     "languageId": "r"
    }
   },
   "outputs": [],
   "source": [
    "colnames(da@meta.data)\n",
    "da@meta.data<-meta_dec\n",
    "colnames(da@meta.data)"
   ]
  },
  {
   "cell_type": "code",
   "execution_count": 135,
   "metadata": {
    "vscode": {
     "languageId": "r"
    }
   },
   "outputs": [],
   "source": [
    "da$orig.ident<-factor(da$orig.ident,levels = c('WT_sham_H_R2_1mm',\n",
    "                                               'WT_sham_H_R2',\n",
    "                                               'WT_sham_T_210323',\n",
    "                                               'WT_sham_T_R2_1mm',\n",
    "                                               'WT_3h_H_R2_1mm',\n",
    "                                               'WT_3h_H_R2',\n",
    "                                               'WT_3h_T_R2',\n",
    "                                               'WT_3h_T_210330_1mm',\n",
    "                                               'WT_24h_H_R1_1mm',\n",
    "                                               'WT_24h_H_R1',\n",
    "                                               'WT_24h_T_201231',\n",
    "                                               'WT_24h_T_R1_1mm',\n",
    "                                               'WT_72h_H_R1_1mm',\n",
    "                                               'WT_72h_H_210323',\n",
    "                                               'WT_72h_T_R2',\n",
    "                                               'WT_72h_T_R1_1mm'))"
   ]
  },
  {
   "cell_type": "code",
   "execution_count": null,
   "metadata": {
    "collapsed": true,
    "vscode": {
     "languageId": "r"
    }
   },
   "outputs": [],
   "source": [
    "p3 <- DotPlot(da, features = celltypes2, group.by = 'orig.ident', scale = F) + \n",
    "    scale_color_gradientn(colours = rev(brewer.pal(9,\"Spectral\")))+\n",
    "      theme(axis.text.x = element_text(angle = 90, size = 12, margin = margin(10,0,0,0)),\n",
    "            axis.title = element_blank())\n",
    "options(repr.plot.width = 8, repr.plot.height = 8)\n",
    "p3\n",
    "ggsave(\"WT.RCTD.fc1.fcreg1.conf5.13CelltypesByident.Dotplot.png\", width = 8, height = 8)\n",
    "#pdf(\"WT_merge_replace_v2.SCT.reg6.RCTD.uninjRef.Dotplot.pdf\", width = 15, height = 7)\n",
    "#p3\n",
    "#dev.off()"
   ]
  },
  {
   "cell_type": "markdown",
   "metadata": {},
   "source": [
    "### SpatialPie chart"
   ]
  },
  {
   "cell_type": "code",
   "execution_count": 536,
   "metadata": {
    "vscode": {
     "languageId": "r"
    }
   },
   "outputs": [],
   "source": [
    "da<-readRDS(\"/result/Seurat/reg.CC/WT_replace_v2/res02_220310/WT.merge.replace_v2.SCT.regress_CC.nC.mt.ident.pc20.k50.res02.rds\")\n"
   ]
  },
  {
   "cell_type": "code",
   "execution_count": 541,
   "metadata": {
    "vscode": {
     "languageId": "r"
    }
   },
   "outputs": [],
   "source": [
    "da@meta.data<-meta_dec"
   ]
  },
  {
   "cell_type": "code",
   "execution_count": 543,
   "metadata": {
    "vscode": {
     "languageId": "r"
    }
   },
   "outputs": [],
   "source": [
    "sf<-\"SpatialPie_16celltypes/\"\n",
    "if(!dir.exists(sf))\n",
    "    dir.create(sf)\n",
    "slice <- Images(da)\n",
    "options(repr.plot.width = 15, repr.plot.height = 15)\n",
    "for(i in 1:length(slice)){\n",
    "    p1 <- SpatialScatterPie(da,\n",
    "                  cell_types_all = celltypes,\n",
    "                  images=slice[i],       \n",
    "                  cols = mycol,\n",
    "                  pie.scale = 0.4)\n",
    "    p1\n",
    "    ggsave(paste(sf,\"WT.deconvByRCTD_spatialPie.\",slice[i],\".png\", sep = \"\"), p1, \n",
    "           width = 15, height = 15,dpi=300)\n",
    "}"
   ]
  }
 ],
 "metadata": {
  "kernelspec": {
   "display_name": "R",
   "language": "R",
   "name": "ir"
  },
  "language_info": {
   "codemirror_mode": "r",
   "file_extension": ".r",
   "mimetype": "text/x-r-source",
   "name": "R",
   "pygments_lexer": "r",
   "version": "4.1.0"
  }
 },
 "nbformat": 4,
 "nbformat_minor": 2
}
