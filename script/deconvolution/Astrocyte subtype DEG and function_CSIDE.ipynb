{
 "cells": [
  {
   "cell_type": "code",
   "execution_count": null,
   "metadata": {
    "scrolled": true,
    "vscode": {
     "languageId": "r"
    }
   },
   "outputs": [],
   "source": [
    "#library(Seurat)\n",
    "#library(ggplot2)\n",
    "#library(patchwork)\n",
    "library(dplyr)\n",
    "#library(hdf5r)\n",
    "#library(png)\n",
    "#library(ggalluvial)\n",
    "#library(tidyverse)\n",
    "#library(clustree)\n",
    "##library(RCTD)\n",
    "#library(spacexr)\n",
    "#library(Matrix)\n",
    "#library(SPOTlight)\n",
    "#library(future)\n",
    "#library(grid)\n",
    "#library(RColorBrewer)\n",
    "#library(pheatmap)\n",
    "#library(circlize)\n",
    "#library(igraph)\n",
    "##library(ComplexHeatmap)\n",
    "library(stringr)\n",
    "##library(ComplexHeatmap)\n",
    "#library(cowplot)\n",
    "library(clusterProfiler)\n",
    "options(connectionObserver = NULL)\n",
    "library(biomaRt)\n",
    "##library(scClustViz)\n",
    "#library(clusterProfiler)\n",
    "#options(connectionObserver=NULL)\n",
    "#library(org.Mm.eg.db)\n",
    "#library(ggplot2)\n",
    "#library(scales)\n",
    "\n",
    "#library(spacexr)\n",
    "library(Matrix)\n",
    "library(doParallel)\n",
    "library(ggplot2)\n",
    "library(ComplexHeatmap)"
   ]
  },
  {
   "cell_type": "code",
   "execution_count": null,
   "metadata": {
    "vscode": {
     "languageId": "r"
    }
   },
   "outputs": [],
   "source": [
    "wd<-\"/home/jovyan/zxli_SCI/result/RCTD/testC5/WT_all/fcreg1_220503/sham_Astr_DEG/\"\n",
    "if(!dir.exists(wd))\n",
    "    dir.create(wd)\n",
    "setwd(wd)\n",
    "getwd()"
   ]
  },
  {
   "cell_type": "code",
   "execution_count": 142,
   "metadata": {
    "vscode": {
     "languageId": "r"
    }
   },
   "outputs": [],
   "source": [
    "get_marker_data <- function(cell_type_names, cell_type_means, gene_list) {\n",
    "  marker_means = cell_type_means[gene_list,]\n",
    "  marker_norm = marker_means / rowSums(marker_means)\n",
    "  marker_data = as.data.frame(cell_type_names[max.col(marker_means)])\n",
    "  marker_data$max_epr <- apply(cell_type_means[gene_list,],1,max)\n",
    "  colnames(marker_data) = c(\"cell_type\",'max_epr')\n",
    "  rownames(marker_data) = gene_list\n",
    "  marker_data$log_fc <- 0\n",
    "  epsilon <- 1e-9\n",
    "  for(cell_type in unique(marker_data$cell_type)) {\n",
    "    cur_genes <- gene_list[marker_data$cell_type == cell_type]\n",
    "    other_mean = rowMeans(cell_type_means[cur_genes,cell_type_names != cell_type])\n",
    "    marker_data$log_fc[marker_data$cell_type == cell_type] <- log(epsilon + cell_type_means[cur_genes,cell_type]) - log(epsilon + other_mean)\n",
    "  }\n",
    "  return(marker_data)\n",
    "}"
   ]
  },
  {
   "cell_type": "code",
   "execution_count": 169,
   "metadata": {
    "vscode": {
     "languageId": "r"
    }
   },
   "outputs": [],
   "source": [
    "datadir<-c(\"/home/jovyan/zxli_SCI/result/RCTD/testC5/WT_all/fcreg1_220503/allreps/\")"
   ]
  },
  {
   "cell_type": "code",
   "execution_count": 170,
   "metadata": {
    "vscode": {
     "languageId": "r"
    }
   },
   "outputs": [],
   "source": [
    "#reference<-readRDS(paste0(datadir,\"Reference.renamed.merged16celltypes.220325.rds\"))\n",
    "#reference<-readRDS(\"/home/jovyan/zxli_SCI/result/RCTD/ref_10x_astr/L3_taxon/Astrocyte_integrate_split2A/2reference.3astr.labeltransfer.L3.astrocyte_RCTD.reference.seed1234.down1000.without7dpi.rds\")\n",
    "reference<-readRDS(paste0(datadir,\"Reference.renamed.merged13celltypes.220507.rds\"))"
   ]
  },
  {
   "cell_type": "code",
   "execution_count": null,
   "metadata": {
    "collapsed": true,
    "vscode": {
     "languageId": "r"
    }
   },
   "outputs": [],
   "source": [
    "#decon_f<-\"../WT.fcreg1_subweights.decon_conf.nor.merged16celltypes.csv\"\n",
    "#meta<-read.csv(\"../32celltypes.dec_conf.nor.meta.csv\")\n",
    "meta<-read.csv(\"../16celltypes.dec_conf.nor.meta.csv\")\n",
    "rownames(meta)<-meta[,1]\n",
    "meta<-meta[,-1]\n",
    "head(meta)\n",
    "colnames(meta)"
   ]
  },
  {
   "cell_type": "code",
   "execution_count": 172,
   "metadata": {
    "vscode": {
     "languageId": "r"
    }
   },
   "outputs": [],
   "source": [
    "#celltypes<-c('A.Endothelial','Astro.Svep1','Astrocyte.Gfap','Astrocyte.Slc7a10',\n",
    "#             'Astroependymal','Border.Associated.Mac','C.Endothelial',\n",
    "#             'Chemotaxis.Inducing.Mac','Dendritic','Div.OPC','Dividing.Microglia',\n",
    "#             'Dividing.Myeloid','Ependymal.A','Ependymal.B','Fibroblast',\n",
    "#             'Homeostatic.Microglia','Inflammatory.Mac','Inflammatory.Microglia',\n",
    "#             'Interferon.Myeloid','Migrating.Microglia','Monocyte','Neuron',\n",
    "#             'Neutrophil','Oligodendrocyte','OPC.A','OPC.B','Pericyte','Pre.Oligo',\n",
    "#             'Tip.Cell','U.Vascular','V.Endothelial','VSMC')\n",
    "\n",
    "celltypes<-c('Astro.Svep1','Astrocyte.Gfap','Astrocyte.Slc7a10',\n",
    "             'Dendritic','Fibroblast','Homeostatic.Microglia',\n",
    "             'Monocyte','Neuron','Neutrophil','Oligodendrocyte',\n",
    "             'Vascular','OPC','Macrophage','R.Microglia',\n",
    "             'Myeloid','Ependymal')"
   ]
  },
  {
   "cell_type": "code",
   "execution_count": 173,
   "metadata": {
    "vscode": {
     "languageId": "r"
    }
   },
   "outputs": [],
   "source": [
    "weights_df<-meta[,celltypes]"
   ]
  },
  {
   "cell_type": "markdown",
   "metadata": {},
   "source": [
    "### check astrocyte subtypes spatial distribution specificity"
   ]
  },
  {
   "cell_type": "code",
   "execution_count": null,
   "metadata": {
    "collapsed": true,
    "vscode": {
     "languageId": "r"
    }
   },
   "outputs": [],
   "source": [
    "wm_cells<-rownames(subset(meta,domain==\"WM\"&orig.ident==\"WT_sham_H_R2\"))\n",
    "length(wm_cells)\n",
    "gm_cells<-rownames(subset(meta,domain%in%c(\"MG\",\"DH\",\"VH\")&orig.ident==\"WT_sham_H_R2\"))\n",
    "length(gm_cells)\n",
    "mg_cells<-rownames(subset(meta,domain%in%c(\"MG\")&orig.ident==\"WT_sham_H_R2\"))\n",
    "length(mg_cells)\n",
    "wdv_cells<-rownames(subset(meta,domain%in%c(\"WM\",\"DH\",\"VH\")&orig.ident==\"WT_sham_H_R2\"))\n",
    "length(wdv_cells)"
   ]
  },
  {
   "cell_type": "code",
   "execution_count": null,
   "metadata": {
    "vscode": {
     "languageId": "r"
    }
   },
   "outputs": [],
   "source": [
    "gfap_cells<-rownames(subset(meta,Astrocyte.Gfap>0&orig.ident==\"WT_sham_H_R2\"))\n",
    "length(gfap_cells)\n",
    "\n",
    "slc_cells<-rownames(subset(meta,Astrocyte.Slc7a10>0&orig.ident==\"WT_sham_H_R2\"))\n",
    "length(slc_cells)"
   ]
  },
  {
   "cell_type": "code",
   "execution_count": null,
   "metadata": {
    "vscode": {
     "languageId": "r"
    }
   },
   "outputs": [],
   "source": [
    "wm_gfap_cells<-intersect(wm_cells,gfap_cells)\n",
    "length(wm_gfap_cells)\n",
    "#length(intersect(wdv_cells,gfap_cells))\n",
    "#length(intersect(gm_cells,gfap_cells))\n",
    "#length(intersect(mg_cells,gfap_cells))\n",
    "#length(intersect(mg_cells,slc_cells))\n",
    "gm_slc_cells<-intersect(gm_cells,slc_cells)\n",
    "length(gm_slc_cells)"
   ]
  },
  {
   "cell_type": "code",
   "execution_count": null,
   "metadata": {
    "vscode": {
     "languageId": "r"
    }
   },
   "outputs": [],
   "source": [
    "sub_cells<-unique(c(wm_gfap_cells,gm_slc_cells))\n",
    "length(sub_cells)"
   ]
  },
  {
   "cell_type": "markdown",
   "metadata": {},
   "source": [
    "### merge into one cell type"
   ]
  },
  {
   "cell_type": "code",
   "execution_count": null,
   "metadata": {
    "collapsed": true,
    "vscode": {
     "languageId": "r"
    }
   },
   "outputs": [],
   "source": [
    "weights_ad<-weights_df\n",
    "weights_ad$Astrocyte<-rowSums(weights_ad[,c(\"Astro.Svep1\",\"Astrocyte.Gfap\",\"Astrocyte.Slc7a10\")])\n",
    "weights_ad<-weights_ad[,-which(colnames(weights_ad)%in%c(\"Astro.Svep1\",\"Astrocyte.Gfap\",\"Astrocyte.Slc7a10\"))]\n",
    "head(weights_ad)\n",
    "colnames(weights_ad)"
   ]
  },
  {
   "cell_type": "code",
   "execution_count": 256,
   "metadata": {
    "vscode": {
     "languageId": "r"
    }
   },
   "outputs": [],
   "source": [
    "for(i in unique(meta$sample)){\n",
    "    cells<-meta[meta$sample==i,\"X\"]\n",
    "    temp_wt<-weights_ad[cells,]\n",
    "    write.csv(temp_wt,paste0(datadir,i,\".conf_nor.13cp.weights.df.csv\"))\n",
    "}"
   ]
  },
  {
   "cell_type": "markdown",
   "metadata": {},
   "source": [
    "### load sham_H_1mm 4 replicates"
   ]
  },
  {
   "cell_type": "code",
   "execution_count": 19,
   "metadata": {
    "vscode": {
     "languageId": "r"
    }
   },
   "outputs": [],
   "source": [
    "puck1<-readRDS(paste0(datadir,\"WT_sham_H_R2_1.puck.rds\"#'WT_sham_H_R2_1mm_1.puck.rds'\n",
    "                     ))\n",
    "\n",
    "puck2<-readRDS(paste0(datadir,\"WT_sham_H_R2_2.puck.rds\"#'WT_sham_H_R2_1mm_2.puck.rds'\n",
    "                     ))\n",
    "\n",
    "puck3<-readRDS(paste0(datadir,\"WT_sham_H_R2_3.puck.rds\"#'WT_sham_H_R2_1mm_3.puck.rds'\n",
    "                     ))\n",
    "\n",
    "puck4<-readRDS(paste0(datadir,\"WT_sham_H_R2_4.puck.rds\"#'WT_sham_H_R2_1mm_4.puck.rds'\n",
    "                     ))\n"
   ]
  },
  {
   "cell_type": "code",
   "execution_count": null,
   "metadata": {
    "collapsed": true,
    "vscode": {
     "languageId": "r"
    }
   },
   "outputs": [],
   "source": [
    "spatial.replicates <- list(puck1, puck2, puck3, puck4)\n",
    "replicate_names <- c('1','2','3','4')\n",
    "group_ids <- c(1,1,1,1)\n",
    "myRCTD.reps <- create.RCTD.replicates(spatial.replicates,\n",
    "                                      reference, \n",
    "                                      replicate_names, \n",
    "                                      group_ids = group_ids,\n",
    "                                      UMI_min=0,\n",
    "                                      UMI_max=2000000,\n",
    "                                      CELL_MIN_INSTANCE=10,\n",
    "                                      keep_reference = T)"
   ]
  },
  {
   "cell_type": "markdown",
   "metadata": {},
   "source": [
    "#### get 13cp sc reference deconvolution markers"
   ]
  },
  {
   "cell_type": "code",
   "execution_count": null,
   "metadata": {
    "collapsed": true,
    "vscode": {
     "languageId": "r"
    }
   },
   "outputs": [],
   "source": [
    "sc_df<-get_marker_data(myRCTD.reps@RCTD.reps[[1]]@cell_type_info$info[[2]],myRCTD.reps@RCTD.reps[[1]]@cell_type_info$info[[1]],myRCTD.reps@RCTD.reps[[1]]@internal_vars$gene_list_bulk)\n",
    "sc_df$gene<-rownames(sc_df)\n",
    "head(sc_df)"
   ]
  },
  {
   "cell_type": "code",
   "execution_count": null,
   "metadata": {
    "collapsed": true,
    "vscode": {
     "languageId": "r"
    }
   },
   "outputs": [],
   "source": [
    "sc_exp<-myRCTD.reps@RCTD.reps[[1]]@cell_type_info$info[[1]]\n",
    "#sc_exp$gene<-rownames(sc_exp)\n",
    "head(sc_exp)\n",
    "sc_exp_norm<-sc_exp[sc_df$gene,]\n",
    "dim(sc_exp_norm)\n",
    "head(sc_exp_norm)\n",
    "sc_exp_norm<-sc_exp_norm / rowSums(sc_exp_norm)\n",
    "sc_exp_norm$gene<-rownames(sc_exp_norm)\n",
    "head(sc_exp_norm)"
   ]
  },
  {
   "cell_type": "code",
   "execution_count": null,
   "metadata": {
    "collapsed": true,
    "vscode": {
     "languageId": "r"
    }
   },
   "outputs": [],
   "source": [
    "table(sc_df$cell_type)\n",
    "sc_df<-cbind(sc_df,sc_exp_norm[sc_df$gene,])\n",
    "write.csv(sc_df,paste0(datadir,\".Astr_merged.total13celltypes.normalized.df.csv\"))"
   ]
  },
  {
   "cell_type": "code",
   "execution_count": null,
   "metadata": {
    "collapsed": true,
    "vscode": {
     "languageId": "r"
    }
   },
   "outputs": [],
   "source": [
    "### visualize Astrocyte markers in deconvolution reference matrix\n",
    "p_df<-sc_exp_norm[sc_df$gene[sc_df$cell_type==\"Astrocyte\"],]\n",
    "#p_df<-melt(p_df)\n",
    "#colnames(p_df)<-c(\"gene\",\"celltype\",\"express\")\n",
    "#p_df$gene<-factor(p_df$gene,levels = mdf$gene)\n",
    "head(p_df)"
   ]
  },
  {
   "cell_type": "code",
   "execution_count": null,
   "metadata": {
    "vscode": {
     "languageId": "r"
    }
   },
   "outputs": [],
   "source": [
    "options(repr.plot.width=5,repr.plot.height=14)\n",
    "pdf(\"Astrocyte.markers.express.in.10Xsc.celltype.marker.heatmap.pdf\",width = 5,height = 14)\n",
    "Heatmap(p_df[,-which(colnames(p_df)==\"gene\")],show_row_names = F,\n",
    "        cluster_rows = F ,col=c(\"#05445E\",#\"#54BAB9\",\n",
    "                                                                      #\"white\",\n",
    "                                                                      \"#F6E6E8\",\n",
    "                                                                      #\"#E9DAC1\",\n",
    "                                                                      \"#E56997\",#\"#F51720\",\n",
    "                                                                      \"#B91646\"))\n",
    "dev.off()"
   ]
  },
  {
   "cell_type": "code",
   "execution_count": null,
   "metadata": {
    "collapsed": true,
    "vscode": {
     "languageId": "r"
    }
   },
   "outputs": [],
   "source": [
    "cells1<-rownames(puck1@coords)\n",
    "length(cells1)\n",
    "cells2<-rownames(puck2@coords)\n",
    "length(cells2)\n",
    "cells3<-rownames(puck3@coords)\n",
    "length(cells3)\n",
    "cells4<-rownames(puck4@coords)\n",
    "length(cells4)"
   ]
  },
  {
   "cell_type": "code",
   "execution_count": null,
   "metadata": {
    "collapsed": true,
    "vscode": {
     "languageId": "r"
    }
   },
   "outputs": [],
   "source": [
    "weight_df1<-weights_ad[cells1,]\n",
    "dim(weight_df1)\n",
    "\n",
    "weight_df2<-weights_ad[cells2,]\n",
    "dim(weight_df2)\n",
    "\n",
    "weight_df3<-weights_ad[cells3,]\n",
    "dim(weight_df3)\n",
    "\n",
    "weight_df4<-weights_ad[cells4,]\n",
    "dim(weight_df4)"
   ]
  },
  {
   "cell_type": "code",
   "execution_count": 199,
   "metadata": {
    "vscode": {
     "languageId": "r"
    }
   },
   "outputs": [],
   "source": [
    "myRCTD.reps@RCTD.reps[[1]]<-import_weights(myRCTD.reps@RCTD.reps[[1]],weight_df1)\n",
    "myRCTD.reps@RCTD.reps[[2]]<-import_weights(myRCTD.reps@RCTD.reps[[2]],weight_df2)\n",
    "myRCTD.reps@RCTD.reps[[3]]<-import_weights(myRCTD.reps@RCTD.reps[[3]],weight_df3)\n",
    "myRCTD.reps@RCTD.reps[[4]]<-import_weights(myRCTD.reps@RCTD.reps[[4]],weight_df4)"
   ]
  },
  {
   "cell_type": "code",
   "execution_count": 200,
   "metadata": {
    "vscode": {
     "languageId": "r"
    }
   },
   "outputs": [],
   "source": [
    "saveRDS(myRCTD.reps,\"13cp.sham_H.myRCTD.reps.rds\")"
   ]
  },
  {
   "cell_type": "markdown",
   "metadata": {},
   "source": [
    "### set variables that deviate two astrocyte"
   ]
  },
  {
   "cell_type": "code",
   "execution_count": null,
   "metadata": {
    "collapsed": true,
    "vscode": {
     "languageId": "r"
    }
   },
   "outputs": [],
   "source": [
    "exp.var1<-as.integer(cells1%in%gfap_cells)\n",
    "#head(exp.var1)\n",
    "names(exp.var1)<-cells1\n",
    "head(exp.var1)\n",
    "\n",
    "exp.var2<-as.integer(cells2%in%gfap_cells)\n",
    "#head(exp.var1)\n",
    "names(exp.var2)<-cells2\n",
    "head(exp.var2)\n",
    "\n",
    "exp.var3<-as.integer(cells3%in%gfap_cells)\n",
    "#head(exp.var1)\n",
    "names(exp.var3)<-cells3\n",
    "head(exp.var3)\n",
    "\n",
    "exp.var4<-as.integer(cells4%in%gfap_cells)\n",
    "#head(exp.var1)\n",
    "names(exp.var4)<-cells4\n",
    "head(exp.var4)"
   ]
  },
  {
   "cell_type": "code",
   "execution_count": 203,
   "metadata": {
    "vscode": {
     "languageId": "r"
    }
   },
   "outputs": [],
   "source": [
    "exvar_list <- list(exp.var1, exp.var2, exp.var3, exp.var4)"
   ]
  },
  {
   "cell_type": "code",
   "execution_count": 28,
   "metadata": {
    "vscode": {
     "languageId": "r"
    }
   },
   "outputs": [],
   "source": [
    "saveRDS(exvar_list,\"sham_H.Astr.subtype.exvar.list.rds\")"
   ]
  },
  {
   "cell_type": "code",
   "execution_count": null,
   "metadata": {
    "collapsed": true,
    "vscode": {
     "languageId": "r"
    }
   },
   "outputs": [],
   "source": [
    "aggregate_cell_types(myRCTD.reps@RCTD.reps[[1]],barcodes = rownames(myRCTD.reps@RCTD.reps[[1]]@spatialRNA@coords),doublet_mode = F)\n",
    "aggregate_cell_types(myRCTD.reps@RCTD.reps[[2]],barcodes = rownames(myRCTD.reps@RCTD.reps[[2]]@spatialRNA@coords),doublet_mode = F)\n",
    "aggregate_cell_types(myRCTD.reps@RCTD.reps[[3]],barcodes = rownames(myRCTD.reps@RCTD.reps[[3]]@spatialRNA@coords),doublet_mode = F)\n",
    "aggregate_cell_types(myRCTD.reps@RCTD.reps[[4]],barcodes = rownames(myRCTD.reps@RCTD.reps[[4]]@spatialRNA@coords),doublet_mode = F)"
   ]
  },
  {
   "cell_type": "code",
   "execution_count": 205,
   "metadata": {
    "vscode": {
     "languageId": "r"
    }
   },
   "outputs": [],
   "source": [
    "cell_types<-c('Astrocyte','Neuron','Oligodendrocyte',\"Homeostatic.Microglia\",\"Vascular\")"
   ]
  },
  {
   "cell_type": "code",
   "execution_count": null,
   "metadata": {
    "collapsed": true,
    "vscode": {
     "languageId": "r"
    }
   },
   "outputs": [],
   "source": [
    "myRCTD.reps <- run.CSIDE.replicates(myRCTD.reps, exvar_list,population_de = T, \n",
    "                                    cell_type_threshold = 1,\n",
    "                                    cell_types,\n",
    "                                    doublet_mode = F,#gene_threshold=0.01,\n",
    "                                    #fdr=0.05,\n",
    "                                    weight_threshold = 0.9\n",
    "                                    #,normalize_expr=T\n",
    "                                   )"
   ]
  },
  {
   "cell_type": "code",
   "execution_count": 215,
   "metadata": {
    "vscode": {
     "languageId": "r"
    }
   },
   "outputs": [],
   "source": [
    "saveRDS(myRCTD.reps,\"13cp.sham_H_astrocyte.gfap.vs.slc.4reps.cpt1.wt09.CSIDE.rds\")"
   ]
  },
  {
   "cell_type": "code",
   "execution_count": 3,
   "metadata": {
    "vscode": {
     "languageId": "r"
    }
   },
   "outputs": [],
   "source": [
    "myRCTD.reps<-readRDS(\"sham_H_astrocyte.gfap.vs.slc.4reps.fdr005.wt01.CSIDE.rds\")"
   ]
  },
  {
   "cell_type": "code",
   "execution_count": 4,
   "metadata": {
    "vscode": {
     "languageId": "r"
    }
   },
   "outputs": [],
   "source": [
    "de_result<-myRCTD.reps@population_sig_gene_df"
   ]
  },
  {
   "cell_type": "code",
   "execution_count": 5,
   "metadata": {
    "vscode": {
     "languageId": "r"
    }
   },
   "outputs": [],
   "source": [
    "test<-de_result$Astrocyte"
   ]
  },
  {
   "cell_type": "code",
   "execution_count": null,
   "metadata": {
    "collapsed": true,
    "vscode": {
     "languageId": "r"
    }
   },
   "outputs": [],
   "source": [
    "test<-arrange(test,log_fc_est)\n",
    "head(test)\n",
    "tail(test)"
   ]
  },
  {
   "cell_type": "code",
   "execution_count": 222,
   "metadata": {
    "vscode": {
     "languageId": "r"
    }
   },
   "outputs": [],
   "source": [
    "write.csv(test,\"13cp.sham_H_astr.gfap.vs.slc7a10_4reps.CSIDE.cpt1.wt09.sig_gene_df.csv\")"
   ]
  },
  {
   "cell_type": "code",
   "execution_count": null,
   "metadata": {
    "collapsed": true,
    "vscode": {
     "languageId": "r"
    }
   },
   "outputs": [],
   "source": [
    "test<-read.csv(\"13cp.sham_H_astr.gfap.vs.slc7a10_4reps.CSIDE.cpt1.wt09.sig_gene_df.csv\")\n",
    "rownames(test)<-test[,1]\n",
    "test<-test[,-1]\n",
    "head(test)"
   ]
  },
  {
   "cell_type": "code",
   "execution_count": null,
   "metadata": {
    "vscode": {
     "languageId": "r"
    }
   },
   "outputs": [],
   "source": [
    "backid<-read.table(\"/home/jovyan/zxli_SCI/result/Seurat/reg.CC/WT_replace_v2/WT.GOterm.SCT.backgeneids.txt\")\n",
    "backid<-backid$x\n",
    "head(backid)"
   ]
  },
  {
   "cell_type": "code",
   "execution_count": 9,
   "metadata": {
    "vscode": {
     "languageId": "r"
    }
   },
   "outputs": [],
   "source": [
    "sf1<-\"goterm_result/\"\n",
    "if(!dir.exists(sf1))\n",
    "    dir.create(sf1)"
   ]
  },
  {
   "cell_type": "code",
   "execution_count": null,
   "metadata": {
    "collapsed": true,
    "vscode": {
     "languageId": "r"
    }
   },
   "outputs": [],
   "source": [
    "pvalueCutoff=0.05\n",
    "qvalueCutoff=0.05\n",
    "\n",
    "#df<-data.frame()\n",
    "for(i in names(de_result)){\n",
    "    temp<-de_result[[i]]\n",
    "    temp<-subset(temp,q_val<0.05&p<0.05)\n",
    "    if(nrow(temp)>0){\n",
    "        temp$gene<-rownames(temp)\n",
    "        temp$group<-NA\n",
    "        temp[temp$log_fc_est<0,\"group\"]<-paste0(i,\"_sham.MG\")\n",
    "        temp[temp$log_fc_est>0,\"group\"]<-paste0(i,\"_sham.WM\")\n",
    "        if(nrow(temp)>30){\n",
    "            grlabs<-split(temp$gene,temp$group)\n",
    "            gcSample<-lapply(grlabs,function(gr) as.numeric(bitr(gr,fromType=\"SYMBOL\",toType = \"ENTREZID\",OrgDb=\"org.Mm.eg.db\")$ENTREZID))\n",
    "        \n",
    "            xx.mus.go<-compareCluster(gcSample,OrgDb=\"org.Mm.eg.db\",fun=\"enrichGO\",\n",
    "                                      pvalueCutoff=pvalueCutoff,qvalueCutoff=qvalueCutoff,\n",
    "                                 ont=\"BP\",readable=T,universe=backid)\n",
    "            if(nrow(xx.mus.go@compareClusterResult)>0){\n",
    "                saveRDS(xx.mus.go,paste0(sf1,i,\"_H.4reps.13cp.sham.WM.vs.MG.cpt1.wt09.deg.pq005.go.rds\"))\n",
    "                #temp2<-xx.mus.go@compareClusterResult\n",
    "                #temp2$Cluster<-paste0(i,\"_\",temp2$Cluster)\n",
    "                #df<-rbind(df,temp2) \n",
    "        }\n",
    "               \n",
    "    }  \n",
    "    }\n",
    "    \n",
    "}"
   ]
  },
  {
   "cell_type": "code",
   "execution_count": null,
   "metadata": {
    "vscode": {
     "languageId": "r"
    }
   },
   "outputs": [],
   "source": [
    "go<-readRDS(paste0(sf1,\"Astrocyte_H.4reps.13cp.sham.WM.vs.MG.cpt1.wt09.deg.pq005.go.rds\"))\n",
    "temp<-go@compareClusterResult\n",
    "dim(temp)"
   ]
  },
  {
   "cell_type": "code",
   "execution_count": null,
   "metadata": {
    "collapsed": true,
    "vscode": {
     "languageId": "r"
    }
   },
   "outputs": [],
   "source": [
    "table(temp$Cluster)\n",
    "range(temp$p.adjust)\n",
    "table(temp$p.adjust<0.05)\n",
    "temp<-temp[temp$p.adjust<0.05&temp$Count>=5,]\n",
    "table(temp$Cluster)"
   ]
  },
  {
   "cell_type": "code",
   "execution_count": null,
   "metadata": {
    "vscode": {
     "languageId": "r"
    }
   },
   "outputs": [],
   "source": [
    "df1<-subset(temp,Cluster==\"Astrocyte_sham.WM\")\n",
    "dim(df1)\n",
    "df2<-subset(temp,Cluster==\"Astrocyte_sham.MG\")\n",
    "dim(df2)"
   ]
  },
  {
   "cell_type": "code",
   "execution_count": null,
   "metadata": {
    "vscode": {
     "languageId": "r"
    }
   },
   "outputs": [],
   "source": [
    "common<-intersect(df1$Description,df2$Description)\n",
    "common"
   ]
  },
  {
   "cell_type": "code",
   "execution_count": null,
   "metadata": {
    "collapsed": true,
    "vscode": {
     "languageId": "r"
    }
   },
   "outputs": [],
   "source": [
    "df_ad<-rbind(df1,df2#,df3\n",
    "            )\n",
    "df_ad$Cluster<-factor(df_ad$Cluster,levels = c(\"Astrocyte_sham.WM\",\"Astrocyte_sham.MG\"))\n",
    "df_ad<-df_ad[order(df_ad$Cluster),]\n",
    "head(df_ad)"
   ]
  },
  {
   "cell_type": "code",
   "execution_count": 19,
   "metadata": {
    "vscode": {
     "languageId": "r"
    }
   },
   "outputs": [],
   "source": [
    "top10<-df_ad %>%group_by(.,Cluster) %>% top_n(.,-10,p.adjust) %>% top_n(.,10,Count)\n",
    "top10<-arrange(top10,Cluster)\n",
    "top10$Description<-factor(top10$Description,levels=rev(unique(top10$Description))) #order Description by cluster "
   ]
  },
  {
   "cell_type": "code",
   "execution_count": null,
   "metadata": {
    "collapsed": true,
    "vscode": {
     "languageId": "r"
    }
   },
   "outputs": [],
   "source": [
    "### barplot\n",
    "options(repr.plot.width=8,repr.plot.height=8)\n",
    "ggplot(top10,aes(x=Description,y=-log10(p.adjust),\n",
    "              fill=Cluster))+\n",
    "    geom_bar(stat=\"identity\",position = \"dodge\")+\n",
    "    coord_flip()+\n",
    "    scale_fill_manual(values = rev(c(\"#DE8BE6\",\"#911eb4\")))+\n",
    "    theme_bw()+\n",
    "    #geom_text(aes(label=Count),hjust=1,size=3.5,color=\"white\")+\n",
    "    theme(axis.text.y.left = element_text(size = 13),panel.background = element_blank(),\n",
    "          panel.grid.major = element_blank(),panel.grid.minor=element_blank())\n",
    "ggsave(\"13cp.Astrocyte_sham_H.WM.vs.MG.Go.withMetabolic.top10.barplot_220701.png\",width = 8,height = 8,dpi = 300)"
   ]
  },
  {
   "cell_type": "code",
   "execution_count": 7,
   "metadata": {
    "vscode": {
     "languageId": "r"
    }
   },
   "outputs": [],
   "source": [
    "library(ggpubr)\n",
    "library(ggrepel)\n",
    "test$celltype<-ifelse(test$log_fc_est>0,\"Astrocyte.Gfap\",\"Astrocyte.Slc7a10\")\n",
    "### reverse the direction \n",
    "test$log_fc_est<--test$log_fc_est"
   ]
  },
  {
   "cell_type": "code",
   "execution_count": null,
   "metadata": {
    "vscode": {
     "languageId": "r"
    }
   },
   "outputs": [],
   "source": [
    "### vocalno plot\n",
    "pdf(\"13cp.sham_H.Astr.DEG.vocalno.withlabel_reversed220701.plot.pdf\",width = 15,height = 15)\n",
    "options(repr.plot.width=15,repr.plot.height=15)\n",
    "ggplot(test,aes(x=log_fc_est,y=-log10(p),col=celltype,label=rownames(test)\n",
    "               ))+\n",
    "    geom_point(size=2)+\n",
    "    geom_text_repel(max.overlaps = 18)+\n",
    "    scale_color_manual(values = c(\"#911eb4\",\"#DE8BE6\"))+\n",
    "    theme_minimal()+\n",
    "    theme(panel.grid =  element_blank())+\n",
    "    geom_vline(xintercept = c(-0.5,0.5),col=\"grey\")+\n",
    "    geom_hline(yintercept = -log10(0.05),col=\"grey\")\n",
    "dev.off()\n",
    "#ggsave(\"13cp.sham_H.Astr.DEG.vocalno.plot.png\",width = 15,height = 9,dpi = 400)"
   ]
  },
  {
   "cell_type": "markdown",
   "metadata": {},
   "source": [
    "#### related regulons"
   ]
  },
  {
   "cell_type": "code",
   "execution_count": null,
   "metadata": {
    "collapsed": true,
    "vscode": {
     "languageId": "r"
    }
   },
   "outputs": [],
   "source": [
    "gfap_deg<-rownames(test[test$celltype==\"Astrocyte.Gfap\",])\n",
    "gfap_deg\n",
    "slc_deg<-rownames(test[test$celltype==\"Astrocyte.Slc7a10\",])\n",
    "slc_deg\n",
    "\n",
    "mods<-list(gfap=gfap_deg,slc=slc_deg)\n",
    "mods"
   ]
  },
  {
   "cell_type": "code",
   "execution_count": null,
   "metadata": {
    "collapsed": true,
    "vscode": {
     "languageId": "r"
    }
   },
   "outputs": [],
   "source": [
    "library(KernSmooth)\n",
    "library(RColorBrewer)\n",
    "library(plotly)\n",
    "library(BiocParallel)\n",
    "library(grid)\n",
    "#library(ComplexHeatmap)\n",
    "library(data.table)\n",
    "library(dplyr)\n",
    "library(tidyverse)\n",
    "library(pheatmap)\n",
    "library(scales)"
   ]
  },
  {
   "cell_type": "code",
   "execution_count": 260,
   "metadata": {
    "vscode": {
     "languageId": "r"
    }
   },
   "outputs": [],
   "source": [
    "regulon_list<-readRDS('/home/jovyan/zxli_SCI/result/WGCNA/WT.SCT.res02.domain_220311/topregulon/515.regulon.genes.list.rds')"
   ]
  },
  {
   "cell_type": "code",
   "execution_count": null,
   "metadata": {
    "vscode": {
     "languageId": "r"
    }
   },
   "outputs": [],
   "source": [
    "r_genes<-unique(unlist(regulon_list))\n",
    "length(r_genes)"
   ]
  },
  {
   "cell_type": "code",
   "execution_count": null,
   "metadata": {
    "vscode": {
     "languageId": "r"
    }
   },
   "outputs": [],
   "source": [
    "backgenes<-readRDS(\"/home/jovyan/zxli_SCI/result/cellchat/time_domain_220325/WT.SCT.data.rds\")\n",
    "backgenes<-rownames(backgenes)\n",
    "head(backgenes)"
   ]
  },
  {
   "cell_type": "code",
   "execution_count": null,
   "metadata": {
    "vscode": {
     "languageId": "r"
    }
   },
   "outputs": [],
   "source": [
    "total_genes<-backgenes#unique(unlist(regulon_list))\n",
    "t_l<-length(total_genes)\n",
    "t_l"
   ]
  },
  {
   "cell_type": "code",
   "execution_count": 268,
   "metadata": {
    "vscode": {
     "languageId": "r"
    }
   },
   "outputs": [],
   "source": [
    "### create hypergeometric dataframe for each GOI(gene of interest)\n",
    "mod_regulon_df_list<-list()\n",
    "#inter_mod_reg_df<-data.frame(row.names = names(mods),module=names(mods))\n",
    "#c<-2\n",
    "f<-\"astr_deg.regulon.intersect_genes/\"\n",
    "if(!dir.exists(f))\n",
    "    dir.create(f)\n",
    "\n",
    "for(i in names(regulon_list)){\n",
    "    inter_list<-list()\n",
    "    #inter_mod_reg_df[,i]<-NA\n",
    "    r_genes<-regulon_list[[i]]\n",
    "    #r_genes<-intersect(r_genes,intgenes) ### filter regulon genes that not exist in all module gene background\n",
    "    k<-length(r_genes)\n",
    "    # find the module success gene number in target regulon,regulon number, remaining regulons size and module size\n",
    "    hyper_df <- data.frame(matrix(nrow=length(mods),ncol = 9),row.names = names(mods))\n",
    "    \n",
    "\n",
    "    colnames(hyper_df) <- c(\"q\",  #regulon in module\n",
    "                            \"m\",  #module size\n",
    "                            \"n\",  #regulon in background \n",
    "                            \"k\",  #regulon size\n",
    "                            \"p.val\",\n",
    "                            \"p.val.ad\",\n",
    "                            \"sig\",\n",
    "                            \"ratio\",\n",
    "                            \"score\")\n",
    "\n",
    "    for(j in names(mods)){\n",
    "        m_genes<-mods[[j]]\n",
    "        suc_genes<-intersect(m_genes,r_genes)\n",
    "        suc_genes_l<-length(suc_genes)\n",
    "        m<-length(m_genes)\n",
    "        n<-t_l-m\n",
    "        p<-round(phyper(suc_genes_l,m,n,k,lower.tail = F,log.p = F),4)\n",
    "        r<-round(suc_genes_l/k,4)\n",
    "        \n",
    "        if(suc_genes_l==0){\n",
    "            inter_list[[j]]<-\"\"\n",
    "        }else{\n",
    "            inter_list[[j]]<-c(suc_genes)\n",
    "        }\n",
    "        \n",
    "        \n",
    "        hyper_df[j,c(\"q\",\"m\",\"n\",\"k\",\"p.val\")]<-c(suc_genes_l,m,n,k,p)\n",
    "        hyper_df$ratio<-round(hyper_df$q/hyper_df$k,4) #calculate the regulon enriched ratio in each module\n",
    "        #hyper_df<-subset(hyper_df,ratio>0.2) #subset regulons that have 20% enrichment ratio in target modules\n",
    "    }\n",
    "    \n",
    "    saveRDS(inter_list,paste0(f,i,\".intersect_genes.in.astr_deg.rds\"))\n",
    "    #inter_mod_reg_df<-as.data.frame(cbind(inter_mod_reg_df,inter_list))\n",
    "    #colnames(inter_mod_reg_df)[c]<-i\n",
    "    \n",
    "    hyper_df$p.val.ad<-round(p.adjust(hyper_df$p.val,\"bonferroni\"),4)\n",
    "    hyper_df$sig<-round((1-hyper_df$p.val.ad)/0.05,4)\n",
    "    hyper_df[hyper_df$p.val.ad>=0.01,\"sig\"]<-0\n",
    "    hyper_df$score<-hyper_df$sig*hyper_df$ratio\n",
    "    mod_regulon_df_list[[i]]<-hyper_df\n",
    "    #mod_regulon_df_list[[i]]$p.val.ad<-\n",
    "    #mod_regulon_df_list[[i]]$sig<-round(mod_regulon_df_list[[i]])\n",
    "    #dim(df)\n",
    "    #head(df)\n",
    "    #c<-c+1\n",
    "}\n"
   ]
  },
  {
   "cell_type": "code",
   "execution_count": null,
   "metadata": {
    "collapsed": true,
    "vscode": {
     "languageId": "r"
    }
   },
   "outputs": [],
   "source": [
    "### create module-regulon p.val matrix\n",
    "p_ma<-do.call(cbind.data.frame,mod_regulon_df_list)\n",
    "head(p_ma)\n",
    "p_ma<-as.matrix(p_ma[,grepl(\".sig\",colnames(p_ma))])\n",
    "colnames(p_ma)<-gsub(\".sig\",\"\",colnames(p_ma))\n",
    "p_ma<-t(p_ma)\n",
    "head(p_ma)"
   ]
  },
  {
   "cell_type": "code",
   "execution_count": null,
   "metadata": {
    "collapsed": true,
    "vscode": {
     "languageId": "r"
    }
   },
   "outputs": [],
   "source": [
    "# create ratio matrix\n",
    "r_ma<-do.call(cbind.data.frame,mod_regulon_df_list)\n",
    "head(r_ma)\n",
    "r_ma<-as.matrix(r_ma[,grepl(\"ratio\",colnames(r_ma))])\n",
    "colnames(r_ma)<-gsub(\".ratio\",\"\",colnames(r_ma))\n",
    "r_ma<-t(r_ma)\n",
    "head(r_ma)"
   ]
  },
  {
   "cell_type": "code",
   "execution_count": null,
   "metadata": {
    "collapsed": true,
    "vscode": {
     "languageId": "r"
    }
   },
   "outputs": [],
   "source": [
    "s_ma<-do.call(cbind.data.frame,mod_regulon_df_list)\n",
    "head(s_ma)\n",
    "s_ma<-as.matrix(s_ma[,grepl(\"score\",colnames(s_ma))])\n",
    "colnames(s_ma)<-gsub(\".score\",\"\",colnames(s_ma))\n",
    "s_ma<-t(s_ma)\n",
    "head(s_ma)"
   ]
  },
  {
   "cell_type": "code",
   "execution_count": 274,
   "metadata": {
    "vscode": {
     "languageId": "r"
    }
   },
   "outputs": [],
   "source": [
    "write.csv(p_ma,\"astrDEG_regulon.hyper.pad001.pval.ad_significance.matrix.csv\")\n",
    "write.csv(s_ma,\"astrDEG-regulon.hyper.pad001.pval-ratio.score.matrix.csv\")"
   ]
  },
  {
   "cell_type": "code",
   "execution_count": 275,
   "metadata": {
    "vscode": {
     "languageId": "r"
    }
   },
   "outputs": [],
   "source": [
    "saveRDS(mod_regulon_df_list,\"astrDEG.regulon.hypergeomic.test.list.pad001.rds\")"
   ]
  },
  {
   "cell_type": "code",
   "execution_count": 24,
   "metadata": {
    "vscode": {
     "languageId": "r"
    }
   },
   "outputs": [],
   "source": [
    "mod_regulon_df_list<-readRDS(\"astrDEG.regulon.hypergeomic.test.list.pad001.rds\")"
   ]
  },
  {
   "cell_type": "code",
   "execution_count": null,
   "metadata": {
    "collapsed": true,
    "vscode": {
     "languageId": "r"
    }
   },
   "outputs": [],
   "source": [
    "df<-do.call(rbind.data.frame,mod_regulon_df_list)\n",
    "head(df)\n",
    "df$module<-str_split(rownames(df),\"\\\\.\",simplify = T)[,2]\n",
    "df$regulon<-str_split(rownames(df),\"\\\\.\",simplify = T)[,1]\n",
    "##df<-df[!df$module==\"\",]\n",
    "head(df)\n",
    "dim(df)"
   ]
  },
  {
   "cell_type": "code",
   "execution_count": null,
   "metadata": {
    "vscode": {
     "languageId": "r"
    }
   },
   "outputs": [],
   "source": [
    "df_sub<-df[df$p.val.ad<0.01&df$q>=5&df$ratio>0.01,]\n",
    "dim(df_sub)"
   ]
  },
  {
   "cell_type": "code",
   "execution_count": 27,
   "metadata": {
    "vscode": {
     "languageId": "r"
    }
   },
   "outputs": [],
   "source": [
    "top5<-df_sub %>% group_by(.,module) %>% top_n(15,wt = -p.val.ad) %>% top_n(15,wt = ratio)"
   ]
  },
  {
   "cell_type": "code",
   "execution_count": 28,
   "metadata": {
    "vscode": {
     "languageId": "r"
    }
   },
   "outputs": [],
   "source": [
    "top5<- top5 %>% group_by(.,module) %>% arrange(.,module)\n",
    "top5$regulon<-factor(top5$regulon,levels = unique(top5$regulon))"
   ]
  },
  {
   "cell_type": "code",
   "execution_count": null,
   "metadata": {
    "collapsed": true,
    "vscode": {
     "languageId": "r"
    }
   },
   "outputs": [],
   "source": [
    "options(repr.plot.width=4,repr.plot.height=5)\n",
    "ggplot(top5,aes(x=regulon,y=module))+\n",
    "    geom_point(aes(size=q,color=sig#,shape=sc_shared\n",
    "                  ))+\n",
    "    scale_color_gradientn(colours = c(\"darkblue\",\"pink\",\"red\"))+\n",
    "    theme_bw()+#ggtitle(label = \"72h\")+\n",
    "    theme(axis.text.x = element_text(angle = 60,size = 12,vjust = 1,hjust = 1),\n",
    "          axis.text.y.left = element_text(angle = 30,size = 12),\n",
    "          axis.title = element_blank(),\n",
    "         #legend.position=\"bottom\",\n",
    "         # legend.back=element_rect(size = 0.005)\n",
    "         )#+\n",
    "        #facet_wrap(~time,nrow = 1,ncol = 4)\n",
    "\n",
    "#ggsave(\"astrDEG.regulon.pad001.num5.pad_ratio_top15.pointplot.png\",width = 4,height = 2.6,dpi = 300)"
   ]
  }
 ],
 "metadata": {
  "kernelspec": {
   "display_name": "R",
   "language": "R",
   "name": "ir"
  },
  "language_info": {
   "codemirror_mode": "r",
   "file_extension": ".r",
   "mimetype": "text/x-r-source",
   "name": "R",
   "pygments_lexer": "r",
   "version": "4.1.0"
  }
 },
 "nbformat": 4,
 "nbformat_minor": 2
}
