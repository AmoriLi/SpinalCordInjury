{
 "cells": [
  {
   "cell_type": "code",
   "execution_count": null,
   "id": "d771acde",
   "metadata": {
    "vscode": {
     "languageId": "r"
    }
   },
   "outputs": [],
   "source": [
    "wd<-\"/result/Seurat/sc_Astrocyte_recluster/lee/classifyBySpatialMarker/\"\n",
    "if(!dir.exists(wd))\n",
    "    dir.create(wd)\n",
    "setwd(wd)\n",
    "getwd()"
   ]
  },
  {
   "cell_type": "code",
   "execution_count": 3,
   "id": "0863f6cf",
   "metadata": {
    "vscode": {
     "languageId": "r"
    }
   },
   "outputs": [],
   "source": [
    "source(\"/script/self_function/pheatmap_add_flag.R\")"
   ]
  },
  {
   "cell_type": "code",
   "execution_count": 4,
   "id": "169c373e",
   "metadata": {
    "vscode": {
     "languageId": "r"
    }
   },
   "outputs": [],
   "source": [
    "source(\"/script/self_function/save_pheatmap_pdf.R\")"
   ]
  },
  {
   "cell_type": "code",
   "execution_count": null,
   "id": "52bcfb8f",
   "metadata": {
    "scrolled": true,
    "vscode": {
     "languageId": "r"
    }
   },
   "outputs": [],
   "source": [
    "library(Matrix)\n",
    "#library(doParallel)\n",
    "library(Seurat)\n",
    "library(ggplot2)\n",
    "library(patchwork)\n",
    "library(dplyr)\n",
    "#library(hdf5r)\n",
    "library(png)\n",
    "#library(ggalluvial)\n",
    "#library(tidyverse)\n",
    "library(clustree)\n",
    "library(RCTD)\n",
    "library(Matrix)\n",
    "#library(SPOTlight)\n",
    "library(future)\n",
    "library(grid)\n",
    "#library(RColorBrewer)\n",
    "library(pheatmap)\n",
    "#library(circlize)\n",
    "library(igraph)\n",
    "#library(ComplexHeatmap)\n",
    "library(stringr)\n",
    "#library(ComplexHeatmap)\n",
    "library(cowplot)\n",
    "library(scales)\n",
    "#library(dplyr)\n",
    "#library(tidyverse)\n",
    "library(reshape2)\n",
    "library(ComplexHeatmap)\n",
    "library(RColorBrewer)\n",
    "library(biomaRt)\n",
    "#library(scClustViz)\n",
    "library(scales)\n",
    "library(colorspace)\n",
    "library(clusterProfiler)\n",
    "options(connectionObserver = NULL)\n",
    "library(\"readxl\")"
   ]
  },
  {
   "cell_type": "markdown",
   "id": "0a4c5e3a",
   "metadata": {},
   "source": [
    "### hclust 317 astrocyte deconvolution marker in spot level"
   ]
  },
  {
   "cell_type": "code",
   "execution_count": 2673,
   "id": "8041a5bb",
   "metadata": {
    "vscode": {
     "languageId": "r"
    }
   },
   "outputs": [],
   "source": [
    "#load normalized spot expression data\n",
    "#ma<-readRDS(\"/home/jovyan/zxli_SCI/result/cellchat/WT.SCT.data.rds\")\n",
    "#ma<-readRDS(\"/home/jovyan/zxli_SCI/result/Seurat/Astr_spot_relcuster/astr_pre.subtype_shamdomain.wxtest.63markers.prop0.SCT.data.meta.rds\")\n",
    "ma<-readRDS(\"/result/Seurat/Astr_spot_relcuster/astr.prop0.317markers.SCTscale.data.meta.rds\")"
   ]
  },
  {
   "cell_type": "code",
   "execution_count": null,
   "id": "20fea014",
   "metadata": {
    "vscode": {
     "languageId": "r"
    }
   },
   "outputs": [],
   "source": [
    "# subset sample and Astrocyte_gfap\n",
    "meta<-ma@meta.data\n",
    "meta_sub<-subset(meta,sample %in% c('WT_sham_H_R2_1mm_2','WT_sham_H_R2_4','WT_sham_T_210323_4','WT_sham_T_R2_1mm_4',\n",
    "                                                  'WT_3h_H_R2_1mm_2','WT_3h_H_R2_2','WT_3h_T_R2_1','WT_3h_T_210330_1mm_3',\n",
    "                                                  'WT_24h_H_R1_1mm_3','WT_24h_H_R1_4','WT_24h_T_201231_3','WT_24h_T_R1_1mm_3',\n",
    "                                                  'WT_72h_H_R1_1mm_2','WT_72h_H_210323_1','WT_72h_T_R2_4','WT_72h_T_R1_1mm_3')& Astr_state2==\"Astr_Gfap\")\n",
    "dim(meta_sub)\n",
    "cells<-rownames(meta_sub)"
   ]
  },
  {
   "cell_type": "code",
   "execution_count": null,
   "id": "3edbbe71",
   "metadata": {
    "vscode": {
     "languageId": "r"
    }
   },
   "outputs": [],
   "source": [
    "exp<-as.matrix(ma@assays$RNA@counts[,cells])\n",
    "dim(exp)"
   ]
  },
  {
   "cell_type": "code",
   "execution_count": null,
   "id": "ff4ce70b",
   "metadata": {
    "vscode": {
     "languageId": "r"
    }
   },
   "outputs": [],
   "source": [
    "astr_marker<-rownames(exp)\n",
    "length(astr_marker)"
   ]
  },
  {
   "cell_type": "code",
   "execution_count": null,
   "id": "54d819bd",
   "metadata": {
    "vscode": {
     "languageId": "r"
    }
   },
   "outputs": [],
   "source": [
    "exp_bi<-ifelse(exp>0,1,-1)\n",
    "table(exp_bi)"
   ]
  },
  {
   "cell_type": "code",
   "execution_count": null,
   "id": "03767849",
   "metadata": {
    "collapsed": true,
    "vscode": {
     "languageId": "r"
    }
   },
   "outputs": [],
   "source": [
    "colnames(meta_sub)\n",
    "meta_sub$domain2<-ifelse(meta_sub$domain_res02==\"WM\",\"WM\",\"GM\")"
   ]
  },
  {
   "cell_type": "code",
   "execution_count": 2718,
   "id": "ab389877",
   "metadata": {
    "vscode": {
     "languageId": "r"
    }
   },
   "outputs": [],
   "source": [
    "### time_distance_domain bulk\n",
    "sp_df<-data.frame()\n",
    "for(i in unique(meta_sub$orig.ident)){\n",
    "    if(grepl(\"sham\",i) | grepl(\"3h\",i)){\n",
    "        temp_me<-meta_sub[meta_sub$Astr_state%in%c(\"WM_Astr_Gfap\"#,\"MG_Astr_Slc\"\n",
    "                                                  )&\n",
    "                            meta_sub$orig.ident==i,]\n",
    "        #table(temp_me$Astr_state)\n",
    "    \n",
    "        temp_ma<-as.data.frame(t(exp_bi[,rownames(temp_me)]))\n",
    "        temp_ma$group<-temp_me$domain_res02\n",
    "        temp_mean<-temp_ma %>% group_by(group) %>% summarise_all(\"mean\")\n",
    "        temp_mean$section<-i\n",
    "        temp_mean<-as.data.frame(temp_mean)\n",
    "    }\n",
    "    if(grepl(\"24\",i) | grepl(\"72h\",i)){\n",
    "        temp_me<-meta_sub[meta_sub$Astr_state%in%c(\"WM_Astr_Gfap\",#\"MG_Astr_Slc\",\n",
    "                                           \"MG_Astr_Gfap\")\n",
    "                           & meta_sub$orig.ident==i,]\n",
    "        table(temp_me$Astr_state)\n",
    "    \n",
    "        temp_ma<-as.data.frame(t(exp_bi[,rownames(temp_me)]))\n",
    "        temp_ma$group<-temp_me$domain_res02\n",
    "        temp_mean<-temp_ma %>% group_by(group) %>% summarise_all(\"mean\")\n",
    "        temp_mean$section<-i\n",
    "        temp_mean<-as.data.frame(temp_mean)\n",
    "    }\n",
    "    sp_df<-rbind(sp_df,temp_mean)\n",
    "    \n",
    "}\n"
   ]
  },
  {
   "cell_type": "code",
   "execution_count": null,
   "id": "d69102a5",
   "metadata": {
    "collapsed": true,
    "vscode": {
     "languageId": "r"
    }
   },
   "outputs": [],
   "source": [
    "dim(sp_df)\n",
    "sp_df$key<-paste0(sp_df$section,\"_\",sp_df$group)\n",
    "unique(sp_df$key)\n",
    "sp_df$section<-factor(sp_df$section,levels = c('WT_sham_H_R2_1mm','WT_sham_H_R2','WT_sham_T_210323','WT_sham_T_R2_1mm',\n",
    "                                              'WT_3h_H_R2_1mm','WT_3h_H_R2','WT_3h_T_R2','WT_3h_T_210330_1mm',\n",
    "                                              'WT_24h_H_R1_1mm','WT_24h_H_R1','WT_24h_T_201231','WT_24h_T_R1_1mm',\n",
    "                                              'WT_72h_H_R1_1mm','WT_72h_H_210323','WT_72h_T_R2','WT_72h_T_R1_1mm'))\n",
    "\n",
    "sp_df$time<-NA\n",
    "sp_df$time[grepl(\"sham\",sp_df$section)]<-\"sham\"\n",
    "sp_df$time[grepl(\"3h\",sp_df$section)]<-\"3h\"\n",
    "sp_df$time[grepl(\"24h\",sp_df$section)]<-\"24h\"\n",
    "sp_df$time[grepl(\"72h\",sp_df$section)]<-\"72h\"\n",
    "table(sp_df$time)\n",
    "sp_df$RC<-NA\n",
    "sp_df$RC[grepl(\"_H_\",sp_df$section)]<-\"rostral\"\n",
    "sp_df$RC[grepl(\"_T_\",sp_df$section)]<-\"caudal\"\n",
    "table(sp_df$RC)\n",
    "sp_df$distance<-NA\n",
    "sp_df$distance<-ifelse(grepl(\"_1mm\",sp_df$section),\"1mm\",\"0.5mm\")\n",
    "table(sp_df$distance)\n",
    "sp_df$domain<-sp_df$group\n",
    "sp_df$time<-factor(sp_df$time,levels = c(\"sham\",\"3h\",\"24h\",\"72h\"))\n",
    "sp_df$RC<-factor(sp_df$RC,levels = c(\"rostral\",\"caudal\"))\n",
    "sp_df$distance<-factor(sp_df$distance,levels = c(\"0.5mm\",\"1mm\"))\n",
    "sp_df$domain<-factor(sp_df$domain,levels = c(\"WM\",\"MG\")#c(\"WM\",\"MG\",\"DH\",\"VH\")\n",
    "                    )"
   ]
  },
  {
   "cell_type": "code",
   "execution_count": 2720,
   "id": "f19f3456",
   "metadata": {
    "vscode": {
     "languageId": "r"
    }
   },
   "outputs": [],
   "source": [
    "write.csv(sp_df,\"astr_gfap.317marker.scale.express.binary.mean.in.time_Ct2domain.meta.csv\")"
   ]
  },
  {
   "cell_type": "code",
   "execution_count": null,
   "id": "f9add270",
   "metadata": {
    "vscode": {
     "languageId": "r"
    }
   },
   "outputs": [],
   "source": [
    "### just look into WM and MG\n",
    "sp_df_sub<-sp_df[sp_df$domain%in%c(\"WM\",\"MG\"),]\n",
    "dim(sp_df_sub)"
   ]
  },
  {
   "cell_type": "code",
   "execution_count": null,
   "id": "22031fdf",
   "metadata": {
    "vscode": {
     "languageId": "r"
    }
   },
   "outputs": [],
   "source": [
    "ha1_s<-columnAnnotation(time=sp_df_sub$time,\n",
    "                       RC=sp_df_sub$RC,\n",
    "                       distance=sp_df_sub$distance,\n",
    "                       domain=sp_df_sub$domain,\n",
    "                     col=list(time=structure(names=c(\"sham\",\"3h\",\"24h\",\"72h\"),c(\"#374E55FF\",\"#DF8F44FF\",\"#00A1D5FF\",\"#B24745FF\")),\n",
    "                             RC=structure(names=c(\"rostral\",\"caudal\"),c('#F4A582','#0571B0')),\n",
    "                             distance=structure(names=c(\"1mm\",\"0.5mm\"),c('#63A79C','#FB9A99')),\n",
    "                             domain=structure(names=c(\"WM\",\"MG\"),c(\"#20854EA8\",\"#0072B5A8\"))))                     "
   ]
  },
  {
   "cell_type": "code",
   "execution_count": null,
   "id": "9030e14e",
   "metadata": {
    "vscode": {
     "languageId": "r"
    }
   },
   "outputs": [],
   "source": [
    "##options(repr.plot.width=10,repr.plot.height=13)\n",
    "###pdf(\"317.markers.time_domain.onlyWM_MG.clustered.km4.heatmap.pdf\",width = 10,height = 14)\n",
    "p<-Heatmap(t(sp_df_sub[,astr_mark]),cluster_columns = T,show_row_names = F,km = 4,\n",
    "        col = c(\"#05445E\",\"#92a8d1\",\"#F6E6E8\",\"#E56997\",\"#B91646\"),#colorRampPalette(colors = c(\"#80ced6\",\"#d5f4e6\",\"#f7cac9\",\"#c94c4c\"))(50),#row_names_max_width = unit(2,\"cm\"),\n",
    "        cluster_rows = T,\n",
    "        #clustering_distance_rows = \"pearson\",\n",
    "        show_column_names = F,\n",
    "        #left_annotation = ha,\n",
    "        top_annotation = ha1_s#,show_column_names = F\n",
    "       )\n",
    "###dev.off()"
   ]
  },
  {
   "cell_type": "code",
   "execution_count": null,
   "id": "9d2c8a8f",
   "metadata": {
    "collapsed": true,
    "vscode": {
     "languageId": "r"
    }
   },
   "outputs": [],
   "source": [
    "## get the cluster annotation dataframe\n",
    "r.dend<-row_dend(p)\n",
    "rcl.list<-row_order(p)\n",
    "lapply(rcl.list,function(x) length(x)) #check/confirm size of clusters\n",
    "#loop to extract genes for each cluster\n",
    "for(i in 1:length(rcl.list)){\n",
    "    if(i==1){\n",
    "        clu<-t(t(astr_mark[rcl.list[[i]]]))\n",
    "        out<-cbind(clu,names(rcl.list)[i])\n",
    "        colnames(out)<-c(\"gene\",\"Cluster\")\n",
    "    } else {\n",
    "        clu<-t(t(astr_mark[rcl.list[[i]]]))\n",
    "        clu<-cbind(clu,names(rcl.list)[i])\n",
    "        out<-rbind(out,clu)\n",
    "    }\n",
    "}\n",
    "out<-as.data.frame(out)\n",
    "head(out)\n",
    "table(out$Cluster)"
   ]
  },
  {
   "cell_type": "code",
   "execution_count": 2729,
   "id": "32a42315",
   "metadata": {
    "vscode": {
     "languageId": "r"
    }
   },
   "outputs": [],
   "source": [
    "rownames(out)<-out$gene"
   ]
  },
  {
   "cell_type": "code",
   "execution_count": null,
   "id": "11c1eaaf",
   "metadata": {
    "collapsed": true,
    "vscode": {
     "languageId": "r"
    }
   },
   "outputs": [],
   "source": [
    "out[out$Cluster==3,\"gene\"]\n",
    "out[out$Cluster==4,\"gene\"]"
   ]
  },
  {
   "cell_type": "code",
   "execution_count": 2733,
   "id": "b6a2579d",
   "metadata": {
    "vscode": {
     "languageId": "r"
    }
   },
   "outputs": [],
   "source": [
    "write.csv(out,\"gfap.astr.317marker.scaled.express.binary.mean.in.time_ct2domain.heatmap.km4.geneclusters.csv\")"
   ]
  },
  {
   "cell_type": "code",
   "execution_count": 4,
   "id": "bb46b738",
   "metadata": {
    "vscode": {
     "languageId": "r"
    }
   },
   "outputs": [],
   "source": [
    "out<-read.csv(\"gfap.astr.317marker.scaled.express.binary.mean.in.time_ct2domain.heatmap.km4.geneclusters.csv\")"
   ]
  },
  {
   "cell_type": "code",
   "execution_count": null,
   "id": "433dab52",
   "metadata": {
    "collapsed": true,
    "vscode": {
     "languageId": "r"
    }
   },
   "outputs": [],
   "source": [
    "out[out$gene==\"Gfap\",]\n",
    "out[out$gene==\"Slc7a10\",]"
   ]
  },
  {
   "cell_type": "code",
   "execution_count": null,
   "id": "c4fdb571",
   "metadata": {
    "collapsed": true,
    "vscode": {
     "languageId": "r"
    }
   },
   "outputs": [],
   "source": [
    "c1<-out[out$Cluster==1,\"gene\"]\n",
    "c1\n",
    "c2<-out[out$Cluster==2,\"gene\"]\n",
    "c2\n",
    "c3<-out[out$Cluster==3,\"gene\"]\n",
    "c3\n",
    "c4<-out[out$Cluster==4,\"gene\"]\n",
    "c4\n",
    "#c5<-out[out$Cluster==5,\"gene\"]\n",
    "#c5\n",
    "#c6<-out[out$Cluster==6,\"gene\"]\n",
    "#c6\n",
    "#c7<-out[out$Cluster==7,\"gene\"]\n",
    "#c7\n",
    "#c8<-out[out$Cluster==8,\"gene\"]\n",
    "#c8"
   ]
  },
  {
   "cell_type": "code",
   "execution_count": null,
   "id": "ff91954c",
   "metadata": {
    "vscode": {
     "languageId": "r"
    }
   },
   "outputs": [],
   "source": [
    "da<-readRDS(\"/result/Seurat/sc_Astrocyte_recluster/lee/Astrocyte.Gfap.pc16.res02.rds\")\n",
    "#da<-readRDS(\"gfap.317_bi_m13.hclust2.cluster.rds\")\n",
    "da"
   ]
  },
  {
   "cell_type": "markdown",
   "id": "d72f1526",
   "metadata": {},
   "source": [
    "### calculate the genelist score in single cell Gfap astrocyte"
   ]
  },
  {
   "cell_type": "code",
   "execution_count": 59,
   "id": "c2528208",
   "metadata": {
    "vscode": {
     "languageId": "r"
    }
   },
   "outputs": [],
   "source": [
    "da<-AddModuleScore(da,\n",
    "                     features = list(c1,c2,c3,c4#,c5,c6,c7,c8\n",
    "                                    ),\n",
    "                     name = c(\"module1\",\"module2\",\"module3\",\"module4\"#,\"module5\",\"module6\",\"module7\",\"module8\"\n",
    "                             ))"
   ]
  },
  {
   "cell_type": "code",
   "execution_count": null,
   "id": "3ef08b9e",
   "metadata": {
    "collapsed": true,
    "vscode": {
     "languageId": "r"
    }
   },
   "outputs": [],
   "source": [
    "options(repr.plot.width=10,repr.plot.height=10)\n",
    "FeaturePlot(da,pt.size = 1.5,ncol = 2,\n",
    "            features = c('module11',\"module22\",\"module33\",'module44'#,\"module55\",\"module66\",\"module77\",\"module88\"\n",
    "                                ),\n",
    "            #keep.scale = NULL,\n",
    "            #cols =c(\"#3BC3C4\",\"#F2D4CE\",\"#CA3566\"),\n",
    "            cols= c(#\"#cfe0e8\",\n",
    "    \n",
    "                                                     # '#b8a9c9', \n",
    "    '#d6d4e0',\n",
    "    \"#f0f0f0\",\n",
    "    '#fff2df',\n",
    "    \"#eeac99\",#\"#ED797B\",\n",
    "                     \"#c83349\")\n",
    "            #max.cutoff=\"q10\",\n",
    "            #min.cutoff=\"q1\"\n",
    "            \n",
    "           )\n",
    "##ggsave(\"sc.seuratUMAP.module1.4.png\",width = 12,height = 5,dpi = 300)"
   ]
  },
  {
   "cell_type": "markdown",
   "id": "fb1926ab",
   "metadata": {},
   "source": [
    "#### hclust and kmeans based on two genelist score dimension"
   ]
  },
  {
   "cell_type": "code",
   "execution_count": 348,
   "id": "7a18ada3",
   "metadata": {
    "vscode": {
     "languageId": "r"
    }
   },
   "outputs": [],
   "source": [
    "set.seed(220609)\n",
    "hc2<-cutree(hclust(dist(da@meta.data[,c('module33',#\"module22\",\"module33\",\n",
    "                                        'module11'#,\"module55\",\"module66\",\"module77\",\"module88\"\n",
    "                                       )],\n",
    "                        method = \"maximum\")),\n",
    "            k = 2)"
   ]
  },
  {
   "cell_type": "code",
   "execution_count": null,
   "id": "c24e5d08",
   "metadata": {
    "collapsed": true,
    "vscode": {
     "languageId": "r"
    }
   },
   "outputs": [],
   "source": [
    "options(repr.plot.width=5,repr.plot.height=5)\n",
    "ggplot(da@meta.data,aes(x=module33,y=module11,col=as.factor(hc2)))+\n",
    "    #scale_color_manual(values = )+\n",
    "    geom_point()+\n",
    "    theme_classic()+\n",
    "     scale_color_manual(values = c('#911eb4',\"#ff7b25\"))#+\n",
    "    #geom_vline(xintercept = 0)+\n",
    "    #geom_hline(yintercept = 0)\n",
    "ggsave(\"sc.Astrocyte_Gfap.hclust2.bySpatialM13Score.scaterplot.png\",width = 5,height = 5,dpi = 300)"
   ]
  },
  {
   "cell_type": "code",
   "execution_count": 242,
   "id": "6712e30b",
   "metadata": {
    "vscode": {
     "languageId": "r"
    }
   },
   "outputs": [],
   "source": [
    "da$Nxrn1<-da@assays$SCT@data[\"Nrxn1\",]\n",
    "da$scale_Nxrn1<-da@assays$SCT@scale.data[\"Nrxn1\",]"
   ]
  },
  {
   "cell_type": "code",
   "execution_count": null,
   "id": "3a34381a",
   "metadata": {
    "collapsed": true,
    "vscode": {
     "languageId": "r"
    }
   },
   "outputs": [],
   "source": [
    "options(repr.plot.width=5,repr.plot.height=5)\n",
    "ggplot(da@meta.data,aes(x=module33,y=module11,col=scale_Nxrn1))+\n",
    "    #scale_color_manual(values = )+\n",
    "    geom_point()+\n",
    "    theme_classic()+\n",
    "     scale_color_gradientn(colours = c(c(#\"#cfe0e8\",\n",
    "    \n",
    "                                                     # '#b8a9c9', \n",
    "    '#d6d4e0',\n",
    "    \"#f0f0f0\",\n",
    "    '#fff2df',\n",
    "    \"#eeac99\",#\"#ED797B\",\n",
    "                     \"#c83349\")))#+\n",
    "    #geom_vline(xintercept = 0)+\n",
    "    #geom_hline(yintercept = 0)"
   ]
  },
  {
   "cell_type": "code",
   "execution_count": 250,
   "id": "d6a211fd",
   "metadata": {
    "vscode": {
     "languageId": "r"
    }
   },
   "outputs": [],
   "source": [
    "da$hcluster<-as.factor(hc2)\n",
    "#da$kcluster<-as.factor(kc2$cluster)"
   ]
  },
  {
   "cell_type": "code",
   "execution_count": null,
   "id": "c755ffb6",
   "metadata": {
    "collapsed": true,
    "vscode": {
     "languageId": "r"
    }
   },
   "outputs": [],
   "source": [
    "options(repr.plot.width=5,repr.plot.height=5)\n",
    "ggplot(da@meta.data,aes(x=module33,y=module11,col=Gfap))+\n",
    "    scale_color_gradientn(colours = c(#\"#cfe0e8\",\n",
    "    \n",
    "                                                     # '#b8a9c9', \n",
    "    '#d6d4e0',\n",
    "    \"#f0f0f0\",\n",
    "    '#fff2df',\n",
    "    \"#eeac99\",#\"#ED797B\",\n",
    "                     \"#c83349\"))+\n",
    "    geom_point()+\n",
    "    theme_classic()#+\n",
    "    #geom_vline(xintercept = 0)+\n",
    "    #geom_hline(yintercept = 0)"
   ]
  },
  {
   "cell_type": "code",
   "execution_count": null,
   "id": "4c67dba2",
   "metadata": {
    "collapsed": true,
    "vscode": {
     "languageId": "r"
    }
   },
   "outputs": [],
   "source": [
    "options(repr.plot.width=5,repr.plot.height=5)\n",
    "ggplot(da@meta.data,aes(x=module33,y=module11,col=Slc7a10))+\n",
    "    scale_color_gradientn(colours = c(#\"#cfe0e8\",\n",
    "    \n",
    "                                                     # '#b8a9c9', \n",
    "    '#d6d4e0',\n",
    "    \"#f0f0f0\",\n",
    "    '#fff2df',\n",
    "    \"#eeac99\",#\"#ED797B\",\n",
    "                     \"#c83349\"))+\n",
    "    geom_point()+\n",
    "    theme_classic()#+\n",
    "    #geom_vline(xintercept = 0)+\n",
    "    #geom_hline(yintercept = 0)"
   ]
  },
  {
   "cell_type": "code",
   "execution_count": null,
   "id": "e7b848ac",
   "metadata": {
    "collapsed": true,
    "vscode": {
     "languageId": "r"
    }
   },
   "outputs": [],
   "source": [
    "Idents(da)<-da$hcluster\n",
    "options(repr.plot.width=5,repr.plot.height=5)\n",
    "VlnPlot(da,features = c(\"Gfap\",\"Slc7a10\"),cols = c('#911eb4',\"#ff7b25\"),slot = \"data\",pt.size = 0)\n",
    "ggsave(\"sc.Astrocyte_Gfap.hclust2.bySpatialM13Score.Gfap_Slc7a10.data.Vlnplot.png\",width = 5,height = 5,dpi = 300)"
   ]
  },
  {
   "cell_type": "code",
   "execution_count": 4,
   "id": "4f3baf7b",
   "metadata": {
    "vscode": {
     "languageId": "r"
    }
   },
   "outputs": [],
   "source": [
    "test1<-da#subset(da,subset = facs%in%c(\"dp\",\"g\",\"s\"))\n",
    "Idents(test1)<-test1$hcluster"
   ]
  },
  {
   "cell_type": "code",
   "execution_count": null,
   "id": "230ee243",
   "metadata": {
    "vscode": {
     "languageId": "r"
    }
   },
   "outputs": [],
   "source": [
    "mark<-FindAllMarkers(test1,logfc.threshold = 0.5,only.pos = T,return.thresh = 0.01)"
   ]
  },
  {
   "cell_type": "code",
   "execution_count": null,
   "id": "b008369d",
   "metadata": {
    "collapsed": true,
    "vscode": {
     "languageId": "r"
    }
   },
   "outputs": [],
   "source": [
    "table(mark$cluster)\n",
    "table(mark$pct.1>0.5&mark$avg_log2FC>1)\n",
    "mark_s<-mark[mark$pct.1>0.5&mark$avg_log2FC>1,]\n",
    "table(mark_s$cluster)"
   ]
  },
  {
   "cell_type": "code",
   "execution_count": 226,
   "id": "a5c64c21",
   "metadata": {
    "vscode": {
     "languageId": "r"
    }
   },
   "outputs": [],
   "source": [
    "write.csv(mark_s,\"gfap.317marker.k4.m13.hclust2.fc1.pct05.pad001.pos.markers.csv\")"
   ]
  },
  {
   "cell_type": "code",
   "execution_count": null,
   "id": "dbffd48b",
   "metadata": {
    "collapsed": true,
    "vscode": {
     "languageId": "r"
    }
   },
   "outputs": [],
   "source": [
    "mark\n",
    "write.csv(mark,\"gfap.317marker.k4.m13.hclust2.fc05.pad001.pos.markers.csv\")"
   ]
  },
  {
   "cell_type": "code",
   "execution_count": null,
   "id": "8b4e9c80",
   "metadata": {
    "vscode": {
     "languageId": "r"
    }
   },
   "outputs": [],
   "source": [
    "genes<-mark[,#mark$cluster==2,\n",
    "            \"gene\"]\n",
    "length(genes)"
   ]
  },
  {
   "cell_type": "code",
   "execution_count": null,
   "id": "cf0b8bef",
   "metadata": {
    "collapsed": true,
    "vscode": {
     "languageId": "r"
    }
   },
   "outputs": [],
   "source": [
    "options(repr.plot.width=8,repr.plot.height=10)\n",
    "mark %>% #subset(mark$gene %in% genes) %>% group_by(cluster)-> top10\n",
    "    group_by(cluster) %>%\n",
    "    top_n(n = 40, wt = avg_log2FC) ->top10\n",
    "\n",
    "DoHeatmap(test1, features = top10$gene) +\n",
    "    scale_fill_gradientn(colours = c('#4575B4','#91BFDB','#E0F3F8','white','#FC8D59','#D73027'))#+ NoLegend()\n",
    "#ggsave(\"top25.2gfap_clustersmakrer.heatmap.png\",width = 5,height = 8,dpi = 300)"
   ]
  },
  {
   "cell_type": "code",
   "execution_count": null,
   "id": "e7afc223",
   "metadata": {
    "vscode": {
     "languageId": "r"
    }
   },
   "outputs": [],
   "source": [
    "all_m<-unique(genes)\n",
    "length(all_m)#c(m1,m2,m3)"
   ]
  },
  {
   "cell_type": "code",
   "execution_count": null,
   "id": "3881c167",
   "metadata": {
    "collapsed": true,
    "vscode": {
     "languageId": "r"
    }
   },
   "outputs": [],
   "source": [
    "#g1<-spatial_marker[spatial_marker$group==\"WM_Gfap\",\"gene\"]#c3#c1\n",
    "#g2<-spatial_marker[spatial_marker$group==\"MG_Slc7a10\",\"gene\"]#c4#c4\n",
    "p_genes<-intersect(c(c1,c3),all_m)\n",
    "p_genes"
   ]
  },
  {
   "cell_type": "code",
   "execution_count": null,
   "id": "717de992",
   "metadata": {
    "vscode": {
     "languageId": "r"
    }
   },
   "outputs": [],
   "source": [
    "bulk_exp<-test1@assays$SCT@scale.data[all_m,]\n",
    "#bulk_exp<-t(scale(t(bulk_exp)))\n",
    "dim(bulk_exp)"
   ]
  },
  {
   "cell_type": "code",
   "execution_count": null,
   "id": "4cdc85c2",
   "metadata": {
    "collapsed": true,
    "vscode": {
     "languageId": "r"
    }
   },
   "outputs": [],
   "source": [
    "head(bulk_exp)\n",
    "df<-as.data.frame(t(bulk_exp))\n",
    "df$cluster<-as.character(test1$hcluster)\n",
    "df_mean<-aggregate(df[,colnames(df)!=\"cluster\"],list(df$cluster),mean)\n",
    "head(df_mean)"
   ]
  },
  {
   "cell_type": "code",
   "execution_count": null,
   "id": "1f39fbd7",
   "metadata": {
    "collapsed": true,
    "vscode": {
     "languageId": "r"
    }
   },
   "outputs": [],
   "source": [
    "rownames(df_mean)<-df_mean[,1]\n",
    "df_mean<-df_mean[,-1]\n",
    "head(df_mean)\n",
    "row_col<-data.frame(row.names = colnames(df_mean))\n",
    "row_col$color<-\"grey\"\n",
    "row_col[p_genes,\"color\"]<-\"#ff7b25\"#\"#911eb4\"\n",
    "#row_col[intersect(g2,rownames(row_col)),\"color\"]<-\"#e6beff\"\n",
    "table(row_col$color)"
   ]
  },
  {
   "cell_type": "code",
   "execution_count": null,
   "id": "ed2ca60c",
   "metadata": {
    "collapsed": true,
    "vscode": {
     "languageId": "r"
    }
   },
   "outputs": [],
   "source": [
    "temp<-as.matrix(t(df_mean))\n",
    "options(repr.plot.width=5,repr.plot.height=10)\n",
    "p<-pheatmap::pheatmap(temp,show_rownames = T,cluster_cols = T,scale = \"none\",\n",
    "                      clustering_distance_rows = \"euclidean\",\n",
    "                      clustering_method = \"average\",#labels_row = lab_row,\n",
    "                   cellwidth = 20,\n",
    "                   cellheight = 1,\n",
    "                   fontsize = 8,\n",
    "                   #na_col = NULL,\n",
    "                   border_color = NA\n",
    "                   #,scale = \"none\",col = viridis_pal()(50)\n",
    "       )\n",
    "cols<-row_col[order(match(rownames(temp),p$gtable$grobs[[5]]$label)),]\n",
    "p$gtable$grobs[[5]]$gp=gpar(col=cols)\n",
    "add.flag(p,kept.labels = p_genes,repel.degree = 1)"
   ]
  },
  {
   "cell_type": "code",
   "execution_count": null,
   "id": "4239689f",
   "metadata": {
    "vscode": {
     "languageId": "r"
    }
   },
   "outputs": [],
   "source": [
    "pdf(\"gfap.m13.hclust2.cluster.fc05.pad001.marker.bulk.pheatmap.pdf\",width = 5,height = 10)\n",
    "add.flag(p,kept.labels = p_genes,repel.degree = 1)\n",
    "dev.off()\n",
    "#save_pheatmap_pdf(p2,\"b_strategy.hclust.3.cluster.marker.bulk.pheatmap.pdf\")"
   ]
  },
  {
   "cell_type": "code",
   "execution_count": 2841,
   "id": "2dcb3913",
   "metadata": {
    "vscode": {
     "languageId": "r"
    }
   },
   "outputs": [],
   "source": [
    "saveRDS(test1,\"gfap.317_bi_m13.hclust2.cluster.rds\")"
   ]
  },
  {
   "cell_type": "code",
   "execution_count": 218,
   "id": "36aeb920",
   "metadata": {
    "vscode": {
     "languageId": "r"
    }
   },
   "outputs": [],
   "source": [
    "test1<-readRDS(\"gfap.317_bi_m13.hclust2.cluster.rds\")"
   ]
  },
  {
   "cell_type": "code",
   "execution_count": 9,
   "id": "ace9a0e8",
   "metadata": {
    "vscode": {
     "languageId": "r"
    }
   },
   "outputs": [],
   "source": [
    "write.csv(test1@meta.data,\"gfap.317_bi_m13.hclust2.cluster.metadata.csv\")"
   ]
  },
  {
   "cell_type": "markdown",
   "id": "6adf92f1",
   "metadata": {},
   "source": [
    "### look at all astrocyte state -220617"
   ]
  },
  {
   "cell_type": "code",
   "execution_count": null,
   "id": "87fef704",
   "metadata": {
    "vscode": {
     "languageId": "r"
    }
   },
   "outputs": [],
   "source": [
    "da<-readRDS(\"/result/Seurat/sc_Astrocyte_recluster/lee/L2.Astrocyte.nC2500.rmMt_Rp.SCTregICMR.doscale.pc16.res035.k40_gfaphclust.all.rds\")\n",
    "da"
   ]
  },
  {
   "cell_type": "code",
   "execution_count": null,
   "id": "f16d6a9d",
   "metadata": {
    "vscode": {
     "languageId": "r"
    }
   },
   "outputs": [],
   "source": [
    "Idents(da)<-da$SCT_snn_res.0.35\n",
    "da$Gfap<-da@assays$SCT@data[\"Gfap\",]\n",
    "da$Slc7a10<-da@assays$SCT@data[\"Slc7a10\",]\n",
    "da$scale_Gfap<-da@assays$SCT@scale.data[\"Gfap\",]\n",
    "da$scale_Slc7a10<-da@assays$SCT@scale.data[\"Slc7a10\",]\n",
    "da<-AddModuleScore(da,\n",
    "                     features = list(c1,c2,c3,c4#,c5,c6,c7,c8\n",
    "                                    ),\n",
    "                     name = c(\"module1\",\"module2\",\"module3\",\"module4\"#,\"module5\",\"module6\",\"module7\",\"module8\"\n",
    "                             ))\n",
    "da<-AddModuleScore(da,\n",
    "                     features = list(deg_dp\n",
    "                                    ),\n",
    "                     name = c(\"deg_dp\"#,\"module5\",\"module6\",\"module7\",\"module8\"\n",
    "                             ))\n",
    "\n",
    "options(repr.plot.width=10,repr.plot.height=4)\n",
    "VlnPlot(da,features = c(\"module11\",\"module22\",\"module33\",\"module44\"),ncol = 4)\n"
   ]
  },
  {
   "cell_type": "code",
   "execution_count": null,
   "id": "72e1e65c",
   "metadata": {
    "collapsed": true,
    "vscode": {
     "languageId": "r"
    }
   },
   "outputs": [],
   "source": [
    "da$m13_score<-sqrt((da$module11-min(da$module11))^2+(da$module33-min(da$module33))^2)\n",
    "options(repr.plot.width=6,repr.plot.height=5)\n",
    "ggplot(da@meta.data,aes(x=module33,y=module11,col=da$m13_score))+\n",
    "    scale_color_manual(values = c('#911eb4','#ff7b25'))+\n",
    "    geom_point()+\n",
    "    theme_classic()+\n",
    "    scale_color_gradientn(colours = c(#\"#cfe0e8\",\n",
    "    \n",
    "                                                     # '#b8a9c9', \n",
    "    '#d6d4e0',\n",
    "    \"#f0f0f0\",\n",
    "    '#fff2df',\n",
    "    \"#eeac99\",#\"#ED797B\",\n",
    "                     \"#c83349\"))"
   ]
  },
  {
   "cell_type": "markdown",
   "id": "0aee6507",
   "metadata": {},
   "source": [
    "### find DEG between gfap_wm, gfap_gm and Slc7a10 -220615"
   ]
  },
  {
   "cell_type": "code",
   "execution_count": 77,
   "id": "6bb3087d",
   "metadata": {
    "vscode": {
     "languageId": "r"
    }
   },
   "outputs": [],
   "source": [
    "da1<-da"
   ]
  },
  {
   "cell_type": "code",
   "execution_count": null,
   "id": "4399554f",
   "metadata": {
    "collapsed": true,
    "vscode": {
     "languageId": "r"
    }
   },
   "outputs": [],
   "source": [
    "da1$state<-\"GM_Slc7a10\"\n",
    "da1$state[da1$gfap_hclust==1]<-\"WM_Gfap\"\n",
    "da1$state[da1$gfap_hclust==2]<-\"GM_Gfap\"\n",
    "table(da1$state)"
   ]
  },
  {
   "cell_type": "markdown",
   "id": "6d53b6db",
   "metadata": {},
   "source": [
    "#### extract normalized data to do scenic analysis"
   ]
  },
  {
   "cell_type": "code",
   "execution_count": null,
   "id": "865a5234",
   "metadata": {
    "vscode": {
     "languageId": "r"
    }
   },
   "outputs": [],
   "source": [
    "meta<-da1@meta.data\n",
    "write.csv(meta,\"L2.Astrocyte.nC2500.rmMt_Rp.SCTregICMR.doscale.pc16.res035.k40_gfaphclust.all.metadata.csv\")\n",
    "norm_ma<-da1@assays$SCT@data\n",
    "dim(norm_ma)\n",
    "saveRDS(norm_ma,\"L2.Astrocyte.nC2500.rmMt_Rp.SCTregICMR.doscale.pc16.res035.k40.SCT.normalized.data.rds\")"
   ]
  },
  {
   "cell_type": "code",
   "execution_count": 452,
   "id": "ab592c26",
   "metadata": {
    "vscode": {
     "languageId": "r"
    }
   },
   "outputs": [],
   "source": [
    "write.csv(norm_ma,\"L2.Astrocyte.nC2500.rmMt_Rp.SCTregICMR.doscale.pc16.res035.k40.SCT.normalized.data.csv\")"
   ]
  },
  {
   "cell_type": "code",
   "execution_count": 11,
   "id": "2514adb8",
   "metadata": {
    "vscode": {
     "languageId": "r"
    }
   },
   "outputs": [],
   "source": [
    "saveRDS(da1,\"L2.Astrocyte.nC2500.rmMt_Rp.SCTregICMR.doscale.pc16.res035.k40_gfaphclust.all.rds\")"
   ]
  },
  {
   "cell_type": "markdown",
   "id": "ff3f54ff",
   "metadata": {},
   "source": [
    "----------------------------------------------------------------"
   ]
  },
  {
   "cell_type": "code",
   "execution_count": null,
   "id": "e4cf109d",
   "metadata": {
    "vscode": {
     "languageId": "r"
    }
   },
   "outputs": [],
   "source": [
    "da1<-readRDS(\"L2.Astrocyte.nC2500.rmMt_Rp.SCTregICMR.doscale.pc16.res035.k40_gfaphclust.all.rds\")\n",
    "da1"
   ]
  },
  {
   "cell_type": "code",
   "execution_count": 16,
   "id": "8f5c4ea8",
   "metadata": {
    "vscode": {
     "languageId": "r"
    }
   },
   "outputs": [],
   "source": [
    "da1$state<-factor(da1$state,levels = c(\"WM_Gfap\",\"GM_Slc7a10\",\"GM_Gfap\"))"
   ]
  },
  {
   "cell_type": "code",
   "execution_count": 17,
   "id": "7e974864",
   "metadata": {
    "vscode": {
     "languageId": "r"
    }
   },
   "outputs": [],
   "source": [
    "Idents(da1)<-da1$state"
   ]
  },
  {
   "cell_type": "code",
   "execution_count": null,
   "id": "4de7e929",
   "metadata": {
    "collapsed": true,
    "vscode": {
     "languageId": "r"
    }
   },
   "outputs": [],
   "source": [
    "#all deg among 3 states\n",
    "deg<-FindAllMarkers(da1,logfc.threshold = 0.25,only.pos = TRUE)\n",
    "deg<-subset(deg,p_val_adj<0.01)\n",
    "dim(deg)\n",
    "table(deg$cluster)"
   ]
  },
  {
   "cell_type": "code",
   "execution_count": null,
   "id": "5d5d3286",
   "metadata": {
    "vscode": {
     "languageId": "r"
    }
   },
   "outputs": [],
   "source": [
    "pdf(\"3state.Pla2g7_Slc7a10_Gfap_Igfbp2.Vlnplot.220820.pdf\",width = 10,height = 4)\n",
    "options(repr.plot.width=10,repr.plot.height=4)\n",
    "VlnPlot(da1,features = c(\"Pla2g7\",\"Slc7a10\",\"Gfap\",\"Igfbp2\"),ncol = 4,\n",
    "        cols = c('#911eb4',\"#ff7b25\",\"#e6beff\"),\n",
    "        #slot = \"scale.data\",\n",
    "        pt.size = 0)#+\n",
    "    #geom_boxplot(width=0.15,fill=\"white\",outlier.colour = NA)\n",
    "dev.off()"
   ]
  },
  {
   "cell_type": "code",
   "execution_count": null,
   "id": "8e0c3ae5",
   "metadata": {
    "collapsed": true,
    "vscode": {
     "languageId": "r"
    }
   },
   "outputs": [],
   "source": [
    "#GM_Gfap vs. WM_Gfap\n",
    "deg1<-FindMarkers(da1,logfc.threshold = 0.5,ident.1=\"GM_Gfap\",ident.2=\"WM_Gfap\")\n",
    "deg1<-subset(deg1,p_val_adj<0.01)\n",
    "dim(deg1)\n",
    "table(deg1$avg_log2FC>0)"
   ]
  },
  {
   "cell_type": "code",
   "execution_count": 14,
   "id": "df3ec102",
   "metadata": {
    "vscode": {
     "languageId": "r"
    }
   },
   "outputs": [],
   "source": [
    "deg1$gene<-rownames(deg1)"
   ]
  },
  {
   "cell_type": "code",
   "execution_count": null,
   "id": "62f24102",
   "metadata": {
    "collapsed": true,
    "vscode": {
     "languageId": "r"
    }
   },
   "outputs": [],
   "source": [
    "deg1$group<-ifelse(deg1$avg_log2FC>0,\"GM_Gfap\",\"WM_Gfap\")\n",
    "deg1$group<-factor(deg1$group,levels = c(\"GM_Gfap\",\"WM_Gfap\"))\n",
    "deg1<-deg1[order(deg1$group),]\n",
    "deg1<-deg1[order(deg1$avg_log2FC,decreasing = TRUE),]\n",
    "head(deg1)"
   ]
  },
  {
   "cell_type": "code",
   "execution_count": 359,
   "id": "af69fa0f",
   "metadata": {
    "vscode": {
     "languageId": "r"
    }
   },
   "outputs": [],
   "source": [
    "write.csv(deg1,\"GM_Gfap.vs.WM_Gfap.fc05.pad001.DEG.csv\")"
   ]
  },
  {
   "cell_type": "code",
   "execution_count": null,
   "id": "e44dc04e",
   "metadata": {
    "collapsed": true,
    "vscode": {
     "languageId": "r"
    }
   },
   "outputs": [],
   "source": [
    "#go term\n",
    "backid<-bitr(rownames(da1@assays$SCT@counts),fromType = \"SYMBOL\",toType = \"ENTREZID\",OrgDb = \"org.Mm.eg.db\")\n",
    "dim(backid)\n",
    "backgenes<-backid[,2]\n",
    "head(backgenes)\n",
    "write.table(backgenes,\"L2.Astrocyte.nC2500.rmMt_Rp.SCTregICMR.doscale.background.gene.ENTREZID.txt\")"
   ]
  },
  {
   "cell_type": "code",
   "execution_count": null,
   "id": "ec977a56",
   "metadata": {
    "collapsed": true,
    "vscode": {
     "languageId": "r"
    }
   },
   "outputs": [],
   "source": [
    "backgenes<-read.table(\"L2.Astrocyte.nC2500.rmMt_Rp.SCTregICMR.doscale.background.gene.ENTREZID.txt\")\n",
    "head(backgenes)\n",
    "backgenes<-as.character(backgenes$x)\n",
    "head(backgenes)\n",
    "length(backgenes)"
   ]
  },
  {
   "cell_type": "code",
   "execution_count": null,
   "id": "44dd5ce4",
   "metadata": {
    "collapsed": true,
    "vscode": {
     "languageId": "r"
    }
   },
   "outputs": [],
   "source": [
    "library(org.Mm.eg.db)\n",
    "library(ggplot2)\n",
    "#grlabs<-split(gene.nodle.df$gene,gene.nodle.df$module)\n",
    "grlabs<-split(deg1$gene,deg1$group)\n",
    "gcSample = lapply(grlabs, function(gr) as.numeric(bitr(gr, fromType = \"SYMBOL\", toType = \"ENTREZID\", OrgDb = \"org.Mm.eg.db\")$ENTREZID))\n",
    "pvalueCutoff = 0.01\n",
    "qvalueCutoff = 0.01\n",
    "xx.mus.go <- compareCluster(gcSample, OrgDb='org.Mm.eg.db', fun='enrichGO', \n",
    "                            pvalueCutoff = pvalueCutoff, qvalueCutoff = qvalueCutoff, ont = \"BP\", \n",
    "                            readable=T,universe=backgenes,maxGSSize=500\n",
    "                           )\n",
    "#EnrichResGO_mm = xx.mus.go@compareClusterResult\n",
    "#options(repr.plot.width=23,repr.plot.height=22)\n",
    "#                  dotplot(xx.mus.go, title = paste0(\"Mouse Gene Ontology (qval < \", qvalueCutoff, \")\"))\n",
    "#saveRDS(xx.mus.go,\"pc20.k50.res02.cluster_fc025.pct025.pos.markergene_pqv001.max100.go_220524.rds\")"
   ]
  },
  {
   "cell_type": "code",
   "execution_count": 495,
   "id": "421832ba",
   "metadata": {
    "vscode": {
     "languageId": "r"
    }
   },
   "outputs": [],
   "source": [
    "saveRDS(xx.mus.go,\"GM_Gfap.vs.WM_Gfap.fc05.pad001.DEG.pqval001.max500.go.rds\")"
   ]
  },
  {
   "cell_type": "code",
   "execution_count": 485,
   "id": "28bca8f7",
   "metadata": {
    "vscode": {
     "languageId": "r"
    }
   },
   "outputs": [],
   "source": [
    "xx.mus.go<-readRDS(\"GM_Gfap.vs.WM_Gfap.fc05.pad001.DEG.pqval001.max\")"
   ]
  },
  {
   "cell_type": "code",
   "execution_count": null,
   "id": "6a7c73c4",
   "metadata": {
    "collapsed": true,
    "vscode": {
     "languageId": "r"
    }
   },
   "outputs": [],
   "source": [
    "df<-xx.mus.go@compareClusterResult\n",
    "head(df)\n",
    "dim(df)\n",
    "unique(df$Cluster)\n",
    "library(dplyr)"
   ]
  },
  {
   "cell_type": "code",
   "execution_count": 464,
   "id": "a71fce75",
   "metadata": {
    "vscode": {
     "languageId": "r"
    }
   },
   "outputs": [],
   "source": [
    "df1 = df %>% group_by(.,Cluster) %>% filter(.,Count>=5) %>% top_n(.,-20,p.adjust) \n",
    "df1$Description = factor(df1$Description,levels = rev(unique(df1$Description)))                \n",
    "                  "
   ]
  },
  {
   "cell_type": "code",
   "execution_count": null,
   "id": "9f3c7b7d",
   "metadata": {
    "collapsed": true,
    "vscode": {
     "languageId": "r"
    }
   },
   "outputs": [],
   "source": [
    "options(repr.plot.width=7, repr.plot.height=8)\n",
    "library(ggplot2)\n",
    "p=ggplot(df1,aes(Cluster,Description))+geom_point(aes(size=Count,color=p.adjust))+        \n",
    "    scale_color_gradientn(colors=brewer.pal(9,\"Spectral\"),guide = guide_colorbar(reverse = T))+\n",
    "    theme_bw()+\n",
    "    theme(axis.title = element_blank(),axis.text.y.left = element_text(size=13),\n",
    "          axis.text.x.bottom = element_text(size = 13,angle = 45,hjust = 1,vjust = 1))\n",
    "p\n",
    "#ggsave(\"GM_Gfap.vs.WM_Gfap.fc05.pad001.DEG.pqval001.max150.go.C5.pad_top10.point.png\",width = 7,height = 5.5,dpi = 300)\n"
   ]
  },
  {
   "cell_type": "code",
   "execution_count": null,
   "id": "e211b869",
   "metadata": {
    "vscode": {
     "languageId": "r"
    }
   },
   "outputs": [],
   "source": [
    "#GM_Gfap vs. GM_Slc7a10\n",
    "deg2<-FindMarkers(da1,logfc.threshold = 0.5,ident.1=\"GM_Gfap\",ident.2=\"GM_Slc7a10\")\n",
    "deg2<-subset(deg2,p_val_adj<0.01)\n",
    "dim(deg2)\n",
    "table(deg2$avg_log2FC>0)"
   ]
  },
  {
   "cell_type": "code",
   "execution_count": 325,
   "id": "936cb59d",
   "metadata": {
    "vscode": {
     "languageId": "r"
    }
   },
   "outputs": [],
   "source": [
    "deg2$gene<-rownames(deg2)"
   ]
  },
  {
   "cell_type": "code",
   "execution_count": null,
   "id": "68f5b91f",
   "metadata": {
    "collapsed": true,
    "vscode": {
     "languageId": "r"
    }
   },
   "outputs": [],
   "source": [
    "deg2$group<-ifelse(deg2$avg_log2FC>0,\"GM_Gfap\",\"GM_Slc7a10\")\n",
    "deg2$group<-factor(deg2$group,levels = c(\"GM_Gfap\",\"GM_Slc7a10\"))\n",
    "deg2<-deg2[order(deg2$group),]\n",
    "deg2<-deg2[order(deg2$avg_log2FC,decreasing = TRUE),]\n",
    "head(deg2)"
   ]
  },
  {
   "cell_type": "code",
   "execution_count": 360,
   "id": "f8efa8dd",
   "metadata": {
    "vscode": {
     "languageId": "r"
    }
   },
   "outputs": [],
   "source": [
    "write.csv(deg2,\"GM_Gfap.vs.GM_Slc7a10.fc05.pad001.DEG.csv\")"
   ]
  },
  {
   "cell_type": "code",
   "execution_count": null,
   "id": "b8a8bb0d",
   "metadata": {
    "collapsed": true,
    "vscode": {
     "languageId": "r"
    }
   },
   "outputs": [],
   "source": [
    "deg2<-read.csv(\"GM_Gfap.vs.GM_Slc7a10.fc05.pad001.DEG.csv\")\n",
    "rownames(deg2)<-deg2[,1]\n",
    "deg2<-deg2[,-1]\n",
    "head(deg2)"
   ]
  },
  {
   "cell_type": "code",
   "execution_count": null,
   "id": "2ef2d1aa",
   "metadata": {
    "collapsed": true,
    "vscode": {
     "languageId": "r"
    }
   },
   "outputs": [],
   "source": [
    "library(org.Mm.eg.db)\n",
    "library(ggplot2)\n",
    "#grlabs<-split(gene.nodle.df$gene,gene.nodle.df$module)\n",
    "grlabs<-split(deg2$gene,deg2$group)\n",
    "gcSample = lapply(grlabs, function(gr) as.numeric(bitr(gr, fromType = \"SYMBOL\", toType = \"ENTREZID\", OrgDb = \"org.Mm.eg.db\")$ENTREZID))\n",
    "pvalueCutoff = 0.01\n",
    "qvalueCutoff = 0.01\n",
    "xx.mus.go2 <- compareCluster(gcSample, OrgDb='org.Mm.eg.db', fun='enrichGO', \n",
    "                            pvalueCutoff = pvalueCutoff, qvalueCutoff = qvalueCutoff, ont = \"BP\", \n",
    "                            readable=T,universe=backgenes,maxGSSize=150\n",
    "                           )\n",
    "#EnrichResGO_mm = xx.mus.go@compareClusterResult\n",
    "#options(repr.plot.width=23,repr.plot.height=22)\n",
    "#                  dotplot(xx.mus.go, title = paste0(\"Mouse Gene Ontology (qval < \", qvalueCutoff, \")\"))\n",
    "#saveRDS(xx.mus.go,\"pc20.k50.res02.cluster_fc025.pct025.pos.markergene_pqv001.max100.go_220524.rds\")"
   ]
  },
  {
   "cell_type": "code",
   "execution_count": 333,
   "id": "8a03cb58",
   "metadata": {
    "vscode": {
     "languageId": "r"
    }
   },
   "outputs": [],
   "source": [
    "saveRDS(xx.mus.go2,\"GM_Gfap.vs.GM_Slc7a10.fc05.pad001.DEG.pqval001.max150.go.rds\")"
   ]
  },
  {
   "cell_type": "code",
   "execution_count": null,
   "id": "cd267b9b",
   "metadata": {
    "collapsed": true,
    "vscode": {
     "languageId": "r"
    }
   },
   "outputs": [],
   "source": [
    "df<-xx.mus.go2@compareClusterResult\n",
    "head(df)\n",
    "dim(df)\n",
    "unique(df$Cluster)\n",
    "library(dplyr)"
   ]
  },
  {
   "cell_type": "code",
   "execution_count": 17,
   "id": "adeb89a1",
   "metadata": {
    "vscode": {
     "languageId": "r"
    }
   },
   "outputs": [],
   "source": [
    "deg1_p<-rownames(deg1)[deg1$avg_log2FC>0]\n",
    "deg1_n<-rownames(deg1)[deg1$avg_log2FC<0]\n",
    "\n",
    "deg2_p<-rownames(deg2)[deg2$avg_log2FC>0]\n",
    "deg2_n<-rownames(deg2)[deg2$avg_log2FC<0]"
   ]
  },
  {
   "cell_type": "code",
   "execution_count": null,
   "id": "12eedf0e",
   "metadata": {
    "collapsed": true,
    "vscode": {
     "languageId": "r"
    }
   },
   "outputs": [],
   "source": [
    "deg_dp<-intersect(deg1_p,deg2_p)\n",
    "deg_dp\n",
    "write.table(deg_dp,\"hclust.GM_Gfap.specific.marker.fc05.pad001.txt\")"
   ]
  },
  {
   "cell_type": "code",
   "execution_count": null,
   "id": "f510e4ee",
   "metadata": {
    "vscode": {
     "languageId": "r"
    }
   },
   "outputs": [],
   "source": [
    "deg_dp<-read.table(\"hclust.GM_Gfap.specific.marker.fc05.pad001.txt\")\n",
    "deg_dp<-deg_dp$x\n",
    "head(deg_dp)\n",
    "length(deg_dp)"
   ]
  },
  {
   "cell_type": "code",
   "execution_count": null,
   "id": "a1cb7fb2",
   "metadata": {
    "collapsed": true,
    "vscode": {
     "languageId": "r"
    }
   },
   "outputs": [],
   "source": [
    "### WM_GFap vs. GM_Slc7a10\n",
    "deg3<-FindMarkers(da1,logfc.threshold = 0.5,ident.1=\"WM_Gfap\",ident.2=\"GM_Slc7a10\")\n",
    "deg3<-subset(deg3,p_val_adj<0.01)\n",
    "dim(deg3)\n",
    "table(deg3$avg_log2FC>0)"
   ]
  },
  {
   "cell_type": "code",
   "execution_count": 22,
   "id": "a7d23776",
   "metadata": {
    "vscode": {
     "languageId": "r"
    }
   },
   "outputs": [],
   "source": [
    "deg3$gene<-rownames(deg3)"
   ]
  },
  {
   "cell_type": "code",
   "execution_count": null,
   "id": "d01d2332",
   "metadata": {
    "collapsed": true,
    "vscode": {
     "languageId": "r"
    }
   },
   "outputs": [],
   "source": [
    "deg3$group<-ifelse(deg3$avg_log2FC>0,\"WM_Gfap\",\"GM_Slc7a10\")\n",
    "deg3$group<-factor(deg3$group,levels = c(\"WM_Gfap\",\"GM_Slc7a10\"))\n",
    "deg3<-deg3[order(deg3$group),]\n",
    "deg3<-deg3[order(deg3$avg_log2FC,decreasing = TRUE),]\n",
    "head(deg3)"
   ]
  },
  {
   "cell_type": "code",
   "execution_count": 24,
   "id": "47eb82c1",
   "metadata": {
    "vscode": {
     "languageId": "r"
    }
   },
   "outputs": [],
   "source": [
    "deg3_p<-rownames(deg3)[deg3$avg_log2FC>0]\n",
    "deg3_n<-rownames(deg3)[deg3$avg_log2FC<0]"
   ]
  },
  {
   "cell_type": "code",
   "execution_count": null,
   "id": "7138da2c",
   "metadata": {
    "collapsed": true,
    "vscode": {
     "languageId": "r"
    }
   },
   "outputs": [],
   "source": [
    "sf_gene<-read_excel(\"/result/Seurat/sc_Astrocyte_recluster/lee/S2_File.xlsx\",sheet = \"Table B\")\n",
    "head(sf_gene)"
   ]
  },
  {
   "cell_type": "code",
   "execution_count": null,
   "id": "80492a78",
   "metadata": {
    "collapsed": true,
    "vscode": {
     "languageId": "r"
    }
   },
   "outputs": [],
   "source": [
    "dim(sf_gene)\n",
    "table(sf_gene$organism)\n",
    "table(sf_gene$`UniProt cell surface`)\n",
    "range(sf_gene$`protein probability`)\n",
    "table(sf_gene$`protein probability`>0.95)"
   ]
  },
  {
   "cell_type": "code",
   "execution_count": null,
   "id": "fdae0018",
   "metadata": {
    "vscode": {
     "languageId": "r"
    }
   },
   "outputs": [],
   "source": [
    "# dp state surface markers\n",
    "cand_sg<-intersect(deg_dp,sf_gene$`ENTREZ gene symbol`)\n",
    "cand_sg"
   ]
  },
  {
   "cell_type": "code",
   "execution_count": null,
   "id": "2881a411",
   "metadata": {
    "vscode": {
     "languageId": "r"
    }
   },
   "outputs": [],
   "source": [
    "pdf(\"Astr_GMii.bothpositive.surface.genes.Vlnplot.220818.pdf\",width = 8,height = 8)\n",
    "options(repr.plot.width=8,repr.plot.height=8)\n",
    "VlnPlot(da1,features = cand_sg,ncol = 5,\n",
    "        cols = c('#911eb4',\"#ff7b25\",\"#e6beff\"),\n",
    "        #slot = \"scale.data\",\n",
    "        pt.size = 0)\n",
    "dev.off()"
   ]
  },
  {
   "cell_type": "code",
   "execution_count": null,
   "id": "7212d9ea",
   "metadata": {
    "collapsed": true,
    "vscode": {
     "languageId": "r"
    }
   },
   "outputs": [],
   "source": [
    "# WM_Gfap surface markers\n",
    "deg_wm<-intersect(deg1_n,deg3_p)\n",
    "deg_wm\n",
    "cand_sg2<-intersect(deg_wm,sf_gene$`ENTREZ gene symbol`)\n",
    "cand_sg2"
   ]
  },
  {
   "cell_type": "code",
   "execution_count": null,
   "id": "dcdc6bf6",
   "metadata": {
    "collapsed": true,
    "vscode": {
     "languageId": "r"
    }
   },
   "outputs": [],
   "source": [
    "options(repr.plot.width=8,repr.plot.height=6)\n",
    "VlnPlot(da1,features = cand_sg2,ncol = 5,\n",
    "        cols = c('#911eb4',\"#ff7b25\",\"#e6beff\"),\n",
    "        #slot = \"scale.data\",\n",
    "        pt.size = 0)"
   ]
  },
  {
   "cell_type": "code",
   "execution_count": null,
   "id": "b9dc3602",
   "metadata": {
    "collapsed": true,
    "vscode": {
     "languageId": "r"
    }
   },
   "outputs": [],
   "source": [
    "# GM_Slc7a10 surface markers\n",
    "deg_gm<-intersect(deg2_n,deg3_n)\n",
    "deg_gm\n",
    "cand_sg3<-intersect(deg_gm,sf_gene$`ENTREZ gene symbol`)\n",
    "cand_sg3"
   ]
  },
  {
   "cell_type": "code",
   "execution_count": null,
   "id": "7136c252",
   "metadata": {
    "collapsed": true,
    "vscode": {
     "languageId": "r"
    }
   },
   "outputs": [],
   "source": [
    "dp_wm_deg<-intersect(union(deg3_p,deg1_n),union(deg1_p,deg2_p))\n",
    "length(dp_wm_deg)\n",
    "dp_gm_deg<-intersect(union(deg3_n,deg2_n),union(deg1_p,deg2_p))\n",
    "length(dp_gm_deg)\n",
    "wm_gm_deg<-intersect(union(deg3_p,deg1_n),union(deg3_n,deg2_n))\n",
    "length(wm_gm_deg)"
   ]
  },
  {
   "cell_type": "code",
   "execution_count": null,
   "id": "c61dfbf4",
   "metadata": {
    "collapsed": true,
    "vscode": {
     "languageId": "r"
    }
   },
   "outputs": [],
   "source": [
    "alldeg<-rbind(deg1,deg2,deg3)\n",
    "alldeg$group<-as.character(alldeg$group)\n",
    "head(alldeg)\n",
    "alldeg[alldeg$gene %in% union(deg1_p,deg2_p),\"group\"]<-\"GM_Gfap.specific\"\n",
    "alldeg[alldeg$gene %in% union(deg3_p,deg1_n),\"group\"]<-\"WM_Gfap.specific\"\n",
    "alldeg[alldeg$gene %in% union(deg3_n,deg2_n),\"group\"]<-\"GM_Slc7a10.specific\"\n",
    "alldeg[alldeg$gene %in% dp_wm_deg,\"group\"]<-\"GM_Gfap.WM_Gfap\"\n",
    "alldeg[alldeg$gene %in% dp_gm_deg,\"group\"]<-\"GM_Gfap.GM_Slc7a10\"\n",
    "table(alldeg$group)"
   ]
  },
  {
   "cell_type": "code",
   "execution_count": null,
   "id": "98c30069",
   "metadata": {
    "collapsed": true,
    "vscode": {
     "languageId": "r"
    }
   },
   "outputs": [],
   "source": [
    "alldeg<-alldeg[!duplicated(alldeg$gene),]\n",
    "table(alldeg$group)"
   ]
  },
  {
   "cell_type": "code",
   "execution_count": 173,
   "id": "6e27dcc2",
   "metadata": {
    "vscode": {
     "languageId": "r"
    }
   },
   "outputs": [],
   "source": [
    "alldeg$group<-factor(alldeg$group,levels = c(\"WM_Gfap.specific\",\"GM_Gfap.WM_Gfap\",\n",
    "                                             \"GM_Slc7a10.specific\",\n",
    "                                             \"GM_Gfap.GM_Slc7a10\",\"GM_Gfap.specific\"))\n"
   ]
  },
  {
   "cell_type": "code",
   "execution_count": null,
   "id": "299bdc8a",
   "metadata": {
    "collapsed": true,
    "vscode": {
     "languageId": "r"
    }
   },
   "outputs": [],
   "source": [
    "alldeg<-alldeg[order(alldeg$group,decreasing = FALSE),]\n",
    "head(alldeg)"
   ]
  },
  {
   "cell_type": "code",
   "execution_count": 175,
   "id": "a6045b91",
   "metadata": {
    "vscode": {
     "languageId": "r"
    }
   },
   "outputs": [],
   "source": [
    "write.csv(alldeg,\"3state.alldeg.5groups.csv\")"
   ]
  },
  {
   "cell_type": "code",
   "execution_count": null,
   "id": "45ff7803",
   "metadata": {
    "collapsed": true,
    "vscode": {
     "languageId": "r"
    }
   },
   "outputs": [],
   "source": [
    "alldeg<-read.csv(\"3state.alldeg.5groups.csv\")\n",
    "head(alldeg)"
   ]
  },
  {
   "cell_type": "markdown",
   "id": "52d916a1",
   "metadata": {},
   "source": [
    "#### Astr-GMi and Astr-WM feature score in spatial -220729"
   ]
  },
  {
   "cell_type": "code",
   "execution_count": 3,
   "id": "0c82f7b0",
   "metadata": {
    "vscode": {
     "languageId": "r"
    }
   },
   "outputs": [],
   "source": [
    "da<-readRDS(\"/result/Seurat/reg.CC/WT_replace_v2/res02_220310/WT.merge.replace_v2.SCT.regress_CC.nC.mt.ident.pc20.k50.res02.rds\")"
   ]
  },
  {
   "cell_type": "code",
   "execution_count": null,
   "id": "7d4c7479",
   "metadata": {
    "collapsed": true,
    "vscode": {
     "languageId": "r"
    }
   },
   "outputs": [],
   "source": [
    "for(i in unique(deg$cluster)){\n",
    "    da<-AddModuleScore(da,features = list(deg[deg$cluster==i,\"gene\"]),name = i)\n",
    "}"
   ]
  },
  {
   "cell_type": "code",
   "execution_count": null,
   "id": "46709d0a",
   "metadata": {
    "vscode": {
     "languageId": "r"
    }
   },
   "outputs": [],
   "source": [
    "names<-colnames(da@meta.data)[50:ncol(da@meta.data)]\n",
    "names"
   ]
  },
  {
   "cell_type": "code",
   "execution_count": 31,
   "id": "0e1e8ad1",
   "metadata": {
    "vscode": {
     "languageId": "r"
    }
   },
   "outputs": [],
   "source": [
    "for(i in names){\n",
    "    options(repr.plot.width=20,repr.plot.height=16)\n",
    "    ggplot(da@meta.data,aes(x.ad,y.ad))+geom_point(size=1.6,shape=21,stroke=0.15,aes_string(fill= i))+\n",
    "        #scale_fill_gradientn(colours = colorRampPalette(rev(brewer.pal(n = 7,name = \"Spectral\")))(50))+\n",
    "        scale_fill_gradientn(colours = c('#034f84','#92a8d1',#'#b8a9c9', \n",
    "        \n",
    "            '#d6d4e0',#\"#deeaee\",\n",
    "        #\"#f0f0f0\",\n",
    "        #'#fff2df',\n",
    "           \n",
    "            #\"#eeac99\",\n",
    "            '#f4a688',\n",
    "            \"#ED797B\",                             \n",
    "            #\"#f7786b\",                             \n",
    "            \n",
    "            \"#d64161\",\n",
    "            \"#c94c4c\"#,\n",
    "            #\"#c83349\"\n",
    "                                        ))+\n",
    "        xlab(paste0(\"\")) +\n",
    "        ylab(paste0(\"\")) + \n",
    "        theme(panel.background = element_blank(),\n",
    "              panel.grid.major =element_blank(), \n",
    "              panel.grid.minor = element_blank(),\n",
    "              axis.text.x = element_blank(),#element_text(size = 15,colour = \"black\"),\n",
    "              axis.text.y = element_blank()#element_text(size = 20,colour = \"black\")\n",
    "              # axis.ticks.x = element_blank(),\n",
    "        )\n",
    "    ggsave(paste0(\"WT.merge.regress_CC.nC.mt.ident_FindAllMarker.fc025.pos.\",i,\".spatial_manually_220804.png\"),width=20,height=16,dpi=400)\n",
    "}"
   ]
  },
  {
   "cell_type": "markdown",
   "id": "c9b6e408",
   "metadata": {},
   "source": [
    "##### astrocyte 317 marker module 1,3 score -221009"
   ]
  },
  {
   "cell_type": "code",
   "execution_count": 8,
   "id": "bf30ad45",
   "metadata": {
    "vscode": {
     "languageId": "r"
    }
   },
   "outputs": [],
   "source": [
    "da<-AddModuleScore(da,features = list(c1),name = \"astr_marker_module1_score\")\n",
    "da<-AddModuleScore(da,features = list(c3),name = \"astr_marker_module3_score\")"
   ]
  },
  {
   "cell_type": "code",
   "execution_count": 6,
   "id": "e3892f20",
   "metadata": {
    "vscode": {
     "languageId": "r"
    }
   },
   "outputs": [],
   "source": [
    "da<-AddModuleScore(da,features = list(c(c1,c3)),name = \"astr_marker_module13_score\")"
   ]
  },
  {
   "cell_type": "code",
   "execution_count": 12,
   "id": "aa2ca9b7",
   "metadata": {
    "vscode": {
     "languageId": "r"
    }
   },
   "outputs": [],
   "source": [
    "da$Gfap<-da@assays$SCT@data[\"Gfap\",]\n",
    "da$Pla2g7<-da@assays$SCT@data[\"Pla2g7\",]\n",
    "da$Slc7a10<-da@assays$SCT@data[\"Slc7a10\",]\n",
    "da$Igfbp2<-da@assays$SCT@data[\"Igfbp2\",]"
   ]
  },
  {
   "cell_type": "code",
   "execution_count": null,
   "id": "77029fce",
   "metadata": {
    "collapsed": true,
    "vscode": {
     "languageId": "r"
    }
   },
   "outputs": [],
   "source": [
    "options(repr.plot.width=20,repr.plot.height=16)\n",
    "    ggplot(da@meta.data,aes(x.ad,y.ad))+geom_point(size=1.6,shape=21,stroke=0.15,aes_string(fill= \"astr_marker_module1_score1\"))+\n",
    "        #scale_fill_gradientn(colours = colorRampPalette(rev(brewer.pal(n = 7,name = \"Spectral\")))(50))+\n",
    "        scale_fill_gradientn(colours = c('#034f84','#92a8d1',#'#b8a9c9', \n",
    "        \n",
    "            '#d6d4e0',#\"#deeaee\",\n",
    "        #\"#f0f0f0\",\n",
    "        #'#fff2df',\n",
    "           \n",
    "            #\"#eeac99\",\n",
    "            '#f4a688',\n",
    "            \"#ED797B\",                             \n",
    "            #\"#f7786b\",                             \n",
    "            \n",
    "            \"#d64161\",\n",
    "            \"#c94c4c\"#,\n",
    "            #\"#c83349\"\n",
    "                                        ))+\n",
    "        xlab(paste0(\"\")) +\n",
    "        ylab(paste0(\"\")) + \n",
    "        theme(panel.background = element_blank(),\n",
    "              panel.grid.major =element_blank(), \n",
    "              panel.grid.minor = element_blank(),\n",
    "              axis.text.x = element_blank(),#element_text(size = 15,colour = \"black\"),\n",
    "              axis.text.y = element_blank()#element_text(size = 20,colour = \"black\")\n",
    "              # axis.ticks.x = element_blank(),\n",
    "        )\n",
    "    #ggsave(paste0(\"WT.merge.regress_CC.nC.mt.ident_FindAllMarker.fc025.pos.\",i,\".spatial_manually_220804.png\"),width=20,height=16,dpi=400)"
   ]
  },
  {
   "cell_type": "code",
   "execution_count": null,
   "id": "996c5a03",
   "metadata": {
    "collapsed": true,
    "vscode": {
     "languageId": "r"
    }
   },
   "outputs": [],
   "source": [
    "options(repr.plot.width=20,repr.plot.height=16)\n",
    "    ggplot(da@meta.data,aes(x.ad,y.ad))+geom_point(size=1.6,shape=21,stroke=0.15,aes_string(fill= \"astr_marker_module3_score1\"))+\n",
    "        #scale_fill_gradientn(colours = colorRampPalette(rev(brewer.pal(n = 7,name = \"Spectral\")))(50))+\n",
    "        scale_fill_gradientn(colours = c('#034f84','#92a8d1',#'#b8a9c9', \n",
    "        \n",
    "            '#d6d4e0',#\"#deeaee\",\n",
    "        #\"#f0f0f0\",\n",
    "        #'#fff2df',\n",
    "           \n",
    "            #\"#eeac99\",\n",
    "            '#f4a688',\n",
    "            \"#ED797B\",                             \n",
    "            #\"#f7786b\",                             \n",
    "            \n",
    "            \"#d64161\",\n",
    "            \"#c94c4c\"#,\n",
    "            #\"#c83349\"\n",
    "                                        ))+\n",
    "        xlab(paste0(\"\")) +\n",
    "        ylab(paste0(\"\")) + \n",
    "        theme(panel.background = element_blank(),\n",
    "              panel.grid.major =element_blank(), \n",
    "              panel.grid.minor = element_blank(),\n",
    "              axis.text.x = element_blank(),#element_text(size = 15,colour = \"black\"),\n",
    "              axis.text.y = element_blank()#element_text(size = 20,colour = \"black\")\n",
    "              # axis.ticks.x = element_blank(),\n",
    "        )\n",
    "    #ggsave(paste0(\"WT.merge.regress_CC.nC.mt.ident_FindAllMarker.fc025.pos.\",i,\".spatial_manually_220804.png\"),width=20,height=16,dpi=400)"
   ]
  },
  {
   "cell_type": "code",
   "execution_count": null,
   "id": "1bb645ab",
   "metadata": {
    "collapsed": true,
    "vscode": {
     "languageId": "r"
    }
   },
   "outputs": [],
   "source": [
    "options(repr.plot.width=20,repr.plot.height=16)\n",
    "    ggplot(da@meta.data,aes(x.ad,y.ad))+geom_point(size=1.6,shape=21,stroke=0.15,aes_string(fill= \"astr_marker_module13_score1\"))+\n",
    "        #scale_fill_gradientn(colours = colorRampPalette(rev(brewer.pal(n = 7,name = \"Spectral\")))(50))+\n",
    "        scale_fill_gradientn(colours = c('#034f84','#92a8d1',#'#b8a9c9', \n",
    "        \n",
    "            '#d6d4e0',#\"#deeaee\",\n",
    "        #\"#f0f0f0\",\n",
    "        #'#fff2df',\n",
    "           \n",
    "            #\"#eeac99\",\n",
    "            '#f4a688',\n",
    "            \"#ED797B\",                             \n",
    "            #\"#f7786b\",                             \n",
    "            \n",
    "            \"#d64161\",\n",
    "            \"#c94c4c\"#,\n",
    "            #\"#c83349\"\n",
    "                                        ))+\n",
    "        xlab(paste0(\"\")) +\n",
    "        ylab(paste0(\"\")) + \n",
    "        theme(panel.background = element_blank(),\n",
    "              panel.grid.major =element_blank(), \n",
    "              panel.grid.minor = element_blank(),\n",
    "              axis.text.x = element_blank(),#element_text(size = 15,colour = \"black\"),\n",
    "              axis.text.y = element_blank()#element_text(size = 20,colour = \"black\")\n",
    "              # axis.ticks.x = element_blank(),\n",
    "        )\n",
    "    ggsave(\"WT.SA14_score.spatial_manually_221008.png\",width=20,height=16,dpi=400)\n"
   ]
  },
  {
   "cell_type": "code",
   "execution_count": 176,
   "id": "516849af",
   "metadata": {
    "scrolled": true,
    "vscode": {
     "languageId": "r"
    }
   },
   "outputs": [
    {
     "data": {
      "text/html": [
       "<strong>png:</strong> 2"
      ],
      "text/latex": [
       "\\textbf{png:} 2"
      ],
      "text/markdown": [
       "**png:** 2"
      ],
      "text/plain": [
       "png \n",
       "  2 "
      ]
     },
     "metadata": {},
     "output_type": "display_data"
    }
   ],
   "source": [
    "pdf(\"WT.4domain.spatial_manually_221011.pdf\",width=20,height=16)\n",
    "options(repr.plot.width=20,repr.plot.height=16)\n",
    "    ggplot(da@meta.data,aes(x.ad,y.ad))+geom_point(size=1.6,shape=21,stroke=0.15,aes_string(fill= \"domain_res02\"))+\n",
    "        #scale_fill_gradientn(colours = colorRampPalette(rev(brewer.pal(n = 7,name = \"Spectral\")))(50))+\n",
    "        scale_fill_manual(values = c('#BC3C29A8','#0072B5A8','#E18727A8','#20854EA8'))+\n",
    "        xlab(paste0(\"\")) +\n",
    "        ylab(paste0(\"\")) + \n",
    "        theme(panel.background = element_blank(),\n",
    "              panel.grid.major =element_blank(), \n",
    "              panel.grid.minor = element_blank(),\n",
    "              axis.text.x = element_blank(),#element_text(size = 15,colour = \"black\"),\n",
    "              axis.text.y = element_blank()#element_text(size = 20,colour = \"black\")\n",
    "              # axis.ticks.x = element_blank(),\n",
    "        )\n",
    "#ggsave(\"WT.4domain.spatial_manually_221011.png\",width=20,height=16,dpi=400)\n",
    "dev.off()"
   ]
  },
  {
   "cell_type": "code",
   "execution_count": null,
   "id": "810e2388",
   "metadata": {
    "vscode": {
     "languageId": "r"
    }
   },
   "outputs": [],
   "source": [
    "da$domain_2<-ifelse(da$domain_res02==\"WM\",\"WM\",\"GM\")\n",
    "unique(da$domain_2)"
   ]
  },
  {
   "cell_type": "code",
   "execution_count": null,
   "id": "47e2e6f5",
   "metadata": {
    "vscode": {
     "languageId": "r"
    }
   },
   "outputs": [],
   "source": [
    "pdf(\"WT.2domain.spatial_manually_221011.pdf\",width=20,height=16)\n",
    "options(repr.plot.width=20,repr.plot.height=16)\n",
    "    ggplot(da@meta.data,aes(x.ad,y.ad))+geom_point(size=1.6,shape=21,stroke=0.05,aes_string(fill= \"domain_2\"))+\n",
    "        #scale_fill_gradientn(colours = colorRampPalette(rev(brewer.pal(n = 7,name = \"Spectral\")))(50))+\n",
    "        scale_fill_manual(values = c(#'#BC3C29A8',\n",
    "            '#ada397',\n",
    "            #'#E18727A8',\n",
    "            #'#36486b',\n",
    "                                     '#deeaee'\n",
    "                                    ))+\n",
    "        xlab(paste0(\"\")) +\n",
    "        ylab(paste0(\"\")) + \n",
    "        theme(panel.background = element_blank(),\n",
    "              panel.grid.major =element_blank(), \n",
    "              panel.grid.minor = element_blank(),\n",
    "              axis.text.x = element_blank(),#element_text(size = 15,colour = \"black\"),\n",
    "              axis.text.y = element_blank()#element_text(size = 20,colour = \"black\")\n",
    "              # axis.ticks.x = element_blank(),\n",
    "        )\n",
    "dev.off()"
   ]
  },
  {
   "cell_type": "markdown",
   "id": "c65b7c41",
   "metadata": {},
   "source": [
    "#### neuron loss, SA_score, injury_score -221010"
   ]
  },
  {
   "cell_type": "code",
   "execution_count": 8,
   "id": "e4b50088",
   "metadata": {
    "vscode": {
     "languageId": "r"
    }
   },
   "outputs": [],
   "source": [
    "injury_genes<-c('Adamts1','Atf3','Ccl2','Ccnd1','Cd68','Cebpd','Cyba',\n",
    "                'Fn1','Gal','Gap43','Hmox1','Hspb1','Igfbp2','Jun','Junb',\n",
    "                'Fos','Lgals1','Neat1','Socs3','Tnc','S100a10','Timp1')\n",
    "da<-AddModuleScore(da,features = list(injury_genes),name = \"injury_score\")"
   ]
  },
  {
   "cell_type": "code",
   "execution_count": 13,
   "id": "cc79c0a2",
   "metadata": {
    "vscode": {
     "languageId": "r"
    }
   },
   "outputs": [],
   "source": [
    "me<-da@meta.data"
   ]
  },
  {
   "cell_type": "code",
   "execution_count": null,
   "id": "e4db8851",
   "metadata": {
    "vscode": {
     "languageId": "r"
    }
   },
   "outputs": [],
   "source": [
    "neuron<-read.csv(\"/result/RCTD/testC5/WT_all/fcreg1_220503/fcreg1_220724/15celltypes.dec_conf_nor.meta.csv\")\n",
    "rownames(neuron)<-neuron[,1]\n",
    "neuron<-neuron[,-1]\n",
    "head(neuron)"
   ]
  },
  {
   "cell_type": "code",
   "execution_count": null,
   "id": "3ca7c789",
   "metadata": {
    "vscode": {
     "languageId": "r"
    }
   },
   "outputs": [],
   "source": [
    "meta<-cbind(me[,c('orig.ident','distance',\"time\",\"RC\",\"pos\",\"domain_res02\",\"x.ad\",\"y.ad\",\"injury_score1\",\n",
    "                  \"astr_marker_module13_score1\",\"Gfap\",\"Slc7a10\",\"Pla2g7\",\"Igfbp2\")],neuron[,\"Neuron\"])\n",
    "head(meta)"
   ]
  },
  {
   "cell_type": "code",
   "execution_count": null,
   "id": "55d40a11",
   "metadata": {
    "vscode": {
     "languageId": "r"
    }
   },
   "outputs": [],
   "source": [
    "colnames(meta)[ncol(meta)]<-\"Neuron\"\n",
    "head(meta)"
   ]
  },
  {
   "cell_type": "code",
   "execution_count": 16,
   "id": "7c198987",
   "metadata": {
    "vscode": {
     "languageId": "r"
    }
   },
   "outputs": [],
   "source": [
    "write.csv(meta,\"Neuronloss_SAscore_Injuryscore.meta.csv\")"
   ]
  },
  {
   "cell_type": "code",
   "execution_count": null,
   "id": "1063eb7c",
   "metadata": {
    "vscode": {
     "languageId": "r"
    }
   },
   "outputs": [],
   "source": [
    "meta<-read.csv(\"Neuronloss_SAscore_Injuryscore.meta.csv\")\n",
    "meta$pos<-factor(meta$pos,levels = unique(meta$pos))\n",
    "rownames(meta)<-meta[,1]\n",
    "meta<-meta[,-1]\n",
    "head(meta)"
   ]
  },
  {
   "cell_type": "code",
   "execution_count": 4,
   "id": "64c7eabf",
   "metadata": {
    "vscode": {
     "languageId": "r"
    }
   },
   "outputs": [],
   "source": [
    "#subset 24hpi and 72hpi\n",
    "meta_sub<-meta[meta$time %in% c('WT_24h','WT_72h'),]"
   ]
  },
  {
   "cell_type": "code",
   "execution_count": null,
   "id": "645c57f6",
   "metadata": {
    "vscode": {
     "languageId": "r"
    }
   },
   "outputs": [],
   "source": [
    "#meta_sub<-meta_sub[order(meta_sub$Neuron,decreasing = TRUE),]\n",
    "meta_sub<-meta_sub[order(meta_sub$pos,decreasing = TRUE),]\n",
    "head(meta_sub)"
   ]
  },
  {
   "cell_type": "code",
   "execution_count": null,
   "id": "aa7e82aa",
   "metadata": {
    "vscode": {
     "languageId": "r"
    }
   },
   "outputs": [],
   "source": [
    "me3<-meta_sub[meta_sub$time==\"WT_72h\",]\n",
    "cor(me3[,c(\"injury_score1\",\"astr_marker_module13_score1\",'Gfap','Slc7a10','Igfbp2','Neuron')],method = \"spearman\")"
   ]
  },
  {
   "cell_type": "code",
   "execution_count": null,
   "id": "152d350b",
   "metadata": {
    "vscode": {
     "languageId": "r"
    }
   },
   "outputs": [],
   "source": [
    "me4<-me3[me3$domain_res02 %in% c(\"MG\",\"DH\",\"VH\"),]\n",
    "me4$dis2<-ifelse(me4$distance==\"1mm\",1,0.5)\n",
    "unique(me4$dis2)\n",
    "cor(me4[,c(\"injury_score1\",\"astr_marker_module13_score1\",'Gfap','Slc7a10','Igfbp2','Neuron')],method = \"spearman\")"
   ]
  },
  {
   "cell_type": "code",
   "execution_count": null,
   "id": "e0e921d0",
   "metadata": {
    "vscode": {
     "languageId": "r"
    }
   },
   "outputs": [],
   "source": [
    "cor.test(me4[,c(\"injury_score1\")],me4[,c('Neuron')],method = \"spearman\")"
   ]
  },
  {
   "cell_type": "code",
   "execution_count": null,
   "id": "3c29968b",
   "metadata": {
    "vscode": {
     "languageId": "r"
    }
   },
   "outputs": [],
   "source": [
    "cor.test(me4[,c(\"astr_marker_module13_score1\")],me4[,c('Neuron')],method = \"spearman\")"
   ]
  },
  {
   "cell_type": "code",
   "execution_count": null,
   "id": "7b384186",
   "metadata": {
    "vscode": {
     "languageId": "r"
    }
   },
   "outputs": [],
   "source": [
    "cor.test(me4[,c(\"dis2\")],me4[,c('Neuron')],method = \"spearman\")"
   ]
  },
  {
   "cell_type": "code",
   "execution_count": null,
   "id": "adf876ec",
   "metadata": {
    "vscode": {
     "languageId": "r"
    }
   },
   "outputs": [],
   "source": [
    "cor.test(me4[,c(\"astr_marker_module13_score1\")],me4[,c(\"injury_score1\")],method = \"spearman\")"
   ]
  },
  {
   "cell_type": "code",
   "execution_count": null,
   "id": "ad77402c",
   "metadata": {
    "vscode": {
     "languageId": "r"
    }
   },
   "outputs": [],
   "source": [
    "cor.test(me4[,c(\"dis2\")],me4[,c('injury_score1')],method = \"spearman\")"
   ]
  },
  {
   "cell_type": "code",
   "execution_count": 145,
   "id": "c61362a4",
   "metadata": {
    "vscode": {
     "languageId": "r"
    }
   },
   "outputs": [],
   "source": [
    "spc<-cor(me4[,c(\"injury_score1\",\"astr_marker_module13_score1\",'Neuron',\"dis2\")],method = \"spearman\")"
   ]
  },
  {
   "cell_type": "code",
   "execution_count": null,
   "id": "0e8de5f7",
   "metadata": {
    "vscode": {
     "languageId": "r"
    }
   },
   "outputs": [],
   "source": [
    "spc<-melt(spc)\n",
    "head(spc)"
   ]
  },
  {
   "cell_type": "code",
   "execution_count": 9,
   "id": "e4aac758",
   "metadata": {
    "vscode": {
     "languageId": "r"
    }
   },
   "outputs": [],
   "source": [
    "# z-score\n",
    "me4$injury_score1<-(me4$injury_score1-min(me4$injury_score1))/(max(me4$injury_score1)-min(me4$injury_score1))\n",
    "me4$astr_marker_module13_score1<-(me4$astr_marker_module13_score1-min(me4$astr_marker_module13_score1))/(max(me4$astr_marker_module13_score1)-min(me4$astr_marker_module13_score1))\n"
   ]
  },
  {
   "cell_type": "code",
   "execution_count": null,
   "id": "ea55ec7a",
   "metadata": {
    "vscode": {
     "languageId": "r"
    }
   },
   "outputs": [],
   "source": [
    "me4$spot<-seq(1,nrow(me4))\n",
    "head(me4)"
   ]
  },
  {
   "cell_type": "code",
   "execution_count": null,
   "id": "dd157167",
   "metadata": {
    "vscode": {
     "languageId": "r"
    }
   },
   "outputs": [],
   "source": [
    "temp<-melt(me4[,c(\"spot\",\"Neuron\",#\"injury_score1\",\n",
    "                  \"astr_marker_module13_score1\",\"pos\")],\n",
    "           id.vars = c(\"spot\",\"pos\"),variable.name = \"group\")\n",
    "head(temp)"
   ]
  },
  {
   "cell_type": "code",
   "execution_count": null,
   "id": "17f5c7fb",
   "metadata": {
    "vscode": {
     "languageId": "r"
    }
   },
   "outputs": [],
   "source": [
    "pdf(\"Neuronloss_SAscore.loessfitting.72h.GM.position_221024.pdf\",height = 5,width = 9)\n",
    "options(repr.plot.width=9,repr.plot.height=5)\n",
    "ggplot(temp, aes(x = spot, y = value,color=group)) +\n",
    "    geom_point(size=0.01) +\n",
    "    scale_color_manual(values = c('#034f84',\n",
    "                                  #'#5D3B83',\n",
    "                                  '#C580AA',\n",
    "                                  '#316B9B'#,'#E2E293'\n",
    "                                 ))+\n",
    "    stat_smooth(method = \"loess\",se=FALSE,size=2#,\n",
    "        #col = \"#C42126\",\n",
    "        #se = FALSE,\n",
    "        #size = 1\n",
    "               )+\n",
    "    theme_classic()\n",
    "dev.off()"
   ]
  },
  {
   "cell_type": "code",
   "execution_count": null,
   "id": "12554ecf",
   "metadata": {
    "vscode": {
     "languageId": "r"
    }
   },
   "outputs": [],
   "source": [
    "temp<-melt(me4[,c(\"spot\",\"Neuron\",\"injury_score1\",\"astr_marker_module13_score1\")],\n",
    "           id.vars = c(\"spot\"),variable.name = \"group\")\n",
    "head(temp)"
   ]
  },
  {
   "cell_type": "markdown",
   "id": "32cdc864",
   "metadata": {},
   "source": [
    "#### correlate to other studies"
   ]
  },
  {
   "cell_type": "code",
   "execution_count": null,
   "id": "f8291ab5",
   "metadata": {
    "collapsed": true,
    "vscode": {
     "languageId": "r"
    }
   },
   "outputs": [],
   "source": [
    "library(clusterProfiler)"
   ]
  },
  {
   "cell_type": "code",
   "execution_count": 204,
   "id": "6d990963",
   "metadata": {
    "vscode": {
     "languageId": "r"
    }
   },
   "outputs": [],
   "source": [
    "### proflammatory-factor\n",
    "infm<-c(\"Angpt2\",\"Tek\",\"Ccl2\",\"Ackr1\",\"Cd34\",\"Sell\",\"Cd44\",\"Sele\",\"Csf1\",\"Csf1r\",\"Glg1\",\"Selplg\",\n",
    "        \"Tnfsf10\",\"Tnfrsf10b\",\"Alox5ap\",\"Alox5\",\"C3\",\"C3ar1\",\"Ccl5\",\"Esam\",\"C3ar1\",\"Ccr1\",\n",
    "        \"Hebp1\",\"Lgals9\",\"Havcr2\")"
   ]
  },
  {
   "cell_type": "code",
   "execution_count": null,
   "id": "59bb7f2b",
   "metadata": {
    "collapsed": true,
    "vscode": {
     "languageId": "r"
    }
   },
   "outputs": [],
   "source": [
    "alldeg[alldeg$gene %in% infm,]\n",
    "infm_s<-infm[infm %in% alldeg$gene]\n",
    "infm_s"
   ]
  },
  {
   "cell_type": "code",
   "execution_count": 202,
   "id": "2126b9f2",
   "metadata": {
    "vscode": {
     "languageId": "r"
    }
   },
   "outputs": [],
   "source": [
    "### anti-infalmmatory genes\n",
    "anti_inf<-c(\"Sirpa\",\"Tyro3\",\"Cx3cl1\",\"Cx3cr1\",\"Il6\",\"Gas6\",\"Anxa1\",\"Pros1\",\"Pomc\",\n",
    "            \"Tgfb2\",\"Il6r\",\"Il6st\",\"Tyro3\",\"Mc1r\",\"Jag1\",\"Grn\",\"Cd47\",\n",
    "            \"Cd46\",\"Mc1r\",\"Axl\",\"Tgfbr1\",\"Tgfbr2\",\n",
    "            \"Itgax\",\"Itgb2\",\"Fpr1\",\"Tnfrsf1b\",\"Tnfrsf11b\")"
   ]
  },
  {
   "cell_type": "code",
   "execution_count": null,
   "id": "ec376257",
   "metadata": {
    "vscode": {
     "languageId": "r"
    }
   },
   "outputs": [],
   "source": [
    "anti_c<-alldeg[alldeg$gene %in% anti_inf,\"gene\"]\n",
    "anti_c"
   ]
  },
  {
   "cell_type": "code",
   "execution_count": 208,
   "id": "43df62b2",
   "metadata": {
    "vscode": {
     "languageId": "r"
    }
   },
   "outputs": [],
   "source": [
    "### trophic factors\n",
    "tr_f<-c(\"Bmp\",\"Bmpr1b\",\"Bmpr2\",\"Enho\",\"Gpr19\",\"Fgf1\",\"Fgfr3\",\"Fgf9\",\"Nectin1\",\"Psap\",\"Bmp4\",\n",
    "                         \"Gpr37l1\",\"Flt1\",\"Vegfa\",\"Nrp1\",\"Nrp2\",\"Fgf7\",\"Fgfr1\",\"Gdf11\",\"Tgfbr1\",\n",
    "                         \"Acvr2b\",\"Hgf\",\"Met\",\"Pdgfb\",\"Pdgfra\",\"Pdgfc\",\"Pdgfd\",\"Rspo3\",\"Lgr5\",\"Wnt2\",\"Pdgfrb\",\n",
    "                         \"Fzd4\",\"Wnt5a\",\"Fzd1\",\"Fzd5\")"
   ]
  },
  {
   "cell_type": "code",
   "execution_count": null,
   "id": "0ad1d99a",
   "metadata": {
    "collapsed": true,
    "vscode": {
     "languageId": "r"
    }
   },
   "outputs": [],
   "source": [
    "alldeg[alldeg$gene %in% tr_f,]\n",
    "tr_f_s<-tr_f[tr_f %in% alldeg$gene]\n",
    "tr_f_s"
   ]
  },
  {
   "cell_type": "code",
   "execution_count": null,
   "id": "1837dbbd",
   "metadata": {
    "vscode": {
     "languageId": "r"
    }
   },
   "outputs": [],
   "source": [
    "prot_c<-c(\"Csf1\",\"Pros1\",tr_f_s)\n",
    "prot_c"
   ]
  },
  {
   "cell_type": "code",
   "execution_count": null,
   "id": "a7d92394",
   "metadata": {
    "vscode": {
     "languageId": "r"
    }
   },
   "outputs": [],
   "source": [
    "cand_df<-alldeg[alldeg$gene %in% c(#pig,\n",
    "                                   anti_c,tr_f_s,infm_s),]\n",
    "cand_df$label<-\"\"\n",
    "#cand_df$label[cand_df$gene %in% pig]<-\"PIGs\"\n",
    "cand_df$label[cand_df$gene %in% anti_c]<-\"Anti-inflammatory\"\n",
    "cand_df$label[cand_df$gene %in% tr_f_s]<-\"Trophic.factor\"\n",
    "cand_df$label[cand_df$gene %in% infm_s]<-\"Pro-inflammatory\"\n",
    "table(cand_df$label)"
   ]
  },
  {
   "cell_type": "code",
   "execution_count": null,
   "id": "49d24d17",
   "metadata": {
    "vscode": {
     "languageId": "r"
    }
   },
   "outputs": [],
   "source": [
    "cand_df$protective<-ifelse(cand_df$gene %in% prot_c,\"y\",\"n\")\n",
    "table(cand_df$protective)"
   ]
  },
  {
   "cell_type": "code",
   "execution_count": null,
   "id": "13d08ab1",
   "metadata": {
    "vscode": {
     "languageId": "r"
    }
   },
   "outputs": [],
   "source": [
    "# add state bulk normalized expression\n",
    "bulk_exp<-as.matrix(da1@assays$SCT@data[cand_df$gene,])\n",
    "df<-as.data.frame(t(bulk_exp))\n",
    "df$state<-as.character(da1$state)\n",
    "df_mean<-aggregate(df[,colnames(df)!=\"state\"],list(df$state),mean)\n",
    "head(df_mean)"
   ]
  },
  {
   "cell_type": "code",
   "execution_count": null,
   "id": "551806f8",
   "metadata": {
    "collapsed": true,
    "vscode": {
     "languageId": "r"
    }
   },
   "outputs": [],
   "source": [
    "rownames(df_mean)<-df_mean[,1]\n",
    "df_mean<-scale(df_mean[,-1])\n",
    "head(df_mean)"
   ]
  },
  {
   "cell_type": "code",
   "execution_count": null,
   "id": "061620cb",
   "metadata": {
    "collapsed": true,
    "vscode": {
     "languageId": "r"
    }
   },
   "outputs": [],
   "source": [
    "table(cand_df$gene==colnames(df_mean))\n",
    "cand_df<-cbind(cand_df,t(df_mean))\n",
    "head(cand_df)"
   ]
  },
  {
   "cell_type": "code",
   "execution_count": null,
   "id": "ca39279e",
   "metadata": {
    "collapsed": true,
    "vscode": {
     "languageId": "r"
    }
   },
   "outputs": [],
   "source": [
    "df1<-cand_df[,c(\"gene\",\"group\",\"label\",\"protective\",\"GM_Gfap\",\"GM_Slc7a10\",\"WM_Gfap\")]\n",
    "df1_l<-melt(df1)\n",
    "head(df1_l)"
   ]
  },
  {
   "cell_type": "code",
   "execution_count": 220,
   "id": "06e04321",
   "metadata": {
    "vscode": {
     "languageId": "r"
    }
   },
   "outputs": [],
   "source": [
    "df1_l$label<-factor(df1_l$label,levels = c('Trophic.factor','Anti-inflammatory','Pro-inflammatory'#,'PIGs'\n",
    "                                          ))\n",
    "df1_l<-df1_l[order(df1_l$label),]"
   ]
  },
  {
   "cell_type": "code",
   "execution_count": 223,
   "id": "23478126",
   "metadata": {
    "vscode": {
     "languageId": "r"
    }
   },
   "outputs": [],
   "source": [
    "write.csv(df1_l,\"associate.gene_spatial.state.average.expression.df_220630.csv\")"
   ]
  },
  {
   "cell_type": "code",
   "execution_count": null,
   "id": "2a5ce8bf",
   "metadata": {
    "collapsed": true,
    "vscode": {
     "languageId": "r"
    }
   },
   "outputs": [],
   "source": [
    "df1_l<-read.csv(\"associate.gene_spatial.state.average.expression.df.csv\")\n",
    "head(df1_l)"
   ]
  },
  {
   "cell_type": "code",
   "execution_count": null,
   "id": "f6527fb0",
   "metadata": {
    "vscode": {
     "languageId": "r"
    }
   },
   "outputs": [],
   "source": [
    "temp<-df1_l[grep(\"GM_Gfap\",df1_l$group),]\n",
    "temp$gene<-factor(temp$gene,levels = rev(unique(temp$gene)))\n",
    "dim(temp)"
   ]
  },
  {
   "cell_type": "code",
   "execution_count": null,
   "id": "08ea9928",
   "metadata": {
    "collapsed": true,
    "vscode": {
     "languageId": "r"
    }
   },
   "outputs": [],
   "source": [
    "alldeg[alldeg$gene %in% c(\"Csf1\",\"Cx3cl1\",\"Cx3cr1\",\"Il6\",\n",
    "                          \"Gas6\",\"Anxa1\",\"Pros1\",\"Pomc\",\n",
    "                          \"Tgfbr2\",\"Tgfb2\",\"Tyro3\",\"Tnfrsf1b\",\n",
    "                         \"Mc1r\",\"Jag1\",\"Axl\",\"Vegfa\",\"Hgf\",\"Psap\",\n",
    "                         \"Fgf1\",\"Met\",\"Gdf11\",\"Wnt2\",\"Pdgfrb\",\"Nrp2\"),]"
   ]
  },
  {
   "cell_type": "code",
   "execution_count": null,
   "id": "0416c0d7",
   "metadata": {
    "collapsed": true,
    "vscode": {
     "languageId": "r"
    }
   },
   "outputs": [],
   "source": [
    "alldeg[alldeg$gene %in% c(\"Bmpr2\",\"Wnt5a\",\"Nrp1\",\"Cd47\",\"Sirpa\",\"Fpr1\",\"Il6r\",\"Ccl2\",\n",
    "                          \"C3\",\"Cd44\",\"Csf1r\",\"Ccl5\",\"Alox5\",\"Ccr1\",\"Tnfsf10\",\"Alox5ap\",\n",
    "                         \"Selplg\"),\n",
    "      ]"
   ]
  },
  {
   "cell_type": "code",
   "execution_count": null,
   "id": "e81b616a",
   "metadata": {
    "collapsed": true,
    "vscode": {
     "languageId": "r"
    }
   },
   "outputs": [],
   "source": [
    "options(repr.plot.width=8,repr.plot.height=13)\n",
    "VlnPlot(da1,features = cand_sg3,ncol = 5,\n",
    "        cols = c('#911eb4',\"#ff7b25\",\"#e6beff\"),\n",
    "        #slot = \"scale.data\",\n",
    "        pt.size = 0)"
   ]
  },
  {
   "cell_type": "code",
   "execution_count": null,
   "id": "96a9bf8c",
   "metadata": {
    "collapsed": true,
    "vscode": {
     "languageId": "r"
    }
   },
   "outputs": [],
   "source": [
    "deg<-rbind(deg1,deg2)\n",
    "dim(deg)\n",
    "head(deg)                "
   ]
  },
  {
   "cell_type": "code",
   "execution_count": null,
   "id": "634566ca",
   "metadata": {
    "collapsed": true,
    "vscode": {
     "languageId": "r"
    }
   },
   "outputs": [],
   "source": [
    "unique(deg$group)\n",
    "deg$group<-factor(deg$group,levels = c(\"GM_Gfap\",\"WM_Gfap\",\"GM_Slc7a10\"))\n",
    "deg<-deg[order(deg$group),]\n",
    "table(deg$group)"
   ]
  },
  {
   "cell_type": "code",
   "execution_count": 83,
   "id": "3c930e79",
   "metadata": {
    "vscode": {
     "languageId": "r"
    }
   },
   "outputs": [],
   "source": [
    "# deg_dp score\n",
    "da1<-AddModuleScore(da1,features = list(deg_dp),name = \"deg_dp_score\")"
   ]
  },
  {
   "cell_type": "markdown",
   "id": "1c975942",
   "metadata": {},
   "source": [
    "#### bulk heatmap of all deg across 3 spatial state"
   ]
  },
  {
   "cell_type": "code",
   "execution_count": null,
   "id": "9334152d",
   "metadata": {
    "vscode": {
     "languageId": "r"
    }
   },
   "outputs": [],
   "source": [
    "bulk_exp<-as.matrix(da1@assays$SCT@data[alldeg$gene,])\n",
    "#bulk_exp<-t(scale(t(bulk_exp)))\n",
    "dim(bulk_exp)"
   ]
  },
  {
   "cell_type": "code",
   "execution_count": null,
   "id": "562e085f",
   "metadata": {
    "collapsed": true,
    "vscode": {
     "languageId": "r"
    }
   },
   "outputs": [],
   "source": [
    "head(bulk_exp)\n",
    "df<-as.data.frame(t(bulk_exp))\n",
    "df$state<-as.character(da1$state)\n",
    "df_mean<-aggregate(df[,colnames(df)!=\"state\"],list(df$state),mean)\n",
    "head(df_mean)"
   ]
  },
  {
   "cell_type": "code",
   "execution_count": null,
   "id": "75aebf68",
   "metadata": {
    "collapsed": true,
    "vscode": {
     "languageId": "r"
    }
   },
   "outputs": [],
   "source": [
    "rownames(df_mean)<-df_mean[,1]\n",
    "df_mean<-df_mean[,-1]\n",
    "df_mean<-df_mean[c(3,2,1),]\n",
    "head(df_mean)\n",
    "#row_col<-data.frame(row.names = colnames(df_mean))\n",
    "#row_col$color<-\"grey\"\n",
    "#row_col[p_genes,\"color\"]<-\"#ff7b25\"#\"#911eb4\"\n",
    "##row_col[intersect(g2,rownames(row_col)),\"color\"]<-\"#e6beff\"\n",
    "#table(row_col$color)"
   ]
  },
  {
   "cell_type": "code",
   "execution_count": 16,
   "id": "9c17aa5f",
   "metadata": {
    "vscode": {
     "languageId": "r"
    }
   },
   "outputs": [],
   "source": [
    "write.csv(df_mean,\"3states.5groups.deg.bulk.data.csv\")"
   ]
  },
  {
   "cell_type": "code",
   "execution_count": null,
   "id": "44b34ef9",
   "metadata": {
    "collapsed": true,
    "vscode": {
     "languageId": "r"
    }
   },
   "outputs": [],
   "source": [
    "df_mean<-read.csv(\"3states.5groups.deg.bulk.data.csv\")\n",
    "rownames(df_mean)<-df_mean[,1]\n",
    "df_mean<-df_mean[,-1]\n",
    "head(df_mean)"
   ]
  },
  {
   "cell_type": "code",
   "execution_count": null,
   "id": "8270fe99",
   "metadata": {
    "collapsed": true,
    "vscode": {
     "languageId": "r"
    }
   },
   "outputs": [],
   "source": [
    "col_ha<-as.data.frame(alldeg$group)\n",
    "colnames(col_ha)<-\"group\"\n",
    "rownames(col_ha)<-alldeg$gene\n",
    "#rownames(col_ha)<-spatial_marker$gene\n",
    "#col_ha$group<-ifelse(col_ha$group==\"WM_Gfap\",\"#911eb4\",\"#e6beff\")\n",
    "table(col_ha$group)\n",
    "head(col_ha)\n",
    "dim(col_ha)"
   ]
  },
  {
   "cell_type": "code",
   "execution_count": null,
   "id": "b3609250",
   "metadata": {
    "collapsed": true,
    "vscode": {
     "languageId": "r"
    }
   },
   "outputs": [],
   "source": [
    "## go term\n",
    "library(org.Mm.eg.db)\n",
    "library(ggplot2)\n",
    "#grlabs<-split(gene.nodle.df$gene,gene.nodle.df$module)\n",
    "grlabs<-split(alldeg$gene,alldeg$group)\n",
    "gcSample = lapply(grlabs, function(gr) as.numeric(bitr(gr, fromType = \"SYMBOL\", toType = \"ENTREZID\", OrgDb = \"org.Mm.eg.db\")$ENTREZID))\n",
    "pvalueCutoff = 0.05\n",
    "qvalueCutoff = 0.05\n",
    "xx.mus.go <- compareCluster(gcSample, OrgDb='org.Mm.eg.db', fun='enrichGO', \n",
    "                            pvalueCutoff = pvalueCutoff, qvalueCutoff = qvalueCutoff, ont = \"BP\", \n",
    "                            readable=T,universe=backgenes,maxGSSize=1000\n",
    "                           )\n",
    "#EnrichResGO_mm = xx.mus.go@compareClusterResult\n",
    "#options(repr.plot.width=23,repr.plot.height=22)\n",
    "#                  dotplot(xx.mus.go, title = paste0(\"Mouse Gene Ontology (qval < \", qvalueCutoff, \")\"))\n",
    "#saveRDS(xx.mus.go,\"pc20.k50.res02.cluster_fc025.pct025.pos.markergene_pqv001.max100.go_220524.rds\")\n"
   ]
  },
  {
   "cell_type": "code",
   "execution_count": 20,
   "id": "8cdc6975",
   "metadata": {
    "vscode": {
     "languageId": "r"
    }
   },
   "outputs": [],
   "source": [
    "saveRDS(xx.mus.go,\"3state.fc05.pad005.alldeg.5group.pqval001.max1000.go.rds\")"
   ]
  },
  {
   "cell_type": "code",
   "execution_count": 340,
   "id": "f2bf20df",
   "metadata": {
    "vscode": {
     "languageId": "r"
    }
   },
   "outputs": [],
   "source": [
    "xx.mus.go<-readRDS(\"3state.fc05.pad001.alldeg.5group.pqval001.max150.go.rds\")"
   ]
  },
  {
   "cell_type": "code",
   "execution_count": null,
   "id": "166f73bb",
   "metadata": {
    "collapsed": true,
    "vscode": {
     "languageId": "r"
    }
   },
   "outputs": [],
   "source": [
    "df<-xx.mus.go@compareClusterResult\n",
    "head(df)\n",
    "dim(df)\n",
    "unique(df$Cluster)\n",
    "library(dplyr)"
   ]
  },
  {
   "cell_type": "code",
   "execution_count": 30,
   "id": "c28653ee",
   "metadata": {
    "vscode": {
     "languageId": "r"
    }
   },
   "outputs": [],
   "source": [
    "df1 = df %>% group_by(.,Cluster) %>% filter(.,Count>=5) %>% top_n(.,-20,p.adjust)  \n",
    "df1$Description = factor(df1$Description,levels = rev(unique(df1$Description)))                 \n",
    "                  "
   ]
  },
  {
   "cell_type": "code",
   "execution_count": null,
   "id": "07a190e4",
   "metadata": {
    "collapsed": true,
    "vscode": {
     "languageId": "r"
    }
   },
   "outputs": [],
   "source": [
    "options(repr.plot.width=10, repr.plot.height=18)\n",
    "library(ggplot2)\n",
    "p=ggplot(df1,aes(Cluster,Description))+geom_point(aes(size=Count,color=p.adjust))+        \n",
    "    scale_color_gradientn(colors=brewer.pal(9,\"Spectral\"),guide = guide_colorbar(reverse = T))+\n",
    "    theme_bw()+\n",
    "    theme(axis.title = element_blank(),axis.text.y.left = element_text(size=13),\n",
    "          axis.text.x.bottom = element_text(size = 13,angle = 45,hjust = 1,vjust = 1))\n",
    "p\n",
    "ggsave(\"3state.fc05.pad001.alldeg.5group.pqval005.max1000.go.C5.pad_top20.point.png\",width = 10,height = 18,dpi = 300)\n"
   ]
  },
  {
   "cell_type": "markdown",
   "id": "614c98d8",
   "metadata": {},
   "source": [
    "#### add associated gene into bulk DEG pheatmap"
   ]
  },
  {
   "cell_type": "code",
   "execution_count": 228,
   "id": "118158c4",
   "metadata": {
    "vscode": {
     "languageId": "r"
    }
   },
   "outputs": [],
   "source": [
    "temp<-as.matrix(t(df_mean))"
   ]
  },
  {
   "cell_type": "code",
   "execution_count": null,
   "id": "12e01204",
   "metadata": {
    "collapsed": true,
    "vscode": {
     "languageId": "r"
    }
   },
   "outputs": [],
   "source": [
    "col_ha<-as.data.frame(alldeg$group)\n",
    "colnames(col_ha)<-\"group\"\n",
    "rownames(col_ha)<-alldeg$gene\n",
    "#rownames(col_ha)<-spatial_marker$gene\n",
    "#col_ha$group<-ifelse(col_ha$group==\"WM_Gfap\",\"#911eb4\",\"#e6beff\")\n",
    "table(col_ha$group)\n",
    "head(col_ha)\n",
    "dim(col_ha)"
   ]
  },
  {
   "cell_type": "code",
   "execution_count": null,
   "id": "916b2e72",
   "metadata": {
    "vscode": {
     "languageId": "r"
    }
   },
   "outputs": [],
   "source": [
    "row_col<-data.frame(row.names = colnames(df_mean))\n",
    "row_col$color<-\"grey\"\n",
    "row_col[unique(df1_l$gene),\"color\"]<-\"#ff7b25\"#\"#911eb4\"\n",
    "#row_col[intersect(g2,rownames(row_col)),\"color\"]<-\"#e6beff\"\n",
    "table(row_col$color)"
   ]
  },
  {
   "cell_type": "code",
   "execution_count": 231,
   "id": "af83246a",
   "metadata": {
    "vscode": {
     "languageId": "r"
    }
   },
   "outputs": [],
   "source": [
    "group<-c('#ff7b25','#eea29a','#911eb4','#d5f4e6','#e6beff')\n",
    "names(group)<-c(\"GM_Gfap.specific\",\"GM_Gfap.WM_Gfap\",\"WM_Gfap.specific\",\"GM_Gfap.GM_Slc7a10\",\"GM_Slc7a10.specific\")\n",
    "#time\n",
    "#state\n",
    "#group\n",
    "#unique(da1$time)\n",
    "#unique(da1$state)\n",
    "an_col<-list(group=group)"
   ]
  },
  {
   "cell_type": "code",
   "execution_count": null,
   "id": "93223f82",
   "metadata": {
    "collapsed": true,
    "vscode": {
     "languageId": "r"
    }
   },
   "outputs": [],
   "source": [
    "options(repr.plot.width=6,repr.plot.height=12)\n",
    "p<-pheatmap::pheatmap(temp,show_rownames = T,show_colnames = T,\n",
    "                      annotation_colors = an_col,\n",
    "                       annotation_row = col_ha,\n",
    "                      cluster_cols = F,\n",
    "                      cluster_rows = F,scale = \"row\",\n",
    "                      clustering_distance_rows = \"euclidean\",\n",
    "                      clustering_method = \"average\",#labels_row = lab_row,\n",
    "                   cellwidth = 20,\n",
    "                   cellheight = 0.5,\n",
    "                   fontsize = 8,\n",
    "                   #na_col = NULL,\n",
    "                   border_color = NA\n",
    "                   #,scale = \"none\",col = viridis_pal()(50)\n",
    "       )\n",
    "cols<-row_col[order(match(rownames(temp),p$gtable$grobs[[5]]$label)),]\n",
    "p$gtable$grobs[[5]]$gp=gpar(col=cols)\n",
    "add.flag(p,kept.labels = unique(df1_l$gene),repel.degree = 1)"
   ]
  },
  {
   "cell_type": "code",
   "execution_count": null,
   "id": "5f3c6b28",
   "metadata": {
    "vscode": {
     "languageId": "r"
    }
   },
   "outputs": [],
   "source": [
    "pdf(\"3state.alldeg.5groups.fc05.pad001.marker.bulk.data.mean.scale_associategenes.heatmap_220630.pdf\",width = 5,height = 10)\n",
    "add.flag(p,kept.labels = unique(df1_l$gene),repel.degree = 1)\n",
    "dev.off()\n",
    "#save_pheatmap_pdf(p,\"3state.alldeg.5groups.fc05.pad001.marker.bulk.data.mean.scale_associategenes.heatmap.pdf\",width = 5,height = 12)"
   ]
  }
 ],
 "metadata": {
  "kernelspec": {
   "display_name": "R",
   "language": "R",
   "name": "ir"
  },
  "language_info": {
   "codemirror_mode": "r",
   "file_extension": ".r",
   "mimetype": "text/x-r-source",
   "name": "R",
   "pygments_lexer": "r",
   "version": "4.1.0"
  }
 },
 "nbformat": 4,
 "nbformat_minor": 5
}
