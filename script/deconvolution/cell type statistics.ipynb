{
 "cells": [
  {
   "cell_type": "code",
   "execution_count": null,
   "metadata": {
    "vscode": {
     "languageId": "r"
    }
   },
   "outputs": [],
   "source": [
    "#wd<-\"/home/jovyan/SCI_project/result/SPOTlight/WT/\"\n",
    "wd<-\"/home/jovyan/SCI_project/result/RCTD/WT/\"\n",
    "setwd(wd)\n",
    "getwd()\n",
    "#result_dir<-\"quantation/\"\n",
    "result_dir<-\"interaction/\"\n",
    "dir.create(result_dir)"
   ]
  },
  {
   "cell_type": "code",
   "execution_count": null,
   "metadata": {
    "collapsed": true,
    "vscode": {
     "languageId": "r"
    }
   },
   "outputs": [],
   "source": [
    "library(reshape)\n",
    "library(Seurat)\n",
    "library(ggplot2)\n",
    "library(patchwork)\n",
    "library(dplyr)\n",
    "library(hdf5r)\n",
    "library(png)\n",
    "library(ggalluvial)\n",
    "#library(tidyverse)\n",
    "library(clustree)\n",
    "library(RCTD)\n",
    "library(Matrix)\n",
    "library(SPOTlight)\n",
    "library(future)\n",
    "library(grid)\n",
    "library(RColorBrewer)\n",
    "library(pheatmap)\n",
    "library(circlize)\n",
    "library(igraph)\n",
    "library(ComplexHeatmap)\n",
    "library(stringr)\n",
    "library(ComplexHeatmap)\n",
    "library(cowplot)"
   ]
  },
  {
   "cell_type": "code",
   "execution_count": null,
   "metadata": {
    "vscode": {
     "languageId": "r"
    }
   },
   "outputs": [],
   "source": [
    "#da<-readRDS(\"/home/jovyan/SCI_project/result/RCTD/KO/KO.merge.RCTD.ad.rds\")\n",
    "da<-readRDS(\"/home/jovyan/SCI_project/result/Seurat/WT_KO.merge/WT.merge.RCTD.ad.rds\")\n",
    "#da<-readRDS(\"/home/jovyan/SCI_project/result/SPOTlight/WT/WT.merge.SPOTlight.ad.rds\")\n",
    "da"
   ]
  },
  {
   "cell_type": "code",
   "execution_count": 5,
   "metadata": {
    "vscode": {
     "languageId": "r"
    }
   },
   "outputs": [],
   "source": [
    "### first preview domain cell type change using js annotated domains to give zq interested confirm list\n",
    "da$orig.ident<-factor(da$orig.ident,levels = c('WT_sham_H_R2_1mm','WT_sham_H_R2','WT_sham_T_210323','WT_sham_T_R2_1mm',\n",
    "                                              'WT_3h_H_R2_1mm','WT_3h_H_R2','WT_3h_T_R2','WT_3h_T_210330_1mm',\n",
    "                                              'WT_24h_H_R1_1mm','WT_24h_H_R1','WT_24h_T_201231','WT_24h_T_R1_1mm',\n",
    "                                              'WT_72h_H_R1_1mm','WT_72h_H_201231','WT_72h_T_201231','WT_72h_T_R1_1mm')\n",
    "                     #c('Sarm1_KO_sham_H_R1_1mm','Sarm1_KO_sham_H_210323','Sarm1_KO_sham_T_R1_0.5mm','Sarm1_KO_sham_T_R1_1mm',\n",
    "                     #  'Sarm1_KO_3h_H_R1_1mm','Sarm1_KO_3h_H_R1_0.5mm','Sarm1_KO_3h_T_R1_0.5mm','Sarm1_KO_3h_T_R1_1mm',\n",
    "                     #  'Sarm1_KO_24h_H_R1_1mm','Sarm1_KO_24h_H_201231','Sarm1_KO_24h_T_201231','Sarm1_KO_24h_T_1mm_201231',\n",
    "                     #  'Sarm1_KO_72h_H_R1_1mm','Sarm1_KO_72h_H_210323','Sarm1_KO_72h_T_210323','Sarm1_KO_72h_T_R1_1mm')\n",
    "                     )\n",
    "da$timming<-factor(da$timming,levels = c('WT_sham','WT_3h','WT_24h','WT_72h')\n",
    "                  #c('Sarm1_KO_sham','Sarm1_KO_3h','Sarm1_KO_24h','Sarm1_KO_72h')\n",
    "                  )"
   ]
  },
  {
   "cell_type": "code",
   "execution_count": 6,
   "metadata": {
    "vscode": {
     "languageId": "r"
    }
   },
   "outputs": [],
   "source": [
    "da$distance<-NA\n",
    "da@meta.data[grepl(\"1mm\",da@meta.data$orig.ident,fixed = T),]$distance<-\"1mm\"\n",
    "da@meta.data[!grepl(\"1mm\",da@meta.data$orig.ident,fixed = T),]$distance<-\"0.5mm\""
   ]
  },
  {
   "cell_type": "code",
   "execution_count": null,
   "metadata": {
    "vscode": {
     "languageId": "r"
    }
   },
   "outputs": [],
   "source": [
    "da$mgroup<-paste(da$timming,da$distance,sep=\"_\")\n",
    "unique(da$mgroup)"
   ]
  },
  {
   "cell_type": "code",
   "execution_count": 8,
   "metadata": {
    "vscode": {
     "languageId": "r"
    }
   },
   "outputs": [],
   "source": [
    "da$mgroup<-factor(da$mgroup,levels = c('WT_sham_0.5mm',\n",
    "                                       'WT_sham_1mm',\n",
    "                                       'WT_3h_0.5mm',\n",
    "                                       'WT_3h_1mm',\n",
    "                                       'WT_24h_0.5mm',\n",
    "                                       'WT_24h_1mm',\n",
    "                                       'WT_72h_0.5mm',\n",
    "                                       'WT_72h_1mm')\n",
    "                 #c('Sarm1_KO_sham_0.5mm',\n",
    "                 #  'Sarm1_KO_sham_1mm',\n",
    "                 #  'Sarm1_KO_3h_0.5mm',\n",
    "                 #  'Sarm1_KO_3h_1mm',\n",
    "                 #  'Sarm1_KO_24h_0.5mm',\n",
    "                 #  'Sarm1_KO_24h_1mm',\n",
    "                 #  'Sarm1_KO_72h_0.5mm',\n",
    "                 #  'Sarm1_KO_72h_1mm'\n",
    "                 #  )\n",
    "                 )"
   ]
  },
  {
   "cell_type": "code",
   "execution_count": null,
   "metadata": {
    "collapsed": true,
    "vscode": {
     "languageId": "r"
    }
   },
   "outputs": [],
   "source": [
    "me<-da@meta.data\n",
    "dim(me)\n",
    "head(me)"
   ]
  },
  {
   "cell_type": "code",
   "execution_count": null,
   "metadata": {
    "vscode": {
     "languageId": "r"
    }
   },
   "outputs": [],
   "source": [
    "cell_types_multi<-c('Astrocyte','Dendritic','Div.Myeloid','Endothelial',\n",
    "                    'Ependymal','Fibroblast','Lymphocyte','Macrophage',\n",
    "                    'Microglia','Monocyte','Neuron','Neutrophil',\n",
    "                    'Oligodendrocyte','OPC','Pericyte')\n",
    "cell_types_multi"
   ]
  },
  {
   "cell_type": "code",
   "execution_count": 12,
   "metadata": {
    "vscode": {
     "languageId": "r"
    }
   },
   "outputs": [],
   "source": [
    "immune_cell_types<-c('Dendritic','Div.Myeloid','Lymphocyte','Macrophage',\n",
    "                    'Microglia','Monocyte','Neutrophil')\n",
    "vascular_cell_types<-c('Fibroblast','Endothelial','Pericyte')\n",
    "macroglia_cell_types<-c('Astrocyte','Ependymal',\n",
    "                    'Oligodendrocyte','OPC')"
   ]
  },
  {
   "cell_type": "code",
   "execution_count": null,
   "metadata": {
    "collapsed": true,
    "vscode": {
     "languageId": "r"
    }
   },
   "outputs": [],
   "source": [
    "#1.dotplot extract domains spots\n",
    "wm<-da[rownames(da),rownames(me[me$domains==\"WM\",])]\n",
    "dim(wm)\n",
    "mg<-da[rownames(da),rownames(me[me$domains==\"MG\",])]\n",
    "dim(mg)\n",
    "dh<-da[rownames(da),rownames(me[me$domains==\"DH\",])]\n",
    "dim(dh)\n",
    "vh<-da[rownames(da),rownames(me[me$domains==\"VH\",])]\n",
    "dim(vh)"
   ]
  },
  {
   "cell_type": "code",
   "execution_count": null,
   "metadata": {
    "collapsed": true,
    "vscode": {
     "languageId": "r"
    }
   },
   "outputs": [],
   "source": [
    "#source(\"/home/jovyan/SCI_project/scripts/RCTD/DotPlot_ct.R\")\n",
    "p3 <- DotPlot(wm, features = cell_types_multi, group.by = 'mgroup', scale = F) + \n",
    "      theme(axis.text.x = element_text(angle = 90, size = 8, margin = margin(55,0,0,0)))\n",
    "options(repr.plot.width = 12, repr.plot.height = 7)\n",
    "p3+ggtitle(\"WM\")\n",
    "ggsave(paste0(result_dir,\"WM_dotplot.distance.png\"),width = 12,height = 7,dpi = 300)\n",
    "#pdf(\"WT.sham.merge_dotPlot_deconvByTimming_RCTD_integrated_scale.data_pct0.7.pdf\", width = 15, height = 7)\n",
    "#p3\n",
    "#dev.off()"
   ]
  },
  {
   "cell_type": "code",
   "execution_count": null,
   "metadata": {
    "collapsed": true,
    "vscode": {
     "languageId": "r"
    }
   },
   "outputs": [],
   "source": [
    "p3 <- DotPlot(wm, features = immune_cell_types, group.by = 'mgroup', scale = F) + \n",
    "      theme(axis.text.x = element_text(angle = 90, size = 8, margin = margin(55,0,0,0)))\n",
    "options(repr.plot.width = 8, repr.plot.height = 7)\n",
    "p3+ggtitle(\"WM\")\n",
    "#ggsave(paste0(result_dir,\"WM_dotplot.distance.png\"),width = 12,height = 7,dpi = 300)"
   ]
  },
  {
   "cell_type": "code",
   "execution_count": null,
   "metadata": {
    "collapsed": true,
    "vscode": {
     "languageId": "r"
    }
   },
   "outputs": [],
   "source": [
    "p3 <- DotPlot(mg, features = cell_types_multi, group.by = 'mgroup', scale = F) + \n",
    "      theme(axis.text.x = element_text(angle = 90, size = 8, margin = margin(55,0,0,0)))\n",
    "options(repr.plot.width = 12, repr.plot.height = 7)\n",
    "p3+ggtitle(\"MG\")\n",
    "ggsave(paste0(result_dir,\"MG_dotplot.distance.png\"),width = 12,height = 7,dpi = 300)"
   ]
  },
  {
   "cell_type": "code",
   "execution_count": null,
   "metadata": {
    "collapsed": true,
    "vscode": {
     "languageId": "r"
    }
   },
   "outputs": [],
   "source": [
    "p3 <- DotPlot(vh, features = cell_types_multi, group.by = 'mgroup', scale = F) + \n",
    "      theme(axis.text.x = element_text(angle = 90, size = 8, margin = margin(55,0,0,0)))\n",
    "options(repr.plot.width = 12, repr.plot.height = 7)\n",
    "p3+ggtitle(\"VH\")\n",
    "ggsave(paste0(result_dir,\"VH_dotplot.distance.png\"),width = 12,height = 7,dpi = 300)"
   ]
  },
  {
   "cell_type": "code",
   "execution_count": null,
   "metadata": {
    "collapsed": true,
    "vscode": {
     "languageId": "r"
    }
   },
   "outputs": [],
   "source": [
    "p3 <- DotPlot(dh, features = cell_types_multi, group.by = 'mgroup', scale = F) + \n",
    "      theme(axis.text.x = element_text(angle = 90, size = 8, margin = margin(55,0,0,0)))\n",
    "options(repr.plot.width = 12, repr.plot.height = 7)\n",
    "p3+ggtitle(\"DH\")\n",
    "ggsave(paste0(result_dir,\"DH_dotplot.distance.png\"),width = 12,height = 7,dpi = 300)"
   ]
  },
  {
   "cell_type": "code",
   "execution_count": 367,
   "metadata": {
    "vscode": {
     "languageId": "r"
    }
   },
   "outputs": [],
   "source": [
    "#2.stacked bar chart\n",
    "wmme<-me[me$domains==\"WM\",]\n",
    "mgme<-me[me$domains==\"MG\",]\n",
    "vhme<-me[me$domains==\"VH\",]\n",
    "dhme<-me[me$domains==\"DH\",]"
   ]
  },
  {
   "cell_type": "code",
   "execution_count": null,
   "metadata": {
    "collapsed": true,
    "vscode": {
     "languageId": "r"
    }
   },
   "outputs": [],
   "source": [
    "colnames(wmme)"
   ]
  },
  {
   "cell_type": "code",
   "execution_count": null,
   "metadata": {
    "collapsed": true,
    "vscode": {
     "languageId": "r"
    }
   },
   "outputs": [],
   "source": [
    "temp<-wmme[,c(\"mgroup\",cell_types_multi)]\n",
    "head(temp)"
   ]
  },
  {
   "cell_type": "code",
   "execution_count": null,
   "metadata": {
    "collapsed": true,
    "vscode": {
     "languageId": "r"
    }
   },
   "outputs": [],
   "source": [
    "\n",
    "mtemp<-melt(temp,id=c(\"mgroup\"))\n",
    "\n",
    "#mtemp$orig.ident<-factor(mtemp$orig.ident,levels=c('WT_sham_H_R2_1mm','WT_sham_H_R2','WT_sham_T_210323','WT_sham_T_R2_1mm',\n",
    "#                                              'WT_3h_H_R2_1mm','WT_3h_H_R2','WT_3h_T_R2','WT_3h_T_210330_1mm',\n",
    "#                                              'WT_24h_H_R1_1mm','WT_24h_H_R1','WT_24h_T_201231','WT_24h_T_R1_1mm',\n",
    "#                                              'WT_72h_H_R1_1mm','WT_72h_H_201231','WT_72h_T_201231','WT_72h_T_R1_1mm'))\n",
    "#mtemp$timming<-factor(mtemp$timming,levels =c('Sarm1_KO_sham','Sarm1_KO_3h','Sarm1_KO_24h','Sarm1_KO_72h')# c('WT_sham','WT_3h','WT_24h','WT_72h'))\n",
    "mtemp$mgroup<-factor(mtemp$mgroup,levels = c('WT_sham_0.5mm',\n",
    "                                       'WT_sham_1mm',\n",
    "                                       'WT_3h_0.5mm',\n",
    "                                       'WT_3h_1mm',\n",
    "                                       'WT_24h_0.5mm',\n",
    "                                       'WT_24h_1mm',\n",
    "                                       'WT_72h_0.5mm',\n",
    "                                       'WT_72h_1mm')\n",
    "                   # c('Sarm1_KO_sham_0.5mm',\n",
    "                   #'Sarm1_KO_sham_1mm',\n",
    "                   #'Sarm1_KO_3h_0.5mm',\n",
    "                   #'Sarm1_KO_3h_1mm',\n",
    "                   #'Sarm1_KO_24h_0.5mm',\n",
    "                   #'Sarm1_KO_24h_1mm',\n",
    "                   #'Sarm1_KO_72h_0.5mm',\n",
    "                   #'Sarm1_KO_72h_1mm')\n",
    "                    )\n",
    "colnames(mtemp)<-c(\"time_distance\",\"cell_type\",\"proportion\")\n",
    "head(mtemp)\n"
   ]
  },
  {
   "cell_type": "code",
   "execution_count": 404,
   "metadata": {
    "vscode": {
     "languageId": "r"
    }
   },
   "outputs": [],
   "source": [
    "group<-\"time_distance\"\n",
    "domain<-\"WM\""
   ]
  },
  {
   "cell_type": "code",
   "execution_count": null,
   "metadata": {
    "collapsed": true,
    "vscode": {
     "languageId": "r"
    }
   },
   "outputs": [],
   "source": [
    "### probability distribution of each cell type across all sections 2021.12.8\n",
    "meta<-da@meta.data\n",
    "colnames(meta)\n",
    "meta<-meta[,c(21:ncol(meta))]\n",
    "colnames(meta)"
   ]
  },
  {
   "cell_type": "code",
   "execution_count": null,
   "metadata": {
    "collapsed": true,
    "vscode": {
     "languageId": "r"
    }
   },
   "outputs": [],
   "source": [
    "#meta<-as.data.frame(t(meta))\n",
    "#meta$cell_type<-rownames(meta)\n",
    "melt_meta<-melt(meta,id=c('cell_type'))\n",
    "head(melt_meta)"
   ]
  },
  {
   "cell_type": "code",
   "execution_count": 42,
   "metadata": {
    "vscode": {
     "languageId": "r"
    }
   },
   "outputs": [],
   "source": [
    "library(ggridges)"
   ]
  },
  {
   "cell_type": "code",
   "execution_count": null,
   "metadata": {
    "collapsed": true,
    "vscode": {
     "languageId": "r"
    }
   },
   "outputs": [],
   "source": [
    "#remove 0 row for better visualization\n",
    "options(repr.plot.width=5,repr.plot.height=5)\n",
    "p<-melt_meta %>% \n",
    "    filter(value!=0) %>%\n",
    "    ggplot(aes(x=value,y=cell_type,fill=cell_type))+\n",
    "        geom_density_ridges()+\n",
    "        theme_ridges() + \n",
    "      theme(legend.position = \"none\")\n",
    "\n",
    "p+geom_vline(xintercept=0.1)\n",
    "ggsave(\"WT.merge.RCTD.celltype_ridge-density.cutoff01.png\",width =5,height=5,dpi = 300 )"
   ]
  },
  {
   "cell_type": "code",
   "execution_count": null,
   "metadata": {
    "vscode": {
     "languageId": "r"
    }
   },
   "outputs": [],
   "source": [
    "cell_types_multi<-colnames(da@meta.data[,c(21:ncol(da@meta.data))])\n",
    "cell_types_multi"
   ]
  },
  {
   "cell_type": "code",
   "execution_count": null,
   "metadata": {
    "vscode": {
     "languageId": "r"
    }
   },
   "outputs": [],
   "source": [
    "temp<-melt_meta[melt_meta$cell_type==cell_types_multi[11] & melt_meta$value!=0,]\n",
    "dim(temp)"
   ]
  },
  {
   "cell_type": "code",
   "execution_count": 93,
   "metadata": {
    "vscode": {
     "languageId": "r"
    }
   },
   "outputs": [],
   "source": [
    "temp<-da@meta.data[,c(21:ncol(da@meta.data))]\n",
    "temp[temp<0.35]<-0"
   ]
  },
  {
   "cell_type": "code",
   "execution_count": 94,
   "metadata": {
    "vscode": {
     "languageId": "r"
    }
   },
   "outputs": [],
   "source": [
    "da@meta.data[,c(21:ncol(da@meta.data))]<-temp"
   ]
  },
  {
   "cell_type": "code",
   "execution_count": null,
   "metadata": {
    "collapsed": true,
    "vscode": {
     "languageId": "r"
    }
   },
   "outputs": [],
   "source": [
    "options(repr.plot.width = 20, repr.plot.height = 18,resolution=300)\n",
    "p3 <- SpatialFeaturePlot(da, features = \"Oligodendrocyte\", combine = FALSE)\n",
    "    do.call(ggpubr::ggarrange, c(p3, list(ncol = 4, nrow = 4, common.legend = T, legend = \"right\")))\n",
    "#ggsave(\"WT.merge.RCTD.celltype.cutoff035.spatial.png\",width =20,height=18,dpi = 300)"
   ]
  },
  {
   "cell_type": "code",
   "execution_count": null,
   "metadata": {
    "collapsed": true,
    "vscode": {
     "languageId": "r"
    }
   },
   "outputs": [],
   "source": [
    "#dir.create(\"cutoff035/\")\n",
    "\n",
    "for(i in cell_types_multi){\n",
    "    options(repr.plot.width = 20, repr.plot.height = 18,resolution=300)\n",
    "    p3 <- SpatialFeaturePlot(da, features = i, combine = FALSE)\n",
    "        do.call(ggpubr::ggarrange, c(p3, list(ncol = 4, nrow = 4, common.legend = T, legend = \"right\")))\n",
    "    ggsave(paste0(\"cutoff035/WT.merge.RCTD.\",i,\"celltype.cutoff035.spatial.png\"),width =20,height=18,dpi = 300)\n",
    "}\n"
   ]
  }
 ],
 "metadata": {
  "kernelspec": {
   "display_name": "R",
   "language": "R",
   "name": "ir"
  },
  "language_info": {
   "codemirror_mode": "r",
   "file_extension": ".r",
   "mimetype": "text/x-r-source",
   "name": "R",
   "pygments_lexer": "r",
   "version": "4.1.0"
  }
 },
 "nbformat": 4,
 "nbformat_minor": 2
}
