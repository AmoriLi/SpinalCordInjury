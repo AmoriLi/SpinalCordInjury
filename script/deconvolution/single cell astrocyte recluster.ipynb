{
 "cells": [
  {
   "cell_type": "code",
   "execution_count": null,
   "id": "97c04714",
   "metadata": {
    "vscode": {
     "languageId": "r"
    }
   },
   "outputs": [],
   "source": [
    "wd<-\"/result/Seurat/sc_Astrocyte_recluster/lee/\"\n",
    "if(!dir.exists(wd))\n",
    "    dir.create(wd)\n",
    "setwd(wd)\n",
    "getwd()"
   ]
  },
  {
   "cell_type": "code",
   "execution_count": null,
   "id": "f6e634dc",
   "metadata": {
    "scrolled": true,
    "vscode": {
     "languageId": "r"
    }
   },
   "outputs": [],
   "source": [
    "#library(spacexr)\n",
    "library(Matrix)\n",
    "#library(doParallel)\n",
    "library(Seurat)\n",
    "library(ggplot2)\n",
    "library(patchwork)\n",
    "library(dplyr)\n",
    "#library(hdf5r)\n",
    "library(png)\n",
    "#library(ggalluvial)\n",
    "#library(tidyverse)\n",
    "library(clustree)\n",
    "library(RCTD)\n",
    "library(Matrix)\n",
    "#library(SPOTlight)\n",
    "library(future)\n",
    "library(grid)\n",
    "library(RColorBrewer)\n",
    "library(pheatmap)\n",
    "#library(circlize)\n",
    "library(igraph)\n",
    "#library(ComplexHeatmap)\n",
    "library(stringr)\n",
    "#library(ComplexHeatmap)\n",
    "library(cowplot)\n",
    "library(scales)\n",
    "#library(dplyr)\n",
    "#library(tidyverse)\n",
    "library(reshape2)\n",
    "library(clusterProfiler)\n",
    "options(connectionObserver = NULL)\n",
    "library(\"readxl\")"
   ]
  },
  {
   "cell_type": "code",
   "execution_count": null,
   "id": "af0716d1",
   "metadata": {
    "collapsed": true,
    "vscode": {
     "languageId": "r"
    }
   },
   "outputs": [],
   "source": [
    "spatial_marker<-read.csv(\"/result/CSIDE/marker_express_within_region.220426/fcreg1_220503/2subtype.marker.sig.enrich.in.sham.2domains.df.csv\")\n",
    "head(spatial_marker)\n",
    "table(spatial_marker$group)"
   ]
  },
  {
   "cell_type": "code",
   "execution_count": null,
   "id": "16235b19",
   "metadata": {
    "vscode": {
     "languageId": "r"
    }
   },
   "outputs": [],
   "source": [
    "da<-readRDS(\"/result/RCTD/ref_10x_astr/L3_taxon/Astrocyte_integrate_split2A/splitpool_3astr.labeltransfer.10x_L3.astrocyte.labelAstrcoyte.object.with7dpi.rds\")\n",
    "da"
   ]
  },
  {
   "cell_type": "code",
   "execution_count": 3,
   "id": "40ee485f",
   "metadata": {
    "vscode": {
     "languageId": "r"
    }
   },
   "outputs": [],
   "source": [
    "da2<-readRDS(\"/data/deconvolution/sci.rds\")"
   ]
  },
  {
   "cell_type": "markdown",
   "id": "c710790a",
   "metadata": {},
   "source": [
    "#### Astrocyte migration marker score -220613"
   ]
  },
  {
   "cell_type": "code",
   "execution_count": 1319,
   "id": "1571c463",
   "metadata": {
    "vscode": {
     "languageId": "r"
    }
   },
   "outputs": [],
   "source": [
    "da2$SCT_Stat3<-da2@assays$SCT@data[\"Stat3\",]\n",
    "da2$SCT_Socs3<-da2@assays$SCT@data[\"Socs3\",]\n",
    "da2$SCT_Itgb4<-da2@assays$SCT@data[\"Itgb4\",]\n",
    "da2$SCT_Nes<-da2@assays$SCT@data[\"Nes\",]\n",
    "da2$SCT_C3<-da2@assays$SCT@data[\"C3\",]"
   ]
  },
  {
   "cell_type": "code",
   "execution_count": null,
   "id": "2ae82542",
   "metadata": {
    "collapsed": true,
    "vscode": {
     "languageId": "r"
    }
   },
   "outputs": [],
   "source": [
    "options(repr.plot.width=6,repr.plot.height=5)\n",
    "DimPlot(da2,cols = DiscretePalette(n = 15,palette = \"alphabet\"))\n",
    "ggsave(\"L2.celltype.all.integrated.UMAP.png\",width = 6,height = 5,dpi = 300)"
   ]
  },
  {
   "cell_type": "code",
   "execution_count": null,
   "id": "540f64a6",
   "metadata": {
    "collapsed": true,
    "vscode": {
     "languageId": "r"
    }
   },
   "outputs": [],
   "source": [
    "options(repr.plot.width=5,repr.plot.height=5)\n",
    "FeaturePlot(da2,pt.size = 0.01,ncol = 1,#cells = cells,\n",
    "            features = c(\"Nrxn1\"#,\"Gfap\",\"Slc7a10\"\n",
    "                        ),\n",
    "           cols= c(#\"#cfe0e8\",\n",
    "            \n",
    "                                                     # '#b8a9c9', \n",
    "            '#d6d4e0',\n",
    "            \"#f0f0f0\",\n",
    "            '#fff2df',\n",
    "            \"#eeac99\",#\"#ED797B\",\n",
    "                     \"#c83349\")\n",
    "           )\n",
    "ggsave(\"Nrxn1.all.sc.integrated.data.UMAP.png\",width = 5,height = 5,dpi = 300)"
   ]
  },
  {
   "cell_type": "code",
   "execution_count": null,
   "id": "d9ffc40e",
   "metadata": {
    "collapsed": true,
    "vscode": {
     "languageId": "r"
    }
   },
   "outputs": [],
   "source": [
    "options(repr.plot.width=9,repr.plot.height=5)\n",
    "FeaturePlot(da2,pt.size = 0.01,ncol = 2,#cells = cells,\n",
    "            features = c(\"Nlgn1\",\"Nlgn2\",\"Nlgn3\"\n",
    "                        ),\n",
    "           cols= c(#\"#cfe0e8\",\n",
    "            \n",
    "                                                     # '#b8a9c9', \n",
    "            '#d6d4e0',\n",
    "            \"#f0f0f0\",\n",
    "            '#fff2df',\n",
    "            \"#eeac99\",#\"#ED797B\",\n",
    "                     \"#c83349\")\n",
    "           )\n",
    "ggsave(\"Nlgn1_3.all.sc.integrated.data.UMAP.png\",width = 9,height = 5,dpi = 300)"
   ]
  },
  {
   "attachments": {},
   "cell_type": "markdown",
   "id": "7fe1211f",
   "metadata": {},
   "source": [
    "#### add Astrocyte subtype info"
   ]
  },
  {
   "cell_type": "code",
   "execution_count": null,
   "id": "96b07526",
   "metadata": {
    "vscode": {
     "languageId": "r"
    }
   },
   "outputs": [],
   "source": [
    "gfap_cells<-rownames(test@meta.data)[test$subtype==\"Astr_Gfap\"]\n",
    "length(gfap_cells)\n",
    "slc_cells<-rownames(test@meta.data)[test$subtype==\"Astr_Slc7a10\"]\n",
    "length(slc_cells)"
   ]
  },
  {
   "cell_type": "code",
   "execution_count": null,
   "id": "496aaca7",
   "metadata": {
    "collapsed": true,
    "vscode": {
     "languageId": "r"
    }
   },
   "outputs": [],
   "source": [
    "da2$celltype_ad<-as.character(da2$celltype)\n",
    "da2$celltype_ad[rownames(da2@meta.data) %in% gfap_cells]<-\"Astr_Gfap\"\n",
    "da2$celltype_ad[rownames(da2@meta.data) %in% slc_cells]<-\"Astr_Slc7a10\"\n",
    "table(da2$celltype_ad)"
   ]
  },
  {
   "cell_type": "code",
   "execution_count": 17,
   "id": "d37cdf6d",
   "metadata": {
    "vscode": {
     "languageId": "r"
    }
   },
   "outputs": [],
   "source": [
    "saveRDS(da2,\"lee.sci.ad.rds\")"
   ]
  },
  {
   "cell_type": "code",
   "execution_count": 6,
   "id": "b2c3657c",
   "metadata": {
    "vscode": {
     "languageId": "r"
    }
   },
   "outputs": [],
   "source": [
    "da2<-readRDS(\"lee.sci.ad.rds\")"
   ]
  },
  {
   "cell_type": "code",
   "execution_count": 8,
   "id": "e36b930f",
   "metadata": {
    "vscode": {
     "languageId": "r"
    }
   },
   "outputs": [],
   "source": [
    "DefaultAssay(da2)<-\"SCT\""
   ]
  },
  {
   "cell_type": "code",
   "execution_count": 475,
   "id": "46fec3f8",
   "metadata": {
    "vscode": {
     "languageId": "r"
    }
   },
   "outputs": [],
   "source": [
    "sfdir<-\"Astrocyte_gfap.marker.across.sc/\"\n",
    "if(!dir.exists(sfdir))\n",
    "    dir.create(sfdir)"
   ]
  },
  {
   "cell_type": "code",
   "execution_count": 470,
   "id": "9903c849",
   "metadata": {
    "vscode": {
     "languageId": "r"
    }
   },
   "outputs": [],
   "source": [
    "gfap_markers<-c(\"Gfap\",\"Clu\",\"Aqp4\",\"Ndrg2\",\"Cpe\",\"Fxyd1\",\n",
    "                   \"Gja1\",\"Dhrs1\",\"Dclk1\",\"Lxn\",\"Ldhb\",\"Mmd2\",\n",
    "                  \"Gpm6a\",\"Pea15a\",\"Nrcam\",\"A2m\",\"Scg3\",\"Itpkb\",\n",
    "                  \"Tmem47\",\"Itgav\",\"Mgst1\",\"C3\",\"Id4\",\"Agt\",\"Prdx6\",\n",
    "               \"Il6st\",\"Nbl1\",\"Mt2\",\"Cd63\",\"Pea15a\",\"Lgals1\",\"Ifitm3\",\n",
    "               \"Vwa1\",\"Tmem176b\",\"Ctsl\")"
   ]
  },
  {
   "cell_type": "code",
   "execution_count": 479,
   "id": "c29884fd",
   "metadata": {
    "vscode": {
     "languageId": "r"
    }
   },
   "outputs": [],
   "source": [
    "options(repr.plot.width=5,repr.plot.height=5)\n",
    "for(i in gfap_markers){\n",
    "    if(i %in% rownames(da2)){\n",
    "        FeaturePlot(da2,pt.size = 0.01,ncol = 1,#cells = cells,\n",
    "                features = c(i#,\"Gfap\",\"Slc7a10\"\n",
    "                            ),\n",
    "               cols= c(#\"#cfe0e8\",\n",
    "            \n",
    "                                                     # '#b8a9c9', \n",
    "                '#d6d4e0',\n",
    "                \"#f0f0f0\",\n",
    "                '#fff2df',\n",
    "                \"#eeac99\",#\"#ED797B\",\n",
    "                \"#c83349\")\n",
    "               )\n",
    "    ggsave(paste0(sfdir,i,\".all.sc.integrated.data.UMAP.png\"),width = 5,height = 5,dpi = 300)\n",
    "    }    \n",
    "}"
   ]
  },
  {
   "cell_type": "code",
   "execution_count": 480,
   "id": "3e69f0f9",
   "metadata": {
    "vscode": {
     "languageId": "r"
    }
   },
   "outputs": [],
   "source": [
    "options(repr.plot.width=6,repr.plot.height=5)\n",
    "for(i in gfap_markers){\n",
    "    if(i %in% rownames(da2)){\n",
    "        VlnPlot(da2,group.by = \"celltype_ad\",ncol = 1,\n",
    "                features=c(i),\n",
    "                pt.size = 0)+\n",
    "            geom_boxplot(width=0.25,fill=\"white\",outlier.colour = NA)\n",
    "        ggsave(paste0(sfdir,i,\".all.sc.integrated.data.vlnplot.png\"),width = 5,height = 5,dpi = 300)\n",
    "    }\n",
    "    \n",
    "}\n"
   ]
  },
  {
   "cell_type": "code",
   "execution_count": 4,
   "id": "34426a31",
   "metadata": {
    "vscode": {
     "languageId": "r"
    }
   },
   "outputs": [],
   "source": [
    "DefaultAssay(da2)<-\"SCT\""
   ]
  },
  {
   "cell_type": "code",
   "execution_count": 1326,
   "id": "8e549948",
   "metadata": {
    "vscode": {
     "languageId": "r"
    }
   },
   "outputs": [],
   "source": [
    "da2<-AddModuleScore(da2,features = list(c(\"Socs3\",\"Itgb4\",\"Stat3\",\"Nes\",\"C3\",\"Itgb4\")),name = \"migration_marker\")"
   ]
  },
  {
   "cell_type": "code",
   "execution_count": null,
   "id": "d68dd870",
   "metadata": {
    "collapsed": true,
    "vscode": {
     "languageId": "r"
    }
   },
   "outputs": [],
   "source": [
    "DefaultAssay(da2)<-\"integrated\"\n",
    "colnames(da2@meta.data)"
   ]
  },
  {
   "cell_type": "code",
   "execution_count": null,
   "id": "e6d972f0",
   "metadata": {
    "collapsed": true,
    "vscode": {
     "languageId": "r"
    }
   },
   "outputs": [],
   "source": [
    "options(repr.plot.width=5,repr.plot.height=5)\n",
    "FeaturePlot(da2,pt.size = 0.1,#cells = cells,\n",
    "            features = c(\"Igfbp2\"\n",
    "                        )#,\n",
    "           #cols= c(#\"#cfe0e8\",\n",
    "           # \n",
    "           #                                          # '#b8a9c9', \n",
    "           # '#d6d4e0',\n",
    "           # \"#f0f0f0\",\n",
    "           # '#fff2df',\n",
    "           # \"#eeac99\",#\"#ED797B\",\n",
    "           #          \"#c83349\")\n",
    "           )"
   ]
  },
  {
   "cell_type": "code",
   "execution_count": null,
   "id": "aae8c368",
   "metadata": {
    "collapsed": true,
    "vscode": {
     "languageId": "r"
    }
   },
   "outputs": [],
   "source": [
    "table(da2@meta.data$celltype)\n",
    "DefaultAssay(da2)<-\"RNA\""
   ]
  },
  {
   "cell_type": "code",
   "execution_count": null,
   "id": "314eaf16",
   "metadata": {
    "collapsed": true,
    "vscode": {
     "languageId": "r"
    }
   },
   "outputs": [],
   "source": [
    "test<-subset(da2,subset = celltype==\"Astrocyte\")\n",
    "test"
   ]
  },
  {
   "cell_type": "code",
   "execution_count": 1057,
   "id": "01e1056f",
   "metadata": {
    "vscode": {
     "languageId": "r"
    }
   },
   "outputs": [],
   "source": [
    "da_s<-CreateSeuratObject(counts = test@assays$RNA@counts,meta.data = test@meta.data,min.cells = 10)"
   ]
  },
  {
   "cell_type": "code",
   "execution_count": null,
   "id": "8db01436",
   "metadata": {
    "collapsed": true,
    "vscode": {
     "languageId": "r"
    }
   },
   "outputs": [],
   "source": [
    "rps_genes<-rownames(da_s@assays$RNA@counts)[grep(\"^Rps\",rownames(da_s@assays$RNA@counts))]\n",
    "rps_genes\n",
    "rpl_genes<-rownames(da_s@assays$RNA@counts)[grep(\"^Rpl\",rownames(da_s@assays$RNA@counts))]\n",
    "rpl_genes\n",
    "mt_genes<-rownames(da_s@assays$RNA@counts)[grep(\"^mt-\",rownames(da_s@assays$RNA@counts))]\n",
    "mt_genes"
   ]
  },
  {
   "cell_type": "code",
   "execution_count": null,
   "id": "a18b0216",
   "metadata": {
    "vscode": {
     "languageId": "r"
    }
   },
   "outputs": [],
   "source": [
    "# remove ribosome and mitocondrial genes\n",
    "da_s<-da_s[!rownames(da_s@assays$RNA@counts)%in%c(rps_genes,rpl_genes,mt_genes),rownames(da_s@meta.data)]\n",
    "da_s"
   ]
  },
  {
   "cell_type": "code",
   "execution_count": null,
   "id": "f03a2406",
   "metadata": {
    "collapsed": true,
    "vscode": {
     "languageId": "r"
    }
   },
   "outputs": [],
   "source": [
    "### QC\n",
    "# Visualize QC metrics as a violin plot\n",
    "options(repr.plot.width=10,repr.plot.height=5)\n",
    "VlnPlot(da_s, features = c(\"nFeature_RNA\", \"nCount_RNA\", \"percent_mt\",\"percent_rp\",\"percent_hbb\"), ncol = 5)"
   ]
  },
  {
   "cell_type": "code",
   "execution_count": null,
   "id": "88a460cf",
   "metadata": {
    "collapsed": true,
    "vscode": {
     "languageId": "r"
    }
   },
   "outputs": [],
   "source": [
    "plot1 <- FeatureScatter(da_s, feature1 = \"nCount_RNA\", feature2 = \"percent_mt\")\n",
    "plot2 <- FeatureScatter(da_s, feature1 = \"nCount_RNA\", feature2 = \"nFeature_RNA\")\n",
    "plot1 + plot2"
   ]
  },
  {
   "cell_type": "code",
   "execution_count": null,
   "id": "3a5fef9e",
   "metadata": {
    "collapsed": true,
    "vscode": {
     "languageId": "r"
    }
   },
   "outputs": [],
   "source": [
    "da_s<-SCTransform(da_s,do.scale = TRUE,\n",
    "                  vars.to.regress = c(\"orig.ident\",\"S.Score\",\"G2M.Score\",\"percent_mt\",\"percent_rp\"\n",
    "                                     ),\n",
    "                  residual.features = rownames(da_s@assays$RNA@counts),\n",
    "                    return.only.var.genes = FALSE)"
   ]
  },
  {
   "cell_type": "code",
   "execution_count": 1276,
   "id": "101a5863",
   "metadata": {
    "vscode": {
     "languageId": "r"
    }
   },
   "outputs": [],
   "source": [
    "saveRDS(da_s,\"L2.Astrocyte.rmMt_Rp.SCT.regICMR.doscale.rds\")"
   ]
  },
  {
   "cell_type": "code",
   "execution_count": null,
   "id": "b2254a93",
   "metadata": {
    "vscode": {
     "languageId": "r"
    }
   },
   "outputs": [],
   "source": [
    "cells<-rownames(da_s@meta.data)[da_s$nCount_RNA>2500]\n",
    "length(cells)"
   ]
  },
  {
   "cell_type": "code",
   "execution_count": null,
   "id": "c774d818",
   "metadata": {
    "collapsed": true,
    "vscode": {
     "languageId": "r"
    }
   },
   "outputs": [],
   "source": [
    "test<-da_s[rownames(da_s@assays$RNA@counts),cells]\n",
    "test"
   ]
  },
  {
   "cell_type": "code",
   "execution_count": 1213,
   "id": "286f1cff",
   "metadata": {
    "vscode": {
     "languageId": "r"
    }
   },
   "outputs": [],
   "source": [
    "test<-FindVariableFeatures(test)"
   ]
  },
  {
   "cell_type": "code",
   "execution_count": null,
   "id": "c79ec91b",
   "metadata": {
    "collapsed": true,
    "vscode": {
     "languageId": "r"
    }
   },
   "outputs": [],
   "source": [
    "test<-RunPCA(test#,features = astr_marker\n",
    "              )"
   ]
  },
  {
   "cell_type": "code",
   "execution_count": null,
   "id": "73ff57b8",
   "metadata": {
    "collapsed": true,
    "vscode": {
     "languageId": "r"
    }
   },
   "outputs": [],
   "source": [
    "test<-FindNeighbors(test,dims=1:16,k.param = 40)\n",
    "for(i in c(0.1,0.125,0.15,0.2,0.3,0.35,0.4,0.45,0.5)){\n",
    "    test<-FindClusters(test,resolution = i)\n",
    "}\n"
   ]
  },
  {
   "cell_type": "code",
   "execution_count": null,
   "id": "1b2df695",
   "metadata": {
    "collapsed": true,
    "vscode": {
     "languageId": "r"
    }
   },
   "outputs": [],
   "source": [
    "options(repr.plot.width=6,repr.plot.height=8)\n",
    "clustree(test,prefix = \"SCT_snn_res.\")"
   ]
  },
  {
   "cell_type": "code",
   "execution_count": null,
   "id": "e05c55cf",
   "metadata": {
    "collapsed": true,
    "vscode": {
     "languageId": "r"
    }
   },
   "outputs": [],
   "source": [
    "test<-RunUMAP(test,dims = 1:16)"
   ]
  },
  {
   "cell_type": "code",
   "execution_count": null,
   "id": "5db183e0",
   "metadata": {
    "collapsed": true,
    "vscode": {
     "languageId": "r"
    }
   },
   "outputs": [],
   "source": [
    "options(repr.plot.width=10,repr.plot.height=4)\n",
    "DimPlot(test,reduction = \"umap\",#cols = DiscretePalette(n=10,palette = \"glasbey\"),#cells = cells,\n",
    "        group.by = c(\"SCT_snn_res.0.35\",\"SCT_snn_res.0.2\",\"time\"))"
   ]
  },
  {
   "cell_type": "code",
   "execution_count": null,
   "id": "83116f97",
   "metadata": {
    "collapsed": true,
    "vscode": {
     "languageId": "r"
    }
   },
   "outputs": [],
   "source": [
    "options(repr.plot.width=3.6,repr.plot.height=4)\n",
    "DimPlot(test,reduction = \"umap\",#cols = DiscretePalette(n=10,palette = \"glasbey\"),#cells = cells,\n",
    "        group.by = c(\"time\"))+\n",
    "     scale_color_manual(values = c('#374E55FF','#00A1D5FF','#B24745FF','#d6cbd3'\n",
    "))\n",
    "ggsave(\"L2.Astrocyte.nC2500.rmMt_Rp.SCTregICMR.doscale.pc16.k40.time.UMAP.png\",width = 3.6,height = 4,dpi = 300)"
   ]
  },
  {
   "cell_type": "code",
   "execution_count": null,
   "id": "01de680e",
   "metadata": {
    "collapsed": true,
    "vscode": {
     "languageId": "r"
    }
   },
   "outputs": [],
   "source": [
    "options(repr.plot.width=3,repr.plot.height=4)\n",
    "DimPlot(test,reduction = \"umap\",#cols = DiscretePalette(n=10,palette = \"glasbey\"),#cells = cells,\n",
    "        group.by = c(\"SCT_snn_res.0.2\"))+\n",
    "     scale_color_manual(values = c('#911eb4','#e6beff'))\n",
    "ggsave(\"L2.Astrocyte.nC2500.rmMt_Rp.SCTregICMR.doscale.pc16.k40.res02.2subtype.UMAP.png\",width = 3,height = 4,dpi = 300)"
   ]
  },
  {
   "cell_type": "code",
   "execution_count": null,
   "id": "41fe73fe",
   "metadata": {
    "collapsed": true,
    "vscode": {
     "languageId": "r"
    }
   },
   "outputs": [],
   "source": [
    "options(repr.plot.width=10,repr.plot.height=4)\n",
    "VlnPlot(test,group.by = \"SCT_snn_res.0.35\",\n",
    "        features=c(\"nCount_RNA\",\"nFeature_RNA\",\"percent_mt\"),\n",
    "        pt.size = 0)"
   ]
  },
  {
   "cell_type": "code",
   "execution_count": null,
   "id": "98956a74",
   "metadata": {
    "vscode": {
     "languageId": "r"
    }
   },
   "outputs": [],
   "source": [
    "pdf(\"lee.Astrocyte.Pla2g7_Slc7a10_Gfap_Igfbp2.UMAP.220820.pdf\",width = 14,height = 5)\n",
    "options(repr.plot.width=14,repr.plot.height=5)\n",
    "FeaturePlot(test,pt.size = 1,ncol = 4,#cells = cells,\n",
    "            features = c(\"Gfap\",\"Pla2g7\",\n",
    "                         #\"Slc1a2\",\"Aldoc\",\"Bcan\",\"Clu\",\"S100b\",\"Aqp4\",\n",
    "                         \"Slc7a10\",\"Igfbp2\"#,\"Mdk\",\"Itpkb\"\n",
    "                        ),\n",
    "           cols= c(#\"#cfe0e8\",\n",
    "    \n",
    "                                                     # '#b8a9c9', \n",
    "    '#d6d4e0',\n",
    "    \"#f0f0f0\",\n",
    "    '#fff2df',\n",
    "    \"#eeac99\",#\"#ED797B\",\n",
    "                     \"#c83349\")\n",
    "           )\n",
    "dev.off()\n",
    "#ggsave(\"L2.Astrocyte.nC2500.rmMt_Rp.SCTregICMR.doscale.pc16.k40.Gfap_Slc7a10_Vim.data.UMAP.png\",width = 12,height = 5,dpi = 300)"
   ]
  },
  {
   "cell_type": "code",
   "execution_count": null,
   "id": "556c9499",
   "metadata": {
    "vscode": {
     "languageId": "r"
    }
   },
   "outputs": [],
   "source": [
    "options(repr.plot.width=12,repr.plot.height=5)\n",
    "FeaturePlot(test,pt.size = 1,ncol = 3,#cells = cells,\n",
    "            features = c(\"Gfap\",\"Slc7a10\",\"Bcan\"\n",
    "                        ),\n",
    "           cols= c(#\"#cfe0e8\",\n",
    "    \n",
    "                                                     # '#b8a9c9', \n",
    "    '#d6d4e0',\n",
    "    \"#f0f0f0\",\n",
    "    '#fff2df',\n",
    "    \"#eeac99\",#\"#ED797B\",\n",
    "                     \"#c83349\")\n",
    "           )\n",
    "#ggsave(\"L2.Astrocyte.nC2500.rmMt_Rp.SCTregICMR.doscale.pc16.k40.Gfap_Slc7a10_Vim.data.UMAP.png\",width = 12,height = 5,dpi = 300)"
   ]
  },
  {
   "cell_type": "code",
   "execution_count": null,
   "id": "c1b2b7be",
   "metadata": {
    "vscode": {
     "languageId": "r"
    }
   },
   "outputs": [],
   "source": [
    "pdf(\"lee.Astrocyte.Pla2g7_Slc7a10_Gfap_Igfbp2.Vlnplot.220820.pdf\",width = 10,height = 4)\n",
    "options(repr.plot.width=10,repr.plot.height=4)\n",
    "VlnPlot(test,group.by = \"subtype\",ncol = 5,cols = c('#911eb4','#e6beff'),\n",
    "        features=c(\"Gfap\",\"Slc7a10\",\"Pla2g7\",\"Igfbp2\"),\n",
    "        pt.size = 0)#+\n",
    "        #scale_fill_manual(values = c('#911eb4','#e6beff'))\n",
    "dev.off()\n",
    "#ggsave(\"L2.Astrocyte.nC2500.rmMt_Rp.SCTregICMR.doscale.pc16.k40.res02.some_genes.UMAP.png\",width = 10,height = 6,dpi = 300)"
   ]
  },
  {
   "cell_type": "code",
   "execution_count": null,
   "id": "b28621cc",
   "metadata": {
    "vscode": {
     "languageId": "r"
    }
   },
   "outputs": [],
   "source": [
    "# take a look at the spatial related genelist\n",
    "dp_genes<-read.csv(\"/home/jovyan/zxli_SCI/result/Seurat/sc_Astrocyte_recluster/lee/classifyBySpatialMarker/gfap.317marker.k4.m13.hclust2.fc1.pct05.pad001.pos.markers.csv\")\n",
    "dp_genes<-dp_genes$gene\n",
    "head(dp_genes)"
   ]
  },
  {
   "cell_type": "code",
   "execution_count": 7,
   "id": "16e426ec",
   "metadata": {
    "vscode": {
     "languageId": "r"
    }
   },
   "outputs": [],
   "source": [
    "test<-AddModuleScore(test,features = list(dp_genes),name = \"dp_marker\")"
   ]
  },
  {
   "cell_type": "code",
   "execution_count": 156,
   "id": "94e9ebc1",
   "metadata": {
    "vscode": {
     "languageId": "r"
    }
   },
   "outputs": [],
   "source": [
    "test<-AddModuleScore(test,features = list(dp_genes2),name = \"gfap_dp_marker\")"
   ]
  },
  {
   "cell_type": "markdown",
   "id": "46feed1e",
   "metadata": {},
   "source": [
    "#### migration score"
   ]
  },
  {
   "cell_type": "code",
   "execution_count": 1292,
   "id": "f539069a",
   "metadata": {
    "vscode": {
     "languageId": "r"
    }
   },
   "outputs": [],
   "source": [
    "test<-AddModuleScore(test,features = list(c(\"Stat3\",\"Socs3\",\"Itgb4\",\"Nes\",\"C3\")),name = \"migration_marker\")"
   ]
  },
  {
   "cell_type": "code",
   "execution_count": null,
   "id": "d32c5b0c",
   "metadata": {
    "collapsed": true,
    "vscode": {
     "languageId": "r"
    }
   },
   "outputs": [],
   "source": [
    "#positive regulon of cell migration term genes\n",
    "cm<-read_excel(\"classifyBySpatialMarker/GO_term_positiveregulationofcellmigration_20220620_052409.xlsx\")\n",
    "head(cm)\n",
    "cmgenes<-unique(cm$Symbol)\n",
    "length(cmgenes)"
   ]
  },
  {
   "cell_type": "code",
   "execution_count": null,
   "id": "c3b76c46",
   "metadata": {
    "vscode": {
     "languageId": "r"
    }
   },
   "outputs": [],
   "source": [
    "cmgenes<-intersect(cmgenes,rownames(test@assays$SCT@data))\n",
    "length(cmgenes)"
   ]
  },
  {
   "cell_type": "code",
   "execution_count": 492,
   "id": "170c20d9",
   "metadata": {
    "vscode": {
     "languageId": "r"
    }
   },
   "outputs": [],
   "source": [
    "test<-AddModuleScore(test,features = list(cmgenes),name = \"positive_cell_migration\")"
   ]
  },
  {
   "cell_type": "code",
   "execution_count": null,
   "id": "c74c1954",
   "metadata": {
    "collapsed": true,
    "vscode": {
     "languageId": "r"
    }
   },
   "outputs": [],
   "source": [
    "options(repr.plot.width=4,repr.plot.height=4)\n",
    "VlnPlot(test,group.by = \"SCT_snn_res.0.2\",cols = c('#911eb4','#e6beff'),\n",
    "        features=c(\"dp_marker1\"),\n",
    "        pt.size = 0)+\n",
    "    geom_boxplot(width=0.25,fill=\"white\",outlier.colour = NA)\n",
    "ggsave(\"L2.Astrocyte.nC2500.rmMt_Rp.SCTregICMR.doscale.pc16.k40.res02.2subtype.GM_Gfap_both_pos_deg_score.UMAP.png\",width = 3.6,height = 4,dpi = 300)"
   ]
  },
  {
   "cell_type": "code",
   "execution_count": null,
   "id": "c19cd1d9",
   "metadata": {
    "vscode": {
     "languageId": "r"
    }
   },
   "outputs": [],
   "source": [
    "test$subtype<-\"Astr_Gfap\"\n",
    "test$subtype[test$SCT_snn_res.0.2==1]<-\"Astr_Slc7a10\"\n",
    "table(test$subtype)"
   ]
  },
  {
   "cell_type": "code",
   "execution_count": null,
   "id": "5e1edd16",
   "metadata": {
    "collapsed": true,
    "vscode": {
     "languageId": "r"
    }
   },
   "outputs": [],
   "source": [
    "#Idents(test)<-test$subtype\n",
    "options(repr.plot.width=4,repr.plot.height=4)\n",
    "VlnPlot(test,group.by = \"subtype\",\n",
    "        features=c(\"positive_cell_migration1\"),\n",
    "        pt.size = 0)+\n",
    "    geom_boxplot(width=0.35,fill=\"white\",outlier.colour = NA)+\n",
    "    scale_fill_manual(values = c('#911eb4','#e6beff'))\n",
    "ggsave(\"L2.Astrocyte.nC2500.rmMt_Rp.SCTregICMR.doscale.pc16.res035.k40_gfaphclust.all.positive_cell_migration_score.across.subtype.vlnplot.png\",width = 4,height = 4,dpi = 300)"
   ]
  },
  {
   "cell_type": "code",
   "execution_count": null,
   "id": "3c31551f",
   "metadata": {
    "collapsed": true,
    "vscode": {
     "languageId": "r"
    }
   },
   "outputs": [],
   "source": [
    "options(repr.plot.width=3.6,repr.plot.height=5)\n",
    "FeaturePlot(test,pt.size = 1,#cells = cells,\n",
    "            features = c(\"migration_marker1\"#,\"Mdk\",\"Itpkb\"\n",
    "                        ),\n",
    "           cols= c(#\"#cfe0e8\",\n",
    "    \n",
    "                                                     # '#b8a9c9', \n",
    "    '#d6d4e0',\n",
    "    #\"#f0f0f0\",\n",
    "    '#fff2df',\n",
    "    \"#eeac99\",#\"#ED797B\",\n",
    "                     \"#c83349\")\n",
    "           )"
   ]
  },
  {
   "cell_type": "code",
   "execution_count": null,
   "id": "86872a0a",
   "metadata": {
    "vscode": {
     "languageId": "r"
    }
   },
   "outputs": [],
   "source": [
    "pdf(\"astro.2subtypes.2marker.vlnplot_220913.pdf\",width = 8,height = 4)\n",
    "options(repr.plot.width=8,repr.plot.height=4)\n",
    "VlnPlot(test,group.by = \"subtype\",ncol = 4,\n",
    "        features=c(\"Pla2g7\",\"Slc7a10\",\"Gfap\",\"Dhrs1\"),\n",
    "        pt.size = 0)\n",
    "dev.off()"
   ]
  },
  {
   "cell_type": "code",
   "execution_count": null,
   "id": "94e38ecc",
   "metadata": {
    "collapsed": true,
    "vscode": {
     "languageId": "r"
    }
   },
   "outputs": [],
   "source": [
    "gfap_me<-read.csv(\"/home/jovyan/zxli_SCI/result/Seurat/sc_Astrocyte_recluster/lee/classifyBySpatialMarker/gfap.317_bi_m13.hclust2.cluster.metadata.csv\")\n",
    "rownames(gfap_me)<-gfap_me[,1]\n",
    "gfap_me<-gfap_me[,-1]\n",
    "head(gfap_me)"
   ]
  },
  {
   "cell_type": "code",
   "execution_count": null,
   "id": "82a79f3d",
   "metadata": {
    "vscode": {
     "languageId": "r"
    }
   },
   "outputs": [],
   "source": [
    "test$gfap_hclust<-NA\n",
    "test@meta.data[rownames(gfap_me),\"gfap_hclust\"]<-gfap_me$hcluster\n",
    "table(test$gfap_hclust)"
   ]
  },
  {
   "cell_type": "code",
   "execution_count": 510,
   "id": "c8312e56",
   "metadata": {
    "vscode": {
     "languageId": "r"
    }
   },
   "outputs": [],
   "source": [
    "saveRDS(test,\"L2.Astrocyte.nC2500.rmMt_Rp.SCTregICMR.doscale.pc16.res035.k40_gfaphclust.all.rds\")"
   ]
  },
  {
   "cell_type": "code",
   "execution_count": 3,
   "id": "61680b0b",
   "metadata": {
    "vscode": {
     "languageId": "r"
    }
   },
   "outputs": [],
   "source": [
    "test<-readRDS(\"L2.Astrocyte.nC2500.rmMt_Rp.SCTregICMR.doscale.pc16.res035.k40_gfaphclust.all.rds\")"
   ]
  },
  {
   "cell_type": "markdown",
   "id": "f639bfff",
   "metadata": {},
   "source": [
    "#### subset gfap cells"
   ]
  },
  {
   "cell_type": "code",
   "execution_count": null,
   "id": "32685b5f",
   "metadata": {
    "collapsed": true,
    "vscode": {
     "languageId": "r"
    }
   },
   "outputs": [],
   "source": [
    "test_g<-subset(test,subset=SCT_snn_res.0.2==0)\n",
    "test_g"
   ]
  },
  {
   "cell_type": "code",
   "execution_count": 45,
   "id": "eea06c5f",
   "metadata": {
    "vscode": {
     "languageId": "r"
    }
   },
   "outputs": [],
   "source": [
    "# remove small cluster(pc16, res01)\n",
    "test_g<-subset(test_g,subset= SCT_snn_res.0.1 ==0)"
   ]
  },
  {
   "cell_type": "code",
   "execution_count": 46,
   "id": "2e906bed",
   "metadata": {
    "vscode": {
     "languageId": "r"
    }
   },
   "outputs": [],
   "source": [
    "test_g<-FindVariableFeatures(test_g)"
   ]
  },
  {
   "cell_type": "code",
   "execution_count": null,
   "id": "9fe37fd8",
   "metadata": {
    "collapsed": true,
    "vscode": {
     "languageId": "r"
    }
   },
   "outputs": [],
   "source": [
    "test_g<-RunPCA(test_g#,features = astr_marker\n",
    "              )"
   ]
  },
  {
   "cell_type": "code",
   "execution_count": null,
   "id": "33c54c92",
   "metadata": {
    "collapsed": true,
    "vscode": {
     "languageId": "r"
    }
   },
   "outputs": [],
   "source": [
    "test_g<-FindNeighbors(test_g,dims=1:10,k.param = 20\n",
    "                     )\n",
    "for(i in c(0.1,0.125,0.15,0.2,0.3,0.35,0.4,0.45,0.5)){\n",
    "    test_g<-FindClusters(test_g,resolution = i)\n",
    "}\n"
   ]
  },
  {
   "cell_type": "code",
   "execution_count": null,
   "id": "d895f750",
   "metadata": {
    "collapsed": true,
    "vscode": {
     "languageId": "r"
    }
   },
   "outputs": [],
   "source": [
    "options(repr.plot.width=6,repr.plot.height=8)\n",
    "clustree(test_g,prefix = \"SCT_snn_res.\")"
   ]
  },
  {
   "cell_type": "code",
   "execution_count": null,
   "id": "654083bd",
   "metadata": {
    "collapsed": true,
    "vscode": {
     "languageId": "r"
    }
   },
   "outputs": [],
   "source": [
    "test_g<-RunUMAP(test_g,dims = 1:10)"
   ]
  },
  {
   "cell_type": "code",
   "execution_count": null,
   "id": "397a4ad5",
   "metadata": {
    "collapsed": true,
    "vscode": {
     "languageId": "r"
    }
   },
   "outputs": [],
   "source": [
    "options(repr.plot.width=10,repr.plot.height=4)\n",
    "DimPlot(test_g,reduction = \"umap\",#cols = DiscretePalette(n=10,palette = \"glasbey\"),#cells = cells,\n",
    "        group.by = c(\"SCT_snn_res.0.4\",\"SCT_snn_res.0.3\",\"time\"))#+\n",
    "    #scale_color_manual(values = c('#f2e394','#d5f4e6','#80ced6','#eea29a'))"
   ]
  },
  {
   "cell_type": "code",
   "execution_count": null,
   "id": "16a28267",
   "metadata": {
    "collapsed": true,
    "vscode": {
     "languageId": "r"
    }
   },
   "outputs": [],
   "source": [
    "options(repr.plot.width=3.5,repr.plot.height=4)\n",
    "DimPlot(test_g,reduction = \"umap\",#cols = DiscretePalette(n=10,palette = \"glasbey\"),#cells = cells,\n",
    "        group.by = c(\"SCT_snn_res.0.4\"))+\n",
    "    scale_color_manual(values = c('#618685',\n",
    "                                  '#f2e394',\n",
    "        #'#d5f4e6',\n",
    "        \n",
    "        '#f9d5e5',\n",
    "        '#80ced6',\n",
    "        '#eea29a'\n",
    "        \n",
    "        \n",
    "        \n",
    "        #,\n",
    "                                  \n",
    "                                  #,'#d6cbd3','#a2836e'\n",
    "                                 ))\n",
    "ggsave(\"Astrocyte.Gfap.subset.pc10.res04.5clusters.UMAP.png\",width = 3.5,height = 4,dpi = 300)"
   ]
  },
  {
   "cell_type": "code",
   "execution_count": null,
   "id": "c009a242",
   "metadata": {
    "collapsed": true,
    "vscode": {
     "languageId": "r"
    }
   },
   "outputs": [],
   "source": [
    "options(repr.plot.width=4,repr.plot.height=4)\n",
    "DimPlot(test_g,reduction = \"umap\",#cols = DiscretePalette(n=10,palette = \"glasbey\"),#cells = cells,\n",
    "        group.by = c(\"time\"))+\n",
    "    scale_color_manual(values = c('#374E55FF','#00A1D5FF',\n",
    "                                  '#B24745FF',\n",
    "                                  '#d6cbd3'\n",
    "\n",
    "                                 ))\n",
    "ggsave(\"Astrocyte.Gfap.subset.pc10.res04.time.UMAP.png\",width = 3.5,height = 4,dpi = 300)"
   ]
  },
  {
   "cell_type": "code",
   "execution_count": null,
   "id": "57c966d8",
   "metadata": {
    "vscode": {
     "languageId": "r"
    }
   },
   "outputs": [],
   "source": [
    "options(repr.plot.width=10,repr.plot.height=4)\n",
    "DimPlot(test_g,reduction = \"umap\",#cols = DiscretePalette(n=10,palette = \"glasbey\"),#cells = cells,\n",
    "        group.by = c(\"SCT_snn_res.0.1\",\"SCT_snn_res.0.3\",\"time\"))#+\n",
    "    #scale_color_manual(values = c('#f2e394','#d5f4e6','#80ced6','#eea29a'))"
   ]
  },
  {
   "cell_type": "code",
   "execution_count": 158,
   "id": "c67a4f8a",
   "metadata": {
    "vscode": {
     "languageId": "r"
    }
   },
   "outputs": [],
   "source": [
    "test_g<-AddModuleScore(test_g,features = list(dp_genes),name = \"dp_marker\")\n",
    "test_g<-AddModuleScore(test_g,features = list(dp_genes2),name = \"dp2_marker\")"
   ]
  },
  {
   "cell_type": "code",
   "execution_count": null,
   "id": "06dfd139",
   "metadata": {
    "collapsed": true,
    "vscode": {
     "languageId": "r"
    }
   },
   "outputs": [],
   "source": [
    "options(repr.plot.width=4,repr.plot.height=5)\n",
    "FeaturePlot(test_g,pt.size = 1,ncol = 1,#cells = cells,\n",
    "            features = c(\"dp_marker1\"#,\"Mdk\",\"Itpkb\"\n",
    "                        ),\n",
    "           cols= c(#\"#cfe0e8\",\n",
    "    \n",
    "                                                     # '#b8a9c9', \n",
    "    '#d6d4e0',\n",
    "    \"#f0f0f0\",\n",
    "    '#fff2df',\n",
    "    \"#eeac99\",#\"#ED797B\",\n",
    "                     \"#c83349\")\n",
    "           )\n",
    "ggsave(\"Astrocyte.Gfap.subset.pc10.res04.GM_Gfap_both_deg_score.UMAP.png\",width = 4,height = 5,dpi = 300)"
   ]
  },
  {
   "cell_type": "code",
   "execution_count": null,
   "id": "dafbcb9a",
   "metadata": {
    "collapsed": true,
    "vscode": {
     "languageId": "r"
    }
   },
   "outputs": [],
   "source": [
    "options(repr.plot.width=3.5,repr.plot.height=4)\n",
    "VlnPlot(test_g,group.by = \"SCT_snn_res.0.4\",\n",
    "        features = c('dp_marker1'),ncol = 1,\n",
    "        col = c('#618685',\n",
    "         '#f2e394',\n",
    "        '#f9d5e5',\n",
    "        '#80ced6',\n",
    "        '#eea29a'),\n",
    "        #slot = \"scale.data\",\n",
    "        pt.size = 0)+\n",
    "    geom_boxplot(width=0.2,fill=\"white\",outlier.colour = NA)\n",
    "ggsave(\"Astrocyte.Gfap.subset.pc10.res04.GM_Gfap_both_deg_score.5clusters.vlnplot.png\",width = 3.5,height = 4,dpi = 300)"
   ]
  },
  {
   "cell_type": "code",
   "execution_count": null,
   "id": "1cfda628",
   "metadata": {
    "collapsed": true,
    "vscode": {
     "languageId": "r"
    }
   },
   "outputs": [],
   "source": [
    "options(repr.plot.width=3.5,repr.plot.height=4)\n",
    "VlnPlot(test_g,group.by = \"SCT_snn_res.0.4\",\n",
    "        features = c('Nrxn1'),ncol = 1,\n",
    "        col = c('#618685',\n",
    "         '#f2e394',\n",
    "        '#f9d5e5',\n",
    "        '#80ced6',\n",
    "        '#eea29a'),\n",
    "        #slot = \"scale.data\",\n",
    "        pt.size = 0)+\n",
    "    geom_boxplot(width=0.2,fill=\"white\",outlier.colour = NA)\n",
    "ggsave(\"Astrocyte.Gfap.subset.pc10.res04.Nrxn1.data.vlnplot.png\",width = 3.5,height = 4,dpi = 300)"
   ]
  },
  {
   "cell_type": "code",
   "execution_count": null,
   "id": "3d989646",
   "metadata": {
    "collapsed": true,
    "vscode": {
     "languageId": "r"
    }
   },
   "outputs": [],
   "source": [
    "options(repr.plot.width=3.5,repr.plot.height=4)\n",
    "VlnPlot(test_g,group.by = \"SCT_snn_res.0.4\",\n",
    "        features = c('Nrxn2'),ncol = 1,\n",
    "        col = c('#618685',\n",
    "         '#f2e394',\n",
    "        '#f9d5e5',\n",
    "        '#80ced6',\n",
    "        '#eea29a'),\n",
    "        #slot = \"scale.data\",\n",
    "        pt.size = 0)+\n",
    "    geom_boxplot(width=0.2,fill=\"white\",outlier.colour = NA)"
   ]
  },
  {
   "cell_type": "code",
   "execution_count": null,
   "id": "7ccdbcc8",
   "metadata": {
    "collapsed": true,
    "vscode": {
     "languageId": "r"
    }
   },
   "outputs": [],
   "source": [
    "options(repr.plot.width=3.5,repr.plot.height=4)\n",
    "VlnPlot(test_g,group.by = \"SCT_snn_res.0.4\",\n",
    "        features = c('Slc7a10'),ncol = 1,\n",
    "        col = c('#618685',\n",
    "         '#f2e394',\n",
    "        '#f9d5e5',\n",
    "        '#80ced6',\n",
    "        '#eea29a'),\n",
    "        #slot = \"scale.data\",\n",
    "        pt.size = 0)+\n",
    "    geom_boxplot(width=0.2,fill=\"white\",outlier.colour = NA)\n",
    "ggsave(\"Astrocyte.Gfap.subset.pc10.res04.Slc7a10.data.vlnplot.png\",width = 3.5,height = 4,dpi = 300)"
   ]
  },
  {
   "cell_type": "code",
   "execution_count": null,
   "id": "ec407690",
   "metadata": {
    "collapsed": true,
    "vscode": {
     "languageId": "r"
    }
   },
   "outputs": [],
   "source": [
    "options(repr.plot.width=3.5,repr.plot.height=4)\n",
    "VlnPlot(test_g,group.by = \"SCT_snn_res.0.4\",\n",
    "        features = c('Gfap'),ncol = 1,\n",
    "        col = c('#618685',\n",
    "         '#f2e394',\n",
    "        '#f9d5e5',\n",
    "        '#80ced6',\n",
    "        '#eea29a'),\n",
    "        #slot = \"scale.data\",\n",
    "        pt.size = 0)+\n",
    "    geom_boxplot(width=0.2,fill=\"white\",outlier.colour = NA)\n",
    "ggsave(\"Astrocyte.Gfap.subset.pc10.res04.Gfap.data.vlnplot.png\",width = 3.5,height = 4,dpi = 300)"
   ]
  },
  {
   "cell_type": "code",
   "execution_count": null,
   "id": "85957579",
   "metadata": {
    "collapsed": true,
    "vscode": {
     "languageId": "r"
    }
   },
   "outputs": [],
   "source": [
    "options(repr.plot.width=3.5,repr.plot.height=4)\n",
    "VlnPlot(test_g,group.by = \"SCT_snn_res.0.4\",\n",
    "        features = c('Icam1'),ncol = 1,\n",
    "        col = c('#618685',\n",
    "         '#f2e394',\n",
    "        '#f9d5e5',\n",
    "        '#80ced6',\n",
    "        '#eea29a'),\n",
    "        #slot = \"scale.data\",\n",
    "        pt.size = 0)+\n",
    "    geom_boxplot(width=0.2,fill=\"white\",outlier.colour = NA)\n",
    "ggsave(\"Astrocyte.Gfap.subset.pc10.res04.Icam1.data.vlnplot.png\",width = 3.5,height = 4,dpi = 300)"
   ]
  },
  {
   "cell_type": "code",
   "execution_count": null,
   "id": "0bbc9d98",
   "metadata": {
    "collapsed": true,
    "vscode": {
     "languageId": "r"
    }
   },
   "outputs": [],
   "source": [
    "options(repr.plot.width=3.5,repr.plot.height=4)\n",
    "VlnPlot(test_g,group.by = \"SCT_snn_res.0.4\",\n",
    "        features = c('Igfbp2'),ncol = 1,\n",
    "        col = c('#618685',\n",
    "         '#f2e394',\n",
    "        '#f9d5e5',\n",
    "        '#80ced6',\n",
    "        '#eea29a'),\n",
    "        #slot = \"scale.data\",\n",
    "        pt.size = 0)+\n",
    "    geom_boxplot(width=0.2,fill=\"white\",outlier.colour = NA)\n",
    "ggsave(\"Astrocyte.Gfap.subset.pc10.res04.Igfbp2.data.vlnplot.png\",width = 3.5,height = 4,dpi = 300)"
   ]
  },
  {
   "cell_type": "code",
   "execution_count": null,
   "id": "e4e4d643",
   "metadata": {
    "collapsed": true,
    "vscode": {
     "languageId": "r"
    }
   },
   "outputs": [],
   "source": [
    "options(repr.plot.width=8,repr.plot.height=8)\n",
    "VlnPlot(test_g,group.by = \"SCT_snn_res.0.3\",cols = c('#f9d5e5',\n",
    "        '#80ced6',\n",
    "        '#eea29a'),\n",
    "        features = c('Slc39a14','Bdkrb2','H2-K1','Lrrc8a','Slc5a3','Tubb2a','Lgals3bp','Ptprj','Csf1','Pttg1ip','Osmr','Icam1','Stt3b'),ncol = 4,\n",
    "        #cols = c('#911eb4',\"#ff7b25\"),\n",
    "        #slot = \"scale.data\",\n",
    "        pt.size = 0)"
   ]
  },
  {
   "cell_type": "code",
   "execution_count": 308,
   "id": "1f5449d1",
   "metadata": {
    "vscode": {
     "languageId": "r"
    }
   },
   "outputs": [],
   "source": [
    "Idents(test_g)<-test_g$SCT_snn_res.0.4"
   ]
  },
  {
   "cell_type": "code",
   "execution_count": null,
   "id": "a654ebd5",
   "metadata": {
    "collapsed": true,
    "vscode": {
     "languageId": "r"
    }
   },
   "outputs": [],
   "source": [
    "mark<-FindAllMarkers(test_g,logfc.threshold = 0.25,min.pct = 0.5,\n",
    "                     only.pos = T,return.thresh = 0.01)\n"
   ]
  },
  {
   "cell_type": "code",
   "execution_count": 363,
   "id": "2e524c98",
   "metadata": {
    "vscode": {
     "languageId": "r"
    }
   },
   "outputs": [],
   "source": [
    "write.csv(mark,\"Astrocyte.Gfap.subset.pc10.res04.5clusters.fc05.pct05.marker.csv\")"
   ]
  },
  {
   "cell_type": "code",
   "execution_count": null,
   "id": "444ebffd",
   "metadata": {
    "collapsed": true,
    "vscode": {
     "languageId": "r"
    }
   },
   "outputs": [],
   "source": [
    "options(repr.plot.width=6,repr.plot.height=6)\n",
    "mark %>%\n",
    "    group_by(cluster) %>%\n",
    "    top_n(n = 10, wt = avg_log2FC) -> top10\n",
    "DoHeatmap(test_g, features = top10$gene,size = 5,group.colors = c('#618685',\n",
    "         '#f2e394',\n",
    "        '#f9d5e5',\n",
    "        '#80ced6',\n",
    "        '#eea29a')) +\n",
    "    scale_fill_gradientn(colours = c('#4575B4','#91BFDB','#E0F3F8','white','#FC8D59','#D73027'))#+ NoLegend()\n",
    "ggsave(\"Astrocyte.Gfap.subset.pc10.res04.5clusters.fc05.pct05.pad001.marker.top10.heatmap.png\",width = 6,height = 6,dpi = 300)"
   ]
  },
  {
   "cell_type": "code",
   "execution_count": null,
   "id": "87606af1",
   "metadata": {
    "vscode": {
     "languageId": "r"
    }
   },
   "outputs": [],
   "source": [
    "backgenes<-read.table(\"/result/Seurat/sc_Astrocyte_recluster/lee/classifyBySpatialMarker/L2.Astrocyte.nC2500.rmMt_Rp.SCTregICMR.doscale.background.gene.ENTREZID.txt\")\n",
    "backgenes<-as.character(backgenes$x)\n",
    "head(backgenes)"
   ]
  },
  {
   "cell_type": "code",
   "execution_count": null,
   "id": "5f1c4f21",
   "metadata": {
    "collapsed": true,
    "vscode": {
     "languageId": "r"
    }
   },
   "outputs": [],
   "source": [
    "library(org.Mm.eg.db)\n",
    "library(ggplot2)\n",
    "library(biomaRt)\n",
    "#grlabs<-split(gene.nodle.df$gene,gene.nodle.df$module)\n",
    "grlabs<-split(mark$gene,mark$cluster)\n",
    "gcSample = lapply(grlabs, function(gr) as.numeric(bitr(gr, fromType = \"SYMBOL\", toType = \"ENTREZID\", OrgDb = \"org.Mm.eg.db\")$ENTREZID))\n",
    "pvalueCutoff = 0.01\n",
    "qvalueCutoff = 0.01\n",
    "xx.mus.go2 <- compareCluster(gcSample, OrgDb='org.Mm.eg.db', fun='enrichGO', \n",
    "                            pvalueCutoff = pvalueCutoff, qvalueCutoff = qvalueCutoff, ont = \"BP\", \n",
    "                            readable=T,universe=backgenes,maxGSSize=150\n",
    "                           )\n",
    "#EnrichResGO_mm = xx.mus.go@compareClusterResult\n",
    "#options(repr.plot.width=23,repr.plot.height=22)\n",
    "#                  dotplot(xx.mus.go, title = paste0(\"Mouse Gene Ontology (qval < \", qvalueCutoff, \")\"))\n",
    "#saveRDS(xx.mus.go,\"pc20.k50.res02.cluster_fc025.pct025.pos.markergene_pqv001.max100.go_220524.rds\")\n"
   ]
  },
  {
   "cell_type": "code",
   "execution_count": 425,
   "id": "38159676",
   "metadata": {
    "vscode": {
     "languageId": "r"
    }
   },
   "outputs": [],
   "source": [
    "saveRDS(xx.mus.go2,\"Astrocyte.Gfap.subset.pc10.res04.5clusters.fc05.pct05.pad001.marker.pqval001.max150.go.rds\")"
   ]
  },
  {
   "cell_type": "code",
   "execution_count": null,
   "id": "758f750d",
   "metadata": {
    "collapsed": true,
    "vscode": {
     "languageId": "r"
    }
   },
   "outputs": [],
   "source": [
    "options(repr.plot.width=6,repr.plot.height=10)\n",
    "dotplot(xx.mus.go2,showCategory=10)"
   ]
  },
  {
   "cell_type": "code",
   "execution_count": null,
   "id": "500d6dbb",
   "metadata": {
    "collapsed": true,
    "vscode": {
     "languageId": "r"
    }
   },
   "outputs": [],
   "source": [
    "df<-xx.mus.go2@compareClusterResult\n",
    "head(df)\n",
    "dim(df)\n",
    "unique(df$Cluster)\n",
    "table(df$Cluster)\n",
    "library(dplyr)"
   ]
  },
  {
   "cell_type": "code",
   "execution_count": 432,
   "id": "2903afa3",
   "metadata": {
    "vscode": {
     "languageId": "r"
    }
   },
   "outputs": [],
   "source": [
    "df1 = df %>% group_by(.,Cluster) %>% filter(.,Count>=5) %>% top_n(.,-10,p.adjust) \n",
    "df1$Description = factor(df1$Description,levels = rev(unique(df1$Description)))              \n",
    "                  "
   ]
  },
  {
   "cell_type": "code",
   "execution_count": null,
   "id": "be688396",
   "metadata": {
    "collapsed": true,
    "vscode": {
     "languageId": "r"
    }
   },
   "outputs": [],
   "source": [
    "options(repr.plot.width=8, repr.plot.height=6.5)\n",
    "library(ggplot2)\n",
    "p=ggplot(df1,aes(Cluster,Description))+geom_point(aes(size=Count,color=p.adjust))+    \n",
    "    scale_color_gradientn(colors=brewer.pal(9,\"Spectral\"),guide = guide_colorbar(reverse = T))+\n",
    "    theme_bw()+\n",
    "    theme(axis.title = element_blank(),axis.text.y.left = element_text(size=13),\n",
    "          axis.text.x.bottom = element_text(size = 13,angle = 45,hjust = 1,vjust = 1))\n",
    "p\n",
    "ggsave(\"Astrocyte.Gfap.subset.pc10.res04.5cluster.fc05.pct05.pad001.marker.pqval001.max150.go.C5.pad_top10.point.png\",width = 8,height = 6.5,dpi = 300)\n"
   ]
  },
  {
   "cell_type": "code",
   "execution_count": 520,
   "id": "f861bf1f",
   "metadata": {
    "vscode": {
     "languageId": "r"
    }
   },
   "outputs": [],
   "source": [
    "#saveRDS(test_g,\"Astrocyte.Gfap.pc16.res02.rds\")\n",
    "saveRDS(test_g,\"Astrocyte.Gfap.subset.pc10.res04.rds\")"
   ]
  },
  {
   "cell_type": "code",
   "execution_count": 3,
   "id": "4991c200",
   "metadata": {
    "vscode": {
     "languageId": "r"
    }
   },
   "outputs": [],
   "source": [
    "test_g<-readRDS(\"Astrocyte.Gfap.subset.pc10.res04.rds\")"
   ]
  },
  {
   "cell_type": "markdown",
   "id": "4fe3147c",
   "metadata": {},
   "source": [
    "#### gfap clusters in astrocyte UMAP -220916"
   ]
  },
  {
   "cell_type": "code",
   "execution_count": null,
   "id": "10cf0ade",
   "metadata": {
    "vscode": {
     "languageId": "r"
    }
   },
   "outputs": [],
   "source": [
    "temp<-test[rownames(test),colnames(test_g)]\n",
    "temp"
   ]
  },
  {
   "cell_type": "code",
   "execution_count": 6,
   "id": "b6049e44",
   "metadata": {
    "vscode": {
     "languageId": "r"
    }
   },
   "outputs": [],
   "source": [
    "temp@meta.data<-test_g@meta.data"
   ]
  },
  {
   "cell_type": "code",
   "execution_count": 7,
   "id": "9e348952",
   "metadata": {
    "vscode": {
     "languageId": "r"
    }
   },
   "outputs": [],
   "source": [
    "rd<-as.data.frame(temp@reductions$umap@cell.embeddings)"
   ]
  },
  {
   "cell_type": "code",
   "execution_count": null,
   "id": "a9dfa1cb",
   "metadata": {
    "vscode": {
     "languageId": "r"
    }
   },
   "outputs": [],
   "source": [
    "cells<-rownames(rd)[rd$UMAP_1>-4 & rd$UMAP_2<4]\n",
    "length(cells)"
   ]
  },
  {
   "cell_type": "code",
   "execution_count": 10,
   "id": "f73f5561",
   "metadata": {
    "vscode": {
     "languageId": "r"
    }
   },
   "outputs": [],
   "source": [
    "temp<-temp[rownames(temp),cells]"
   ]
  },
  {
   "cell_type": "code",
   "execution_count": null,
   "id": "65c886d9",
   "metadata": {
    "vscode": {
     "languageId": "r"
    }
   },
   "outputs": [],
   "source": [
    "pdf(\"Astrocyte.Gfap.subset.pc10.res04.time.UMAP_astro.220916.pdf\",width = 3.6,height = 4.5)\n",
    "options(repr.plot.width=3.6,repr.plot.height=4.5)\n",
    "DimPlot(temp,reduction = \"umap\",pt.size = 1.3,#cols = DiscretePalette(n=10,palette = \"glasbey\"),#cells = cells,\n",
    "        group.by = c(\"SCT_snn_res.0.4\"))+\n",
    "    scale_color_manual(values = c('#618685',\n",
    "                                  '#f2e394',\n",
    "        #'#d5f4e6',\n",
    "        \n",
    "        '#f9d5e5',\n",
    "        '#80ced6',\n",
    "        '#eea29a'\n",
    "\n",
    "                                 ))\n",
    "dev.off()\n",
    "#ggsave(\"Astrocyte.Gfap.subset.pc10.res04.time.UMAP_astro.220916.png\",width = 3.6,height = 4.5,dpi = 400)"
   ]
  },
  {
   "cell_type": "markdown",
   "id": "253906f9",
   "metadata": {},
   "source": [
    "### surface marker"
   ]
  },
  {
   "cell_type": "code",
   "execution_count": null,
   "id": "9c432a9a",
   "metadata": {
    "collapsed": true,
    "vscode": {
     "languageId": "r"
    }
   },
   "outputs": [],
   "source": [
    "sf_gene<-read_excel(\"/result/Seurat/sc_Astrocyte_recluster/lee/S2_File.xlsx\",sheet = \"Table B\")\n",
    "head(sf_gene)"
   ]
  },
  {
   "cell_type": "code",
   "execution_count": null,
   "id": "ef866e8e",
   "metadata": {
    "collapsed": true,
    "vscode": {
     "languageId": "r"
    }
   },
   "outputs": [],
   "source": [
    "# dp state surface markers\n",
    "cand_sg<-intersect(mark[mark$cluster==3,\"gene\"],sf_gene$`ENTREZ gene symbol`)\n",
    "cand_sg"
   ]
  },
  {
   "cell_type": "code",
   "execution_count": null,
   "id": "39d1530e",
   "metadata": {
    "collapsed": true,
    "vscode": {
     "languageId": "r"
    }
   },
   "outputs": [],
   "source": [
    "options(repr.plot.width=14,repr.plot.height=18)\n",
    "VlnPlot(test_g,features = cand_sg,ncol = 8,\n",
    "        cols = c(c('#4575B4','#91BFDB','#E0F3F8','white','#FC8D59','#D73027')),\n",
    "        #slot = \"scale.data\",\n",
    "        pt.size = 0)\n",
    "ggsave(\"Astrocyte.Gfap.subset.pc10.res04.cluster3.fc05.pct05.pad001.surfacemarker.vlnplot.png\",width = 14,height = 18,dpi = 300)"
   ]
  }
 ],
 "metadata": {
  "kernelspec": {
   "display_name": "R",
   "language": "R",
   "name": "ir"
  },
  "language_info": {
   "codemirror_mode": "r",
   "file_extension": ".r",
   "mimetype": "text/x-r-source",
   "name": "R",
   "pygments_lexer": "r",
   "version": "4.1.0"
  }
 },
 "nbformat": 4,
 "nbformat_minor": 5
}
