{
 "cells": [
  {
   "cell_type": "code",
   "execution_count": null,
   "metadata": {
    "vscode": {
     "languageId": "r"
    }
   },
   "outputs": [],
   "source": [
    "wd<-\"/result/RCTD/ref_10x_astr/L3_taxon/Astrocyte_integrate_split2A/\"\n",
    "#dir.create(wd)\n",
    "setwd(wd)\n",
    "getwd()"
   ]
  },
  {
   "cell_type": "code",
   "execution_count": null,
   "metadata": {
    "scrolled": true,
    "vscode": {
     "languageId": "r"
    }
   },
   "outputs": [],
   "source": [
    "library(Seurat)\n",
    "library(ggplot2)\n",
    "library(patchwork)\n",
    "library(dplyr)\n",
    "#library(hdf5r)\n",
    "library(png)\n",
    "library(ggalluvial)\n",
    "#library(tidyverse)\n",
    "#library(clustree)\n",
    "library(RCTD)\n",
    "library(Matrix)\n",
    "#library(SPOTlight)\n",
    "library(future)\n",
    "library(grid)\n",
    "library(RColorBrewer)\n",
    "#library(pheatmap)\n",
    "library(circlize)\n",
    "library(igraph)\n",
    "#library(ComplexHeatmap)\n",
    "library(stringr)\n",
    "#library(ComplexHeatmap)\n",
    "library(cowplot)\n",
    "library(clusterProfiler)\n",
    "options(connectionObserver = NULL)\n",
    "library(biomaRt)\n",
    "#library(scClustViz)"
   ]
  },
  {
   "cell_type": "code",
   "execution_count": null,
   "metadata": {
    "collapsed": true,
    "vscode": {
     "languageId": "r"
    }
   },
   "outputs": [],
   "source": [
    "### 10X reference\n",
    "#da<-readRDS(\"/home/jovyan/SCI_visium/ref_deconvolution/GSE162610/SCI.integrated.20210830.rds\")\n",
    "#da\n",
    "me<-read.csv(\"/result/RCTD/10Xreference_myeloid_recluster/obs_sci.csv\")\n",
    "da<-readRDS(\"/data/deconvolution/sci.rds\")\n",
    "da"
   ]
  },
  {
   "cell_type": "code",
   "execution_count": null,
   "metadata": {
    "collapsed": true,
    "vscode": {
     "languageId": "r"
    }
   },
   "outputs": [],
   "source": [
    "DefaultAssay(da)<-\"RNA\"\n",
    "da"
   ]
  },
  {
   "cell_type": "code",
   "execution_count": null,
   "metadata": {
    "vscode": {
     "languageId": "r"
    }
   },
   "outputs": [],
   "source": [
    "cell<-intersect(me$X,colnames(da))\n",
    "length(cell)"
   ]
  },
  {
   "cell_type": "code",
   "execution_count": null,
   "metadata": {
    "scrolled": true,
    "vscode": {
     "languageId": "r"
    }
   },
   "outputs": [],
   "source": [
    "rownames(me)<-me$X\n",
    "me<-me[,-1]\n",
    "me<-me[colnames(da),]\n",
    "table(colnames(da)==rownames(me))"
   ]
  },
  {
   "cell_type": "code",
   "execution_count": null,
   "metadata": {
    "vscode": {
     "languageId": "r"
    }
   },
   "outputs": [],
   "source": [
    "neuron<-rownames(da@meta.data[da@meta.data$celltype==\"Neuron\",])\n",
    "length(neuron)"
   ]
  },
  {
   "cell_type": "code",
   "execution_count": null,
   "metadata": {
    "collapsed": true,
    "vscode": {
     "languageId": "r"
    }
   },
   "outputs": [],
   "source": [
    "me[neuron,\"celltype\"]<-\"Neuron\"\n",
    "table(me$celltype)\n",
    "me[neuron,\"L1_taxon\"]<-\"Neuron\"\n",
    "table(me$L1_taxon)\n",
    "me[neuron,\"L2_taxon\"]<-\"Neuron\"\n",
    "table(me$L2_taxon)\n",
    "me[neuron,\"L3_taxon\"]<-\"Neuron\"\n",
    "table(me$L3_taxon)"
   ]
  },
  {
   "cell_type": "code",
   "execution_count": null,
   "metadata": {
    "vscode": {
     "languageId": "r"
    }
   },
   "outputs": [],
   "source": [
    "na_cell<-rownames(me[is.na(me$L3_taxon),])\n",
    "length(na_cell)"
   ]
  },
  {
   "cell_type": "code",
   "execution_count": null,
   "metadata": {
    "vscode": {
     "languageId": "r"
    }
   },
   "outputs": [],
   "source": [
    "me_rm<-me[!rownames(me)%in%na_cell,]\n",
    "dim(me_rm)"
   ]
  },
  {
   "cell_type": "code",
   "execution_count": null,
   "metadata": {
    "collapsed": true,
    "vscode": {
     "languageId": "r"
    }
   },
   "outputs": [],
   "source": [
    "da_rm<-da[rownames(da),rownames(me_rm)]\n",
    "da_rm"
   ]
  },
  {
   "cell_type": "code",
   "execution_count": 32,
   "metadata": {
    "vscode": {
     "languageId": "r"
    }
   },
   "outputs": [],
   "source": [
    "da_rm@meta.data<-me_rm"
   ]
  },
  {
   "cell_type": "code",
   "execution_count": 33,
   "metadata": {
    "vscode": {
     "languageId": "r"
    }
   },
   "outputs": [],
   "source": [
    "da_ad<-da_rm"
   ]
  },
  {
   "cell_type": "code",
   "execution_count": 34,
   "metadata": {
    "vscode": {
     "languageId": "r"
    }
   },
   "outputs": [],
   "source": [
    "saveRDS(da_rm,\"10X.L3_taxon.na.processed.rds\")"
   ]
  },
  {
   "cell_type": "code",
   "execution_count": 7,
   "metadata": {
    "vscode": {
     "languageId": "r"
    }
   },
   "outputs": [],
   "source": [
    "da_rm<-readRDS(\"10X.L3_taxon.na.processed.rds\")"
   ]
  },
  {
   "cell_type": "code",
   "execution_count": 36,
   "metadata": {
    "vscode": {
     "languageId": "r"
    }
   },
   "outputs": [],
   "source": [
    "DefaultAssay(da_rm)<-\"RNA\""
   ]
  },
  {
   "cell_type": "code",
   "execution_count": 37,
   "metadata": {
    "vscode": {
     "languageId": "r"
    }
   },
   "outputs": [],
   "source": [
    "da_rm<-CreateSeuratObject(counts = da_rm@assays$RNA@counts,meta.data = da_rm@meta.data)"
   ]
  },
  {
   "cell_type": "code",
   "execution_count": null,
   "metadata": {
    "collapsed": true,
    "vscode": {
     "languageId": "r"
    }
   },
   "outputs": [],
   "source": [
    "da1_astr<-da_rm[rownames(da_rm),rownames(da_rm@meta.data[da_rm@meta.data$L3_taxon==\"Astrocyte\",])]\n",
    "da1_astr\n",
    "table(da1_astr$L3_taxon)"
   ]
  },
  {
   "cell_type": "code",
   "execution_count": 40,
   "metadata": {
    "vscode": {
     "languageId": "r"
    }
   },
   "outputs": [],
   "source": [
    "saveRDS(da1_astr,\"10X.L3.Astrcoyte.RNA.rds\")"
   ]
  },
  {
   "cell_type": "code",
   "execution_count": 1,
   "metadata": {
    "vscode": {
     "languageId": "r"
    }
   },
   "outputs": [],
   "source": [
    "### split-pool reference\n",
    "da2<-readRDS(\"/result/RCTD/split_ref/sc.reference.ALS.rmUnkonwn.rds\")\n"
   ]
  },
  {
   "cell_type": "code",
   "execution_count": null,
   "metadata": {
    "vscode": {
     "languageId": "r"
    }
   },
   "outputs": [],
   "source": [
    "meta2<-data.frame(da2@cell_types,row.names = colnames(da2@counts))\n",
    "dim(meta2)\n",
    "colnames(meta2)[1]<-\"cell_types\"\n",
    "table(meta2$cell_types)"
   ]
  },
  {
   "cell_type": "code",
   "execution_count": null,
   "metadata": {
    "vscode": {
     "languageId": "r"
    }
   },
   "outputs": [],
   "source": [
    "da_s<-CreateSeuratObject(counts = da2@counts,meta.data = meta2\n",
    "                        )\n",
    "da_s"
   ]
  },
  {
   "cell_type": "code",
   "execution_count": 7,
   "metadata": {
    "vscode": {
     "languageId": "r"
    }
   },
   "outputs": [],
   "source": [
    "da_s<-NormalizeData(da_s)"
   ]
  },
  {
   "cell_type": "code",
   "execution_count": 8,
   "metadata": {
    "vscode": {
     "languageId": "r"
    }
   },
   "outputs": [],
   "source": [
    "Idents(da_s)<-da_s$cell_types"
   ]
  },
  {
   "cell_type": "code",
   "execution_count": null,
   "metadata": {
    "vscode": {
     "languageId": "r"
    }
   },
   "outputs": [],
   "source": [
    "pdf(\"Rosenberg.allcelltypes.Pla2g7.Vlnplot_2.pdf\",width = 10,height = 4)\n",
    "options(repr.plot.width=10,repr.plot.height=4)\n",
    "VlnPlot(da_s,features = c(\"Pla2g7\"),#ncol = 4,\n",
    "        #cols = c('#911eb4',\"#ff7b25\",\"#e6beff\"),\n",
    "        #slot = \"scale.data\",\n",
    "        pt.size = 0)\n",
    "dev.off()"
   ]
  },
  {
   "cell_type": "code",
   "execution_count": null,
   "metadata": {
    "vscode": {
     "languageId": "r"
    }
   },
   "outputs": [],
   "source": [
    "pdf(\"Rosenberg.allcelltypes.Igfbp2.Vlnplot_1.pdf\",width = 10,height = 4)\n",
    "options(repr.plot.width=10,repr.plot.height=4)\n",
    "VlnPlot(da_s,features = c(\"Igfbp2\"),#ncol = 4,\n",
    "        #cols = c('#911eb4',\"#ff7b25\",\"#e6beff\"),\n",
    "        #slot = \"scale.data\",\n",
    "        pt.size = 0.5)\n",
    "dev.off()"
   ]
  },
  {
   "cell_type": "code",
   "execution_count": 9,
   "metadata": {
    "vscode": {
     "languageId": "r"
    }
   },
   "outputs": [],
   "source": [
    "# Basic function to convert human to mouse gene names\n",
    "convertHumanGeneList <- function(x){\n",
    "\n",
    "require(\"biomaRt\")\n",
    "human = useMart(\"ensembl\", dataset = \"hsapiens_gene_ensembl\")\n",
    "mouse = useMart(\"ensembl\", dataset = \"mmusculus_gene_ensembl\")\n",
    "\n",
    "genesV2 = getLDS(attributes = c(\"hgnc_symbol\"), filters = \"hgnc_symbol\", values = x , mart = human, attributesL = c(\"mgi_symbol\"), martL = mouse, uniqueRows=T)\n",
    "\n",
    "humanx <- unique(genesV2[, 2])\n",
    "\n",
    "# Print the first 6 genes found to the screen\n",
    "print(head(humanx))\n",
    "return(humanx)\n",
    "}"
   ]
  },
  {
   "cell_type": "code",
   "execution_count": null,
   "metadata": {
    "collapsed": true,
    "vscode": {
     "languageId": "r"
    }
   },
   "outputs": [],
   "source": [
    "### signatures of cell types\n",
    "cell_marker<-FindAllMarkers(da_s,logfc.threshold = 1,only.pos = TRUE)"
   ]
  },
  {
   "cell_type": "code",
   "execution_count": 16,
   "metadata": {
    "vscode": {
     "languageId": "r"
    }
   },
   "outputs": [],
   "source": [
    "write.csv(cell_marker,\"Rosenberg.celltype_marker.fc1.pos.csv\")"
   ]
  },
  {
   "cell_type": "code",
   "execution_count": null,
   "metadata": {
    "collapsed": true,
    "vscode": {
     "languageId": "r"
    }
   },
   "outputs": [],
   "source": [
    "da2_astr<-da_s[rownames(da_s),rownames(da_s@meta.data[da_s@meta.data$cell_types %in% c('Astrocyte_Gfap','Astrocyte_Slc7a10',\"Astro_Svep1\"),])]\n",
    "da2_astr\n",
    "table(da2_astr$cell_types)"
   ]
  },
  {
   "cell_type": "code",
   "execution_count": 64,
   "metadata": {
    "vscode": {
     "languageId": "r"
    }
   },
   "outputs": [],
   "source": [
    "saveRDS(da2_astr,\"split-pool.astrocyte.rds\")"
   ]
  },
  {
   "attachments": {},
   "cell_type": "markdown",
   "metadata": {},
   "source": [
    "### label transfer split-pool astrocyte"
   ]
  },
  {
   "cell_type": "code",
   "execution_count": 67,
   "metadata": {
    "vscode": {
     "languageId": "r"
    }
   },
   "outputs": [],
   "source": [
    "query<-da1_astr\n",
    "query<-NormalizeData(query,verbose = F)\n",
    "query<-FindVariableFeatures(query,selection.method = \"vst\")\n",
    "query<-ScaleData(query,verbose=F)"
   ]
  },
  {
   "cell_type": "code",
   "execution_count": 71,
   "metadata": {
    "vscode": {
     "languageId": "r"
    }
   },
   "outputs": [],
   "source": [
    "ref<-da2_astr\n",
    "ref<-NormalizeData(ref,verbose = F)\n",
    "ref<-FindVariableFeatures(ref,selection.method = \"vst\")\n",
    "ref<-ScaleData(ref,verbose = F)"
   ]
  },
  {
   "cell_type": "code",
   "execution_count": null,
   "metadata": {
    "collapsed": true,
    "vscode": {
     "languageId": "r"
    }
   },
   "outputs": [],
   "source": [
    "ref<-RunPCA(ref,npcs = 30,verbose = F)\n",
    "ref<-RunUMAP(ref,reduction = \"pca\",dims = 1:30)\n",
    "#DimPlot(ref,reduction = \"umap\",group.by = \"cell_types\")"
   ]
  },
  {
   "cell_type": "code",
   "execution_count": null,
   "metadata": {
    "collapsed": true,
    "vscode": {
     "languageId": "r"
    }
   },
   "outputs": [],
   "source": [
    "anchors<-FindTransferAnchors(reference = ref,query = query,dims = 1:30)\n",
    "predictions<-TransferData(anchorset=anchors,refdata=ref$cell_types,dims = 1:30)\n",
    "query<-AddMetaData(query,metadata = predictions)"
   ]
  },
  {
   "cell_type": "code",
   "execution_count": null,
   "metadata": {
    "collapsed": true,
    "vscode": {
     "languageId": "r"
    }
   },
   "outputs": [],
   "source": [
    "options(repr.plot.width=10,repr.plot.height=6)\n",
    "VlnPlot(query,c(\"Gfap\",\"Slc7a10\",\"Svep1\"),group.by = \"predicted.id\",pt.size = 0)\n",
    "ggsave(\"splitpool_3astr.labeltransfer.10x_L3.astr.markers.vlnplot_220509.png\",width = 10,height = 6)"
   ]
  },
  {
   "cell_type": "code",
   "execution_count": 80,
   "metadata": {
    "vscode": {
     "languageId": "r"
    }
   },
   "outputs": [],
   "source": [
    "cell1<-rownames(query@meta.data[query@meta.data$predicted.id==\"Astro_Svep1\",])\n",
    "cell2<-rownames(query@meta.data[query@meta.data$predicted.id==\"Astrocyte_Gfap\",])\n",
    "cell3<-rownames(query@meta.data[query@meta.data$predicted.id==\"Astrocyte_Slc7a10\",])"
   ]
  },
  {
   "cell_type": "code",
   "execution_count": 87,
   "metadata": {
    "vscode": {
     "languageId": "r"
    }
   },
   "outputs": [],
   "source": [
    "da3<-da2[rownames(da2),#rownames(da2@meta.data[!da2@meta.data$time==\"7dpi\",])\n",
    "        ]\n",
    "da3$labeltranfer<-da3$L3_taxon\n",
    "da3@meta.data[cell1,\"labeltranfer\"]<-\"Astro_Svep1\"\n",
    "da3@meta.data[cell2,\"labeltranfer\"]<-\"Astrocyte_Gfap\"\n",
    "da3@meta.data[cell3,\"labeltranfer\"]<-\"Astrocyte_Slc7a10\""
   ]
  },
  {
   "cell_type": "code",
   "execution_count": null,
   "metadata": {
    "collapsed": true,
    "vscode": {
     "languageId": "r"
    }
   },
   "outputs": [],
   "source": [
    "rmcell<-names(da3$labeltranfer[!is.na(da3$labeltranfer)])\n",
    "length(rmcell)\n",
    "head(rmcell)\n",
    "da3_filt<-da3[rownames(da3),rmcell]\n",
    "unique(da3_filt$labeltranfer)"
   ]
  },
  {
   "cell_type": "code",
   "execution_count": null,
   "metadata": {
    "collapsed": true,
    "vscode": {
     "languageId": "r"
    }
   },
   "outputs": [],
   "source": [
    "table(da3_filt$labeltranfer)\n",
    "Idents(da3_filt)<-da3_filt$labeltranfer\n",
    "levels(Idents(da3_filt))"
   ]
  },
  {
   "cell_type": "code",
   "execution_count": null,
   "metadata": {
    "collapsed": true,
    "vscode": {
     "languageId": "r"
    }
   },
   "outputs": [],
   "source": [
    "options(repr.plot.width=15,repr.plot.height=15)\n",
    "VlnPlot(da3_filt,c(\"Gfap\",\"Slc7a10\"),group.by = \"labeltranfer\",pt.size = 0,ncol = 1)\n",
    "ggsave(\"splitpool_3astr.labeltransfer.10x_L3.astrocyte.marker.across.allcelltypes.vlnplot_220509.png\",width=15,height=15)\n"
   ]
  },
  {
   "cell_type": "code",
   "execution_count": 94,
   "metadata": {
    "vscode": {
     "languageId": "r"
    }
   },
   "outputs": [],
   "source": [
    "saveRDS(da3_filt,\"splitpool_3astr.labeltransfer.10x_L3.astrocyte.with7dpi.rds\")"
   ]
  },
  {
   "cell_type": "code",
   "execution_count": 95,
   "metadata": {
    "vscode": {
     "languageId": "r"
    }
   },
   "outputs": [],
   "source": [
    "## subset astrocyte object\n",
    "da3_astr<-da3_filt[rownames(da3_filt),rownames(da3_filt@meta.data[da3_filt@meta.data$labeltranfer %in% c('Astrocyte_Slc7a10','Astrocyte_Gfap','Astro_Svep1'),])]\n",
    "saveRDS(da3_astr,\"splitpool_3astr.labeltransfer.10x_L3.astrocyte.labelAstrcoyte.object.with7dpi.rds\")"
   ]
  },
  {
   "cell_type": "code",
   "execution_count": null,
   "metadata": {
    "collapsed": true,
    "vscode": {
     "languageId": "r"
    }
   },
   "outputs": [],
   "source": [
    "set.seed(1234)\n",
    "da3_filt_down<-subset(da3_filt,downsample=1000)\n",
    "table(Idents(da3_filt_down))"
   ]
  },
  {
   "cell_type": "code",
   "execution_count": null,
   "metadata": {
    "collapsed": true,
    "vscode": {
     "languageId": "r"
    }
   },
   "outputs": [],
   "source": [
    "options(repr.plot.width=15,repr.plot.height=15)\n",
    "VlnPlot(da3_filt_down,c(\"Gfap\",\"Slc7a10\"),group.by = \"labeltranfer\",pt.size = 0,ncol = 1)\n",
    "ggsave(\"2astr.labeltransfer.L3.astrocyte.marker.across.allcelltypes.without7dpi.downsample1000.vlnplot.png\",width=15,height=15)"
   ]
  },
  {
   "cell_type": "code",
   "execution_count": null,
   "metadata": {
    "collapsed": true,
    "vscode": {
     "languageId": "r"
    }
   },
   "outputs": [],
   "source": [
    "## create RCTD reference\n",
    "table(Idents(da3_filt_down))\n",
    "cell<-da3_filt_down$labeltranfer\n",
    "cell<-as.factor(cell)\n",
    "head(cell)\n",
    "reference<-Reference(da3_filt_down@assays$RNA@counts,cell)\n",
    "saveRDS(reference,\"2reference.2astr.labeltransfer.L3.astrocyte_RCTD.reference.seed1234.down1000.without7dpi.rds\")"
   ]
  }
 ],
 "metadata": {
  "kernelspec": {
   "display_name": "R",
   "language": "R",
   "name": "ir"
  },
  "language_info": {
   "codemirror_mode": "r",
   "file_extension": ".r",
   "mimetype": "text/x-r-source",
   "name": "R",
   "pygments_lexer": "r",
   "version": "4.1.0"
  }
 },
 "nbformat": 4,
 "nbformat_minor": 2
}
