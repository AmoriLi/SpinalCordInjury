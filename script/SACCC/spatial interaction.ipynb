{
 "cells": [
  {
   "cell_type": "code",
   "execution_count": null,
   "metadata": {
    "vscode": {
     "languageId": "r"
    }
   },
   "outputs": [],
   "source": [
    "#wd<-\"/home/jovyan/result/cellchat/time_domain_220325/celltype/binaried.permutate.Fisher_220423_cc/\"\n",
    "#wd<-\"/home/jovyan/result/RCTD/fcreg1_220503/LR/220525/strategy1_220601/\"\n",
    "wd<-\"/home/jovyan/zxli_SCI/result/RCTD/testC5/WT_all/fcreg1_220503/LR/220824.EM/\"\n",
    "if(!dir.exists(wd))\n",
    "    dir.create(wd)\n",
    "#wd<-\"/home/jovyan/SCI_project/result/CellChat/neuron.astro_test/\"\n",
    "#dir.create(wd)\n",
    "setwd(wd)\n",
    "getwd()"
   ]
  },
  {
   "cell_type": "code",
   "execution_count": null,
   "metadata": {
    "scrolled": true,
    "vscode": {
     "languageId": "r"
    }
   },
   "outputs": [],
   "source": [
    "#library required packages\n",
    "library(CellChat)\n",
    "library(patchwork)\n",
    "options(stringsAsFactors = FALSE)\n",
    "library(Seurat)\n",
    "#library(SPOTlight)\n",
    "library(SingleCellExperiment)\n",
    "#library(SpatialExperiment)\n",
    "#library(scater)\n",
    "#library(scran)\n",
    "library(igraph)\n",
    "library(stringr)\n",
    "library(stringi)\n",
    "library(reshape2)\n",
    "library(RColorBrewer)"
   ]
  },
  {
   "cell_type": "markdown",
   "metadata": {},
   "source": [
    "### get cellchat signaling gene list"
   ]
  },
  {
   "cell_type": "code",
   "execution_count": null,
   "metadata": {
    "collapsed": true,
    "vscode": {
     "languageId": "r"
    }
   },
   "outputs": [],
   "source": [
    "### extract cellchat LR interaction to our data\n",
    "CellChatDB<-CellChatDB.mouse\n",
    "interaction_input<-CellChatDB$interaction\n",
    "head(interaction_input)"
   ]
  },
  {
   "cell_type": "code",
   "execution_count": null,
   "metadata": {
    "collapsed": true,
    "vscode": {
     "languageId": "r"
    }
   },
   "outputs": [],
   "source": [
    "cc_lr<-as.data.frame(str_split(interaction_input$interaction_name_2,\" - \",simplify = T))\n",
    "cc_r<-as.data.frame(str_split(gsub(\"\\\\)\",\"\",gsub(\"\\\\(\",\"\",cc_lr$V2)),\"\\\\+\",simplify = T))\n",
    "head(cc_lr)\n",
    "head(cc_r)\n",
    "colnames(cc_r)<-c(\"R1\",\"R2\")\n",
    "cc_r$R1<-gsub(\"[[:space:]]\",\"\",cc_r$R1)\n",
    "cc_r$R2<-gsub(\"[[:space:]]\",\"\",cc_r$R2,fixed = TRUE)\n",
    "cc_lr<-cbind(cc_lr[,1],cc_r)\n",
    "head(cc_lr)\n",
    "cc_lr<-apply(cc_lr,2,function(x) gsub(\"[[:space:]]\",\"\",x))"
   ]
  },
  {
   "cell_type": "code",
   "execution_count": null,
   "metadata": {
    "collapsed": true,
    "vscode": {
     "languageId": "r"
    }
   },
   "outputs": [],
   "source": [
    "rownames(cc_lr)<-rownames(interaction_input)\n",
    "colnames(cc_lr)<-c(\"ligand\",\"receptor1\",\"receptor2\")\n",
    "head(cc_lr)\n",
    "tail(cc_lr)"
   ]
  },
  {
   "cell_type": "code",
   "execution_count": 45,
   "metadata": {
    "vscode": {
     "languageId": "r"
    }
   },
   "outputs": [],
   "source": [
    "write.csv(cc_lr,\"cellchat.all.lr.interaction.df.csv\")"
   ]
  },
  {
   "cell_type": "code",
   "execution_count": null,
   "metadata": {
    "collapsed": true,
    "vscode": {
     "languageId": "r"
    }
   },
   "outputs": [],
   "source": [
    "cc_lr<-read.csv(\"/home/jovyan/zxli_SCI/result/cellchat/celltype/cellchat.all.lr.interaction.df.csv\")\n",
    "rownames(cc_lr)<-cc_lr[,1]\n",
    "cc_lr<-cc_lr[,-1]\n",
    "head(cc_lr)\n",
    "dim(cc_lr)"
   ]
  },
  {
   "cell_type": "code",
   "execution_count": null,
   "metadata": {
    "vscode": {
     "languageId": "r"
    }
   },
   "outputs": [],
   "source": [
    "lr_genes<-unique(cc_lr[cc_lr!=\"\"])\n",
    "length(lr_genes)"
   ]
  },
  {
   "cell_type": "markdown",
   "metadata": {},
   "source": [
    "### load spatial data"
   ]
  },
  {
   "cell_type": "code",
   "execution_count": null,
   "metadata": {
    "collapsed": true,
    "vscode": {
     "languageId": "r"
    }
   },
   "outputs": [],
   "source": [
    "ma<-readRDS(\"/home/jovyan/zxli_SCI/result/cellchat/WT.SCT.data.rds\")\n",
    "#ma<-readRDS(\"/home/jovyan/result/cellchat/time_domain_220325/celltype/binaried.permutate.Fisher_220509_cc/WT.SCT.scale.data.rds\")\n",
    "ma[1:5,1:5]"
   ]
  },
  {
   "cell_type": "code",
   "execution_count": 50,
   "metadata": {
    "vscode": {
     "languageId": "r"
    }
   },
   "outputs": [],
   "source": [
    "ma_bi<-ma"
   ]
  },
  {
   "cell_type": "code",
   "execution_count": null,
   "metadata": {
    "collapsed": true,
    "vscode": {
     "languageId": "r"
    }
   },
   "outputs": [],
   "source": [
    "meta<-read.csv(\"/home/jovyan/zxli_SCI/result/Seurat/reg.CC/WT_replace_v2/res02_220310/WT.SCT.pc20.k50.res02.meta.data.csv\")\n",
    "rownames(meta)<-meta[,1]\n",
    "head(meta)"
   ]
  },
  {
   "cell_type": "code",
   "execution_count": 26,
   "metadata": {
    "vscode": {
     "languageId": "r"
    }
   },
   "outputs": [],
   "source": [
    "test_me<-meta\n",
    "test_me<-cbind(test_me,test2)"
   ]
  },
  {
   "cell_type": "markdown",
   "metadata": {},
   "source": [
    "### load celltype dataframe"
   ]
  },
  {
   "cell_type": "code",
   "execution_count": null,
   "metadata": {
    "vscode": {
     "languageId": "r"
    }
   },
   "outputs": [],
   "source": [
    "#wt_df<-read.csv(\"/home/jovyan/result/RCTD/testC5/WT_all/fc1.fcreg1.conf5_220317/16celltypes.dec.meta.csv\")\n",
    "wt_df<-read.csv(\"/home/jovyan/zxli_SCI/result/RCTD/testC5/WT_all/fcreg1_220503/16celltypes.dec_conf.nor.meta.csv\")\n",
    "rownames(wt_df)<-wt_df[,1]\n",
    "#colnames(wt_df)\n",
    "celltypes<-colnames(wt_df)[c(47:ncol(wt_df))]\n",
    "celltypes\n",
    "\n",
    "weight_df<-wt_df[,celltypes]"
   ]
  },
  {
   "cell_type": "markdown",
   "metadata": {},
   "source": [
    "#### remove Neuron and Oligodendrocyte noise through EM and get new wt_df -220601"
   ]
  },
  {
   "cell_type": "code",
   "execution_count": 17,
   "metadata": {
    "vscode": {
     "languageId": "r"
    }
   },
   "outputs": [],
   "source": [
    "test<-wt_df\n",
    "test$Neuron_bi<-ifelse(test$Neuron>0.34405,1,0)\n",
    "test$Oligo_bi<-ifelse(test$Oligodendrocyte>0.44393,1,0)"
   ]
  },
  {
   "cell_type": "code",
   "execution_count": null,
   "metadata": {
    "collapsed": true,
    "vscode": {
     "languageId": "r"
    }
   },
   "outputs": [],
   "source": [
    "options(repr.plot.width=20,repr.plot.height=18)\n",
    "ggplot(test,aes(x=x.ad,y=y.ad,color=as.factor(Neuron_bi)))+\n",
    "    geom_point(size=1.2)+\n",
    "    scale_color_manual(values = c(\"darkblue\",\"yellow\"))+\n",
    "    theme(panel.background = element_blank(),\n",
    "          axis.text = element_blank(),\n",
    "          axis.title = element_blank(),\n",
    "          axis.ticks = element_blank())\n",
    "ggsave(\"Neuron.mean.binary.spatial.png\",width = 20,height = 18,dpi = 300)"
   ]
  },
  {
   "cell_type": "code",
   "execution_count": null,
   "metadata": {
    "collapsed": true,
    "vscode": {
     "languageId": "r"
    }
   },
   "outputs": [],
   "source": [
    "options(repr.plot.width=20,repr.plot.height=18)\n",
    "ggplot(test,aes(x=x.ad,y=y.ad,color=as.factor(Oligo_bi)))+\n",
    "    geom_point(size=1.2)+\n",
    "    scale_color_manual(values = c(\"darkblue\",\"yellow\"))+\n",
    "    theme(panel.background = element_blank(),\n",
    "          axis.text = element_blank(),\n",
    "          axis.title = element_blank(),\n",
    "          axis.ticks = element_blank())\n",
    "ggsave(\"Oligodendrocyte.mean.binary.spatial.png\",width = 20,height = 18,dpi = 300)"
   ]
  },
  {
   "cell_type": "code",
   "execution_count": null,
   "metadata": {
    "vscode": {
     "languageId": "r"
    }
   },
   "outputs": [],
   "source": [
    "test$Neuron<-test$Neuron*test$Neuron_bi\n",
    "test$Oligodendrocyte<-test$Oligodendrocyte*test$Oligo_bi\n",
    "test<-test[,!colnames(test)%in%c(\"Neuron_bi\",\"Oligo_bi\")]\n",
    "dim(test)\n",
    "wt_df_ad<-test"
   ]
  },
  {
   "cell_type": "code",
   "execution_count": null,
   "metadata": {
    "vscode": {
     "languageId": "r"
    }
   },
   "outputs": [],
   "source": [
    "weight_df_ad<-wt_df_ad[,celltypes]\n",
    "dim(weight_df_ad)"
   ]
  },
  {
   "cell_type": "code",
   "execution_count": 20,
   "metadata": {
    "vscode": {
     "languageId": "r"
    }
   },
   "outputs": [],
   "source": [
    "write.csv(weight_df_ad,\"16celltypes.dec_conf.nor_NOrmMean.csv\")"
   ]
  },
  {
   "cell_type": "code",
   "execution_count": null,
   "metadata": {
    "collapsed": true,
    "vscode": {
     "languageId": "r"
    }
   },
   "outputs": [],
   "source": [
    "weight_df_ad<-read.csv(\"../220530.EM/16celltypes.dec_conf.nor_NOrmMean.csv\")\n",
    "rownames(weight_df_ad)<-weight_df_ad[,1]\n",
    "weight_df_ad<-weight_df_ad[,-1]\n",
    "head(weight_df_ad)"
   ]
  },
  {
   "cell_type": "code",
   "execution_count": null,
   "metadata": {
    "vscode": {
     "languageId": "r"
    }
   },
   "outputs": [],
   "source": [
    "sub_lr_c<-intersect(lr_genes,rownames(ma))\n",
    "length(sub_lr_c)"
   ]
  },
  {
   "cell_type": "markdown",
   "metadata": {},
   "source": [
    "#### EM strategy -220530"
   ]
  },
  {
   "cell_type": "code",
   "execution_count": 28,
   "metadata": {
    "vscode": {
     "languageId": "r"
    }
   },
   "outputs": [],
   "source": [
    "#lr_bi_df<-data.frame(row.names = colnames(ma))\n",
    "lr_bi_gm<-list()\n",
    "for(i in 1:nrow(cc_lr)){\n",
    "        lr<-as.character(cc_lr[i,][cc_lr[i,]!=\"\"])\n",
    "        if(all(lr %in% sub_lr_c)){\n",
    "            temp<-ma[lr,]\n",
    "            temp<-as.data.frame(apply(temp,2,function(x) exp(mean(log(x)))))\n",
    "            colnames(temp)<-rownames(cc_lr)[i]\n",
    "            s<-summary(temp[,1])\n",
    "            em<-0.5*(s[[3]])+(s[[2]]+s[[5]])/4\n",
    "            \n",
    "            lr_bi_gm[[rownames(cc_lr)[i]]]<-em\n",
    "            #binary\n",
    "            #temp[,1]<-ifelse(temp[,1]>em,1,0)\n",
    "            \n",
    "            #lr_bi_df[,rownames(cc_lr)[i]]<-temp[,1]\n",
    "            }\n",
    "        }\n",
    "                                      "
   ]
  },
  {
   "cell_type": "code",
   "execution_count": 24,
   "metadata": {
    "vscode": {
     "languageId": "r"
    }
   },
   "outputs": [],
   "source": [
    "saveRDS(lr_bi_gm,\"SCT.data.LR.binary_GM.list.RDS\")"
   ]
  },
  {
   "cell_type": "code",
   "execution_count": 59,
   "metadata": {
    "vscode": {
     "languageId": "r"
    }
   },
   "outputs": [],
   "source": [
    "saveRDS(lr_bi_df,\"SCT.data.LR.binary.RDS\")"
   ]
  },
  {
   "cell_type": "code",
   "execution_count": null,
   "metadata": {
    "collapsed": true,
    "vscode": {
     "languageId": "r"
    }
   },
   "outputs": [],
   "source": [
    "lr_bi_df<-readRDS(\"/home/jovyan/zxli_SCI/result/RCTD/testC5/WT_all/fcreg1_220503/LR/220530.EM/SCT.data.LR.binary.RDS\")\n",
    "dim(lr_bi_df)\n",
    "head(lr_bi_df)"
   ]
  },
  {
   "cell_type": "code",
   "execution_count": null,
   "metadata": {
    "vscode": {
     "languageId": "r"
    }
   },
   "outputs": [],
   "source": [
    "### calculate lr average expression in each time -220825\n",
    "me_exp<-readRDS(\"/home/jovyan/zxli_SCI/result/cellchat/celltype/2205013/spatial_visualization_220524/cellchat.lr.express.and.gm_express.meta.rds\")"
   ]
  },
  {
   "cell_type": "code",
   "execution_count": 467,
   "metadata": {
    "vscode": {
     "languageId": "r"
    }
   },
   "outputs": [],
   "source": [
    "lr_time_mean<-data.frame(row.names = colnames(lr_bi_df))\n",
    "for(i in unique(meta$time)){\n",
    "    lr_time_mean[,i]<-0\n",
    "    cells<-rownames(meta)[meta$time==i]\n",
    "    for(j in rownames(lr_time_mean)){\n",
    "        temp_m<-me_exp[cells,]\n",
    "        s<-summary(temp_m[,j])\n",
    "        em<-0.5*(s[[3]])+(s[[2]]+s[[5]])/4\n",
    "        lr_time_mean[j,i]<-em\n",
    "    }\n",
    "}"
   ]
  },
  {
   "cell_type": "code",
   "execution_count": 526,
   "metadata": {
    "vscode": {
     "languageId": "r"
    }
   },
   "outputs": [],
   "source": [
    "lr_time_sum<-data.frame(row.names = colnames(lr_bi_df))\n",
    "for(i in unique(meta$time)){\n",
    "    lr_time_sum[,i]<-0\n",
    "    cells<-rownames(meta)[meta$time==i]\n",
    "    for(j in rownames(lr_time_sum)){\n",
    "        temp_m<-me_exp[cells,]\n",
    "        s<-sum(temp_m[,j])\n",
    "        lr_time_sum[j,i]<-s\n",
    "    }\n",
    "}"
   ]
  },
  {
   "cell_type": "code",
   "execution_count": 528,
   "metadata": {
    "vscode": {
     "languageId": "r"
    }
   },
   "outputs": [],
   "source": [
    "write.csv(lr_time_sum,\"lr.4times.sum.csv\")"
   ]
  },
  {
   "cell_type": "code",
   "execution_count": 472,
   "metadata": {
    "vscode": {
     "languageId": "r"
    }
   },
   "outputs": [],
   "source": [
    "write.csv(lr_time_mean,\"lr.4times.gm.csv\")"
   ]
  },
  {
   "cell_type": "code",
   "execution_count": null,
   "metadata": {
    "collapsed": true,
    "vscode": {
     "languageId": "r"
    }
   },
   "outputs": [],
   "source": [
    "test_me<-meta\n",
    "test_me<-cbind(test_me,lr_bi_df)\n",
    "dim(test_me)"
   ]
  },
  {
   "cell_type": "code",
   "execution_count": null,
   "metadata": {
    "collapsed": true,
    "vscode": {
     "languageId": "r"
    }
   },
   "outputs": [],
   "source": [
    "options(repr.plot.width=20,repr.plot.height=18)\n",
    "ggplot(test_me,aes(x=x.ad,y=y.ad,color=as.factor(SPP1_CD44)))+\n",
    "    geom_point(size=1.2)+\n",
    "    #scale_color_manual(values = rev(c(\"orange\",\"#911eb4\",\"#e6beff\",\"blue\",\"grey\")))+\n",
    "    theme(panel.background = element_blank(),\n",
    "          axis.text = element_blank(),\n",
    "          axis.title = element_blank(),\n",
    "          axis.ticks = element_blank())+\n",
    "    scale_color_manual(values = c(\"#440154FF\",\"#FDE725FF\"))\n",
    "ggsave(\"SPP1_CD44.binary.spatial.png\",width = 20,height = 18,dpi = 300)"
   ]
  },
  {
   "cell_type": "code",
   "execution_count": 11,
   "metadata": {
    "vscode": {
     "languageId": "r"
    }
   },
   "outputs": [],
   "source": [
    "me_exp<-readRDS(\"/home/jovyan/zxli_SCI/result/cellchat/celltype/2205013/spatial_visualization_220524/cellchat.lr.express.and.gm_express.meta.rds\")"
   ]
  },
  {
   "cell_type": "markdown",
   "metadata": {},
   "source": [
    "### firstly calculate the lr gm across 16 samples -220825"
   ]
  },
  {
   "cell_type": "code",
   "execution_count": null,
   "metadata": {
    "vscode": {
     "languageId": "r"
    }
   },
   "outputs": [],
   "source": [
    "#subset represent samples\n",
    "meta_sub<-subset(meta,sample %in% c('WT_sham_H_R2_1mm_2','WT_sham_H_R2_4','WT_sham_T_210323_4','WT_sham_T_R2_1mm_4',\n",
    "                                                  'WT_3h_H_R2_1mm_2','WT_3h_H_R2_2','WT_3h_T_R2_1','WT_3h_T_210330_1mm_3',\n",
    "                                                  'WT_24h_H_R1_1mm_3','WT_24h_H_R1_4','WT_24h_T_201231_3','WT_24h_T_R1_1mm_3',\n",
    "                                                  'WT_72h_H_R1_1mm_2','WT_72h_H_210323_1','WT_72h_T_R2_4','WT_72h_T_R1_1mm_3'))\n",
    "dim(meta_sub)\n",
    "cells<-rownames(meta_sub)\n"
   ]
  },
  {
   "cell_type": "code",
   "execution_count": null,
   "metadata": {
    "vscode": {
     "languageId": "r"
    }
   },
   "outputs": [],
   "source": [
    "ma_sub<-ma[sub_lr_c,cells]\n",
    "dim(ma_sub)"
   ]
  },
  {
   "cell_type": "code",
   "execution_count": 5,
   "metadata": {
    "vscode": {
     "languageId": "r"
    }
   },
   "outputs": [],
   "source": [
    "lr_bi_df<-readRDS(\"../220530.EM/SCT.data.LR.binary.RDS\")"
   ]
  },
  {
   "cell_type": "markdown",
   "metadata": {},
   "source": [
    "### test celltype pair with lr each time point"
   ]
  },
  {
   "cell_type": "markdown",
   "metadata": {},
   "source": [
    "1. firstly check the lr binary spatial distribution "
   ]
  },
  {
   "cell_type": "code",
   "execution_count": null,
   "metadata": {
    "collapsed": true,
    "vscode": {
     "languageId": "r"
    }
   },
   "outputs": [],
   "source": [
    "test_me<-cbind(meta_sub,temp_lr_bi_df)\n",
    "dim(test_me)"
   ]
  },
  {
   "cell_type": "code",
   "execution_count": null,
   "metadata": {
    "collapsed": true,
    "vscode": {
     "languageId": "r"
    }
   },
   "outputs": [],
   "source": [
    "options(repr.plot.width=20,repr.plot.height=18)\n",
    "ggplot(test_me,aes(x=x.ad,y=y.ad,color=as.factor(PSAP_GPR37L1)))+\n",
    "    geom_point(size=1.2)+\n",
    "    #scale_color_manual(values = rev(c(\"orange\",\"#911eb4\",\"#e6beff\",\"blue\",\"grey\")))+\n",
    "    theme(panel.background = element_blank(),\n",
    "          axis.text = element_blank(),\n",
    "          axis.title = element_blank(),\n",
    "          axis.ticks = element_blank())+\n",
    "    scale_color_manual(values = c(\"#440154FF\",\"#FDE725FF\"))\n",
    "ggsave(\"PSAP_GPR37L1.binary.spatial.png\",width = 20,height =18,dpi = 300 )"
   ]
  },
  {
   "cell_type": "markdown",
   "metadata": {},
   "source": [
    "2. fisher exact test on lr and cp"
   ]
  },
  {
   "cell_type": "code",
   "execution_count": 6,
   "metadata": {
    "vscode": {
     "languageId": "r"
    }
   },
   "outputs": [],
   "source": [
    "num_talk<-apply(lr_bi_df,2,sum)"
   ]
  },
  {
   "cell_type": "code",
   "execution_count": 7,
   "metadata": {
    "vscode": {
     "languageId": "r"
    }
   },
   "outputs": [],
   "source": [
    "# remove num_talk <20                           \n",
    "lr_bi_df_sub<-lr_bi_df[,num_talk>20]"
   ]
  },
  {
   "cell_type": "code",
   "execution_count": 20,
   "metadata": {
    "vscode": {
     "languageId": "r"
    }
   },
   "outputs": [],
   "source": [
    "cal_jc<-function(weight_df){\n",
    "    df<-data.frame(row.names = colnames(weight_df))\n",
    "    for(i in colnames(weight_df)){\n",
    "        df[,i]<-0\n",
    "        for(j in colnames(weight_df)){\n",
    "            jc<-sum(weight_df[,i]>0 & weight_df[,j]>0)/sum(weight_df[,i]>0 | weight_df[,j]>0)\n",
    "            df[j,i]<-jc\n",
    "        }\n",
    "    }\n",
    "    return(df)\n",
    "}"
   ]
  },
  {
   "cell_type": "code",
   "execution_count": null,
   "metadata": {
    "collapsed": true,
    "vscode": {
     "languageId": "r"
    }
   },
   "outputs": [],
   "source": [
    "for(s in unique(meta_sub$time)){\n",
    "#for(s in c('WT_sham_H_R2_1mm_3','WT_sham_H_R2_1mm_2','WT_sham_H_R2_1mm_1','WT_sham_H_R2_1mm_4')){\n",
    "   ### construct expression matrix for each section\n",
    "    #s<-\"WT_sham_H_R2_1mm_2\"\n",
    "    cell<-meta_sub[meta_sub$time==s,\"barcode\"]\n",
    "    temp_lr_bi_df<-lr_bi_df_sub[cell,]                           \n",
    "    #cell-pair matrix\n",
    "    temp_wt<-weight_df_ad[cell,]#weight_df[cell,]\n",
    "    temp_wt<-temp_wt[,colSums(temp_wt)>1] #remove un-existed cell types\n",
    "    wt_bi_df<-data.frame(row.names = rownames(temp_wt))\n",
    "    cor_df<-cor(temp_wt,method = \"spearman\")\n",
    "    #jc_df<-cal_jc(temp_wt)\n",
    "    # construct cell type pairs\n",
    "    ij <- combn(colnames(temp_wt), 2,simplify = T)\n",
    "    length(ij)\n",
    "    for(i in 1:ncol(ij)){\n",
    "        pair<-ij[,i]\n",
    "        cn<-paste(pair[1],pair[2],sep = \"_\")\n",
    "        if(cor_df[pair[1],pair[2]]<(-0.4) & s %in% c(\"WT_sham\",\"WT_3h\")){\n",
    "            wt_bi_df[,cn]<-0\n",
    "            }\n",
    "        #if(jc_df[pair[1],pair[2]]<0.06){\n",
    "        #    wt_bi_df[,cn]<-0\n",
    "        #    }\n",
    "        else{\n",
    "            inter_spots1<-rownames(temp_wt[temp_wt[,pair[1]]>0 & temp_wt[,pair[2]]>0,])\n",
    "            wt_bi_df[,cn]<-0\n",
    "            if(length(inter_spots1)>10)\n",
    "                wt_bi_df[inter_spots1,cn]<-1  \n",
    "            }\n",
    "              \n",
    "        }\n",
    "    head(wt_bi_df)\n",
    "    f2<-\"cell-pair.colocalize.binary_result2/\"\n",
    "    if(!dir.exists(f2))\n",
    "        dir.create(f2)\n",
    "    write.csv(wt_bi_df,paste0(f2,s,\".binaried.celltype_pair.csv\"))\n",
    "    cp_bi_df_sub<-wt_bi_df[,colSums(wt_bi_df)!=0]\n",
    "    \n",
    "    ###Fisher's exact test\n",
    "    #calculate LR's association with cellpair and get the LR-cp double sig spot number\n",
    "    lr_cp_pval_df<-data.frame(row.names = colnames(temp_lr_bi_df))\n",
    "    lr_cp_spot_n<-data.frame(row.names = colnames(temp_lr_bi_df))\n",
    "    lr_cp_jc_df<-data.frame(row.names = colnames(temp_lr_bi_df))\n",
    "    #lr_cp_pcc_df<-data.frame(row.names = colnames(temp_lr_bi_df))                          \n",
    "    for(i in colnames(cp_bi_df_sub)){\n",
    "        lr_cp_pval_df[,i]<-NA\n",
    "        lr_cp_spot_n[,i]<-NA\n",
    "        for(j in colnames(temp_lr_bi_df)){\n",
    "            #if(all(table(temp_temp_lr_bi_df[,j],cp_bi_df_sub[,i])==2)){\n",
    "            pp1<-temp_lr_bi_df[,j]\n",
    "            lr_ind<-rownames(temp_lr_bi_df)[pp1==1]\n",
    "            pp2<-cp_bi_df_sub[,i]\n",
    "            cp_ind<-rownames(cp_bi_df_sub)[pp2==1]\n",
    "            # pcc<-cor(pp1,pp2)\n",
    "            pp1<-factor(pp1,levels=c(0,1))\n",
    "            pp2<-factor(pp2,levels=c(0,1))\n",
    "            f_df<-table(pp1,pp2)\n",
    "            p<-fisher.test(f_df,alternative = \"greater\")$p.val\n",
    "            lr_cp_pval_df[j,i]<-p\n",
    "            \n",
    "            n<-f_df[2,2]\n",
    "            #nn<-f_df[1,1]\n",
    "            lr_cp_spot_n[j,i]<-n\n",
    "            \n",
    "            #JC<-length(intersect(cp_ind,lr_ind))/length(unique(c(cp_ind,lr_ind)))\n",
    "            #lr_cp_jc_df[j,i]<-JC\n",
    "           # lr_cp_pcc_df[j,i]<-pcc\n",
    "            #f(n<nn)\n",
    "            #   lr_cp_pval_df[j,i]<-1\n",
    "            #}\n",
    "            \n",
    "        }\n",
    "    }\n",
    "    \n",
    "    lr_cp_n_long<-lr_cp_spot_n\n",
    "    lr_cp_n_long$lr<-rownames(lr_cp_n_long)\n",
    "    lr_cp_n_long<-melt(lr_cp_n_long)\n",
    "    colnames(lr_cp_n_long)<-c(\"lr\",\"cp\",\"n_spot\")\n",
    "    lr_cp_n_long$key<-paste0(lr_cp_n_long$lr,\"-\",lr_cp_n_long$cp)\n",
    "    head(lr_cp_n_long)\n",
    "    ## add the most possible cp of each LR and its pval\n",
    "    #r_cp_pval_df$top1.cp<-colnames(lr_cp_pval_df)[apply(lr_cp_pval_df,1,which.min)]\n",
    "    #olnames(lr_cp_pval_df)\n",
    "    #r_cp_pval_df$top1.cp.pval<-apply(lr_cp_pval_df[,1:(ncol(lr_cp_pval_df)-1)],1,min)\n",
    "    ##ead(lr_cp_pval_df)\n",
    "    f3<-\"LR.cp.Fisher.pval_result2/\"\n",
    "    if(!dir.exists(f3))\n",
    "        dir.create(f3)\n",
    "    f3a<-\"LR.cp.Fisher.pval_result2/pval.df/\"\n",
    "    if(!dir.exists(f3a))\n",
    "        dir.create(f3a)                       \n",
    "    write.csv(lr_cp_pval_df,paste0(f3a,s,\".cellpair.LR.fishers.pval.df\"))\n",
    "    \n",
    "    lr_cp_long_df<-lr_cp_pval_df#[,-which(colnames(lr_cp_pval_df)%in%c(\"top1.cp\",\"top1.cp.pval\"))]\n",
    "    lr_cp_long_df$lr<-rownames(lr_cp_long_df)\n",
    "    lr_cp_long_df<-melt(lr_cp_long_df)\n",
    "    lr_cp_long_df$key<-paste0(lr_cp_long_df$lr,\"-\",lr_cp_long_df$variable)\n",
    "    colnames(lr_cp_long_df)<-c(\"lr\",\"cp\",\"pval\",\"key\")\n",
    "    head(lr_cp_long_df)\n",
    "    \n",
    "    #jc_long_df<-lr_cp_jc_df                           \n",
    "    #jc_long_df$lr<-rownames(lr_cp_jc_df)\n",
    "    #jc_long_df<-melt(jc_long_df)\n",
    "    #colnames(jc_long_df)<-c(\"lr\",'cp','JC')\n",
    "    #jc_long_df$key<-paste0(jc_long_df$lr,\"-\",jc_long_df$cp)\n",
    "    #head(jc_long_df)\n",
    "    \n",
    "   #pcc_long_df<-lr_cp_pcc_df                  --\\++     \n",
    "   #pcc_long_df$lr<-rownames(pcc_long_df)\n",
    "   #pcc_long_df<-melt(pcc_long_df)\n",
    "   #colnames(pcc_long_df)<-c(\"lr\",\"cp\",\"pcc\")\n",
    "   #pcc_long_df$key<-paste0(jc_long_df$lr,\"-\",jc_long_df$variable)\n",
    "   #head(jc_long_df)                           \n",
    "    \n",
    "    lr_cp_long<-merge(lr_cp_long_df,lr_cp_n_long[,c(3,4)],by = \"key\")\n",
    "    #lr_cp_long<-merge(lr_cp_long,jc_long_df[,c(3,4)],by = \"key\")\n",
    "    #lr_cp_long<-merge(lr_cp_long,jc_long_df[,c(3,4)],by = \"key\")                           \n",
    "    head(lr_cp_long)\n",
    "    dim(lr_cp_long)\n",
    "    \n",
    "    lr_cp_long_sub<-subset(lr_cp_long,n_spot>10&pval<0.01)\n",
    "    #calculate cp's lr average expression\n",
    "    lr_cp_long_sub$EM<-0\n",
    "    lr_cp_long_sub$cp_lr_mean<-0\n",
    "    for(i in unique(lr_cp_long_sub$cp)){\n",
    "        cp_spots<-rownames(cp_bi_df_sub)[cp_bi_df_sub[,i]==1]\n",
    "        cp_lr<-unique(lr_cp_long_sub[lr_cp_long_sub$cp==i,\"lr\"])\n",
    "        for(j in cp_lr){\n",
    "            cp_lr_MExp<-mean(me_exp[cp_spots,j])\n",
    "            lr_cp_long_sub[lr_cp_long_sub$cp==i & lr_cp_long_sub$lr==j,\"EM\"]<-lr_bi_gm[[j]]\n",
    "            lr_cp_long_sub[lr_cp_long_sub$cp==i & lr_cp_long_sub$lr==j,\"cp_lr_mean\"]<-cp_lr_MExp\n",
    "        }\n",
    "    }\n",
    "    f3b<-\"LR.cp.Fisher.pval_result2/pval.long.df/\"\n",
    "    if(!dir.exists(f3b))\n",
    "        dir.create(f3b) \n",
    "    write.csv(lr_cp_long,paste0(f3b,s,\".cellpair.LR.pval.spots.long.all.csv\"))\n",
    "    write.csv(lr_cp_long_sub,paste0(f3b,s,\".cellpair.LR.pval.spots.long.csv\"))            \n",
    "}                   "
   ]
  },
  {
   "cell_type": "markdown",
   "metadata": {},
   "source": [
    "#### just calculate sample1, and directly get the result of each timepoint"
   ]
  },
  {
   "cell_type": "code",
   "execution_count": null,
   "metadata": {
    "vscode": {
     "languageId": "r"
    }
   },
   "outputs": [],
   "source": [
    "f3b<-\"LR.cp.Fisher.pval_result2/pval.long.df/\"\n",
    "f<-dir(f3b)\n",
    "f<-f[c(2,4,6,8)]\n",
    "f"
   ]
  },
  {
   "cell_type": "code",
   "execution_count": null,
   "metadata": {
    "collapsed": true,
    "vscode": {
     "languageId": "r"
    }
   },
   "outputs": [],
   "source": [
    "temp1<-read.csv(paste0(f3b,f[4]))\n",
    "temp1<-temp1[,-1]\n",
    "temp1<-subset(temp1,pval<1e-3&n_spot>10)\n",
    "dim(temp1)\n",
    "head(temp1)"
   ]
  },
  {
   "cell_type": "code",
   "execution_count": null,
   "metadata": {
    "collapsed": true,
    "vscode": {
     "languageId": "r"
    }
   },
   "outputs": [],
   "source": [
    "# load sham data\n",
    "temp1<-read.csv(paste0(f3b,f[4]))\n",
    "temp1<-temp1[,-1]\n",
    "temp1<-subset(temp1,pval<=1e-3&n_spot>10)\n",
    "#colnames(temp1)<-c(\"key\",\"lr\",\"cp\",\"pval\",\"n_spot\",\"EM\")\n",
    "temp1$autocrine<-c(str_split(temp1$lr,\"_\",simplify = T)[,1]==str_split(temp1$lr,\"_\",simplify = T)[,2])\n",
    "head(temp1)\n",
    "temp2<-read.csv(paste0(f3b,f[2]))\n",
    "temp2<-temp2[,-1]\n",
    "temp2<-subset(temp2,pval<=1e-3&n_spot>10)\n",
    "#colnames(temp2)<-c(\"key\",\"lr\",\"cp\",\"pval\",\"n_spot\",\"JC\")\n",
    "temp2$autocrine<-c(str_split(temp2$lr,\"_\",simplify = T)[,1]==str_split(temp2$lr,\"_\",simplify = T)[,2])\n",
    "head(temp2)\n",
    "temp3<-read.csv(paste0(f3b,f[1]))\n",
    "temp3<-temp3[,-1]\n",
    "temp3<-subset(temp3,pval<=1e-3&n_spot>10)\n",
    "#colnames(temp3)<-c(\"key\",\"lr\",\"cp\",\"pval\",\"n_spot\",\"JC\")\n",
    "temp3$autocrine<-c(str_split(temp3$lr,\"_\",simplify = T)[,1]==str_split(temp3$lr,\"_\",simplify = T)[,2])\n",
    "head(temp3)\n",
    "temp4<-read.csv(paste0(f3b,f[3]))\n",
    "temp4<-temp4[,-1]\n",
    "temp4<-subset(temp4,pval<=1e-3&n_spot>10)\n",
    "#colnames(temp4)<-c(\"key\",\"lr\",\"cp\",\"pval\",\"n_spot\",\"JC\")\n",
    "temp4$autocrine<-c(str_split(temp4$lr,\"_\",simplify = T)[,1]==str_split(temp4$lr,\"_\",simplify = T)[,2])\n",
    "head(temp4)"
   ]
  },
  {
   "cell_type": "code",
   "execution_count": 6,
   "metadata": {
    "vscode": {
     "languageId": "r"
    }
   },
   "outputs": [],
   "source": [
    "sf3<-\"4time.spmc-04.pval1e-4_spot10.lr.cp_sc2/\"\n",
    "    if(!dir.exists(sf3))\n",
    "        dir.create(sf3)"
   ]
  },
  {
   "cell_type": "code",
   "execution_count": null,
   "metadata": {
    "collapsed": true,
    "vscode": {
     "languageId": "r"
    }
   },
   "outputs": [],
   "source": [
    "# add crosstalk shared with single cell result at corresponding timepoint\n",
    "sc_df<-read.csv(\"/home/jovyan/zxli_SCI/result/cellchat/Astr_state_220623/uninj.fc05.pc05.min10.interaction.net.csv\")\n",
    "sc_df$source[sc_df$source %in% c(\"WM.Gfap\",\"GM.Gfap\")]<-\"Astrocyte.Gfap\"\n",
    "sc_df$target[sc_df$target %in% c(\"WM.Gfap\",\"GM.Gfap\")]<-\"Astrocyte.Gfap\"\n",
    "sc_df$key1<-paste0(sc_df$interaction_name,\"-\",sc_df$source,\"_\",sc_df$target)\n",
    "sc_df$key2<-paste0(sc_df$interaction_name,\"-\",sc_df$target,\"_\",sc_df$source)\n",
    "head(sc_df)\n",
    "sc_int<-intersect(unique(temp1$key),unique(c(sc_df$key1,sc_df$key2)))\n",
    "sc_int                   \n",
    "temp1$sc_shared<-\"N\"\n",
    "temp1$sc_shared<-ifelse(temp1$key %in% sc_int,\"Y\",\"N\")\n",
    "head(temp1)\n",
    "table(temp1$sc_shared)\n",
    "\n",
    "write.csv(temp1,paste0(sf3,\"sham.spmc-04_2.pval1e-3_spot10.lr.cp.long.df_sc.csv\"))     "
   ]
  },
  {
   "cell_type": "code",
   "execution_count": null,
   "metadata": {
    "collapsed": true,
    "vscode": {
     "languageId": "r"
    }
   },
   "outputs": [],
   "source": [
    "# add crosstalk shared with single cell result at corresponding timepoint\n",
    "#sc_df<-read.csv(\"/home/jovyan/result/cellchat/time_domain_220325/10X_sc/allcelltype_result/uninj_s3.df.net.csv\")\n",
    "#sc_df$key1<-paste0(sc_df$interaction_name,\"-\",sc_df$source,\"_\",sc_df$target)\n",
    "#sc_df$key2<-paste0(sc_df$interaction_name,\"-\",sc_df$target,\"_\",sc_df$source)\n",
    "#head(sc_df)\n",
    "#sc_int<-intersect(unique(temp2$key),unique(c(sc_df$key1,sc_df$key2)))\n",
    "#sc_int                   \n",
    "temp2$sc_shared<-\"N\"\n",
    "#temp2$sc_shared<-ifelse(temp2$key %in% sc_int,\"Y\",\"N\")\n",
    "head(temp2)\n",
    "table(temp2$sc_shared)\n",
    "\n",
    "write.csv(temp2,paste0(sf3,\"3h.spmc-04_2.pval1e-3_spot10.lr.cp.long.df_sc.csv\"))     "
   ]
  },
  {
   "cell_type": "code",
   "execution_count": null,
   "metadata": {
    "collapsed": true,
    "vscode": {
     "languageId": "r"
    }
   },
   "outputs": [],
   "source": [
    "# add crosstalk shared with single cell result at corresponding timepoint\n",
    "sc_df<-read.csv(\"/home/jovyan/zxli_SCI/result/cellchat/Astr_state_220623/d1.fc05.pc05.min10.interaction.net.csv\")\n",
    "sc_df$source[sc_df$source %in% c(\"WM.Gfap\",\"GM.Gfap\")]<-\"Astrocyte.Gfap\"\n",
    "sc_df$target[sc_df$target %in% c(\"WM.Gfap\",\"GM.Gfap\")]<-\"Astrocyte.Gfap\"\n",
    "sc_df$key1<-paste0(sc_df$interaction_name,\"-\",sc_df$source,\"_\",sc_df$target)\n",
    "sc_df$key2<-paste0(sc_df$interaction_name,\"-\",sc_df$target,\"_\",sc_df$source)\n",
    "head(sc_df)\n",
    "sc_int<-intersect(unique(temp3$key),unique(c(sc_df$key1,sc_df$key2)))\n",
    "sc_int                   \n",
    "temp3$sc_shared<-\"N\"\n",
    "temp3$sc_shared<-ifelse(temp3$key %in% sc_int,\"Y\",\"N\")\n",
    "head(temp3)\n",
    "table(temp3$sc_shared)\n",
    "\n",
    "write.csv(temp3,paste0(sf3,\"24h.spmc-04_2.pval1e-3_spot10.lr.cp.long.df_sc.csv\"))     "
   ]
  },
  {
   "cell_type": "code",
   "execution_count": null,
   "metadata": {
    "collapsed": true,
    "vscode": {
     "languageId": "r"
    }
   },
   "outputs": [],
   "source": [
    "sc_df<-read.csv(\"/home/jovyan/zxli_SCI/result/cellchat/Astr_state_220623/d1.fc05.pc05.min10.interaction.net.csv\")\n",
    "sc_df$source[sc_df$source %in% c(\"WM.Gfap\",\"GM.Gfap\")]<-\"Astrocyte.Gfap\"\n",
    "sc_df$target[sc_df$target %in% c(\"WM.Gfap\",\"GM.Gfap\")]<-\"Astrocyte.Gfap\"\n",
    "sc_df$key1<-paste0(sc_df$interaction_name,\"-\",sc_df$source,\"_\",sc_df$target)\n",
    "sc_df$key2<-paste0(sc_df$interaction_name,\"-\",sc_df$target,\"_\",sc_df$source)\n",
    "head(sc_df)"
   ]
  },
  {
   "cell_type": "code",
   "execution_count": null,
   "metadata": {
    "collapsed": true,
    "vscode": {
     "languageId": "r"
    }
   },
   "outputs": [],
   "source": [
    "# add crosstalk shared with single cell result at corresponding timepoint\n",
    "sc_df<-read.csv(\"/home/jovyan/zxli_SCI/result/cellchat/Astr_state_220623/d3.fc05.pc05.min10.interaction.net.csv\")\n",
    "sc_df$source[sc_df$source %in% c(\"WM.Gfap\",\"GM.Gfap\")]<-\"Astrocyte.Gfap\"\n",
    "sc_df$target[sc_df$target %in% c(\"WM.Gfap\",\"GM.Gfap\")]<-\"Astrocyte.Gfap\"\n",
    "sc_df$key1<-paste0(sc_df$interaction_name,\"-\",sc_df$source,\"_\",sc_df$target)\n",
    "sc_df$key2<-paste0(sc_df$interaction_name,\"-\",sc_df$target,\"_\",sc_df$source)\n",
    "head(sc_df)\n",
    "sc_int<-intersect(unique(temp4$key),unique(c(sc_df$key1,sc_df$key2)))\n",
    "sc_int                   \n",
    "temp4$sc_shared<-\"N\"\n",
    "temp4$sc_shared<-ifelse(temp4$key %in% sc_int,\"Y\",\"N\")\n",
    "head(temp4)\n",
    "table(temp4$sc_shared)\n",
    "\n",
    "write.csv(temp4,paste0(sf3,\"72h.spmc-04_2.pval1e-3_spot10.lr.cp.long.df_sc.csv\"))     "
   ]
  },
  {
   "cell_type": "code",
   "execution_count": null,
   "metadata": {
    "collapsed": true,
    "vscode": {
     "languageId": "r"
    }
   },
   "outputs": [],
   "source": [
    "sc_df<-read.csv(\"/home/jovyan/zxli_SCI/result/cellchat/Astr_state_220623/d3.fc05.pc05.min10.interaction.net.csv\")\n",
    "sc_df$source[sc_df$source %in% c(\"WM.Gfap\",\"GM.Gfap\")]<-\"Astrocyte.Gfap\"\n",
    "sc_df$target[sc_df$target %in% c(\"WM.Gfap\",\"GM.Gfap\")]<-\"Astrocyte.Gfap\"\n",
    "sc_df$key1<-paste0(sc_df$interaction_name,\"-\",sc_df$source,\"_\",sc_df$target)\n",
    "sc_df$key2<-paste0(sc_df$interaction_name,\"-\",sc_df$target,\"_\",sc_df$source)\n",
    "head(sc_df)\n",
    "sc_int<-intersect(unique(temp4$key),unique(c(sc_df$key1,sc_df$key2)))\n",
    "sc_int "
   ]
  },
  {
   "cell_type": "markdown",
   "metadata": {},
   "source": [
    "### 4 time merged"
   ]
  },
  {
   "cell_type": "code",
   "execution_count": null,
   "metadata": {
    "vscode": {
     "languageId": "r"
    }
   },
   "outputs": [],
   "source": [
    "temp1<-read.csv(paste0(sf3,\"sham.spmc-04_2.pval1e-3_spot10.lr.cp.long.df_sc.csv\"))\n",
    "temp1<-temp1[,-1]\n",
    "head(temp1)"
   ]
  },
  {
   "cell_type": "code",
   "execution_count": null,
   "metadata": {
    "vscode": {
     "languageId": "r"
    }
   },
   "outputs": [],
   "source": [
    "temp2<-read.csv(paste0(sf3,\"3h.spmc-04_2.pval1e-3_spot10.lr.cp.long.df_sc.csv\"))\n",
    "temp2<-temp2[,-1]\n",
    "head(temp2)"
   ]
  },
  {
   "cell_type": "code",
   "execution_count": null,
   "metadata": {
    "vscode": {
     "languageId": "r"
    }
   },
   "outputs": [],
   "source": [
    "temp3<-read.csv(paste0(sf3,\"24h.spmc-04_2.pval1e-3_spot10.lr.cp.long.df_sc.csv\"))\n",
    "temp3<-temp3[,-1]\n",
    "head(temp3)"
   ]
  },
  {
   "cell_type": "code",
   "execution_count": null,
   "metadata": {
    "vscode": {
     "languageId": "r"
    }
   },
   "outputs": [],
   "source": [
    "temp4<-read.csv(paste0(sf3,\"72h.spmc-04_2.pval1e-3_spot10.lr.cp.long.df_sc.csv\"))\n",
    "temp4<-temp4[,-1]\n",
    "head(temp4)"
   ]
  },
  {
   "cell_type": "code",
   "execution_count": 11,
   "metadata": {
    "vscode": {
     "languageId": "r"
    }
   },
   "outputs": [],
   "source": [
    "temp1$time<-\"sham\"\n",
    "temp2$time<-\"3h\"\n",
    "temp3$time<-\"24h\"\n",
    "temp4$time<-\"72h\""
   ]
  },
  {
   "cell_type": "code",
   "execution_count": null,
   "metadata": {
    "vscode": {
     "languageId": "r"
    }
   },
   "outputs": [],
   "source": [
    "temp<-Reduce(rbind,list(temp1,temp2,temp3,temp4))\n",
    "dim(temp)"
   ]
  },
  {
   "cell_type": "code",
   "execution_count": 23,
   "metadata": {
    "vscode": {
     "languageId": "r"
    }
   },
   "outputs": [],
   "source": [
    "### centralize each lr\n",
    "temp_scale<-temp\n",
    "temp_scale$cp_lr_mean_scaled<-0\n",
    "\n",
    "for(i in unique(temp$lr)){\n",
    "    lr_temp<- temp_scale[temp_scale$lr==i,]\n",
    "    lr_min<-min(lr_temp$cp_lr_mean)\n",
    "    lr_max<-max(lr_temp$cp_lr_mean)\n",
    "    lr_em<-unique(temp_scale[temp_scale$lr==i,\"EM\"])\n",
    "    temp_scale[temp_scale$lr==i,\"cp_lr_mean_scaled\"]<-(temp_scale[temp_scale$lr==i,\"cp_lr_mean\"]-lr_em)/(lr_max-lr_em)\n",
    "}"
   ]
  },
  {
   "cell_type": "code",
   "execution_count": 24,
   "metadata": {
    "vscode": {
     "languageId": "r"
    }
   },
   "outputs": [],
   "source": [
    "temp<-temp_scale"
   ]
  },
  {
   "cell_type": "code",
   "execution_count": 217,
   "metadata": {
    "vscode": {
     "languageId": "r"
    }
   },
   "outputs": [],
   "source": [
    "write.csv(temp,paste0(sf3,\"4times.merged.spmc-04_2.pval1e-3_spot10.lr.cp.long.df_sc.csv\"))"
   ]
  },
  {
   "cell_type": "code",
   "execution_count": null,
   "metadata": {
    "collapsed": true,
    "vscode": {
     "languageId": "r"
    }
   },
   "outputs": [],
   "source": [
    "temp<-read.csv(paste0(sf3,\"4times.merged.spmc-04_2.pval1e-3_spot10.lr.cp.long.df_sc.csv\"))\n",
    "rownames(temp)<-temp[,1]\n",
    "temp<-temp[,-1]\n",
    "head(temp)"
   ]
  },
  {
   "cell_type": "markdown",
   "metadata": {},
   "source": [
    "### Visualize"
   ]
  },
  {
   "cell_type": "code",
   "execution_count": 38,
   "metadata": {
    "vscode": {
     "languageId": "r"
    }
   },
   "outputs": [],
   "source": [
    "sf2<-\"geompoint.cp_spmc-04_2.all_top3.lr.png2/\"\n",
    "if(!dir.exists(sf2))\n",
    "    dir.create(sf2)"
   ]
  },
  {
   "cell_type": "code",
   "execution_count": 6,
   "metadata": {
    "vscode": {
     "languageId": "r"
    }
   },
   "outputs": [],
   "source": [
    "#remove Dendritic and Astro.Svep1\n",
    "temp<-temp[!grepl(\"Astro.Svep1\",temp$cp),]"
   ]
  },
  {
   "cell_type": "code",
   "execution_count": null,
   "metadata": {
    "collapsed": true,
    "vscode": {
     "languageId": "r"
    }
   },
   "outputs": [],
   "source": [
    "### adjust 220725\n",
    "unique(temp$cp)\n",
    "temp$cp<-factor(temp$cp,levels = c(\"Astrocyte.Slc7a10_Neuron\",\"Astrocyte.Gfap_Neuron\",\"Neuron_Vascular\",\n",
    "                                  \"Homeostatic.Microglia_Neuron\",\"Neuron_R.Microglia\",\"Neuron_OPC\",\"Neuron_Oligodendrocyte\",\n",
    "                                   \"Astrocyte.Gfap_Oligodendrocyte\",\"Oligodendrocyte_Vascular\",'Oligodendrocyte_Ependymal',\"Fibroblast_Oligodendrocyte\",\n",
    "                                   \"Homeostatic.Microglia_Oligodendrocyte\",\"Oligodendrocyte_R.Microglia\",\"Oligodendrocyte_Myeloid\",\n",
    "                                   \"Monocyte_Oligodendrocyte\",'Neutrophil_Oligodendrocyte',\"Oligodendrocyte_OPC\",\"Oligodendrocyte_Macrophage\",\"Astrocyte.Gfap_Vascular\",\n",
    "                                   \"Astrocyte.Slc7a10_Vascular\",\"Astrocyte.Gfap_Fibroblast\",\"Astrocyte.Gfap_Homeostatic.Microglia\",\n",
    "                                   \"Astrocyte.Gfap_R.Microglia\",\"Astrocyte.Gfap_Myeloid\",\"Astrocyte.Slc7a10_OPC\",\"Astrocyte.Gfap_OPC\",\n",
    "                                   \"Astrocyte.Gfap_Neutrophil\",\"Astrocyte.Gfap_Monocyte\",\"Astrocyte.Gfap_Ependymal\",\"Astrocyte.Gfap_Macrophage\",\"Fibroblast_R.Microglia\",\n",
    "                                   \"Vascular_Macrophage\",\"Fibroblast_Macrophage\",\"OPC_Macrophage\",\"Fibroblast_OPC\",'Fibroblast_Monocyte','Vascular_OPC','OPC_R.Microglia'\n",
    "                                  )\n",
    "               )"
   ]
  },
  {
   "cell_type": "code",
   "execution_count": 8,
   "metadata": {
    "vscode": {
     "languageId": "r"
    }
   },
   "outputs": [],
   "source": [
    "temp$time<-factor(temp$time,levels = c(\"sham\",\"3h\",\"24h\",\"72h\"))\n",
    "temp<-arrange(temp,time)\n",
    "temp$group<-paste0(temp$time,\"-\",temp$cp)\n",
    "temp$group<-factor(temp$group,levels = unique(temp$group))"
   ]
  },
  {
   "cell_type": "code",
   "execution_count": null,
   "metadata": {
    "collapsed": true,
    "vscode": {
     "languageId": "r"
    }
   },
   "outputs": [],
   "source": [
    "top5<-temp %>% filter(autocrine==FALSE)%>%\n",
    "    group_by(group) %>% top_n(2,wt = -pval) %>%  top_n(2,wt=n_spot) %>% top_n(2,wt=EM) \n",
    "dim(top5)\n",
    "unique(top5$lr)"
   ]
  },
  {
   "cell_type": "code",
   "execution_count": null,
   "metadata": {
    "collapsed": true,
    "vscode": {
     "languageId": "r"
    }
   },
   "outputs": [],
   "source": [
    "top5<-temp[temp$lr%in%unique(top5$lr),]\n",
    "#top5$lr<-factor(top5$lr,levels = unique(top5$lr))\n",
    "head(top5)"
   ]
  },
  {
   "cell_type": "code",
   "execution_count": 541,
   "metadata": {
    "vscode": {
     "languageId": "r"
    }
   },
   "outputs": [],
   "source": [
    "### directly look at the spatial pattern\n",
    "fd<-\"cp.top2.lr.spatial/\"\n",
    "if(!dir.exists(fd))\n",
    "    dir.create(fd)\n",
    "for(i in lr_order){\n",
    "    options(repr.plot.width=20,repr.plot.height=18)\n",
    "    ggplot(me_exp,aes_string(x='x.ad',y='y.ad',color=i))+\n",
    "        geom_point(size=1.2)+\n",
    "        #scale_color_manual(values = rev(c(\"orange\",\"#911eb4\",\"#e6beff\",\"blue\",\"grey\")))+\n",
    "        theme(panel.background = element_blank(),\n",
    "              axis.text = element_blank(),\n",
    "              axis.title = element_blank(),\n",
    "              axis.ticks = element_blank())+\n",
    "        scale_color_gradientn(colours =c(\"#DCDCDC\",\"#A52A2A\"))\n",
    "        #scale_color_manual(values = c(\"#d6d4e0\",\"#c83349\"))\n",
    "        #scale_color_manual(values = c('#f2e394','#d5f4e6','#80ced6','#eea29a','#f9d5e5'#'#5b9aa0'#\n",
    "         #                             ,'#618685'#,\n",
    "                                      \n",
    "         #                             ,'#d6cbd3','#a2836e'\n",
    "         #                             ))\n",
    "    ggsave(paste0(fd,i,\".SCT.data.GM.spatial.png\"),width = 20,height = 18,dpi = 400)\n",
    "}"
   ]
  },
  {
   "cell_type": "code",
   "execution_count": 11,
   "metadata": {
    "vscode": {
     "languageId": "r"
    }
   },
   "outputs": [],
   "source": [
    "### manually check throught time trend\n",
    "lr_order<-c('EFNB3_EPHB1','PSAP_GPR37','SEMA4D_PLXNB3','SEMA4D_PLXNB1','PTN_PTPRZ1','PTN_SDC3',\n",
    "            'FGF1_FGFR1','FGF1_FGFR3','FGF1_FGFR2','FGF9_FGFR3','GAS6_TYRO3','NFASC_CNTN1_CNTNAP1','PENK_OPRL1',#decrease\n",
    "            'NCAM1_L1CAM','NRXN1_NLGN3','NRXN3_NLGN1','NRXN3_NLGN2',\n",
    "            'NRXN3_NLGN3','NRXN2_NLGN3','FGF9_FGFR1', #switch\n",
    "            'PSAP_GPR37L1','CXCL12_ACKR3','ADCYAP1_ADCYAP1R1','IL1B_IL1R2',\n",
    "            'GRN_SORT1','CSF1_CSF1R','PDGFA_PDGFRA','C3_C3AR1',\n",
    "            'SEMA6D_PLXNA1_TREM2','BDNF_NTRK2','SEMA6D_PLXNA1',\n",
    "            'COL1A1_SDC4','COL6A2_ITGAV_ITGB8',\n",
    "            'COL1A2_CD44','COL1A1_CD44','COL1A2_SDC4','COL6A2_SDC4','COL4A1_SDC4',\n",
    "            'COL9A3_CD44','COL6A3_CD44','COL6A3_SDC1','COL6A3_SDC4','COL4A2_SDC4',\n",
    "            'LAMB2_SV2C','LAMB2_CD44',\n",
    "            'FN1_SDC1','FN1_CD44','FN1_ITGAV_ITGB1','FN1_ITGA5_ITGB1',\n",
    "            'ANGPTL4_CDH5','ANGPTL4_SDC4',\n",
    "            'SPP1_CD44','SPP1_ITGA5_ITGB1','SPP1_ITGAV_ITGB5',\n",
    "            'THBS1_CD36','THBS1_SDC4','THBS1_CD47','THBS1_SDC1','THBS2_SDC4',\n",
    "            'TNC_SDC4','TNC_SDC1',\n",
    "            'TNR_SDC1','TNR_SDC4' #increase\n",
    "            )"
   ]
  },
  {
   "cell_type": "code",
   "execution_count": 12,
   "metadata": {
    "vscode": {
     "languageId": "r"
    }
   },
   "outputs": [],
   "source": [
    "top5$lr<-factor(top5$lr,levels = lr_order)"
   ]
  },
  {
   "cell_type": "code",
   "execution_count": 15,
   "metadata": {
    "vscode": {
     "languageId": "r"
    }
   },
   "outputs": [],
   "source": [
    "options(repr.plot.width=25,repr.plot.height=13)\n",
    "p<-ggplot(top5,aes(x=cp,y=lr))+\n",
    "    geom_point(aes(size=-log10(pval),color=cp_lr_mean_scaled,shape=sc_shared\n",
    "                  ))+\n",
    "    scale_color_gradientn(colours = colorRampPalette(rev(brewer.pal(n = 7,name = \"Spectral\")))(20)#c(\"#8227d8\",\"#f7c5c4\",\"#e85957\"\n",
    "                                    #  ,\"#e00512\")\n",
    "                         )+ \n",
    "    theme_bw()+#ggtitle(label = \"            sham                                   3h                                   24h                                             72h\")+\n",
    "    theme(axis.text.x = element_text(angle = 60,size = 12,vjust = 1,hjust = 1),\n",
    "          axis.text.y.left = element_text(angle = 30,size = 12),axis.title = element_blank(),\n",
    "         strip.text=element_text(color=\"white\")          \n",
    "         )+\n",
    "    facet_grid(~time)\n",
    "    "
   ]
  },
  {
   "cell_type": "code",
   "execution_count": null,
   "metadata": {
    "collapsed": true,
    "vscode": {
     "languageId": "r"
    }
   },
   "outputs": [],
   "source": [
    "g <- ggplot_gtable(ggplot_build(p))\n",
    "stripr <- which(grepl('strip-t', g$layout$name))\n",
    "fills <- c(\"#374E55FF\",\"#DF8F44FF\",\"#00A1D5FF\",\"#B24745FF\")\n",
    "k <- 1\n",
    "for (i in stripr) {\n",
    "  j <- which(grepl('rect', g$grobs[[i]]$grobs[[1]]$childrenOrder))\n",
    "  g$grobs[[i]]$grobs[[1]]$children[[j]]$gp$fill <- fills[k]\n",
    "  k <- k+1\n",
    "}\n",
    "grid::grid.draw(g)"
   ]
  },
  {
   "cell_type": "code",
   "execution_count": null,
   "metadata": {
    "vscode": {
     "languageId": "r"
    }
   },
   "outputs": [],
   "source": [
    "pdf(paste0(sf2,\"alltime.pval1e-3.n10.cp.top2pval.nspot_220825_sc.pdf\"),width = 25,height = 13)\n",
    "grid::grid.draw(g)\n",
    "#ggsave(paste0(sf2,\"alltime.pval005.n10.jc005.cp.top2pval.nspot_220725.png\"),width = 25,height = 13,dpi = 300)\n",
    "dev.off()"
   ]
  },
  {
   "cell_type": "code",
   "execution_count": null,
   "metadata": {
    "vscode": {
     "languageId": "r"
    }
   },
   "outputs": [],
   "source": [
    "#### just show switch LR -221011\n",
    "lr<-c('NCAM1_L1CAM','NRXN1_NLGN3','NRXN3_NLGN1','NRXN3_NLGN2','NRXN3_NLGN3','NRXN2_NLGN3','FGF9_FGFR1')\n",
    "#cp<-c(\"Astrocyte.Slc7a10_Neuron\",\"Astrocyte.Gfap_Neuron\",\"Neuron_Vascular\",\"Homeostatic.Microglia_Neuron\",\"Neuron_R.Microglia\",\"Neuron_OPC\",\"Neuron_Oligodendrocyte\")\n",
    "top5_sub<-top5[ top5$lr %in% lr,]\n",
    "dim(top5_sub)"
   ]
  },
  {
   "cell_type": "code",
   "execution_count": 36,
   "metadata": {
    "vscode": {
     "languageId": "r"
    }
   },
   "outputs": [],
   "source": [
    "options(repr.plot.width=7,repr.plot.height=4)\n",
    "p<-ggplot(top5_sub,aes(x=cp,y=lr))+\n",
    "    geom_point(aes(size=-log10(pval),color=cp_lr_mean_scaled#,shape=sc_shared\n",
    "                  ))+\n",
    "    scale_color_gradientn(colours = colorRampPalette(rev(brewer.pal(n = 7,name = \"Spectral\")))(20)#c(\"#8227d8\",\"#f7c5c4\",\"#e85957\"\n",
    "                                    #  ,\"#e00512\")\n",
    "                         )+ \n",
    "    theme_bw()+#ggtitle(label = \"            sham                                   3h                                   24h                                             72h\")+\n",
    "    theme(axis.text.x = element_text(angle = 60,size = 12,vjust = 1,hjust = 1),\n",
    "          axis.text.y.left = element_text(angle = 30,size = 12),axis.title = element_blank(),\n",
    "         strip.text=element_text(color=\"white\")          \n",
    "         )+\n",
    "    facet_grid(~time)\n",
    "    "
   ]
  },
  {
   "cell_type": "code",
   "execution_count": null,
   "metadata": {
    "vscode": {
     "languageId": "r"
    }
   },
   "outputs": [],
   "source": [
    "g <- ggplot_gtable(ggplot_build(p))\n",
    "stripr <- which(grepl('strip-t', g$layout$name))\n",
    "fills <- c(\"#374E55FF\",\"#DF8F44FF\",\"#00A1D5FF\",\"#B24745FF\")\n",
    "k <- 1\n",
    "for (i in stripr) {\n",
    "  j <- which(grepl('rect', g$grobs[[i]]$grobs[[1]]$childrenOrder))\n",
    "  g$grobs[[i]]$grobs[[1]]$children[[j]]$gp$fill <- fills[k]\n",
    "  k <- k+1\n",
    "}\n",
    "grid::grid.draw(g)"
   ]
  },
  {
   "cell_type": "code",
   "execution_count": null,
   "metadata": {
    "vscode": {
     "languageId": "r"
    }
   },
   "outputs": [],
   "source": [
    "pdf(paste0(sf2,\"alltime.pval1e-3.n10.cp.top2pval.nspot_221011_switchLR.pdf\"),width = 7,height = 4)\n",
    "grid::grid.draw(g)\n",
    "#ggsave(paste0(sf2,\"alltime.pval005.n10.jc005.cp.top2pval.nspot_220725.png\"),width = 25,height = 13,dpi = 300)\n",
    "dev.off()"
   ]
  },
  {
   "cell_type": "markdown",
   "metadata": {},
   "source": [
    "### astrocyte display -> each cell type 220519"
   ]
  },
  {
   "cell_type": "code",
   "execution_count": 42,
   "metadata": {
    "vscode": {
     "languageId": "r"
    }
   },
   "outputs": [],
   "source": [
    "#sf<-\"Astr.Gfap_top5lr.png/\"\n",
    "sf<-\"eachct_top3lr.png/\"\n",
    "if(!dir.exists(sf))\n",
    "    dir.create(sf)"
   ]
  },
  {
   "cell_type": "code",
   "execution_count": null,
   "metadata": {
    "collapsed": true,
    "vscode": {
     "languageId": "r"
    }
   },
   "outputs": [],
   "source": [
    "temp$c1<-str_split(temp$cp,\"_\",simplify = T)[,1]\n",
    "temp$c2<-str_split(temp$cp,\"_\",simplify = T)[,2]\n",
    "head(temp)"
   ]
  },
  {
   "cell_type": "code",
   "execution_count": null,
   "metadata": {
    "vscode": {
     "languageId": "r"
    }
   },
   "outputs": [],
   "source": [
    "ct<-unique(c(temp$c1,temp$c2))\n",
    "ct"
   ]
  },
  {
   "cell_type": "code",
   "execution_count": null,
   "metadata": {
    "collapsed": true,
    "vscode": {
     "languageId": "r"
    }
   },
   "outputs": [],
   "source": [
    "#### manual adjust the figure scale\n",
    "i='Astrocyte.Gfap'\n",
    "test<-temp\n",
    "    test<-test[grepl(i,test$cp),]\n",
    "    dim(test)\n",
    "    #test$c1<-str_split(test$cp,\"_\",simplify = T)[,1]\n",
    "    #test$c2<-str_split(test$cp,\"_\",simplify = T)[,2]\n",
    "    test$target<-ifelse(test$c1==i,test$c2,test$c1)\n",
    "    test$group<-paste0(test$time,\"_\",test$target)\n",
    "    test$group<-factor(test$group,levels = unique(test$group))\n",
    "    head(test)\n",
    "    levels(test$group)\n",
    "    #write.csv(test,paste0(sf,i,\".lr.pval001.jc01.spot10.csv\"))\n",
    "    top5<-test %>% filter(autocrine==FALSE)%>% \n",
    "        group_by(group) %>% top_n(5,wt = -pval) %>% top_n(5,wt = JC) #%>% top_n(5,wt = n_spot)\n",
    "    dim(top5)\n",
    "    unique(top5$lr)\n",
    "    ym<-length(unique(top5$lr))+0.5\n",
    "    ym\n",
    "    x1<-length(grep(\"sham_\",unique(top5$group)))+0.5\n",
    "    x1\n",
    "    x2<-length(grep(\"3h_\",unique(top5$group)))+x1\n",
    "    x2\n",
    "    x3<-length(grep(\"24h_\",unique(top5$group)))+x2\n",
    "    x3\n",
    "    x4<-length(grep(\"72h_\",unique(top5$group)))+x3\n",
    "    x4\n",
    "    top5<-arrange(top5,group)\n",
    "    top5$lr<-factor(top5$lr,levels = unique(top5$lr))\n",
    "    \n"
   ]
  },
  {
   "cell_type": "code",
   "execution_count": null,
   "metadata": {
    "collapsed": true,
    "vscode": {
     "languageId": "r"
    }
   },
   "outputs": [],
   "source": [
    "unique(top5$lr)\n",
    "head(test)\n",
    "top5<-test[test$lr %in% as.character(unique(top5$lr)),]\n",
    "top5$lr<-factor(top5$lr,levels = unique(top5$lr))"
   ]
  },
  {
   "cell_type": "code",
   "execution_count": null,
   "metadata": {
    "vscode": {
     "languageId": "r"
    }
   },
   "outputs": [],
   "source": [
    "test<-data.frame(row.names = unique(top5$lr))\n",
    "for(k in unique(top5$group)){\n",
    "    test[,k]<-0\n",
    "    for(j in rownames(test)){\n",
    "        if(nrow(top5[top5$lr==j&top5$group==k,])>0)\n",
    "            test[j,k]<-1\n",
    "    }\n",
    "    \n",
    "    \n",
    "}\n",
    "h<-hclust(dist(x=test,method = \"binary\"))\n",
    "length(h$order)\n",
    "lr_order<-rownames(test)[h$order]\n",
    "head(lr_order)"
   ]
  },
  {
   "cell_type": "code",
   "execution_count": null,
   "metadata": {
    "vscode": {
     "languageId": "r"
    }
   },
   "outputs": [],
   "source": [
    "test<-test[lr_order,]\n",
    "test_sham<-test[,grep(\"sham\",colnames(test))]\n",
    "test_3h<-test[,grep(\"3h\",colnames(test))]\n",
    "test_24h<-test[,grep(\"24h\",colnames(test))]\n",
    "test_72h<-test[,grep(\"72h\",colnames(test))]\n",
    "h1<-hclust(dist(t(test_sham),method = \"binary\"))\n",
    "colnames(test_sham)[h1$order]\n",
    "h2<-hclust(dist(t(test_3h),method = \"binary\"))\n",
    "colnames(test_3h)[h2$order]\n",
    "h3<-hclust(dist(t(test_24h),method = \"binary\"))\n",
    "colnames(test_24h)[h3$order]\n",
    "h4<-hclust(dist(t(test_72h),method = \"binary\"))\n",
    "colnames(test_72h)[h4$order]"
   ]
  },
  {
   "cell_type": "code",
   "execution_count": 100,
   "metadata": {
    "vscode": {
     "languageId": "r"
    }
   },
   "outputs": [],
   "source": [
    "top5$lr<-factor(top5$lr,levels = rev(lr_order))\n",
    "top5$group<-factor(top5$group,levels = c(rev(colnames(test_sham)[h1$order]),\n",
    "                                         rev(colnames(test_3h)[h2$order]),\n",
    "                                         rev(colnames(test_24h)[h3$order]),\n",
    "                                         rev(colnames(test_72h)[h4$order])))"
   ]
  },
  {
   "cell_type": "code",
   "execution_count": null,
   "metadata": {
    "collapsed": true,
    "vscode": {
     "languageId": "r"
    }
   },
   "outputs": [],
   "source": [
    "wd<-8\n",
    "ht<-13\n",
    "options(repr.plot.width=wd,repr.plot.height=ht)\n",
    "    ggplot(top5,aes(x=group,y=lr))+\n",
    "        geom_point(aes(size=JC,color=-log10(pval),shape=sc_shared\n",
    "                      ))+\n",
    "        scale_color_gradientn(colours = c(\"#8227d8\",\"#f7c5c4\",\"#e85957\"\n",
    "                                          ,\"#e00512\"))+ \n",
    "        theme_bw()+#ggtitle(label = \"            sham                3h             24h               72h\")+\n",
    "        theme(axis.text.x = element_text(angle = 60,size = 12,vjust = 1,hjust = 1),\n",
    "              axis.text.y.left = element_text(angle = 30,size = 12),axis.title = element_blank())+\n",
    "        annotate(\"rect\",xmin=.5,xmax = x1,ymin = 0,ymax = ym,alpha=.1,color=\"#374E55FF\",fill=\"#374E55FF\")+\n",
    "        annotate(\"rect\",xmin=x1,xmax = x2,ymin = 0,ymax = ym,alpha=.1,color=\"#DF8F44FF\",fill=\"#DF8F44FF\")+\n",
    "        annotate(\"rect\",xmin=x2,xmax = x3,ymin = 0,ymax = ym,alpha=.1,color=\"#00A1D5FF\",fill=\"#00A1D5FF\")+\n",
    "        annotate(\"rect\",xmin=x3,xmax = x4,ymin = 0,ymax = ym,alpha=.1,color=\"#B24745FF\",fill=\"#B24745FF\")#+\n",
    "    \n",
    "    \n",
    "    #+\n",
    "        #facet_wrap(~time,nrow = 1,ncol = 4)\n",
    "    \n",
    "   ggsave(paste0(sf,i,\".alltime.pval005.n15.jc005.cp.top5pval.jc.lr_sc.220607.png\"),width =wd,height = ht,dpi = 400)"
   ]
  },
  {
   "cell_type": "markdown",
   "metadata": {},
   "source": [
    "### network"
   ]
  },
  {
   "cell_type": "code",
   "execution_count": 3,
   "metadata": {
    "vscode": {
     "languageId": "r"
    }
   },
   "outputs": [],
   "source": [
    "sf<-\"igraph.cellinteraction.number2/\"\n",
    "if(!dir.exists(sf))\n",
    "    dir.create(sf)"
   ]
  },
  {
   "cell_type": "code",
   "execution_count": 4,
   "metadata": {
    "vscode": {
     "languageId": "r"
    }
   },
   "outputs": [],
   "source": [
    "geometric.mean<-function(x) {x=exp(mean(log(x)))\n",
    "                            return(x)\n",
    "                            }"
   ]
  },
  {
   "cell_type": "code",
   "execution_count": null,
   "metadata": {
    "collapsed": true,
    "vscode": {
     "languageId": "r"
    }
   },
   "outputs": [],
   "source": [
    "temp1<-temp[temp$time==\"sham\",]\n",
    "head(temp1)\n",
    "temp2<-temp[temp$time==\"3h\",]\n",
    "head(temp2)\n",
    "temp3<-temp[temp$time==\"24h\",]\n",
    "head(temp3)\n",
    "temp4<-temp[temp$time==\"72h\",]\n",
    "head(temp4)"
   ]
  },
  {
   "cell_type": "code",
   "execution_count": null,
   "metadata": {
    "vscode": {
     "languageId": "r"
    }
   },
   "outputs": [],
   "source": [
    "sn1<-as.data.frame(table(temp1$cp))\n",
    "sn1$source<-str_split(sn1$Var1,\"_\",simplify = T)[,1]\n",
    "sn1$target<-str_split(sn1$Var1,\"_\",simplify = T)[,2]\n",
    "rownames(sn1)<-sn1[,1]\n",
    "sn1<-sn1[,-1]\n",
    "colnames(sn1)<-c(\"value\",\"from\",\"to\")\n",
    "sn1<-sn1[,c(2,3,1)]\n",
    "sn1$pval<- -log10(aggregate(temp1$pval,list(temp1$cp),FUN=geometric.mean)[,2])\n",
    "sn1$n_spot<- round(aggregate(temp1$n_spot,list(temp1$cp),FUN=mean)[,2],2)\n",
    "sn1$exp<-round(aggregate(temp1$cp_lr_mean_scaled,list(temp1$cp),FUN=mean)[,2],2)\n",
    "head(sn1)"
   ]
  },
  {
   "cell_type": "code",
   "execution_count": 310,
   "metadata": {
    "vscode": {
     "languageId": "r"
    }
   },
   "outputs": [],
   "source": [
    "write.csv(sn1,paste0(sf,\"sham.spmc-04.pval1e-3_spot10.igraph.df.csv\"))"
   ]
  },
  {
   "cell_type": "code",
   "execution_count": null,
   "metadata": {
    "vscode": {
     "languageId": "r"
    }
   },
   "outputs": [],
   "source": [
    "sn2<-as.data.frame(table(temp2$cp))\n",
    "sn2$source<-str_split(sn2$Var1,\"_\",simplify = T)[,1]\n",
    "sn2$target<-str_split(sn2$Var1,\"_\",simplify = T)[,2]\n",
    "rownames(sn2)<-sn2[,1]\n",
    "sn2<-sn2[,-1]\n",
    "colnames(sn2)<-c(\"value\",\"from\",\"to\")\n",
    "sn2<-sn2[,c(2,3,1)]\n",
    "sn2$pval<- -log10(aggregate(temp2$pval,list(temp2$cp),FUN=geometric.mean)[,2])\n",
    "sn2$n_spot<- round(aggregate(temp2$n_spot,list(temp2$cp),FUN=mean)[,2],2)\n",
    "sn2$exp<-round(aggregate(temp2$cp_lr_mean_scaled,list(temp2$cp),FUN=mean)[,2],2)\n",
    "head(sn2)"
   ]
  },
  {
   "cell_type": "code",
   "execution_count": 313,
   "metadata": {
    "vscode": {
     "languageId": "r"
    }
   },
   "outputs": [],
   "source": [
    "write.csv(sn2,paste0(sf,\"3h.spmc-04.pval1e-3_spot10.igraph.df.csv\"))"
   ]
  },
  {
   "cell_type": "code",
   "execution_count": null,
   "metadata": {
    "vscode": {
     "languageId": "r"
    }
   },
   "outputs": [],
   "source": [
    "sn3<-as.data.frame(table(temp3$cp))\n",
    "sn3$source<-str_split(sn3$Var1,\"_\",simplify = T)[,1]\n",
    "sn3$target<-str_split(sn3$Var1,\"_\",simplify = T)[,2]\n",
    "rownames(sn3)<-sn3[,1]\n",
    "sn3<-sn3[,-1]\n",
    "colnames(sn3)<-c(\"value\",\"from\",\"to\")\n",
    "sn3<-sn3[,c(2,3,1)]\n",
    "sn3$pval<- -log10(aggregate(temp3$pval,list(temp3$cp),FUN=geometric.mean)[,2])\n",
    "sn3$n_spot<- round(aggregate(temp3$n_spot,list(temp3$cp),FUN=mean)[,2],2)\n",
    "sn3$exp<-round(aggregate(temp3$cp_lr_mean_scaled,list(temp3$cp),FUN=mean)[,2],2)\n",
    "head(sn3)"
   ]
  },
  {
   "cell_type": "code",
   "execution_count": 315,
   "metadata": {
    "vscode": {
     "languageId": "r"
    }
   },
   "outputs": [],
   "source": [
    "write.csv(sn3,paste0(sf,\"24h.pval1e-4_spot10.igraph.df.csv\"))"
   ]
  },
  {
   "cell_type": "code",
   "execution_count": null,
   "metadata": {
    "vscode": {
     "languageId": "r"
    }
   },
   "outputs": [],
   "source": [
    "sn4<-as.data.frame(table(temp4$cp))\n",
    "sn4$source<-str_split(sn4$Var1,\"_\",simplify = T)[,1]\n",
    "sn4$target<-str_split(sn4$Var1,\"_\",simplify = T)[,2]\n",
    "rownames(sn4)<-sn4[,1]\n",
    "sn4<-sn4[,-1]\n",
    "colnames(sn4)<-c(\"value\",\"from\",\"to\")\n",
    "sn4<-sn4[,c(2,3,1)]\n",
    "sn4$pval<- -log10(aggregate(temp4$pval,list(temp4$cp),FUN=geometric.mean)[,2])\n",
    "sn4$n_spot<- round(aggregate(temp4$n_spot,list(temp4$cp),FUN=mean)[,2],2)\n",
    "sn4$exp<-round(aggregate(temp4$cp_lr_mean_scaled,list(temp4$cp),FUN=mean)[,2],2)\n",
    "head(sn4)"
   ]
  },
  {
   "cell_type": "code",
   "execution_count": 318,
   "metadata": {
    "vscode": {
     "languageId": "r"
    }
   },
   "outputs": [],
   "source": [
    "write.csv(sn4,paste0(sf,\"72h.pval1e-3_spot10.igraph.df.csv\"))"
   ]
  },
  {
   "cell_type": "code",
   "execution_count": 322,
   "metadata": {
    "vscode": {
     "languageId": "r"
    }
   },
   "outputs": [],
   "source": [
    "nodes<-data.frame(name=c('R.Microglia','Macrophage','Homeostatic.Microglia','Astrocyte.Gfap',\n",
    "                         'Vascular',#'Astro.Svep1',\n",
    "                         'Ependymal','Oligodendrocyte','Fibroblast',\n",
    "                         'Neuron','Astrocyte.Slc7a10','OPC','Monocyte',\n",
    "                         \"Neutrophil\",\"Myeloid\"\n",
    "                         ))"
   ]
  },
  {
   "cell_type": "code",
   "execution_count": null,
   "metadata": {
    "vscode": {
     "languageId": "r"
    }
   },
   "outputs": [],
   "source": [
    "test<-sn1\n",
    "#colnames(test)<-c('Var1','n','from','to')\n",
    "test$n_spot<- scale(as.numeric(test$n_spot), center = 0)\n",
    "        links <- data.frame(\n",
    "            source = test$from,\n",
    "            target = test$to,\n",
    "            importance = as.numeric(test$n_spot)\n",
    "          )\n",
    "        #head(links)\n",
    "        #nodes <- data.frame(name=unique(c(test$from,test$to)))\n",
    "        #nodes\n",
    "        graph_ntw <- igraph::graph_from_data_frame(links,\n",
    "                vertices = nodes,\n",
    "                directed = FALSE)\n",
    "        \n",
    "        deg <- degree(graph_ntw, mode=\"all\")\n",
    "        #pdf(paste0(result_dir,\"spatial_celltype_withinspot_interaction_probability.circle.plot.png\"))\n",
    "        # Get color palette for difusion\n",
    "        edge_importance <- E(graph_ntw)$importance #\n",
    "        edge_col<-test$exp\n",
    "        # Select a continuous palette\n",
    "        qual_col_pals <- brewer.pal.info[brewer.pal.info$category == 'seq',]\n",
    "        \n",
    "        # Create a color palette\n",
    "        #getPalette <- colorRampPalette(rev(c(\"#E99285\",\"#F6D0CA\",\"#F1F9AE\",\"#CAF0F6\",\"#85DCE9\")))\n",
    "        #getPalette <- colorRampPalette(rev(c(\"#290ab8\",\"#aebaff\",\"#3552ff\",\"#0022e4\",\"#d7cffc\")))\n",
    "        getPalette <- colorRampPalette(#viridisLite::viridis(n = 10,option = \"G\"))\n",
    "                                       rev(c(\"#0C3321\",\"#155637\",\"#1a6a44\",\"#1e7b4e\",\"#2A6A63\",\"#50817A\",\"#6AA39A\",\"#98BFB9\",\"#C5DBD8\")))\n",
    "\n",
    "        \n",
    "        #getPalette <- colorRampPalette(rev(c(\"#1D487C\",\"#2864AD\",\"#3d80d2\",\"#6399db\",\"#99bde7\")))\n",
    "        # Get how many values we need\n",
    "        #grad_edge <- seq(3, 16\n",
    "        #                 , 0.1)\n",
    "        grad_edge <- seq(0, 1, 0.01)\n",
    "        # Generate extended gradient palette dataframe\n",
    "        graph_col_df <- data.frame(value = as.character(grad_edge),\n",
    "                                   color = getPalette(length(grad_edge)),\n",
    "                                   stringsAsFactors = FALSE)\n",
    "        # Assign color to each edge\n",
    "        color_edge <- data.frame(value = as.character(round(edge_col, 2)), stringsAsFactors = FALSE) %>%\n",
    "          dplyr::left_join(graph_col_df, by = \"value\") %>%\n",
    "          dplyr::pull(color)\n",
    "        pdf(file=paste0(sf,\"sham.spmc-04.pval1e-3_spot10.cp.lr.nspot_width.number_color.igraph.circle.plot_220725.pdf\"))\n",
    "        plot(graph_ntw,\n",
    "             # Size of the edge\n",
    "             edge.width = edge_importance*10, #*2 enhance the visualization\n",
    "             edge.color = color_edge,\n",
    "             # Size of the buble\n",
    "             vertex.size = deg*4,\n",
    "             vertex.color = \"#E4791B\",\n",
    "             vertex.frame.color = \"grey\",\n",
    "             vertex.label.color = \"black\",\n",
    "             #vertex.label.family = \"Ubuntu\", # Font family of the label (e.g.“Times”, “Helvetica”)\n",
    "             layout = layout.circle)\n",
    "       dev.off()"
   ]
  },
  {
   "cell_type": "code",
   "execution_count": null,
   "metadata": {
    "vscode": {
     "languageId": "r"
    }
   },
   "outputs": [],
   "source": [
    "test<-sn2\n",
    "#colnames(test)<-c('Var1','n','from','to')\n",
    "test$n_spot<- scale(as.numeric(test$n_spot), center = 0)\n",
    "        links <- data.frame(\n",
    "            source = test$from,\n",
    "            target = test$to,\n",
    "            importance = as.numeric(test$n_spot)\n",
    "          )\n",
    "        #head(links)\n",
    "        #nodes <- data.frame(name=unique(c(test$from,test$to)))\n",
    "        #nodes\n",
    "        graph_ntw <- igraph::graph_from_data_frame(links,\n",
    "                vertices = nodes,\n",
    "                directed = FALSE)\n",
    "        \n",
    "        deg <- degree(graph_ntw, mode=\"all\")\n",
    "        #pdf(paste0(result_dir,\"spatial_celltype_withinspot_interaction_probability.circle.plot.png\"))\n",
    "        # Get color palette for difusion\n",
    "        edge_importance <- E(graph_ntw)$importance #\n",
    "        edge_col<-test$exp\n",
    "        # Select a continuous palette\n",
    "        qual_col_pals <- brewer.pal.info[brewer.pal.info$category == 'seq',]\n",
    "        \n",
    "        # Create a color palette\n",
    "        #getPalette <- colorRampPalette(rev(c(\"#E99285\",\"#F6D0CA\",\"#F1F9AE\",\"#CAF0F6\",\"#85DCE9\")))\n",
    "        #getPalette <- colorRampPalette(rev(c(\"#290ab8\",\"#aebaff\",\"#3552ff\",\"#0022e4\",\"#d7cffc\")))\n",
    "        getPalette <- colorRampPalette(rev(c(\"#0C3321\",\"#155637\",\"#1a6a44\",\"#1e7b4e\",\"#2A6A63\",\"#50817A\",\"#6AA39A\",\"#98BFB9\",\"#C5DBD8\")))\n",
    "        #getPalette <- colorRampPalette(rev(c(\"#1D487C\",\"#2864AD\",\"#3d80d2\",\"#6399db\",\"#99bde7\")))\n",
    "        # Get how many values we need\n",
    "        #grad_edge <- seq(3, 16\n",
    "        #                 , 0.1)\n",
    "        grad_edge <- seq(0, 1, 0.01)\n",
    "        # Generate extended gradient palette dataframe\n",
    "        graph_col_df <- data.frame(value = as.character(grad_edge),\n",
    "                                   color = getPalette(length(grad_edge)),\n",
    "                                   stringsAsFactors = FALSE)\n",
    "        # Assign color to each edge\n",
    "        color_edge <- data.frame(value = as.character(round(edge_col, 2)), stringsAsFactors = FALSE) %>%\n",
    "          dplyr::left_join(graph_col_df, by = \"value\") %>%\n",
    "          dplyr::pull(color)\n",
    "        pdf(file=paste0(sf,\"3h.spmc-04.pval1e-3_spot10.cp.lr.nspot_width.number_color.igraph.circle.plot.pdf\"))\n",
    "        plot(graph_ntw,\n",
    "             # Size of the edge\n",
    "             edge.width = edge_importance*10, #*2 enhance the visualization\n",
    "             edge.color = color_edge,\n",
    "             # Size of the buble\n",
    "             vertex.size = deg*4,\n",
    "             vertex.color = \"#E4791B\",\n",
    "             vertex.frame.color = \"grey\",\n",
    "             vertex.label.color = \"black\",\n",
    "             #vertex.label.family = \"Ubuntu\", # Font family of the label (e.g.“Times”, “Helvetica”)\n",
    "             layout = layout.circle)\n",
    "       dev.off()"
   ]
  },
  {
   "cell_type": "code",
   "execution_count": null,
   "metadata": {
    "scrolled": true,
    "vscode": {
     "languageId": "r"
    }
   },
   "outputs": [],
   "source": [
    "test<-sn3\n",
    "#colnames(test)<-c('Var1','n','from','to')\n",
    "test$n_spot<- scale(as.numeric(test$n_spot), center = 0)\n",
    "        links <- data.frame(\n",
    "            source = test$from,\n",
    "            target = test$to,\n",
    "            importance = as.numeric(test$n_spot)\n",
    "          )\n",
    "        #head(links)\n",
    "        #nodes <- data.frame(name=unique(c(test$from,test$to)))\n",
    "        #nodes\n",
    "        graph_ntw <- igraph::graph_from_data_frame(links,\n",
    "                vertices = nodes,\n",
    "                directed = FALSE)\n",
    "        \n",
    "        deg <- degree(graph_ntw, mode=\"all\")\n",
    "        #pdf(paste0(result_dir,\"spatial_celltype_withinspot_interaction_probability.circle.plot.png\"))\n",
    "        # Get color palette for difusion\n",
    "        edge_importance <- E(graph_ntw)$importance #\n",
    "        edge_col<-test$exp\n",
    "        # Select a continuous palette\n",
    "        qual_col_pals <- brewer.pal.info[brewer.pal.info$category == 'seq',]\n",
    "        \n",
    "        # Create a color palette\n",
    "        #getPalette <- colorRampPalette(rev(c(\"#E99285\",\"#F6D0CA\",\"#F1F9AE\",\"#CAF0F6\",\"#85DCE9\")))\n",
    "        #getPalette <- colorRampPalette(rev(c(\"#290ab8\",\"#aebaff\",\"#3552ff\",\"#0022e4\",\"#d7cffc\")))\n",
    "        getPalette <- colorRampPalette(rev(c(\"#0C3321\",\"#155637\",\"#1a6a44\",\"#1e7b4e\",\"#2A6A63\",\"#50817A\",\"#6AA39A\",\"#98BFB9\",\"#C5DBD8\")))\n",
    "        #getPalette <- colorRampPalette(rev(c(\"#1D487C\",\"#2864AD\",\"#3d80d2\",\"#6399db\",\"#99bde7\")))\n",
    "        # Get how many values we need\n",
    "       # grad_edge <- seq(3, 16\n",
    "       #                  , 0.1)\n",
    "        \n",
    "        grad_edge <- seq(0, 1, 0.01)\n",
    "\n",
    "        # Generate extended gradient palette dataframe\n",
    "        graph_col_df <- data.frame(value = as.character(grad_edge),\n",
    "                                   color = getPalette(length(grad_edge)),\n",
    "                                   stringsAsFactors = FALSE)\n",
    "        # Assign color to each edge\n",
    "        color_edge <- data.frame(value = as.character(round(edge_col, 2)), stringsAsFactors = FALSE) %>%\n",
    "          dplyr::left_join(graph_col_df, by = \"value\") %>%\n",
    "          dplyr::pull(color)\n",
    "        pdf(file=paste0(sf,\"24h.pval1e-3_spot10.cp.lr.nspot_width.number_color.igraph.circle.plot.pdf\"))\n",
    "        plot(graph_ntw,\n",
    "             # Size of the edge\n",
    "             edge.width = edge_importance*10, #*2 enhance the visualization\n",
    "             edge.color = color_edge,\n",
    "             # Size of the buble\n",
    "             vertex.size = deg*2,\n",
    "             vertex.color = \"#E4791B\",\n",
    "             vertex.frame.color = \"grey\",\n",
    "             vertex.label.color = \"black\",\n",
    "             #vertex.label.family = \"Ubuntu\", # Font family of the label (e.g.“Times”, “Helvetica”)\n",
    "             layout = layout.circle)\n",
    "        dev.off()"
   ]
  },
  {
   "cell_type": "code",
   "execution_count": null,
   "metadata": {
    "vscode": {
     "languageId": "r"
    }
   },
   "outputs": [],
   "source": [
    "#remove Astro-Svep1\n",
    "sn4<-sn4[sn4$from!=\"Astro.Svep1\"&sn4$to!=\"Astro.Svep1\",]\n",
    "test<-sn4\n",
    "#colnames(test)<-c('Var1','n','from','to')\n",
    "test$n_spot<- scale(as.numeric(test$n_spot), center = 0)\n",
    "        links <- data.frame(\n",
    "            source = test$from,\n",
    "            target = test$to,\n",
    "            importance = as.numeric(test$n_spot)\n",
    "          )\n",
    "        #head(links)\n",
    "        #nodes <- data.frame(name=unique(c(test$from,test$to)))\n",
    "        #nodes\n",
    "        graph_ntw <- igraph::graph_from_data_frame(links,\n",
    "                vertices = nodes,\n",
    "                directed = FALSE)\n",
    "        \n",
    "        deg <- degree(graph_ntw, mode=\"all\")\n",
    "        #pdf(paste0(result_dir,\"spatial_celltype_withinspot_interaction_probability.circle.plot.png\"))\n",
    "        # Get color palette for difusion\n",
    "        edge_importance <- E(graph_ntw)$importance #\n",
    "        edge_col<-test$exp\n",
    "        # Select a continuous palette\n",
    "        qual_col_pals <- brewer.pal.info[brewer.pal.info$category == 'seq',]\n",
    "        \n",
    "        # Create a color palette\n",
    "        #getPalette <- colorRampPalette(rev(c(\"#E99285\",\"#F6D0CA\",\"#F1F9AE\",\"#CAF0F6\",\"#85DCE9\")))\n",
    "        #getPalette <- colorRampPalette(rev(c(\"#290ab8\",\"#aebaff\",\"#3552ff\",\"#0022e4\",\"#d7cffc\")))\n",
    "        getPalette <- colorRampPalette(rev(c(\"#0C3321\",\"#155637\",\"#1a6a44\",\"#1e7b4e\",\"#2A6A63\",\"#50817A\",\"#6AA39A\",\"#98BFB9\",\"#C5DBD8\")))\n",
    "        #getPalette <- colorRampPalette(rev(c(\"#1D487C\",\"#2864AD\",\"#3d80d2\",\"#6399db\",\"#99bde7\")))\n",
    "        # Get how many values we need\n",
    "       #grad_edge <- seq(3, 16\n",
    "       #                 , 0.1)\n",
    "        #grad_edge <- seq(11, 155, 0.1)\n",
    "        grad_edge <- seq(0, 1, 0.01)\n",
    "        \n",
    "        # Generate extended gradient palette dataframe\n",
    "        graph_col_df <- data.frame(value = as.character(grad_edge),\n",
    "                                   color = getPalette(length(grad_edge)),\n",
    "                                   stringsAsFactors = FALSE)\n",
    "        # Assign color to each edge\n",
    "        color_edge <- data.frame(value = as.character(round(edge_col, 2)), stringsAsFactors = FALSE) %>%\n",
    "          dplyr::left_join(graph_col_df, by = \"value\") %>%\n",
    "          dplyr::pull(color)\n",
    "       pdf(file=paste0(sf,\"72h.pval1e-3_spot10.cp.lr.nspot_width.number_color.igraph.circle.plot.pdf\"))\n",
    "        plot(graph_ntw,\n",
    "             # Size of the edge\n",
    "             edge.width = edge_importance*10, #*2 enhance the visualization\n",
    "             edge.color = color_edge,\n",
    "             # Size of the buble\n",
    "             vertex.size = deg*4,\n",
    "             vertex.color = \"#E4791B\",\n",
    "             vertex.frame.color = \"grey\",\n",
    "             vertex.label.color = \"black\",\n",
    "             #vertex.label.family = \"Ubuntu\", # Font family of the label (e.g.“Times”, “Helvetica”)\n",
    "             layout = layout.circle)\n",
    "       dev.off()"
   ]
  }
 ],
 "metadata": {
  "kernelspec": {
   "display_name": "R",
   "language": "R",
   "name": "ir"
  },
  "language_info": {
   "codemirror_mode": "r",
   "file_extension": ".r",
   "mimetype": "text/x-r-source",
   "name": "R",
   "pygments_lexer": "r",
   "version": "4.1.0"
  }
 },
 "nbformat": 4,
 "nbformat_minor": 2
}
