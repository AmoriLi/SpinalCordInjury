{
 "cells": [
  {
   "cell_type": "code",
   "execution_count": null,
   "metadata": {
    "vscode": {
     "languageId": "r"
    }
   },
   "outputs": [],
   "source": [
    "wd<-\"/Seurat/reg.CC/WT_replace_v2/res02_220310/\"\n",
    "if(!dir.exists(wd))\n",
    "    dir.create(wd)\n",
    "setwd(wd)\n",
    "getwd()"
   ]
  },
  {
   "cell_type": "code",
   "execution_count": null,
   "metadata": {
    "scrolled": true,
    "vscode": {
     "languageId": "r"
    }
   },
   "outputs": [],
   "source": [
    "library(Seurat)\n",
    "library(ggplot2)\n",
    "library(patchwork)\n",
    "library(dplyr)\n",
    "#library(hdf5r)\n",
    "library(png)\n",
    "#library(ggalluvial)\n",
    "#library(tidyverse)\n",
    "library(clustree)\n",
    "library(RCTD)\n",
    "library(Matrix)\n",
    "#library(SPOTlight)\n",
    "library(future)\n",
    "library(grid)\n",
    "library(RColorBrewer)\n",
    "#library(pheatmap)\n",
    "library(circlize)\n",
    "library(igraph)\n",
    "#library(ComplexHeatmap)\n",
    "library(stringr)\n",
    "#library(ComplexHeatmap)\n",
    "library(cowplot)\n",
    "library(biomaRt)\n",
    "#library(scClustViz)\n",
    "library(scales)\n",
    "library(colorspace)\n",
    "library(biomaRt)\n",
    "library(clusterProfiler)\n",
    "options(connectionObserver = NULL)\n",
    "library(reshape2)\n",
    "library(corrplot)"
   ]
  },
  {
   "cell_type": "code",
   "execution_count": null,
   "metadata": {
    "vscode": {
     "languageId": "r"
    }
   },
   "outputs": [],
   "source": [
    "sample_path <- \"/data/h5_spatial_20210604/WT/\"\n",
    "f<-dir(sample_path)\n",
    "f"
   ]
  },
  {
   "cell_type": "code",
   "execution_count": null,
   "metadata": {
    "vscode": {
     "languageId": "r"
    }
   },
   "outputs": [],
   "source": [
    "f<-f[c(14,13,15,16,6,5,8,7,2,1,3,4,10,9,12,11)]\n",
    "f"
   ]
  },
  {
   "cell_type": "code",
   "execution_count": null,
   "metadata": {
    "collapsed": true,
    "vscode": {
     "languageId": "r"
    }
   },
   "outputs": [],
   "source": [
    "temp<-Seurat::Load10X_Spatial(paste0(sample_path,f[1]),slice = f[1])\n",
    "temp"
   ]
  },
  {
   "cell_type": "code",
   "execution_count": null,
   "metadata": {
    "collapsed": true,
    "vscode": {
     "languageId": "r"
    }
   },
   "outputs": [],
   "source": [
    "da<-temp\n",
    "da\n",
    "Images(da)"
   ]
  },
  {
   "cell_type": "code",
   "execution_count": null,
   "metadata": {
    "collapsed": true,
    "vscode": {
     "languageId": "r"
    }
   },
   "outputs": [],
   "source": [
    "da$orig.ident<-rep(f[1],dim(da@meta.data)[1])\n",
    "da$barcode<-paste(da$orig.ident,rownames(da@meta.data),sep = \"__\")\n",
    "da$x.axis<-da@images$WT_sham_H_R2_1mm@coordinates$row\n",
    "da$y.axis<-da@images$WT_sham_H_R2_1mm@coordinates$col\n",
    "da$imagerow<-da@images$WT_sham_H_R2_1mm@coordinates$imagerow\n",
    "da$imagecol<-da@images$WT_sham_H_R2_1mm@coordinates$imagecol\n",
    "da<-RenameCells(da,new.names = da$barcode)\n",
    "head(da@meta.data)"
   ]
  },
  {
   "cell_type": "code",
   "execution_count": null,
   "metadata": {
    "collapsed": true,
    "vscode": {
     "languageId": "r"
    }
   },
   "outputs": [],
   "source": [
    "for(i in 2:length(f)){\n",
    "    temp<-Seurat::Load10X_Spatial(paste0(sample_path,f[i]),slice = f[i])\n",
    "    temp$orig.ident<-rep(f[i],dim(temp@meta.data)[1])\n",
    "    temp$barcode<-paste(temp$orig.ident,rownames(temp@meta.data),sep = \"__\")\n",
    "    temp$x.axis<-temp@images[[f[i]]]@coordinates$row\n",
    "    temp$y.axis<-temp@images[[f[i]]]@coordinates$col\n",
    "    temp$imagerow<-temp@images[[f[i]]]@coordinates$imagerow\n",
    "    temp$imagecol<-temp@images[[f[i]]]@coordinates$imagecol\n",
    "    temp<-RenameCells(temp,new.names = temp$barcode)\n",
    "    #head(da@meta.data)\n",
    "    da<-merge(da,temp)\n",
    "}\n",
    "da"
   ]
  },
  {
   "cell_type": "code",
   "execution_count": 9,
   "metadata": {
    "vscode": {
     "languageId": "r"
    }
   },
   "outputs": [],
   "source": [
    "da$distance<-NA\n",
    "da@meta.data[grepl(\"1mm\",da@meta.data$orig.ident,fixed = T),]$distance<-\"1mm\"\n",
    "da@meta.data[!grepl(\"1mm\",da@meta.data$orig.ident,fixed = T),]$distance<-\"0.5mm\""
   ]
  },
  {
   "cell_type": "code",
   "execution_count": null,
   "metadata": {
    "collapsed": true,
    "vscode": {
     "languageId": "r"
    }
   },
   "outputs": [],
   "source": [
    "Images(da)\n",
    "saveRDS(da,\"WT.merge.replace_v2.raw.rds\")"
   ]
  },
  {
   "cell_type": "code",
   "execution_count": 4,
   "metadata": {
    "vscode": {
     "languageId": "r"
    }
   },
   "outputs": [],
   "source": [
    "da<-readRDS(\"WT.merge.replace_v2.raw.rds\")"
   ]
  },
  {
   "cell_type": "code",
   "execution_count": null,
   "metadata": {
    "collapsed": true,
    "vscode": {
     "languageId": "r"
    }
   },
   "outputs": [],
   "source": [
    "unique(da$orig.ident)"
   ]
  },
  {
   "cell_type": "markdown",
   "metadata": {},
   "source": [
    "## split replicates"
   ]
  },
  {
   "cell_type": "code",
   "execution_count": null,
   "metadata": {
    "vscode": {
     "languageId": "r"
    }
   },
   "outputs": [],
   "source": [
    "colnames(temp@meta.data)"
   ]
  },
  {
   "cell_type": "code",
   "execution_count": null,
   "metadata": {
    "vscode": {
     "languageId": "r"
    }
   },
   "outputs": [],
   "source": [
    "meta<-temp@meta.data\n",
    "dim(meta)"
   ]
  },
  {
   "cell_type": "markdown",
   "metadata": {},
   "source": [
    "- \"WT_sham_H_R2_x_not.divide\"\n",
    "- \"WT_24h_H_R1_1mm_x_not.divide\"\n",
    "- \"WT_24h_T_201231_y_not.divide\""
   ]
  },
  {
   "cell_type": "code",
   "execution_count": null,
   "metadata": {
    "collapsed": true,
    "vscode": {
     "languageId": "r"
    }
   },
   "outputs": [],
   "source": [
    "for (i in unique(da$orig.ident)){  \n",
    "  tiss <- meta[meta$orig.ident==i,]\n",
    "  head(tiss)\n",
    "  #tiss$V3<-as.numeric(tiss$V3)\n",
    "  #tiss$V4<-as.numeric(tiss$V4)\n",
    "  x.b<-max(tiss$x.axis)-min(tiss$x.axis)\n",
    "  h<-hist(tiss$x.axis,breaks =x.b )\n",
    "  n0<- which(h$counts==0)\n",
    "  length(n0)\n",
    "  \n",
    "  if ( length(n0)==0) {\n",
    "    print(paste0(i,\"_x_not.divide\"))\n",
    "    #not <- paste0(gsub(\"_tissue_positon.csv\",\"\",files[i]),\"_x_not.divide\")\n",
    "    #write.table(not,file =paste0(not,\".txt\") )\n",
    "  } else {\n",
    "    x.s<-mean(h$mids[n0])\n",
    "    s24<-filter(tiss,tiss$x.axis < x.s )\n",
    "    s13<-filter(tiss,tiss$x.axis > x.s)\n",
    "    \n",
    "    y.b13<-max(s13$y.axis)-min(s13$y.axis)\n",
    "    h<-hist(s13$y.axis,breaks =y.b13)\n",
    "    n0<- which(h$counts==0)\n",
    "    \n",
    "    if (length(n0)==0) {\n",
    "      print(paste0(i,\"_s13_y_not.divide\"))\n",
    "      #not <- paste0(gsub(\"_tissue_positon.csv\",\"\",files[i]),\"_y_not.divide\")\n",
    "      #write.table(not,file =paste0(not,\".txt\") )\n",
    "    } else {\n",
    "      \n",
    "      y.s13<-mean(h$mids[n0]) \n",
    "      \n",
    "      s1<-filter(tiss, tiss$x.axis > x.s & tiss$y.axis > y.s13)\n",
    "      s1$sample <-\"1\"\n",
    "      \n",
    "      s3<-filter(tiss, tiss$x.axis > x.s & tiss$y.axis < y.s13)\n",
    "      s3$sample <-\"3\"      \n",
    "      \n",
    "      \n",
    "    }\n",
    "      \n",
    "   y.b24<-max(s24$y.axis)-min(s24$y.axis)\n",
    "   h<-hist(s24$y.axis,breaks =y.b24)\n",
    "   n0<- which(h$counts==0)   \n",
    "   if (length(n0)==0) {\n",
    "      print(paste0(i,\"_s24_y_not.divide\"))\n",
    "      #not <- paste0(gsub(\"_tissue_positon.csv\",\"\",files[i]),\"_y_not.divide\")\n",
    "      #write.table(not,file =paste0(not,\".txt\") )\n",
    "    } else {\n",
    "      \n",
    "      y.s24<-mean(h$mids[n0]) \n",
    "      \n",
    "      s2<-filter(tiss, tiss$x.axis < x.s & tiss$y.axis > y.s24)\n",
    "      s2$sample <-\"2\"\n",
    "      \n",
    "      s4<-filter(tiss, tiss$x.axis < x.s & tiss$y.axis < y.s24)\n",
    "      s4$sample <-\"4\"      \n",
    "      \n",
    "      \n",
    "    }}   \n",
    "  \n",
    "    ph.da <- rbind(s1,s2,s3,s4)\n",
    "    write.csv(ph.da,file = paste0(\"meta/\",i,\".replicates_tissue_positon.csv\",\"_meta.csv\" ))\n",
    "    write.csv(s1,file = paste0(\"meta/\",i,\"_meta.s1.csv\" ))\n",
    "    write.csv(s2,file = paste0(\"meta/\",i,\"_meta.s2.csv\" ))\n",
    "    write.csv(s3,file = paste0(\"meta/\",i,\"_meta.s3.csv\" ))\n",
    "    write.csv(s4,file = paste0(\"meta/\",i,\"_meta.s4.csv\" ))\n",
    "}"
   ]
  },
  {
   "cell_type": "markdown",
   "metadata": {},
   "source": [
    "- \"WT_sham_H_R2_x_not.divide\"\n",
    "- \"WT_24h_H_R1_1mm_x_not.divide\""
   ]
  },
  {
   "cell_type": "code",
   "execution_count": null,
   "metadata": {
    "collapsed": true,
    "vscode": {
     "languageId": "r"
    }
   },
   "outputs": [],
   "source": [
    "for (i in c(\"WT_sham_H_R2\",\"WT_24h_H_R1_1mm\")){  \n",
    "  tiss <- meta[meta$orig.ident==i,]\n",
    "  head(tiss)\n",
    "  #tiss$V3<-as.numeric(tiss$V3)\n",
    "  #tiss$V4<-as.numeric(tiss$V4)\n",
    "  y.b<-max(tiss$y.axis)-min(tiss$y.axis)\n",
    "  h<-hist(tiss$y.axis,breaks =y.b )\n",
    "  n0<- which(h$counts==0)\n",
    "  length(n0)\n",
    "  \n",
    "  if ( length(n0)==0) {\n",
    "    print(paste0(i,\"_y_not.divide\"))\n",
    "    #not <- paste0(gsub(\"_tissue_positon.csv\",\"\",files[i]),\"_x_not.divide\")\n",
    "    #write.table(not,file =paste0(not,\".txt\") )\n",
    "  } else {\n",
    "    y.s<-mean(h$mids[n0])\n",
    "    s34<-filter(tiss,tiss$y.axis < y.s )\n",
    "    s12<-filter(tiss,tiss$y.axis > y.s)\n",
    "    x.b12<-max(s12$x.axis)-min(s12$x.axis)\n",
    "    h<-hist(s12$x.axis,breaks =x.b12)\n",
    "    n0<- which(h$counts==0)\n",
    "    \n",
    "    if (length(n0)==0) {\n",
    "      print(paste0(i,\"_s12_x_not.divide\"))\n",
    "      #not <- paste0(gsub(\"_tissue_positon.csv\",\"\",files[i]),\"_y_not.divide\")\n",
    "      #write.table(not,file =paste0(not,\".txt\") )\n",
    "    } else {\n",
    "      \n",
    "      x.s12<-mean(h$mids[n0]) \n",
    "      \n",
    "      s1<-filter(tiss, tiss$y.axis > y.s & tiss$x.axis > x.s12)\n",
    "      s1$sample <-\"1\"\n",
    "      \n",
    "      s2<-filter(tiss, tiss$y.axis > y.s & tiss$x.axis < x.s12)\n",
    "      s2$sample <-\"2\" }     \n",
    "      \n",
    "      \n",
    "    \n",
    "      \n",
    "   x.b34<-max(s34$x.axis)-min(s34$x.axis)\n",
    "   h<-hist(s34$x.axis,breaks =x.b34)\n",
    "   n0<- which(h$counts==0)   \n",
    "   if (length(n0)==0) {\n",
    "      print(paste0(i,\"_s34_x_not.divide\"))\n",
    "      #not <- paste0(gsub(\"_tissue_positon.csv\",\"\",files[i]),\"_y_not.divide\")\n",
    "      #write.table(not,file =paste0(not,\".txt\") )\n",
    "    } else {\n",
    "      \n",
    "      x.s34<-mean(h$mids[n0]) \n",
    "      \n",
    "      s3<-filter(tiss, tiss$y.axis < y.s & tiss$x.axis > x.s34)\n",
    "      s3$sample <-\"3\"\n",
    "      \n",
    "      s4<-filter(tiss, tiss$y.axis < y.s & tiss$x.axis < x.s34)\n",
    "      s4$sample <-\"4\"      \n",
    "      \n",
    "      \n",
    "    }   }\n",
    "  \n",
    "    ph.da <- rbind(s1,s2,s3,s4)\n",
    "    write.csv(ph.da,file = paste0(\"meta/\",i,\".replicates_tissue_positon.csv\",\"_meta.csv\" ))\n",
    "    write.csv(s1,file = paste0(\"meta/\",i,\"_meta.s1.csv\" ))\n",
    "    write.csv(s2,file = paste0(\"meta/\",i,\"_meta.s2.csv\" ))\n",
    "    write.csv(s3,file = paste0(\"meta/\",i,\"_meta.s3.csv\" ))\n",
    "    write.csv(s4,file = paste0(\"meta/\",i,\"_meta.s4.csv\" ))\n",
    "}"
   ]
  },
  {
   "cell_type": "code",
   "execution_count": null,
   "metadata": {
    "collapsed": true,
    "vscode": {
     "languageId": "r"
    }
   },
   "outputs": [],
   "source": [
    "f<-dir(\"/result/Seurat/reg.CC/WT_replace_v2/meta\",pattern = \"replicate\")\n",
    "f"
   ]
  },
  {
   "cell_type": "code",
   "execution_count": null,
   "metadata": {
    "collapsed": true,
    "vscode": {
     "languageId": "r"
    }
   },
   "outputs": [],
   "source": [
    "rep<-read.csv(paste0(\"/result/Seurat/reg.CC/WT_replace_v2/meta/\",f[1]),header = T)\n",
    "rownames(rep)<-rep[,1]\n",
    "rep<-rep[,-1]\n",
    "head(rep)\n",
    "\n",
    "for(i in c(2:length(f))){\n",
    "    tem<-read.csv(paste0(\"/result/Seurat/reg.CC/WT_replace_v2/meta/\",f[i]),header = T)\n",
    "    rownames(tem)<-tem[,1]\n",
    "    tem<-tem[,-1]\n",
    "    tem[1:5,1:5]\n",
    "    rep<-rbind(rep,tem)\n",
    "}\n",
    "dim(rep)\n",
    "table(rep$sample)"
   ]
  },
  {
   "cell_type": "markdown",
   "metadata": {},
   "source": [
    "- heatmap of sample bulk correlation"
   ]
  },
  {
   "cell_type": "code",
   "execution_count": null,
   "metadata": {
    "collapsed": true,
    "vscode": {
     "languageId": "r"
    }
   },
   "outputs": [],
   "source": [
    "temp<-readRDS(\"../WT.merge.replace_v2.raw.rds\")\n",
    "temp"
   ]
  },
  {
   "cell_type": "code",
   "execution_count": null,
   "metadata": {
    "collapsed": true,
    "vscode": {
     "languageId": "r"
    }
   },
   "outputs": [],
   "source": [
    "temp@assays$Spatial@counts[1:5,1:5]"
   ]
  },
  {
   "cell_type": "code",
   "execution_count": null,
   "metadata": {
    "collapsed": true,
    "vscode": {
     "languageId": "r"
    }
   },
   "outputs": [],
   "source": [
    "table(rownames(rep)==colnames(temp))\n",
    "rep<-rep[colnames(temp),]\n",
    "table(rownames(rep)==colnames(temp))"
   ]
  },
  {
   "cell_type": "code",
   "execution_count": null,
   "metadata": {
    "collapsed": true,
    "vscode": {
     "languageId": "r"
    }
   },
   "outputs": [],
   "source": [
    "temp@meta.data<-rep\n",
    "head(temp@meta.data)"
   ]
  },
  {
   "cell_type": "code",
   "execution_count": null,
   "metadata": {
    "collapsed": true,
    "vscode": {
     "languageId": "r"
    }
   },
   "outputs": [],
   "source": [
    "temp$sample<-paste(temp$orig.ident,temp$sample,sep = \"_\")\n",
    "table(temp$sample)"
   ]
  },
  {
   "cell_type": "code",
   "execution_count": 53,
   "metadata": {
    "vscode": {
     "languageId": "r"
    }
   },
   "outputs": [],
   "source": [
    "temp$sample<-factor(temp$sample,levels = c('WT_sham_H_R2_1mm_1','WT_sham_H_R2_1mm_2','WT_sham_H_R2_1mm_3','WT_sham_H_R2_1mm_4',\n",
    "         'WT_sham_H_R2_1','WT_sham_H_R2_2','WT_sham_H_R2_3','WT_sham_H_R2_4',\n",
    "         'WT_sham_T_210323_1','WT_sham_T_210323_2','WT_sham_T_210323_3','WT_sham_T_210323_4',\n",
    "         'WT_sham_T_R2_1mm_1','WT_sham_T_R2_1mm_2','WT_sham_T_R2_1mm_3','WT_sham_T_R2_1mm_4',\n",
    "         'WT_3h_H_R2_1mm_1','WT_3h_H_R2_1mm_2','WT_3h_H_R2_1mm_3','WT_3h_H_R2_1mm_4',\n",
    "         'WT_3h_H_R2_1','WT_3h_H_R2_2','WT_3h_H_R2_3','WT_3h_H_R2_4',\n",
    "         'WT_3h_T_R2_1','WT_3h_T_R2_2','WT_3h_T_R2_3','WT_3h_T_R2_4',\n",
    "         'WT_3h_T_210330_1mm_1','WT_3h_T_210330_1mm_2','WT_3h_T_210330_1mm_3','WT_3h_T_210330_1mm_4',\n",
    "         'WT_24h_H_R1_1mm_1','WT_24h_H_R1_1mm_2','WT_24h_H_R1_1mm_3','WT_24h_H_R1_1mm_4',\n",
    "         'WT_24h_H_R1_1','WT_24h_H_R1_2','WT_24h_H_R1_3','WT_24h_H_R1_4',\n",
    "         'WT_24h_T_201231_1','WT_24h_T_201231_2','WT_24h_T_201231_3','WT_24h_T_201231_4',\n",
    "         'WT_24h_T_R1_1mm_1','WT_24h_T_R1_1mm_2','WT_24h_T_R1_1mm_3','WT_24h_T_R1_1mm_4',\n",
    "         'WT_72h_H_R1_1mm_1','WT_72h_H_R1_1mm_2','WT_72h_H_R1_1mm_3','WT_72h_H_R1_1mm_4',\n",
    "         'WT_72h_H_210323_1','WT_72h_H_210323_2','WT_72h_H_210323_3','WT_72h_H_210323_4',\n",
    "         'WT_72h_T_R2_1','WT_72h_T_R2_2','WT_72h_T_R2_3','WT_72h_T_R2_4',\n",
    "         'WT_72h_T_R1_1mm_1','WT_72h_T_R1_1mm_2','WT_72h_T_R1_1mm_3','WT_72h_T_R1_1mm_4'))"
   ]
  },
  {
   "cell_type": "code",
   "execution_count": 54,
   "metadata": {
    "vscode": {
     "languageId": "r"
    }
   },
   "outputs": [],
   "source": [
    "saveRDS(temp,\"WT.merge.replace_v2.raw.rds\")"
   ]
  },
  {
   "cell_type": "code",
   "execution_count": 11,
   "metadata": {
    "vscode": {
     "languageId": "r"
    }
   },
   "outputs": [],
   "source": [
    "mean_expr<-t(as.matrix(temp@assays$Spatial@counts))\n",
    "mean_expr<-as.data.frame(mean_expr)"
   ]
  },
  {
   "cell_type": "code",
   "execution_count": null,
   "metadata": {
    "collapsed": true,
    "vscode": {
     "languageId": "r"
    }
   },
   "outputs": [],
   "source": [
    "mean_expr$sample<-temp$sample\n",
    "mean_expr[1:5,1:5]"
   ]
  },
  {
   "cell_type": "code",
   "execution_count": 20,
   "metadata": {
    "vscode": {
     "languageId": "r"
    }
   },
   "outputs": [],
   "source": [
    "mean_expr %>% group_by(sample) %>%\n",
    "    summarise_all(\"mean\") -> df"
   ]
  },
  {
   "cell_type": "code",
   "execution_count": null,
   "metadata": {
    "collapsed": true,
    "vscode": {
     "languageId": "r"
    }
   },
   "outputs": [],
   "source": [
    "df<-as.data.frame(df)\n",
    "rownames(df)<-df$sample\n",
    "df<-df[,-1]\n",
    "dim(df)\n",
    "df[1:5,1:5]"
   ]
  },
  {
   "cell_type": "code",
   "execution_count": null,
   "metadata": {
    "collapsed": true,
    "vscode": {
     "languageId": "r"
    }
   },
   "outputs": [],
   "source": [
    "df<-df[c('WT_sham_H_R2_1mm_1','WT_sham_H_R2_1mm_2','WT_sham_H_R2_1mm_3','WT_sham_H_R2_1mm_4',\n",
    "         'WT_sham_H_R2_1','WT_sham_H_R2_2','WT_sham_H_R2_3','WT_sham_H_R2_4',\n",
    "         'WT_sham_T_210323_1','WT_sham_T_210323_2','WT_sham_T_210323_3','WT_sham_T_210323_4',\n",
    "         'WT_sham_T_R2_1mm_1','WT_sham_T_R2_1mm_2','WT_sham_T_R2_1mm_3','WT_sham_T_R2_1mm_4',\n",
    "         'WT_3h_H_R2_1mm_1','WT_3h_H_R2_1mm_2','WT_3h_H_R2_1mm_3','WT_3h_H_R2_1mm_4',\n",
    "         'WT_3h_H_R2_1','WT_3h_H_R2_2','WT_3h_H_R2_3','WT_3h_H_R2_4',\n",
    "         'WT_3h_T_R2_1','WT_3h_T_R2_2','WT_3h_T_R2_3','WT_3h_T_R2_4',\n",
    "         'WT_3h_T_210330_1mm_1','WT_3h_T_210330_1mm_2','WT_3h_T_210330_1mm_3','WT_3h_T_210330_1mm_4',\n",
    "         'WT_24h_H_R1_1mm_1','WT_24h_H_R1_1mm_2','WT_24h_H_R1_1mm_3','WT_24h_H_R1_1mm_4',\n",
    "         'WT_24h_H_R1_1','WT_24h_H_R1_2','WT_24h_H_R1_3','WT_24h_H_R1_4',\n",
    "         'WT_24h_T_201231_1','WT_24h_T_201231_2','WT_24h_T_201231_3','WT_24h_T_201231_4',\n",
    "         'WT_24h_T_R1_1mm_1','WT_24h_T_R1_1mm_2','WT_24h_T_R1_1mm_3','WT_24h_T_R1_1mm_4',\n",
    "         'WT_72h_H_R1_1mm_1','WT_72h_H_R1_1mm_2','WT_72h_H_R1_1mm_3','WT_72h_H_R1_1mm_4',\n",
    "         'WT_72h_H_210323_1','WT_72h_H_210323_2','WT_72h_H_210323_3','WT_72h_H_210323_4',\n",
    "         'WT_72h_T_R2_1','WT_72h_T_R2_2','WT_72h_T_R2_3','WT_72h_T_R2_4',\n",
    "         'WT_72h_T_R1_1mm_1','WT_72h_T_R1_1mm_2','WT_72h_T_R1_1mm_3','WT_72h_T_R1_1mm_4'\n",
    "         ),]\n",
    "rownames(df)"
   ]
  },
  {
   "cell_type": "code",
   "execution_count": 25,
   "metadata": {
    "vscode": {
     "languageId": "r"
    }
   },
   "outputs": [],
   "source": [
    "write.csv(df,\"WT.replace_v2.sample.average.expression.csv\")"
   ]
  },
  {
   "cell_type": "code",
   "execution_count": null,
   "metadata": {
    "vscode": {
     "languageId": "r"
    }
   },
   "outputs": [],
   "source": [
    "write.csv(df,\"WT.replace_v2.sample.average.expression.csv\")\n",
    "cor<-cor(t(as.matrix(df)),method = \"pearson\")\n",
    "cor<-round(cor,2)\n",
    "col<-colorRampPalette(c(\"blue\",\"white\",\"red\"))(20)\n",
    "pdf(\"WT.replace_v2.sample_bulk.pearson.correlation.pdf\")\n",
    "#par(mar = c(5,5,5,5))\n",
    "heatmap(x=cor,col=col,scale=\"none\",Colv = NA,Rowv = NA,cexRow = 0.5,cexCol = 0.5,margins = c(6,6)\n",
    "       )\n",
    "dev.off()"
   ]
  },
  {
   "cell_type": "code",
   "execution_count": 33,
   "metadata": {
    "vscode": {
     "languageId": "r"
    }
   },
   "outputs": [],
   "source": [
    "cor<-cor(t(as.matrix(df)),method = \"pearson\")"
   ]
  },
  {
   "cell_type": "code",
   "execution_count": 34,
   "metadata": {
    "vscode": {
     "languageId": "r"
    }
   },
   "outputs": [],
   "source": [
    "cor<-round(cor,2)"
   ]
  },
  {
   "cell_type": "code",
   "execution_count": null,
   "metadata": {
    "scrolled": true,
    "vscode": {
     "languageId": "r"
    }
   },
   "outputs": [],
   "source": [
    "col<-colorRampPalette(c(\"blue\",\"white\",\"red\"))(20)\n",
    "pdf(\"WT.replace_v2.sample_bulk.pearson.correlation.pdf\")\n",
    "#par(mar = c(5,5,5,5))\n",
    "heatmap(x=cor,col=col,scale=\"none\",Colv = NA,Rowv = NA,cexRow = 0.5,cexCol = 0.5,margins = c(6,6)\n",
    "       )\n",
    "dev.off()"
   ]
  },
  {
   "attachments": {},
   "cell_type": "markdown",
   "metadata": {},
   "source": [
    "#### sample bulk correlation visualization"
   ]
  },
  {
   "cell_type": "code",
   "execution_count": null,
   "metadata": {
    "collapsed": true,
    "vscode": {
     "languageId": "r"
    }
   },
   "outputs": [],
   "source": [
    "source(\"/script/self_function/cor_diagram.R\")\n",
    "library(ellipse)"
   ]
  },
  {
   "cell_type": "code",
   "execution_count": null,
   "metadata": {
    "vscode": {
     "languageId": "r"
    }
   },
   "outputs": [],
   "source": [
    "ma<-read.csv(\"../QC/WT.replace_v2.sample.average.expression.csv\")\n",
    "rownames(ma)<-ma[,1]\n",
    "ma<-as.matrix(ma[,-1])\n",
    "dim(ma)"
   ]
  },
  {
   "cell_type": "code",
   "execution_count": null,
   "metadata": {
    "collapsed": true,
    "vscode": {
     "languageId": "r"
    }
   },
   "outputs": [],
   "source": [
    "c<-cor(t(ma),method = \"pearson\")\n",
    "c<-round(c,4)\n",
    "head(c)"
   ]
  },
  {
   "cell_type": "code",
   "execution_count": null,
   "metadata": {
    "collapsed": true,
    "vscode": {
     "languageId": "r"
    }
   },
   "outputs": [],
   "source": [
    "col<-colorRampPalette(rev(brewer.pal(11, \"Spectral\")))(15)\n",
    "col\n",
    "library(scales)\n",
    "show_col(col)"
   ]
  },
  {
   "cell_type": "code",
   "execution_count": null,
   "metadata": {
    "collapsed": true,
    "vscode": {
     "languageId": "r"
    }
   },
   "outputs": [],
   "source": [
    "#pdf(\"64samples.average.expression.pearson.correlation.corrplot_220829.pdf\",width=40,height=40)\n",
    "options(repr.plot.width=40,repr.plot.height=40)\n",
    "corrplot(c,method=\"shade\",type=\"upper\",tl.col = \"black\",col.lim = c(0,1),\n",
    "               #lower.col = \"#92a8d1\",\n",
    "               col = colorRampPalette(colors = rev(c(#'#5E4FA2',\n",
    "                                                    '#3E77B5','#48A0B2','#6FC5A4','#A1D9A4')))(100))\n",
    "#dev.off()"
   ]
  },
  {
   "cell_type": "code",
   "execution_count": null,
   "metadata": {
    "collapsed": true,
    "vscode": {
     "languageId": "r"
    }
   },
   "outputs": [],
   "source": [
    "options(repr.plot.width=12,repr.plot.height=5)\n",
    "VlnPlot(temp,features = \"nCount_Spatial\",pt.size = 0,group.by = \"sample\")+NoLegend()+theme(axis.text.x = element_text(size = 5))\n",
    "ggsave(\"QC/nCount.bySample.vlnplot.png\",width=12,height=5,dpi = 400)"
   ]
  },
  {
   "cell_type": "code",
   "execution_count": null,
   "metadata": {
    "collapsed": true,
    "vscode": {
     "languageId": "r"
    }
   },
   "outputs": [],
   "source": [
    "unique(temp$orig.ident)"
   ]
  },
  {
   "cell_type": "code",
   "execution_count": 59,
   "metadata": {
    "vscode": {
     "languageId": "r"
    }
   },
   "outputs": [],
   "source": [
    "temp$orig.ident<-factor(temp$orig.ident,levels = c('WT_sham_H_R2_1mm','WT_sham_H_R2','WT_sham_T_210323','WT_sham_T_R2_1mm',\n",
    "                                                  'WT_3h_H_R2_1mm','WT_3h_H_R2','WT_3h_T_R2','WT_3h_T_210330_1mm',\n",
    "                                                  'WT_24h_H_R1_1mm','WT_24h_H_R1','WT_24h_T_201231','WT_24h_T_R1_1mm',\n",
    "                                                  'WT_72h_H_R1_1mm','WT_72h_H_210323','WT_72h_T_R2','WT_72h_T_R1_1mm'))"
   ]
  },
  {
   "cell_type": "code",
   "execution_count": null,
   "metadata": {
    "collapsed": true,
    "vscode": {
     "languageId": "r"
    }
   },
   "outputs": [],
   "source": [
    "for(i in c(\"nCount_Spatial\",\"nFeature_Spatial\",'percent.mt',))\n",
    "options(repr.plot.width=5,repr.plot.height=5)\n",
    "VlnPlot(temp,features = \"nCount_Spatial\",pt.size = 0,group.by = \"orig.ident\")+NoLegend()+theme(axis.text.x = element_text(size = 5))\n",
    "ggsave(\"QC/nCount.byIdent.vlnplot.png\",width=5,height=5,dpi = 400)"
   ]
  },
  {
   "cell_type": "code",
   "execution_count": null,
   "metadata": {
    "collapsed": true,
    "vscode": {
     "languageId": "r"
    }
   },
   "outputs": [],
   "source": [
    "options(repr.plot.width=12,repr.plot.height=5)\n",
    "VlnPlot(temp,features = \"nFeature_Spatial\",pt.size = 0,group.by = \"sample\")+NoLegend()+theme(axis.text.x = element_text(size = 5))\n",
    "ggsave(\"QC/nFeature.bySample.vlnplot.png\",width=12,height=5,dpi = 400)"
   ]
  },
  {
   "cell_type": "code",
   "execution_count": null,
   "metadata": {
    "collapsed": true,
    "vscode": {
     "languageId": "r"
    }
   },
   "outputs": [],
   "source": [
    "options(repr.plot.width=5,repr.plot.height=5)\n",
    "VlnPlot(temp,features = \"nFeature_Spatial\",pt.size = 0,group.by = \"orig.ident\")+NoLegend()+theme(axis.text.x = element_text(size = 5))\n",
    "ggsave(\"QC/nFeature.byIdent.vlnplot.png\",width=5,height=5,dpi = 400)"
   ]
  },
  {
   "cell_type": "code",
   "execution_count": 64,
   "metadata": {
    "vscode": {
     "languageId": "r"
    }
   },
   "outputs": [],
   "source": [
    "temp[['percent.mt']]<-PercentageFeatureSet(temp,pattern = \"^mt\")"
   ]
  },
  {
   "cell_type": "code",
   "execution_count": null,
   "metadata": {
    "collapsed": true,
    "vscode": {
     "languageId": "r"
    }
   },
   "outputs": [],
   "source": [
    "options(repr.plot.width=12,repr.plot.height=5)\n",
    "VlnPlot(temp,features = \"percent.mt\",pt.size = 0,group.by = \"sample\")+NoLegend()+theme(axis.text.x = element_text(size = 5))\n",
    "ggsave(\"QC/pt.mt.bySample.vlnplot.png\",width=12,height=5,dpi = 400)"
   ]
  },
  {
   "cell_type": "code",
   "execution_count": null,
   "metadata": {
    "collapsed": true,
    "vscode": {
     "languageId": "r"
    }
   },
   "outputs": [],
   "source": [
    "options(repr.plot.width=5,repr.plot.height=5)\n",
    "VlnPlot(temp,features = \"percent.mt\",pt.size = 0,group.by = \"orig.ident\")+NoLegend()+theme(axis.text.x = element_text(size = 5))\n",
    "ggsave(\"QC/pt.mt.byIdent.vlnplot.png\",width=5,height=5,dpi = 400)"
   ]
  },
  {
   "cell_type": "code",
   "execution_count": null,
   "metadata": {
    "vscode": {
     "languageId": "r"
    }
   },
   "outputs": [],
   "source": [
    "#remove blood related genes\n",
    "Hb_gene<-rownames(da)[grepl(\"^Hb\",rownames(da))]\n",
    "Hb_gene\n",
    "da<-da[!rownames(da)%in%Hb_gene,colnames(da)]\n",
    "da"
   ]
  },
  {
   "cell_type": "code",
   "execution_count": 6,
   "metadata": {
    "vscode": {
     "languageId": "r"
    }
   },
   "outputs": [],
   "source": [
    "#m.s.genes<-convertHumanGeneList(cc$s.genes)\n",
    "m.s.genes<-c('Exo1','Msh2','Mcm4','Chaf1b','Rrm2','Cenpu','Mrpl36','Gmnn','Hells','Cdc6','Gins2','Uhrf1',\n",
    "             'Cdc45','Slbp','Ubr7','Fen1','Rad51ap1','Mcm5','Nasp','Cdca7','Blm','Usp1','Ung','Prim1',\n",
    "             'Clspn','Mcm6','Dtl','Pola1','Dscc1','Tipin','Wdr76','Casp8ap2','Tyms','Ccne2','Rrm1','Polr1b',\n",
    "             'Rfc2','Rad51','E2f8','Mcm7','Pcna')\n",
    "#m.g2m.genes<-convertHumanGeneList(cc$g2m.genes)\n",
    "m.g2m.genes<-c('Dlgap5','Ctcf','Smc4','Kif20b','Cdc25c','Gtse1','Tpx2','Hmgb2','Cks1brt','Cdca2',\n",
    "               'Top2a','Cks2','Cdca3','G2e3','Ttk','Ncapd2','Lbr','Anp32e','Ckap2','Tacc3','Nek2',\n",
    "               'Cenpe','Kif11','Anln','Hjurp','Aurkb','Rangap1','Cks1b','Hmmr','Ckap5','Cdc20',\n",
    "               'Psrc1','Kif23','Ect2','Kif2c','Ndc80','Nuf2','Cdca8','Birc5','Cenpf','Ube2c','Jpt1',\n",
    "               'Pimreg','Nusap1','Mki67','Tubb4b','Bub1','Cenpa','Ccnb2','Aurka','Ckap2l')"
   ]
  },
  {
   "cell_type": "code",
   "execution_count": 7,
   "metadata": {
    "vscode": {
     "languageId": "r"
    }
   },
   "outputs": [],
   "source": [
    "da<-PercentageFeatureSet(da,\"^mt-\",col.name = \"percent_mt\")"
   ]
  },
  {
   "cell_type": "code",
   "execution_count": null,
   "metadata": {
    "collapsed": true,
    "vscode": {
     "languageId": "r"
    }
   },
   "outputs": [],
   "source": [
    "da<-NormalizeData(da)\n",
    "da<-CellCycleScoring(da,s.features = m.s.genes,g2m.features = m.g2m.genes)\n",
    "da<-FindVariableFeatures(da,nfeatures = 3000,selection.method =\"vst\")\n",
    "da<-ScaleData(da,vars.to.regress = c(\"S.Score\",\"G2M.Score\",\"nCount_Spatial\",\"percent_mt\",\"orig.ident\"),features = rownames(da))"
   ]
  },
  {
   "cell_type": "code",
   "execution_count": 9,
   "metadata": {
    "vscode": {
     "languageId": "r"
    }
   },
   "outputs": [],
   "source": [
    "saveRDS(da,\"WT.merge.replace_v2.regress_CC.nC.mt.ident.rds\")"
   ]
  },
  {
   "cell_type": "code",
   "execution_count": null,
   "metadata": {
    "collapsed": true,
    "vscode": {
     "languageId": "r"
    }
   },
   "outputs": [],
   "source": [
    "#da<-readRDS(\"WT.merge.replace_v2.spatial_SCT.regress_CC.nC.mt.ident.rds\")\n",
    "da<-readRDS(\"SCT/WT.merge.replace_v2.SCT.regress_CC.nC.mt.ident.pc20.k50.res025.rds\")\n",
    "da"
   ]
  },
  {
   "cell_type": "code",
   "execution_count": 87,
   "metadata": {
    "vscode": {
     "languageId": "r"
    }
   },
   "outputs": [],
   "source": [
    "da$sample<-temp$sample"
   ]
  },
  {
   "cell_type": "markdown",
   "metadata": {},
   "source": [
    "- quality control and statistic"
   ]
  },
  {
   "cell_type": "code",
   "execution_count": null,
   "metadata": {
    "vscode": {
     "languageId": "r"
    }
   },
   "outputs": [],
   "source": [
    "slide<-unique(da$orig.ident)\n",
    "slide"
   ]
  },
  {
   "cell_type": "code",
   "execution_count": null,
   "metadata": {
    "vscode": {
     "languageId": "r"
    }
   },
   "outputs": [],
   "source": [
    "sum(rowSums(da@assays$Spatial@counts)>0)"
   ]
  },
  {
   "cell_type": "code",
   "execution_count": null,
   "metadata": {
    "collapsed": true,
    "vscode": {
     "languageId": "r"
    }
   },
   "outputs": [],
   "source": [
    "gene_detect<-data.frame(row.names = slide)\n",
    "##dir.create(\"QC/\")\n",
    "for(i in slide){\n",
    "    cells<-rownames(da@meta.data)[da$orig.ident==i]\n",
    "    temp<-da@assays$Spatial@counts[,cells]\n",
    "    gene_detect[i,\"Total gene detected\"]<-sum(rowSums(temp)>0)\n",
    "    gene_detect[i,\"Num of Spots\"]<-length(cells)\n",
    "}\n",
    "gene_detect\n",
    "##stats[slide[1],c('nCount_Spatial','nFeature_Spatial','percent_mt','S.Score','G2M.Score')]<-colSums(da@meta.data[da@meta.data$orig.ident==slide[1],c('nCount_Spatial','nFeature_Spatial','percent_mt','S.Score','G2M.Score')])\n",
    "#stats\n",
    "#write.csv(stats,\"QC/WT.merge.QC_sum.csv\")       "
   ]
  },
  {
   "cell_type": "code",
   "execution_count": null,
   "metadata": {
    "collapsed": true,
    "vscode": {
     "languageId": "r"
    }
   },
   "outputs": [],
   "source": [
    "for(i in slide){\n",
    "    cells<-rownames(da@meta.data)[da$orig.ident==i]\n",
    "    gene_detect[i,\"Num of Spots\"]<-length(cells)\n",
    "}\n",
    "gene_detect"
   ]
  },
  {
   "cell_type": "code",
   "execution_count": null,
   "metadata": {
    "collapsed": true,
    "vscode": {
     "languageId": "r"
    }
   },
   "outputs": [],
   "source": [
    "stats<-data.frame(row.names = slide)\n",
    "for(i in slide){\n",
    "    stats[i,paste0(\"Mean of \",c('nCount','nFeature','percent_mt','S.Score','G2M.Score'))]<-apply(da@meta.data[da@meta.data$orig.ident==i,c('nCount_Spatial','nFeature_Spatial','percent_mt','S.Score','G2M.Score')],2,mean)\n",
    "    stats[i,paste0(\"Median of \",c('nCount','nFeature','percent_mt','S.Score','G2M.Score'))]<-apply(da@meta.data[da@meta.data$orig.ident==i,c('nCount_Spatial','nFeature_Spatial','percent_mt','S.Score','G2M.Score')],2,median)               \n",
    "}\n",
    "#stats[slide[1],c('nCount_Spatial','nFeature_Spatial','percent_mt','S.Score','G2M.Score')]<-colSums(da@meta.data[da@meta.data$orig.ident==slide[1],c('nCount_Spatial','nFeature_Spatial','percent_mt','S.Score','G2M.Score')])\n",
    "stats\n",
    "#write.csv(stats,\"QC/WT.merge.QC_average.csv\")   "
   ]
  },
  {
   "cell_type": "code",
   "execution_count": null,
   "metadata": {
    "collapsed": true,
    "vscode": {
     "languageId": "r"
    }
   },
   "outputs": [],
   "source": [
    "stats2<-cbind(stats,gene_detect)\n",
    "stats2"
   ]
  },
  {
   "cell_type": "code",
   "execution_count": null,
   "metadata": {
    "vscode": {
     "languageId": "r"
    }
   },
   "outputs": [],
   "source": [
    "write.csv(stats2,\"../QC/WT.merge.16sample.QC_220920.csv\") "
   ]
  },
  {
   "cell_type": "code",
   "execution_count": null,
   "metadata": {
    "collapsed": true,
    "vscode": {
     "languageId": "r"
    }
   },
   "outputs": [],
   "source": [
    "stats<-read.csv(\"../QC/WT.merge.QC_average.csv\")\n",
    "head(stats)\n",
    "colMeans(stats[2:ncol(stats)])"
   ]
  },
  {
   "cell_type": "code",
   "execution_count": null,
   "metadata": {
    "collapsed": true,
    "vscode": {
     "languageId": "r"
    }
   },
   "outputs": [],
   "source": [
    "options(repr.plot.width=20,repr.plot.height=18)\n",
    "for(i in c('nCount_Spatial','nFeature_Spatial','percent_mt','S.Score','G2M.Score')){\n",
    "    p<-SpatialFeaturePlot(da,slot = \"counts\",features = i,combine=F)\n",
    "    do.call(ggpubr::ggarrange,c(p,list(ncol=4,nrow=4,common.legend=T,legend=\"right\")))\n",
    "    ggsave(paste0(\"QC/WT.merge.regress_CC.nC.mt.ident.spatialQC.\",i,\".png\"),width=20,height=18,dpi = 400)\n",
    "}\n"
   ]
  },
  {
   "cell_type": "code",
   "execution_count": null,
   "metadata": {
    "collapsed": true,
    "vscode": {
     "languageId": "r"
    }
   },
   "outputs": [],
   "source": [
    "options(repr.plot.width=12,repr.plot.height=5)\n",
    "for(i in c('nCount_Spatial','nFeature_Spatial','percent_mt','S.Score','G2M.Score')){\n",
    "    VlnPlot(da,features = \"S.Score\",pt.size = 0,group.by = \"sample\")+NoLegend()+theme(axis.text.x = element_text(size = 5))\n",
    "    ggsave(paste0(\"QC/\",i,\".bySample.vlnplot.png\",width=12,height=5,dpi = 400)\n",
    "}"
   ]
  },
  {
   "cell_type": "code",
   "execution_count": 73,
   "metadata": {
    "vscode": {
     "languageId": "r"
    }
   },
   "outputs": [],
   "source": [
    "da$orig.ident<-factor(da$orig.ident,levels = c('WT_sham_H_R2_1mm','WT_sham_H_R2','WT_sham_T_210323','WT_sham_T_R2_1mm',\n",
    "                                                  'WT_3h_H_R2_1mm','WT_3h_H_R2','WT_3h_T_R2','WT_3h_T_210330_1mm',\n",
    "                                                  'WT_24h_H_R1_1mm','WT_24h_H_R1','WT_24h_T_201231','WT_24h_T_R1_1mm',\n",
    "                                                  'WT_72h_H_R1_1mm','WT_72h_H_210323','WT_72h_T_R2','WT_72h_T_R1_1mm'))"
   ]
  },
  {
   "cell_type": "code",
   "execution_count": null,
   "metadata": {
    "collapsed": true,
    "vscode": {
     "languageId": "r"
    }
   },
   "outputs": [],
   "source": [
    "options(repr.plot.width=12,repr.plot.height=5)\n",
    "for(i in c('nCount_Spatial','nFeature_Spatial','percent_mt','S.Score','G2M.Score')){\n",
    "    VlnPlot(da,features = \"S.Score\",pt.size = 0,group.by = \"orig.ident\")+NoLegend()+theme(axis.text.x = element_text(size = 5))\n",
    "    ggsave(paste0(\"QC/\",i,\".byIdent.vlnplot.png\",width=12,height=5,dpi = 400)\n",
    "}"
   ]
  },
  {
   "cell_type": "markdown",
   "metadata": {},
   "source": [
    "- add meta info"
   ]
  },
  {
   "cell_type": "code",
   "execution_count": null,
   "metadata": {
    "vscode": {
     "languageId": "r"
    }
   },
   "outputs": [],
   "source": [
    "da@meta.data$time<-NA\n",
    "da@meta.data[grepl(\"sham\",da@meta.data$orig.ident,fixed = T),]$time<-\"WT_sham\"\n",
    "da@meta.data[grepl(\"3h\",da@meta.data$orig.ident,fixed = T),]$time<-\"WT_3h\"\n",
    "da@meta.data[grepl(\"24h\",da@meta.data$orig.ident,fixed = T),]$time<-\"WT_24h\"\n",
    "da@meta.data[grepl(\"72h\",da@meta.data$orig.ident,fixed = T),]$time<-\"WT_72h\"\n",
    "unique(da$time)"
   ]
  },
  {
   "cell_type": "code",
   "execution_count": 89,
   "metadata": {
    "collapsed": true,
    "vscode": {
     "languageId": "r"
    }
   },
   "outputs": [
    {
     "data": {
      "text/html": [
       "<style>\n",
       ".list-inline {list-style: none; margin:0; padding: 0}\n",
       ".list-inline>li {display: inline-block}\n",
       ".list-inline>li:not(:last-child)::after {content: \"\\00b7\"; padding: 0 .5ex}\n",
       "</style>\n",
       "<ol class=list-inline><li>WT_sham</li><li>WT_3h</li><li>WT_24h</li><li>WT_72h</li></ol>\n",
       "\n",
       "<details>\n",
       "\t<summary style=display:list-item;cursor:pointer>\n",
       "\t\t<strong>Levels</strong>:\n",
       "\t</summary>\n",
       "\t<style>\n",
       "\t.list-inline {list-style: none; margin:0; padding: 0}\n",
       "\t.list-inline>li {display: inline-block}\n",
       "\t.list-inline>li:not(:last-child)::after {content: \"\\00b7\"; padding: 0 .5ex}\n",
       "\t</style>\n",
       "\t<ol class=list-inline><li>'WT_sham'</li><li>'WT_3h'</li><li>'WT_24h'</li><li>'WT_72h'</li></ol>\n",
       "</details>"
      ],
      "text/latex": [
       "\\begin{enumerate*}\n",
       "\\item WT\\_sham\n",
       "\\item WT\\_3h\n",
       "\\item WT\\_24h\n",
       "\\item WT\\_72h\n",
       "\\end{enumerate*}\n",
       "\n",
       "\\emph{Levels}: \\begin{enumerate*}\n",
       "\\item 'WT\\_sham'\n",
       "\\item 'WT\\_3h'\n",
       "\\item 'WT\\_24h'\n",
       "\\item 'WT\\_72h'\n",
       "\\end{enumerate*}\n"
      ],
      "text/markdown": [
       "1. WT_sham\n",
       "2. WT_3h\n",
       "3. WT_24h\n",
       "4. WT_72h\n",
       "\n",
       "\n",
       "\n",
       "**Levels**: 1. 'WT_sham'\n",
       "2. 'WT_3h'\n",
       "3. 'WT_24h'\n",
       "4. 'WT_72h'\n",
       "\n",
       "\n"
      ],
      "text/plain": [
       "[1] WT_sham WT_3h   WT_24h  WT_72h \n",
       "Levels: WT_sham WT_3h WT_24h WT_72h"
      ]
     },
     "metadata": {},
     "output_type": "display_data"
    }
   ],
   "source": [
    "da$time<-factor(da$time,levels = c('WT_sham','WT_3h','WT_24h','WT_72h'))\n",
    "unique(da$time)"
   ]
  },
  {
   "cell_type": "code",
   "execution_count": null,
   "metadata": {
    "collapsed": true,
    "vscode": {
     "languageId": "r"
    }
   },
   "outputs": [],
   "source": [
    "da@meta.data$RC<-NA\n",
    "da@meta.data[grepl(\"_H_\",da@meta.data$orig.ident,fixed = T),]$RC<-\"WT_H\"\n",
    "da@meta.data[grepl(\"_T_\",da@meta.data$orig.ident,fixed = T),]$RC<-\"WT_T\"\n",
    "\n",
    "unique(da$RC)"
   ]
  },
  {
   "cell_type": "code",
   "execution_count": null,
   "metadata": {
    "collapsed": true,
    "vscode": {
     "languageId": "r"
    }
   },
   "outputs": [],
   "source": [
    "da$pos<-paste(da$RC,da$distance,sep=\"_\")\n",
    "unique(da$pos)"
   ]
  },
  {
   "cell_type": "code",
   "execution_count": null,
   "metadata": {
    "collapsed": true,
    "vscode": {
     "languageId": "r"
    }
   },
   "outputs": [],
   "source": [
    "da$pos<-factor(da$pos,levels = c('WT_H_1mm','WT_H_0.5mm','WT_T_0.5mm','WT_T_1mm'))\n",
    "unique(da$pos)"
   ]
  },
  {
   "cell_type": "markdown",
   "metadata": {},
   "source": [
    "- pca,findneighbor,cluster,UMAP"
   ]
  },
  {
   "cell_type": "markdown",
   "metadata": {},
   "source": [
    "- determine the 'dimentionality' of the dataset the top pc represent a robust compression of the dataset. how many should choose: resampling test; randomly permute a subset(1%) and return pca, constructing a \"null distribution\" of features scores, and repeat this procedure. identify 'significant' pcs have strong enrichment of low p-value features."
   ]
  },
  {
   "cell_type": "markdown",
   "metadata": {},
   "source": [
    "### SCT strategy"
   ]
  },
  {
   "cell_type": "code",
   "execution_count": 3,
   "metadata": {
    "vscode": {
     "languageId": "r"
    }
   },
   "outputs": [],
   "source": [
    "da<-SCTransform(da,assay = \"Spatial\",\n",
    "                vars.to.regress = c(\"S.Score\",\"G2M.Score\",\"nCount_Spatial\",\"percent_mt\",\"orig.ident\"),\n",
    "                return.only.var.genes = F,\n",
    "               do.scale=T)\n",
    "da"
   ]
  },
  {
   "cell_type": "code",
   "execution_count": null,
   "metadata": {
    "collapsed": true,
    "vscode": {
     "languageId": "r"
    }
   },
   "outputs": [],
   "source": [
    "mean_expr<-t(as.matrix(da@assays$SCT@counts))\n",
    "mean_expr<-as.data.frame(mean_expr)\n",
    "\n",
    "mean_expr$sample<-da$sample\n",
    "mean_expr[1:5,1:5]\n",
    "\n",
    "mean_expr %>% group_by(sample) %>%\n",
    "    summarise_all(\"mean\") -> df"
   ]
  },
  {
   "cell_type": "code",
   "execution_count": 14,
   "metadata": {
    "vscode": {
     "languageId": "r"
    }
   },
   "outputs": [],
   "source": [
    "mean_expr %>% group_by(sample) %>%\n",
    "    summarise_all(\"mean\") -> df"
   ]
  },
  {
   "cell_type": "code",
   "execution_count": null,
   "metadata": {
    "collapsed": true,
    "vscode": {
     "languageId": "r"
    }
   },
   "outputs": [],
   "source": [
    "df<-as.data.frame(df)\n",
    "rownames(df)<-df$sample\n",
    "df<-df[,-which(colnames(df)==\"sample\")]\n",
    "dim(df)\n",
    "df[1:5,1:5]"
   ]
  },
  {
   "cell_type": "code",
   "execution_count": null,
   "metadata": {
    "vscode": {
     "languageId": "r"
    }
   },
   "outputs": [],
   "source": [
    "write.csv(df,\"WT.replace_v2.SCT.sample.average.expression.csv\")\n",
    "cor<-cor(t(as.matrix(df)),method = \"pearson\")\n",
    "cor<-round(cor,2)\n",
    "col<-colorRampPalette(c(\"blue\",\"white\",\"red\"))(20)\n",
    "pdf(\"WT.replace_v2.SCT.sample_bulk.pearson.correlation.pdf\")\n",
    "#par(mar = c(5,5,5,5))\n",
    "heatmap(x=cor,col=col,scale=\"none\",Colv = NA,Rowv = NA,cexRow = 0.5,cexCol = 0.5,margins = c(6,6)\n",
    "       )\n",
    "dev.off()"
   ]
  },
  {
   "cell_type": "code",
   "execution_count": null,
   "metadata": {
    "vscode": {
     "languageId": "r"
    }
   },
   "outputs": [],
   "source": [
    "range(da@assays$Spatial@counts)\n",
    "range(da@assays$SCT@counts)\n",
    "range(da@assays$Spatial@data)\n",
    "range(da@assays$SCT@data)\n",
    "range(da@assays$Spatial@scale.data)\n",
    "range(da@assays$SCT@scale.data)"
   ]
  },
  {
   "cell_type": "code",
   "execution_count": null,
   "metadata": {
    "vscode": {
     "languageId": "r"
    }
   },
   "outputs": [],
   "source": [
    "da$orig.ident<-factor(da$orig.ident,levels = c('WT_sham_H_R2_1mm','WT_sham_H_R2','WT_sham_T_210323','WT_sham_T_R2_1mm',\n",
    "                                              'WT_3h_H_R2_1mm','WT_3h_H_R2','WT_3h_T_R2','WT_3h_T_210330_1mm',\n",
    "                                              'WT_24h_H_R1_1mm','WT_24h_H_R1','WT_24h_T_201231','WT_24h_T_R1_1mm',\n",
    "                                              'WT_72h_H_R1_1mm','WT_72h_H_210323','WT_72h_T_R2','WT_72h_T_R1_1mm'))"
   ]
  },
  {
   "cell_type": "markdown",
   "metadata": {},
   "source": [
    "#### refined vlnplot of QC -220801"
   ]
  },
  {
   "cell_type": "code",
   "execution_count": null,
   "metadata": {
    "collapsed": true,
    "vscode": {
     "languageId": "r"
    }
   },
   "outputs": [],
   "source": [
    "options(repr.plot.width=10,repr.plot.height=6)\n",
    "VlnPlot(da,cols=colorRampPalette(c('#374E55FF','#DF8F44FF','#00A1D5FF','#B24745FF'))(16),\n",
    "            features = \"nCount_Spatial\",\n",
    "            group.by = \"orig.ident\",\n",
    "            pt.size = 0)+\n",
    "    NoLegend()+\n",
    "    theme(axis.text.x = element_text(angle = 90))\n",
    "ggsave(\"WT.merge.Spatial_nCount.vlnplot_220801.png\",width = 10,height = 6,dpi = 300)"
   ]
  },
  {
   "cell_type": "code",
   "execution_count": null,
   "metadata": {
    "collapsed": true,
    "vscode": {
     "languageId": "r"
    }
   },
   "outputs": [],
   "source": [
    "options(repr.plot.width=10,repr.plot.height=6)\n",
    "VlnPlot(da,cols=colorRampPalette(c('#374E55FF','#DF8F44FF','#00A1D5FF','#B24745FF'))(16),\n",
    "            features = \"nFeature_Spatial\",\n",
    "            group.by = \"orig.ident\",\n",
    "            pt.size = 0)+\n",
    "    NoLegend()+\n",
    "    theme(axis.text.x = element_text(angle = 90))\n",
    "ggsave(\"WT.merge.Spatial_nFeature.vlnplot_220801.png\",width = 10,height = 6,dpi = 300)"
   ]
  },
  {
   "cell_type": "code",
   "execution_count": null,
   "metadata": {
    "collapsed": true,
    "vscode": {
     "languageId": "r"
    }
   },
   "outputs": [],
   "source": [
    "options(repr.plot.width=20,repr.plot.height=16)\n",
    "\n",
    "    ggplot(da@meta.data,aes(x.ad,y.ad))+geom_point(size=1.6,shape=21,stroke=0.15,aes_string(fill=\"nCount_Spatial\"))+\n",
    "    scale_fill_gradientn(colours = colorRampPalette(rev(brewer.pal(n = 11,name = \"Spectral\")))(50))+\n",
    "    xlab(paste0(\"\")) +\n",
    "    ylab(paste0(\"\")) + \n",
    "    theme(panel.background = element_blank(),\n",
    "          panel.grid.major =element_blank(), \n",
    "          panel.grid.minor = element_blank(),\n",
    "          axis.text.x = element_blank(),#element_text(size = 15,colour = \"black\"),\n",
    "          axis.text.y = element_blank()#element_text(size = 20,colour = \"black\")\n",
    "          # axis.ticks.x = element_blank(),\n",
    "          )\n",
    "ggsave(\"WT.merge.Spatial_nCount.spatial_220801.png\",width = 20,height = 16,dpi = 300)"
   ]
  },
  {
   "cell_type": "code",
   "execution_count": null,
   "metadata": {
    "collapsed": true,
    "vscode": {
     "languageId": "r"
    }
   },
   "outputs": [],
   "source": [
    "options(repr.plot.width=20,repr.plot.height=16)\n",
    "\n",
    "    ggplot(da@meta.data,aes(x.ad,y.ad))+geom_point(size=1.6,shape=21,stroke=0.15,aes_string(fill=\"nFeature_Spatial\"))+\n",
    "    scale_fill_gradientn(colours = colorRampPalette(rev(brewer.pal(n = 11,name = \"Spectral\")))(50))+\n",
    "    xlab(paste0(\"\")) +\n",
    "    ylab(paste0(\"\")) + \n",
    "    theme(panel.background = element_blank(),\n",
    "          panel.grid.major =element_blank(), \n",
    "          panel.grid.minor = element_blank(),\n",
    "          axis.text.x = element_blank(),#element_text(size = 15,colour = \"black\"),\n",
    "          axis.text.y = element_blank()#element_text(size = 20,colour = \"black\")\n",
    "          # axis.ticks.x = element_blank(),\n",
    "          )\n",
    "ggsave(\"WT.merge.Spatial_nFeature.spatial_220801.png\",width = 20,height = 16,dpi = 300)"
   ]
  },
  {
   "attachments": {},
   "cell_type": "markdown",
   "metadata": {},
   "source": [
    "#### injury score"
   ]
  },
  {
   "cell_type": "code",
   "execution_count": 33,
   "metadata": {
    "vscode": {
     "languageId": "r"
    }
   },
   "outputs": [],
   "source": [
    "injury_genes<-c('Adamts1','Atf3','Ccl2','Ccnd1','Cd68','Cebpd','Cyba',\n",
    "                'Fn1','Gal','Gap43','Hmox1','Hspb1','Igfbp2','Jun','Junb',\n",
    "                'Fos','Lgals1','Neat1','Socs3','Tnc','S100a10','Timp1')"
   ]
  },
  {
   "cell_type": "code",
   "execution_count": 36,
   "metadata": {
    "vscode": {
     "languageId": "r"
    }
   },
   "outputs": [],
   "source": [
    "da<-AddModuleScore(da,features = list(injury_genes),name = \"injury_score\")"
   ]
  },
  {
   "cell_type": "code",
   "execution_count": null,
   "metadata": {
    "collapsed": true,
    "vscode": {
     "languageId": "r"
    }
   },
   "outputs": [],
   "source": [
    "colnames(da@meta.data)"
   ]
  },
  {
   "cell_type": "code",
   "execution_count": null,
   "metadata": {
    "collapsed": true,
    "vscode": {
     "languageId": "r"
    }
   },
   "outputs": [],
   "source": [
    "options(repr.plot.width=10,repr.plot.height=6)\n",
    "VlnPlot(da,cols=colorRampPalette(c('#374E55FF','#DF8F44FF','#00A1D5FF','#B24745FF'))(16),\n",
    "            features = \"injury_score1\",\n",
    "            group.by = \"orig.ident\",\n",
    "            pt.size = 0)+\n",
    "    NoLegend()+\n",
    "    theme(axis.text.x = element_text(angle = 90))\n",
    "ggsave(\"WT.merge.SCT_22g.injuryScore.vlnplot_220801.png\",width = 10,height = 6,dpi = 300)"
   ]
  },
  {
   "cell_type": "code",
   "execution_count": null,
   "metadata": {
    "collapsed": true,
    "vscode": {
     "languageId": "r"
    }
   },
   "outputs": [],
   "source": [
    "options(repr.plot.width=20,repr.plot.height=18)\n",
    "p<-SpatialFeaturePlot(da,features = \"injury_score1\",combine=F)\n",
    "do.call(ggpubr::ggarrange,c(p,list(ncol=4,nrow=4,common.legend=T,legend=\"right\")))\n",
    "    #ggsave(paste0(\"QC/WT.merge.regress_CC.nC.mt.ident.spatialQC.\",i,\".png\"),width=20,height=18,dpi = 400)"
   ]
  },
  {
   "cell_type": "code",
   "execution_count": null,
   "metadata": {
    "collapsed": true,
    "vscode": {
     "languageId": "r"
    }
   },
   "outputs": [],
   "source": [
    "options(repr.plot.width=20,repr.plot.height=16)\n",
    "\n",
    "    ggplot(da@meta.data,aes(x.ad,y.ad))+geom_point(size=1.6,shape=21,stroke=0.15,aes_string(fill=\"injury_score1\"))+\n",
    "    scale_fill_gradientn(colours = colorRampPalette(rev(brewer.pal(n = 11,name = \"Spectral\")))(50))+\n",
    "    xlab(paste0(\"\")) +\n",
    "    ylab(paste0(\"\")) + \n",
    "    theme(panel.background = element_blank(),\n",
    "          panel.grid.major =element_blank(), \n",
    "          panel.grid.minor = element_blank(),\n",
    "          axis.text.x = element_blank(),#element_text(size = 15,colour = \"black\"),\n",
    "          axis.text.y = element_blank()#element_text(size = 20,colour = \"black\")\n",
    "          # axis.ticks.x = element_blank(),\n",
    "          )\n",
    "ggsave(\"WT.merge.SCT_22g.injuryScore.spatial_220801.png\",width = 20,height = 16,dpi = 300)"
   ]
  },
  {
   "cell_type": "markdown",
   "metadata": {},
   "source": [
    "- extract SCT.data (gene expressed >0.1% spots) to pyscenic"
   ]
  },
  {
   "cell_type": "code",
   "execution_count": null,
   "metadata": {
    "vscode": {
     "languageId": "r"
    }
   },
   "outputs": [],
   "source": [
    "SCTdata<-da@assays$SCT@data\n",
    "head(apply(da@assays$SCT@counts,1,function(x) sum(x>0)))\n",
    "colnames(da@assays$Spatial@meta.features)\n",
    "da@assays$SCT@meta.features$expressed_spots<-apply(da@assays$SCT@counts,1,function(x) sum(x>0))\n",
    "table(da@assays$SCT@meta.features$expressed_spots>20)  \n",
    "scenic_ma<-da@assays$SCT@data[rownames(da)[da@assays$SCT@meta.features$expressed_spots>20],colnames(da)]\n",
    "dim(scenic_ma)\n",
    "write.csv(as.matrix(scenic_ma),\"WT.merge.replace_v2.express_cells20.18447g.22820allspots.SCTnormalizedData.csv\")"
   ]
  },
  {
   "cell_type": "code",
   "execution_count": null,
   "metadata": {
    "collapsed": true,
    "vscode": {
     "languageId": "r"
    }
   },
   "outputs": [],
   "source": [
    "#da<-RunPCA(da,features = VariableFeatures(da))\n",
    "da<-FindNeighbors(da,reduction = \"pca\",dims = 1:20,k.param = 50)\n",
    "#da<-FindClusters(da,verbose = F)\n",
    "#da<-RunUMAP(da,reduction = \"pca\",dims = 1:30)\n",
    "\n",
    "for(i in c(0.1,0.15,0.2,0.25,0.3)){\n",
    "    da<-FindClusters(da,resolution = i,verbose = F)\n",
    "}\n",
    "\n",
    "da<-RunUMAP(da,reduction = \"pca\",dims = 1:20)\n",
    "\n",
    "#options(repr.plot.width=10,repr.plot.height=10)\n",
    "#clustree(da,prefix=\"SCT_snn_res.\")\n",
    "#ggsave(\"WT.merge.SCT.regress_CC.nC.mt.ident.pc30.k20.res_clustree.png\",width = 10,height = 10,dpi = 300)\n",
    "#\n"
   ]
  },
  {
   "cell_type": "code",
   "execution_count": null,
   "metadata": {
    "collapsed": true,
    "vscode": {
     "languageId": "r"
    }
   },
   "outputs": [],
   "source": [
    "options(repr.plot.width=9,repr.plot.height=7)\n",
    "DimPlot(da,reduction=\"umap\",label=F,cols = c('#374E55FF','#DF8F44FF','#00A1D5FF','#B24745FF'\n",
    "),#alpha(c(\"#1CE6FF\",\"#e6afb9\",\"#A30059\",\"#023fa5\"),0.66                                                \n",
    "        group.by = c(\"time\"))+\n",
    "theme(#legend.position =\"bottom\",\n",
    "    axis.ticks = element_blank(),axis.text = element_blank(),\n",
    "         axis.line = element_line(size = 0.8,arrow = arrow()) )#+scale_x_discrete(breaks=c())\n",
    "\n",
    "ggsave(\"WT.merge.SCT.regress_CC.nC.mt.ident_pc20.k50.time.UMAP.png\",width = 9,height = 7,dpi = 400)"
   ]
  },
  {
   "cell_type": "code",
   "execution_count": null,
   "metadata": {
    "collapsed": true,
    "vscode": {
     "languageId": "r"
    }
   },
   "outputs": [],
   "source": [
    "options(repr.plot.width=9,repr.plot.height=7)\n",
    "DimPlot(da,reduction=\"umap\",label=F,cols = c('#F4A582', '#0571B0'),#alpha(c('#F4A582', '#0571B0'),0.66),\n",
    "        group.by = c(\"RC\"))+\n",
    "theme(#legend.position =\"bottom\",\n",
    "    axis.ticks = element_blank(),axis.text = element_blank(),\n",
    "         axis.line = element_line(size = 0.8,arrow = arrow()) )#+scale_x_discrete(breaks=c())\n",
    "\n",
    "ggsave(\"WT.merge.SCT.regress_CC.nC.mt.ident_pc20.k50.RC.UMAP.png\",width = 9,height = 7,dpi = 400)"
   ]
  },
  {
   "cell_type": "code",
   "execution_count": null,
   "metadata": {
    "collapsed": true,
    "vscode": {
     "languageId": "r"
    }
   },
   "outputs": [],
   "source": [
    "options(repr.plot.width=9,repr.plot.height=7)\n",
    "DimPlot(da,reduction=\"umap\",label=F,cols = c('#63A79C','#FB9A99'),#alpha(c('#63A79C','#DB95BB'),0.66),\n",
    "        group.by = c(\"distance\"))+\n",
    "theme(#legend.position =\"bottom\",\n",
    "    axis.ticks = element_blank(),axis.text = element_blank(),\n",
    "         axis.line = element_line(size = 0.8,arrow = arrow()) )#+scale_x_discrete(breaks=c())\n",
    "\n",
    "ggsave(\"WT.merge.SCT.regress_CC.nC.mt.ident_pc20.k50.distance.UMAP.png\",width = 9,height = 7,dpi = 400)"
   ]
  },
  {
   "cell_type": "code",
   "execution_count": null,
   "metadata": {
    "collapsed": true,
    "vscode": {
     "languageId": "r"
    }
   },
   "outputs": [],
   "source": [
    "da$domain_res02<-NA\n",
    "da@meta.data[da@meta.data$SCT_snn_res.0.2 %in% c(\"0\",\"3\",\"4\"),\"domain_res02\"]<-\"WM\"\n",
    "da@meta.data[da@meta.data$SCT_snn_res.0.2 %in% c(\"1\",\"2\"),\"domain_res02\"]<-\"MG\"\n",
    "da@meta.data[da@meta.data$SCT_snn_res.0.2 %in% c(\"5\"),\"domain_res02\"]<-\"DH\"\n",
    "da@meta.data[da@meta.data$SCT_snn_res.0.2 %in% c(\"6\"),\"domain_res02\"]<-\"VH\"\n",
    "unique(da$domain_res02)\n",
    "table(da$domain_res02)"
   ]
  },
  {
   "cell_type": "code",
   "execution_count": 151,
   "metadata": {
    "vscode": {
     "languageId": "r"
    }
   },
   "outputs": [],
   "source": [
    "col_domain<-c('#BC3C29A8','#0072B5A8','#E18727A8','#20854EA8')\n",
    "names(col_domain)<-c(\"DH\",\"MG\",\"VH\",\"WM\")"
   ]
  },
  {
   "cell_type": "code",
   "execution_count": null,
   "metadata": {
    "collapsed": true,
    "vscode": {
     "languageId": "r"
    }
   },
   "outputs": [],
   "source": [
    "options(repr.plot.width=9,repr.plot.height=7)\n",
    "DimPlot(da,reduction=\"umap\",label=F,cols = col_domain,#alpha(c(\"#f79cd4\",\"#1CE6FF\",\"#FFB500\",\"#A4E804\"),0.66),\n",
    "        group.by = c(\"domain_res02\"))+\n",
    "theme(#legend.position =\"bottom\",\n",
    "    axis.ticks = element_blank(),axis.text = element_blank(),\n",
    "         axis.line = element_line(size = 0.8,arrow = arrow()) )#+scale_x_discrete(breaks=c())\n",
    "\n",
    "ggsave(\"WT.merge.SCT.regress_CC.nC.mt.ident_pc20.k50.domain_res02.UMAP.png\",width = 9,height = 7,dpi = 400)"
   ]
  },
  {
   "cell_type": "code",
   "execution_count": null,
   "metadata": {
    "vscode": {
     "languageId": "r"
    }
   },
   "outputs": [],
   "source": [
    "options(repr.plot.width=10,repr.plot.height=10)\n",
    "clustree(da,prefix=\"SCT_snn_res.\")\n",
    "ggsave(\"SCT/WT.merge.SCT.regress_CC.nC.mt.ident.pc20.k50.res_clustree.png\",width = 10,height = 10,dpi = 300)"
   ]
  },
  {
   "cell_type": "code",
   "execution_count": null,
   "metadata": {
    "collapsed": true,
    "vscode": {
     "languageId": "r"
    }
   },
   "outputs": [],
   "source": [
    "col<-c('#66AB94','#5D3B83','#316B9B','#E2E293','#C580AA','#C13031','#E18727A8')\n",
    "show_col(col)\n",
    "col\n",
    "names(col)<-c(\"0\",\"1\",\"2\",\"3\",\"4\",\"5\",\"6\")"
   ]
  },
  {
   "cell_type": "code",
   "execution_count": 109,
   "metadata": {
    "vscode": {
     "languageId": "r"
    }
   },
   "outputs": [],
   "source": [
    "da$SCT_snn_res.0.2<-factor(da$SCT_snn_res.0.2,levels = c(\"0\",\"1\",\"2\",\"3\",\"4\",\"5\",\"6\"))"
   ]
  },
  {
   "cell_type": "code",
   "execution_count": 110,
   "metadata": {
    "vscode": {
     "languageId": "r"
    }
   },
   "outputs": [],
   "source": [
    "Idents(da)<-da$SCT_snn_res.0.2"
   ]
  },
  {
   "cell_type": "code",
   "execution_count": null,
   "metadata": {
    "vscode": {
     "languageId": "r"
    }
   },
   "outputs": [],
   "source": [
    "options(repr.plot.width=9,repr.plot.height=7)\n",
    "DimPlot(da,reduction=\"umap\",label=F,cols = col,\n",
    "        group.by = c(\"SCT_snn_res.0.2\"))+\n",
    "theme(#legend.position =\"bottom\",\n",
    "    axis.ticks = element_blank(),axis.text = element_blank(),\n",
    "         axis.line = element_line(size = 0.8,arrow = arrow()) )#+scale_x_discrete(breaks=c())\n",
    "\n",
    "ggsave(\"WT.merge.regress_CC.nC.mt.ident_SCT.pc20.k50.res02.UMAP.png\",width = 9,height = 7,dpi = 400)"
   ]
  },
  {
   "cell_type": "code",
   "execution_count": null,
   "metadata": {
    "vscode": {
     "languageId": "r"
    }
   },
   "outputs": [],
   "source": [
    "options(repr.plot.width=20,repr.plot.height=18)\n",
    "p<-SpatialPlot(da,group.by = \"SCT_snn_res.0.2\",combine = F,cols = col,image.alpha = 0\n",
    "                  )\n",
    "\n",
    "do.call(ggpubr::ggarrange,c(p,list(ncol=4,nrow=4,common.legend=T,legend=\"right\")))\n",
    "ggsave(\"WT.merge.regress_CC.nC.mt.ident_SCT.pc20.k50.res02.spatial.png\",width=20,height=18,dpi=400)"
   ]
  },
  {
   "cell_type": "code",
   "execution_count": 251,
   "metadata": {
    "vscode": {
     "languageId": "r"
    }
   },
   "outputs": [],
   "source": [
    "write.csv(da@meta.data,\"WT.SCT.pc20.k50.res02.meta.data.csv\")"
   ]
  },
  {
   "cell_type": "markdown",
   "metadata": {},
   "source": [
    "#### manually adjust coordinated and plot spatial cluster"
   ]
  },
  {
   "cell_type": "code",
   "execution_count": null,
   "metadata": {
    "vscode": {
     "languageId": "r"
    }
   },
   "outputs": [],
   "source": [
    "sample_coor<-da@meta.data[da@meta.data$orig.ident==Images(da)[1],c(\"x.axis\",\"y.axis\")]\n",
    "#head(sample_coor)\n",
    "range(sample_coor$x.axis)\n",
    "range(sample_coor$y.axis)"
   ]
  },
  {
   "cell_type": "code",
   "execution_count": null,
   "metadata": {
    "collapsed": true,
    "vscode": {
     "languageId": "r"
    }
   },
   "outputs": [],
   "source": [
    "meta<-da@meta.data\n",
    "range(meta$x.axis)\n",
    "range(meta$y.axis)"
   ]
  },
  {
   "cell_type": "code",
   "execution_count": 202,
   "metadata": {
    "vscode": {
     "languageId": "r"
    }
   },
   "outputs": [],
   "source": [
    "meta$x.ad<-NA\n",
    "meta$y.ad<-NA"
   ]
  },
  {
   "cell_type": "code",
   "execution_count": null,
   "metadata": {
    "vscode": {
     "languageId": "r"
    }
   },
   "outputs": [],
   "source": [
    "for(i in 1:length(Images(da))){\n",
    "    m=(i-1)%/%4\n",
    "    x.add<-(i-4*m-1)*100\n",
    "    y.add<-150*(4-m)\n",
    "    meta[meta$orig.ident==Images(da)[i],\"x.ad\"]<-meta[meta$orig.ident==Images(da)[i],\"x.axis\"]+x.add\n",
    "    meta[meta$orig.ident==Images(da)[i],\"y.ad\"]<-meta[meta$orig.ident==Images(da)[i],\"y.axis\"]+y.add\n",
    "\n",
    "}\n",
    "range(meta$x.ad)\n",
    "range(meta$y.ad)"
   ]
  },
  {
   "cell_type": "code",
   "execution_count": 207,
   "metadata": {
    "vscode": {
     "languageId": "r"
    }
   },
   "outputs": [],
   "source": [
    "da@meta.data<-meta"
   ]
  },
  {
   "cell_type": "code",
   "execution_count": null,
   "metadata": {
    "collapsed": true,
    "vscode": {
     "languageId": "r"
    }
   },
   "outputs": [],
   "source": [
    "meta<-da@meta.data\n",
    "colnames(meta)"
   ]
  },
  {
   "cell_type": "code",
   "execution_count": null,
   "metadata": {
    "vscode": {
     "languageId": "r"
    }
   },
   "outputs": [],
   "source": [
    "options(repr.plot.width=20,repr.plot.height=16)\n",
    "ggplot(meta,aes(x.ad,y.ad,group=SCT_snn_res.0.2))+geom_point(size=1.6,shape=21,stroke=0.15,aes(fill=SCT_snn_res.0.2))+\n",
    "    scale_fill_manual(values = col)+\n",
    "    xlab(paste0(\"\")) +\n",
    "    ylab(paste0(\"\")) + \n",
    "    theme(panel.background = element_blank(),\n",
    "          panel.grid.major =element_blank(), \n",
    "          panel.grid.minor = element_blank(),\n",
    "          axis.text.x = element_blank(),#element_text(size = 15,colour = \"black\"),\n",
    "          axis.text.y = element_blank()#element_text(size = 20,colour = \"black\")\n",
    "          # axis.ticks.x = element_blank(),\n",
    "    )\n",
    "ggsave(\"WT.merge.regress_CC.nC.mt.ident_SCT.pc20.k50.res02.spatial_manually.png\",width=20,height=16,dpi=400)"
   ]
  },
  {
   "cell_type": "markdown",
   "metadata": {},
   "source": [
    "### manually adjust the coordinates of representative samples -220714"
   ]
  },
  {
   "cell_type": "code",
   "execution_count": 73,
   "metadata": {
    "vscode": {
     "languageId": "r"
    }
   },
   "outputs": [],
   "source": [
    "s<-c('WT_sham_H_R2_1mm_2','WT_sham_H_R2_4','WT_sham_T_210323_4','WT_sham_T_R2_1mm_4',\n",
    "     'WT_3h_H_R2_1mm_2','WT_3h_H_R2_2','WT_3h_T_R2_1','WT_3h_T_210330_1mm_3',\n",
    "     'WT_24h_H_R1_1mm_3','WT_24h_H_R1_4','WT_24h_T_201231_3','WT_24h_T_R1_1mm_3',\n",
    "     'WT_72h_H_R1_1mm_2','WT_72h_H_210323_1','WT_72h_T_R2_4','WT_72h_T_R1_1mm_3')"
   ]
  },
  {
   "cell_type": "code",
   "execution_count": null,
   "metadata": {
    "collapsed": true,
    "vscode": {
     "languageId": "r"
    }
   },
   "outputs": [],
   "source": [
    "da_s<-da[rownames(da@assays$SCT@counts),rownames(da@meta.data)[da$sample %in% s]]\n",
    "da_s"
   ]
  },
  {
   "cell_type": "code",
   "execution_count": 76,
   "metadata": {
    "vscode": {
     "languageId": "r"
    }
   },
   "outputs": [],
   "source": [
    "me<-da_s@meta.data"
   ]
  },
  {
   "cell_type": "code",
   "execution_count": 87,
   "metadata": {
    "vscode": {
     "languageId": "r"
    }
   },
   "outputs": [],
   "source": [
    "me$x.ad<-0\n",
    "me$y.ad<-0\n",
    "for(i in s){\n",
    "    temp<-me[me$sample==i,c(\"x.axis\",\"y.axis\")]\n",
    "    xmin<-min(temp$x.axis)\n",
    "    ymin<-min(temp$y.axis)\n",
    "    temp$x.ad<-temp$x.axis-xmin\n",
    "    temp$y.ad<-temp$y.axis-ymin\n",
    "    me[me$sample==i,\"x.ad\"]<-temp$x.ad\n",
    "    me[me$sample==i,\"y.ad\"]<-temp$y.ad\n",
    "}"
   ]
  },
  {
   "cell_type": "code",
   "execution_count": null,
   "metadata": {
    "vscode": {
     "languageId": "r"
    }
   },
   "outputs": [],
   "source": [
    "range(me$x.ad)\n",
    "range(me$y.ad)"
   ]
  },
  {
   "cell_type": "code",
   "execution_count": null,
   "metadata": {
    "vscode": {
     "languageId": "r"
    }
   },
   "outputs": [],
   "source": [
    "me$x.ad2<-0\n",
    "me$y.ad2<-0\n",
    "for(i in 1:length(s)){\n",
    "    m=(i-1)%/%4\n",
    "    x.add<-(i-4*m-1)*40\n",
    "    y.add<-50*(3-m)\n",
    "    me[me$sample==s[i],\"x.ad2\"]<-me[me$sample==s[i],\"x.ad\"]+x.add\n",
    "    me[me$sample==s[i],\"y.ad2\"]<-me[me$sample==s[i],\"y.ad\"]+y.add\n",
    "\n",
    "}\n",
    "range(me$x.ad2)\n",
    "range(me$y.ad2)"
   ]
  },
  {
   "cell_type": "code",
   "execution_count": null,
   "metadata": {
    "collapsed": true,
    "vscode": {
     "languageId": "r"
    }
   },
   "outputs": [],
   "source": [
    "options(repr.plot.width=10,repr.plot.height=7)\n",
    "ggplot(me,aes(x.ad2,y.ad2,group=SCT_snn_res.0.2))+geom_point(size=1.6,shape=21,stroke=0.15,aes(fill=SCT_snn_res.0.2))+\n",
    "    #scale_fill_manual(values = col)+\n",
    "    xlab(paste0(\"\")) +\n",
    "    ylab(paste0(\"\")) + \n",
    "    theme(panel.background = element_blank(),\n",
    "          panel.grid.major =element_blank(), \n",
    "          panel.grid.minor = element_blank(),\n",
    "          axis.text.x = element_blank(),#element_text(size = 15,colour = \"black\"),\n",
    "          axis.text.y = element_blank()#element_text(size = 20,colour = \"black\")\n",
    "          # axis.ticks.x = element_blank(),\n",
    "    )"
   ]
  },
  {
   "cell_type": "code",
   "execution_count": 101,
   "metadata": {
    "vscode": {
     "languageId": "r"
    }
   },
   "outputs": [],
   "source": [
    "write.csv(me,\"16samples.meta.ad.220714.csv\")"
   ]
  },
  {
   "cell_type": "markdown",
   "metadata": {},
   "source": [
    "#### domains marker display including well-known and novel in our sham data"
   ]
  },
  {
   "cell_type": "code",
   "execution_count": null,
   "metadata": {
    "collapsed": true,
    "vscode": {
     "languageId": "r"
    }
   },
   "outputs": [],
   "source": [
    "levels(Idents(da))\n",
    "colnames(da@meta.data)\n",
    "unique(da$domain)"
   ]
  },
  {
   "cell_type": "code",
   "execution_count": null,
   "metadata": {
    "collapsed": true,
    "vscode": {
     "languageId": "r"
    }
   },
   "outputs": [],
   "source": [
    "Idents(da)<-da$domain_res02\n",
    "levels(Idents(da))\n",
    "unique(Idents(da))\n",
    "table(Idents(da))"
   ]
  },
  {
   "cell_type": "code",
   "execution_count": null,
   "metadata": {
    "collapsed": true,
    "vscode": {
     "languageId": "r"
    }
   },
   "outputs": [],
   "source": [
    "da_sham<-da[rownames(da),rownames(da@meta.data[da@meta.data$time==\"WT_sham\",])]\n",
    "da_sham\n",
    "unique(da_sham$time)"
   ]
  },
  {
   "cell_type": "code",
   "execution_count": null,
   "metadata": {
    "collapsed": true,
    "vscode": {
     "languageId": "r"
    }
   },
   "outputs": [],
   "source": [
    "domain_marker<-FindAllMarkers(da_sham,logfc.threshold = 0.5,min.pct = 0.5,only.pos = T)\n",
    "head(domain_marker)\n",
    "dim(domain_marker)"
   ]
  },
  {
   "cell_type": "code",
   "execution_count": null,
   "metadata": {
    "vscode": {
     "languageId": "r"
    }
   },
   "outputs": [],
   "source": [
    "domain_marker<-domain_marker[domain_marker$p_val_adj<0.01,]\n",
    "dim(domain_marker)"
   ]
  },
  {
   "cell_type": "code",
   "execution_count": 220,
   "metadata": {
    "vscode": {
     "languageId": "r"
    }
   },
   "outputs": [],
   "source": [
    "write.csv(domain_marker,\"sham_domain.marker.fc05.pct05.p001.pos.csv\")"
   ]
  },
  {
   "cell_type": "code",
   "execution_count": null,
   "metadata": {
    "collapsed": true,
    "vscode": {
     "languageId": "r"
    }
   },
   "outputs": [],
   "source": [
    "domain_marker<-read.csv(\"sham_domain.marker.fc05.pct05.p001.pos.csv\")\n",
    "head(domain_marker)"
   ]
  },
  {
   "cell_type": "code",
   "execution_count": null,
   "metadata": {
    "collapsed": true,
    "vscode": {
     "languageId": "r"
    }
   },
   "outputs": [],
   "source": [
    "domain_marker %>% \n",
    "    group_by(cluster) %>%\n",
    "    #filter(pct.1-pct.2>0.15) %>%\n",
    "    top_n(n=20,wt = avg_log2FC) ->top10\n",
    "top10"
   ]
  },
  {
   "cell_type": "code",
   "execution_count": null,
   "metadata": {
    "vscode": {
     "languageId": "r"
    }
   },
   "outputs": [],
   "source": [
    "sf<-\"domain_marker/\"\n",
    "if(!dir.exists(sf))\n",
    "    dir.create(sf)\n",
    "options(repr.plot.width=9,repr.plot.height=7)\n",
    "for(i in unique(top10$gene)){\n",
    "    p<-FeaturePlot(da,reduction=\"umap\",features = i,slot = \"scale.data\",min.cutoff = median(da@assays$SCT@scale.data[i,]))+\n",
    "        theme(#legend.position =\"bottom\",\n",
    "            axis.ticks = element_blank(),axis.text = element_blank(),\n",
    "            axis.line = element_line(size = 0.8,arrow = arrow()) )#+scale_x_discrete(breaks=c())\n",
    "    plot(p)\n",
    "    ggsave(paste0(sf,\"WT.merge.SCT.regress_CC.nC.mt.ident.pc20.k50.res02.sham_domain_marker.scale.data.cutMedian.\",i,\".UMAP_220614.png\"),width = 9,height = 7,dpi = 400)\n",
    "}\n",
    "\n",
    "\n",
    "#ggsave(\"SCT/WT.merge.regress_CC.nC.mt.ident_SCT.pc20.k50.res025.UMAP.png\",width = 9,height = 7,dpi = 400)"
   ]
  },
  {
   "cell_type": "code",
   "execution_count": 160,
   "metadata": {
    "vscode": {
     "languageId": "r"
    }
   },
   "outputs": [],
   "source": [
    "#dir.create(\"SCT/pc20_k50_res025/domain_marker/\")\n",
    "options(repr.plot.width=20,repr.plot.height=18)\n",
    "for(i in unique(top10$gene)){\n",
    "    p<-SpatialFeaturePlot(da,features = i,slot = \"scale.data\",combine = F,min.cutoff = median(da@assays$SCT@scale.data[i,])\n",
    "                  )\n",
    "\n",
    "    do.call(ggpubr::ggarrange,c(p,list(ncol=4,nrow=4,common.legend=T,legend=\"right\")))\n",
    "    ggsave(paste0(sf,\"WT.merge.SCT.regress_CC.nC.mt.ident.pc20.k50.res02.sham_domain_marker.scale.data.cutMedian.\",i,\".spatial_220614.png\"),\n",
    "           width = 20,height = 18,dpi = 400)\n",
    "}\n"
   ]
  },
  {
   "cell_type": "code",
   "execution_count": 224,
   "metadata": {
    "vscode": {
     "languageId": "r"
    }
   },
   "outputs": [],
   "source": [
    "saveRDS(da,\"WT.merge.replace_v2.SCT.regress_CC.nC.mt.ident.pc20.k50.res02.rds\")"
   ]
  },
  {
   "cell_type": "markdown",
   "metadata": {},
   "source": [
    "#### cluster marker spatial display -220910"
   ]
  },
  {
   "cell_type": "code",
   "execution_count": 3,
   "metadata": {
    "vscode": {
     "languageId": "r"
    }
   },
   "outputs": [],
   "source": [
    "da<-readRDS(\"WT.merge.replace_v2.SCT.regress_CC.nC.mt.ident.pc20.k50.res02.rds\")"
   ]
  },
  {
   "cell_type": "code",
   "execution_count": null,
   "metadata": {
    "collapsed": true,
    "vscode": {
     "languageId": "r"
    }
   },
   "outputs": [],
   "source": [
    "clusmark<-read.csv(\"pc20_k50.res02.fc025.pct025.pos.clusterMarker.csv\")\n",
    "rownames(clusmark)<-clusmark[,1]\n",
    "clusmark<-clusmark[,-1]\n",
    "head(clusmark)"
   ]
  },
  {
   "cell_type": "code",
   "execution_count": null,
   "metadata": {
    "collapsed": true,
    "vscode": {
     "languageId": "r"
    }
   },
   "outputs": [],
   "source": [
    "clusmark %>% \n",
    "    group_by(cluster) %>%\n",
    "    #filter(pct.1-pct.2>0.15) %>%\n",
    "    top_n(n=10,wt = avg_log2FC) ->top10\n",
    "top10"
   ]
  },
  {
   "cell_type": "code",
   "execution_count": null,
   "metadata": {
    "vscode": {
     "languageId": "r"
    }
   },
   "outputs": [],
   "source": [
    "me<-da@meta.data\n",
    "temp<-t(as.matrix(da@assays$SCT@data[unique(top10$gene),]))\n",
    "me<-cbind(me,temp)\n",
    "colnames(me)"
   ]
  },
  {
   "cell_type": "code",
   "execution_count": null,
   "metadata": {
    "collapsed": true,
    "vscode": {
     "languageId": "r"
    }
   },
   "outputs": [],
   "source": [
    "temp[1:5,1:5]\n",
    "head(me)"
   ]
  },
  {
   "cell_type": "code",
   "execution_count": 7,
   "metadata": {
    "vscode": {
     "languageId": "r"
    }
   },
   "outputs": [],
   "source": [
    "sf<-\"cluster_marker/\"\n",
    "if(!dir.exists(sf))\n",
    "    dir.create(sf)"
   ]
  },
  {
   "cell_type": "code",
   "execution_count": 9,
   "metadata": {
    "vscode": {
     "languageId": "r"
    }
   },
   "outputs": [],
   "source": [
    "options(repr.plot.width=20,repr.plot.height=16)\n",
    "for(i in unique(top10$gene)){\n",
    "    ggplot(me,aes(x.ad,y.ad))+geom_point(size=1.6,shape=21,stroke=0.15,aes_string(fill=i))+\n",
    "    scale_fill_gradientn(colours = colorRampPalette(rev(brewer.pal(n = 11,name = \"Spectral\")))(50))+\n",
    "    xlab(paste0(\"\")) +\n",
    "    ylab(paste0(\"\")) + \n",
    "    theme(panel.background = element_blank(),\n",
    "          panel.grid.major =element_blank(), \n",
    "          panel.grid.minor = element_blank(),\n",
    "          axis.text.x = element_blank(),#element_text(size = 15,colour = \"black\"),\n",
    "          axis.text.y = element_blank()#element_text(size = 20,colour = \"black\")\n",
    "          # axis.ticks.x = element_blank(),\n",
    "    )\n",
    "ggsave(paste0(sf,i,\".spatial_manually.png\"),width=20,height=16,dpi=400)\n",
    "}"
   ]
  }
 ],
 "metadata": {
  "kernelspec": {
   "display_name": "R",
   "language": "R",
   "name": "ir"
  },
  "language_info": {
   "codemirror_mode": "r",
   "file_extension": ".r",
   "mimetype": "text/x-r-source",
   "name": "R",
   "pygments_lexer": "r",
   "version": "4.1.0"
  }
 },
 "nbformat": 4,
 "nbformat_minor": 2
}
