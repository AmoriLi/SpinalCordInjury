{
 "cells": [
  {
   "cell_type": "code",
   "execution_count": 21,
   "metadata": {},
   "outputs": [],
   "source": [
    "import pandas as pd\n",
    "from sklearn import mixture\n",
    "import numpy as np\n",
    "import matplotlib.pyplot as plt\n",
    "from typing import Optional, Mapping\n",
    "import os"
   ]
  },
  {
   "cell_type": "code",
   "execution_count": 2,
   "metadata": {},
   "outputs": [],
   "source": [
    "__alls__ = ['binarize']"
   ]
  },
  {
   "cell_type": "code",
   "execution_count": null,
   "metadata": {},
   "outputs": [],
   "source": [
    "wd=\"/home/jovyan/zxli_SCI/result/pyscenic/WT.merge.replace_v2/CSI/\"\n",
    "#dir.create(wd)\n",
    "os.chdir(wd)\n",
    "os.getcwd()"
   ]
  },
  {
   "cell_type": "code",
   "execution_count": 3,
   "metadata": {},
   "outputs": [],
   "source": [
    "def _derive_threshold(auc_mtx: pd.DataFrame, regulon_name: str) -> float:\n",
    "    assert auc_mtx is not None and not auc_mtx.empty\n",
    "    assert regulon_name in auc_mtx.columns\n",
    "    # Fit a two component Gaussian Mixture model on the AUC distribution using an Expectation-Maximization algorithm.\n",
    "    data = auc_mtx[regulon_name].values.reshape(-1, 1)\n",
    "    gmm = mixture.GaussianMixture(n_components=2, covariance_type='full').fit(data)\n",
    "    avgs = gmm.means_\n",
    "    stds = np.sqrt(gmm.covariances_.reshape(-1, 1))\n",
    "\n",
    "    # The threshold is based on the distribution with the highest mean and is defined as (mu - 2 x std)\n",
    "    idx = np.argmax(avgs)\n",
    "    threshold = max(avgs[idx] - 2 * stds[idx], 0)\n",
    "    # This threshold cannot be lower than (mu + 2 x std) based on the distribution with the lowest mean.\n",
    "    idx = np.argmin(avgs)\n",
    "    lower_bound = avgs[idx] + 2 * stds[idx]\n",
    "\n",
    "    return max(lower_bound, threshold)\n",
    "\n",
    "def binarize(auc_mtx: pd.DataFrame, threshold_overides:Optional[Mapping[str,float]]=None) -> (pd.DataFrame, pd.Series):\n",
    "    \"\"\"\n",
    "    \"Binarize\" the supplied AUC matrix, i.e. decide if for each cells in the matrix a regulon is active or not based\n",
    "    on the bimodal distribution of the AUC values for that regulon.\n",
    "    :param auc_mtx: The dataframe with the AUC values for all cells and regulons (n_cells x n_regulons).\n",
    "    :param threshold_overides: A dictionary that maps name of regulons to manually set thresholds.\n",
    "    :return: A \"binarized\" dataframe and a series containing the AUC threshold used for each regulon.\n",
    "    \"\"\"\n",
    "    def derive_thresholds(auc_mtx):\n",
    "        return pd.Series(index=auc_mtx.columns, data=[_derive_threshold(auc_mtx, name) for name in auc_mtx.columns])\n",
    "    thresholds = derive_thresholds(auc_mtx)\n",
    "    if threshold_overides is not None:\n",
    "        thresholds[list(threshold_overides.keys())] = list(threshold_overides.values())\n",
    "    return (auc_mtx > thresholds).astype(int), thresholds\n",
    "\n",
    "def plot_binarization(auc_mtx: pd.DataFrame, regulon_name: str, bins: int=200, threshold=None, ax=None) -> None:\n",
    "    \"\"\"\n",
    "    Plot the \"binarization\" process for the given regulon.\n",
    "    :param auc_mtx: The dataframe with the AUC values for all cells and regulons (n_cells x n_regulons).\n",
    "    :param regulon_name: The name of the regulon.\n",
    "    :param bins: The number of bins to use in the AUC histogram.\n",
    "    :param threshold: The threshold to use for binarization. If None then this will be derived automatically.\n",
    "    \"\"\"\n",
    "    if ax is None:\n",
    "        ax=plt.gca()\n",
    "    auc_mtx[regulon_name].hist(bins=bins,ax=ax)\n",
    "    if threshold is None:\n",
    "        threshold = _derive_threshold(auc_mtx, regulon_name)\n",
    "\n",
    "    ylim = ax.get_ylim()\n",
    "    ax.plot([threshold]*2, ylim, 'r:')\n",
    "    ax.set_ylim(ylim)\n",
    "    ax.set_xlabel('AUC')\n",
    "    ax.set_ylabel('#')\n",
    "    ax.set_title(regulon_name)"
   ]
  },
  {
   "cell_type": "code",
   "execution_count": null,
   "metadata": {
    "collapsed": true
   },
   "outputs": [],
   "source": [
    "auc=pd.read_csv(\"/home/jovyan/zxli_SCI/result/pyscenic/WT.merge.replace_v2/SCT/auc_mtx.csv\",index_col=0)\n",
    "auc.head()"
   ]
  },
  {
   "cell_type": "code",
   "execution_count": 6,
   "metadata": {},
   "outputs": [],
   "source": [
    "auc_bin=binarize(auc)"
   ]
  },
  {
   "cell_type": "code",
   "execution_count": 19,
   "metadata": {},
   "outputs": [],
   "source": [
    "bin_df.to_csv(\"WT.SCT.binarizedbyPyscenic.auc_mtx.csv\")"
   ]
  }
 ],
 "metadata": {
  "kernelspec": {
   "display_name": "Python 3 (ipykernel)",
   "language": "python",
   "name": "python3"
  },
  "language_info": {
   "codemirror_mode": {
    "name": "ipython",
    "version": 3
   },
   "file_extension": ".py",
   "mimetype": "text/x-python",
   "name": "python",
   "nbconvert_exporter": "python",
   "pygments_lexer": "ipython3",
   "version": "3.8.8"
  }
 },
 "nbformat": 4,
 "nbformat_minor": 4
}
