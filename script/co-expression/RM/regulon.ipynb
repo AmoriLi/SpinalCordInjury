{
 "cells": [
  {
   "cell_type": "code",
   "execution_count": null,
   "metadata": {
    "collapsed": true
   },
   "outputs": [],
   "source": [
    "import os\n",
    "import glob\n",
    "import pickle\n",
    "import pandas as pd\n",
    "import numpy as np\n",
    "\n",
    "from dask.diagnostics import ProgressBar\n",
    "\n",
    "from arboreto.utils import load_tf_names\n",
    "from arboreto.algo import grnboost2\n",
    "\n",
    "from pyscenic.export import export2loom, add_scenic_metadata\n",
    "from ctxcore.rnkdb import FeatherRankingDatabase as RankingDatabase\n",
    "from pyscenic.utils import modules_from_adjacencies, load_motifs\n",
    "from pyscenic.prune import prune2df, df2regulons\n",
    "from pyscenic.aucell import aucell\n",
    "\n",
    "import seaborn as sns"
   ]
  },
  {
   "cell_type": "code",
   "execution_count": 2,
   "metadata": {},
   "outputs": [],
   "source": [
    "import scanpy as sc\n",
    "import anndata\n",
    "import re\n",
    "from imp import reload\n",
    "from distributed import Client, LocalCluster\n",
    "#import umap\n",
    "\n",
    "#from geosketch import gs\n",
    "#import pynndescent\n",
    "import matplotlib.pyplot as pl\n",
    "#import PyIOH5 as myh5\n",
    "import matplotlib.pyplot as plt"
   ]
  },
  {
   "cell_type": "code",
   "execution_count": 4,
   "metadata": {},
   "outputs": [],
   "source": [
    "ncores = 8\n",
    "nthreads = 8"
   ]
  },
  {
   "cell_type": "code",
   "execution_count": null,
   "metadata": {},
   "outputs": [],
   "source": [
    "#wd=\"/home/jovyan/SCI_project/result/pyscenic/WT_py/SCTscaledata/\"\n",
    "#wd=\"/home/jovyan/zxli_SCI/result/pyscenic/WT.merge.replace06/\"\n",
    "wd=\"/home/jovyan/zxli_SCI/result/pyscenic/WT.merge.replace_v2/SCT/\"\n",
    "#os.mkdir(wd)\n",
    "os.chdir(wd)\n",
    "os.getcwd()"
   ]
  },
  {
   "cell_type": "code",
   "execution_count": 4,
   "metadata": {},
   "outputs": [],
   "source": [
    "#DATA_FOLDER=\"/home/jovyan/SCI_project/result/pyscenic/WT_scanpy_pyscenic/rawdata2scanpy\"\n",
    "RESOURCES_FOLDER=\"/home/jovyan/zxli_SCI/data/pyscenic/resources/\"\n",
    "DATABASE_FOLDER = \"/home/jovyan/zxli_SCI/data/pyscenic/databases/\"\n",
    "#SCHEDULER=\"113.105.131.192:8176\"\n",
    "DATABASES_GLOB = os.path.join(DATABASE_FOLDER, \"mm10_*.mc9nr.feather\")\n",
    "MOTIF_ANNOTATIONS_FNAME = os.path.join(RESOURCES_FOLDER, \"motifs-v9-nr.mgi-m0.001-o0.0.tbl\")\n",
    "MM_TFS_FNAME = os.path.join(RESOURCES_FOLDER, 'mm_mgi_tfs.txt')\n",
    "#SC_EXP_FNAME = os.path.join(DATA_FOLDER, \"WT.hvg8k.norm.data.csv\")\n",
    "REGULONS_FNAME = os.path.join(wd, \"regulons.p\")\n",
    "MOTIFS_FNAME = os.path.join(wd, \"motifs.csv\")\n",
    "REGULONS_DF_FNAME = os.path.join(wd, \"regulons.csv\")\n",
    "AUCMTX_FNAME = os.path.join(wd, \"auc_mtx.csv\")"
   ]
  },
  {
   "cell_type": "code",
   "execution_count": 5,
   "metadata": {},
   "outputs": [],
   "source": [
    "#ANNOTATIONS_FNAME = \"\"\n",
    "LOOM_FILE = os.path.join(wd, \"WT.SCT.pyscenic.auc.loom\")"
   ]
  },
  {
   "cell_type": "markdown",
   "metadata": {},
   "source": [
    "- input:WT.merge.replace0.6mm normalizeddata, filter genes<0.1%spots"
   ]
  },
  {
   "cell_type": "code",
   "execution_count": null,
   "metadata": {},
   "outputs": [],
   "source": [
    "#ex_matrix = pd.read_csv(\"/home/jovyan/zxli_SCI/data/pyscenic/WT.merge.replace_v2.express_cells20.18508g.22820allspots.normalizedData.csv\",index_col=0).T\n",
    "ex_matrix = pd.read_csv(\"/home/jovyan/zxli_SCI/result/Seurat/reg.CC/WT_replace_v2/SCT/WT.merge.replace_v2.express_cells20.18447g.22820allspots.SCTnormalizedData.csv\",index_col=0).T\n",
    "#ex_matrix=pd.DataFrame(adata.X,index=adata.obs_names,columns=adata.var_names)\n",
    "ex_matrix.shape"
   ]
  },
  {
   "cell_type": "code",
   "execution_count": null,
   "metadata": {},
   "outputs": [],
   "source": [
    "tf_names = load_tf_names(MM_TFS_FNAME)\n",
    "#获取即在tf database 又在我们的top3000 high variable genes里的gene\n",
    "tf_names = [i for i in tf_names if i in ex_matrix.columns.values]\n",
    "len(tf_names)"
   ]
  },
  {
   "cell_type": "code",
   "execution_count": null,
   "metadata": {},
   "outputs": [],
   "source": [
    "db_fnames = glob.glob(DATABASES_GLOB)\n",
    "def name(fname):\n",
    "    return os.path.splitext(os.path.basename(fname))[0]\n",
    "dbs = [RankingDatabase(fname=fname, name=name(fname)) for fname in db_fnames]\n",
    "dbs"
   ]
  },
  {
   "cell_type": "code",
   "execution_count": null,
   "metadata": {
    "collapsed": true
   },
   "outputs": [],
   "source": [
    "adjacencies = grnboost2(ex_matrix, tf_names=tf_names, verbose=True)\n",
    "\n",
    "# Save adjacencies matrix （保存共表达module的结果）\n",
    "adjacencies.to_csv(\"adjacencies.csv\")\n",
    "adjacencies.shape"
   ]
  },
  {
   "cell_type": "code",
   "execution_count": null,
   "metadata": {},
   "outputs": [],
   "source": [
    "\n",
    "adjacencies=pd.read_csv(\"adjacencies.csv\",header=0,index_col=0)\n",
    "adjacencies.shape\n"
   ]
  },
  {
   "cell_type": "code",
   "execution_count": null,
   "metadata": {
    "collapsed": true
   },
   "outputs": [],
   "source": [
    "modules = list(modules_from_adjacencies(adjacencies, ex_matrix))\n",
    "\n",
    "modules=np.array(modules)\n",
    "np.save(\"modules.npy\",modules)"
   ]
  },
  {
   "cell_type": "code",
   "execution_count": null,
   "metadata": {},
   "outputs": [],
   "source": [
    "\n",
    "modules=np.load(\"modules.npy\",allow_pickle=True)\n",
    "modules=modules.tolist()\n",
    "modules[0].head()"
   ]
  },
  {
   "cell_type": "code",
   "execution_count": null,
   "metadata": {
    "collapsed": true
   },
   "outputs": [],
   "source": [
    "# Calculate a list of enriched motifs and the corresponding target genes for all modules.\n",
    "with ProgressBar():\n",
    "    df = prune2df(dbs, modules, MOTIF_ANNOTATIONS_FNAME)\n",
    "\n",
    "# Create regulons from this table of enriched motifs.\n",
    "regulons = df2regulons(df)\n",
    "\n",
    "# Save the enriched motifs and the discovered regulons to disk.\n",
    "df.to_csv(MOTIFS_FNAME)\n",
    "with open(REGULONS_FNAME, \"wb\") as f:\n",
    "    pickle.dump(regulons, f)"
   ]
  },
  {
   "cell_type": "code",
   "execution_count": 6,
   "metadata": {},
   "outputs": [],
   "source": [
    "with open(REGULONS_FNAME,\"rb\") as f:\n",
    "    regulons=pickle.load(f)"
   ]
  },
  {
   "cell_type": "code",
   "execution_count": 14,
   "metadata": {},
   "outputs": [],
   "source": [
    "name=[];tfs=[];targets = [];score = [];state=[];motif=[]\n",
    "for i in regulons:\n",
    "    name.append(i.name)\n",
    "    tfs.append(i.transcription_factor)\n",
    "    targets.append(','.join(i.genes))\n",
    "    score.append(i.score)\n",
    "    ct=list(i.context)\n",
    "    if 'png' in ct[0]:\n",
    "        motif.append(ct[0].split('.')[0])\n",
    "    elif 'png' in ct[1]:\n",
    "        motif.append(ct[1].split('.')[0])\n",
    "    else:\n",
    "        motif.append('')\n",
    "\n",
    "regulons_df = pd.DataFrame(data={'name':name,'tfs':tfs, 'score':score,'targets':targets,'motif':motif})\n",
    "regulons_df.to_csv(REGULONS_DF_FNAME, index=False)\n",
    "# regulons_df是 dataframe格式的regulon的结果"
   ]
  },
  {
   "cell_type": "code",
   "execution_count": 15,
   "metadata": {},
   "outputs": [],
   "source": [
    "#Phase III: cellular regulon enrichment matrix (aka AUCell)\n",
    "auc_mtx = aucell(ex_matrix, regulons, num_workers=4)\n",
    "#sns.clustermap(auc_mtx, figsize=(8,8))"
   ]
  },
  {
   "cell_type": "code",
   "execution_count": 16,
   "metadata": {},
   "outputs": [],
   "source": [
    "auc_mtx.to_csv(AUCMTX_FNAME)"
   ]
  },
  {
   "cell_type": "code",
   "execution_count": null,
   "metadata": {},
   "outputs": [],
   "source": [
    "##create loom file\n",
    "#check if expression matrix has the correct format\n",
    "def is_valid_exp_matrix(mtx):\n",
    "    return (all(isinstance(idx, str) for idx in mtx.index) \n",
    "            and all(isinstance(idx, str) for idx in mtx.columns)\n",
    "            and (mtx.index.nlevels == 1)\n",
    "            and (mtx.columns.nlevels == 1))\n",
    "is_valid_exp_matrix(ex_matrix)"
   ]
  },
  {
   "cell_type": "code",
   "execution_count": null,
   "metadata": {
    "collapsed": true
   },
   "outputs": [],
   "source": [
    "motif=load_motifs(MOTIFS_FNAME)\n",
    "motif.head()"
   ]
  },
  {
   "cell_type": "code",
   "execution_count": null,
   "metadata": {},
   "outputs": [],
   "source": [
    "regulons = [r.rename(r.name.replace('(+)',' ('+str(len(r))+'g)')) for r in regulons] \n",
    "\n",
    "len(regulons)\n",
    "#regulons[0]"
   ]
  },
  {
   "cell_type": "code",
   "execution_count": null,
   "metadata": {
    "collapsed": true
   },
   "outputs": [],
   "source": [
    "export2loom(ex_matrix, regulons, \n",
    "                LOOM_FILE,\n",
    "                #title = \"Zeisel et al.\",\n",
    "                #nomenclature = \"MGI\"\n",
    "           )"
   ]
  }
 ],
 "metadata": {
  "kernelspec": {
   "display_name": "Python 3 (ipykernel)",
   "language": "python",
   "name": "python3"
  },
  "language_info": {
   "codemirror_mode": {
    "name": "ipython",
    "version": 3
   },
   "file_extension": ".py",
   "mimetype": "text/x-python",
   "name": "python",
   "nbconvert_exporter": "python",
   "pygments_lexer": "ipython3",
   "version": "3.8.8"
  }
 },
 "nbformat": 4,
 "nbformat_minor": 4
}
