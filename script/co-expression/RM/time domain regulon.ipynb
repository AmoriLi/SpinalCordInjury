{
 "cells": [
  {
   "cell_type": "code",
   "execution_count": null,
   "metadata": {
    "collapsed": true,
    "vscode": {
     "languageId": "r"
    }
   },
   "outputs": [],
   "source": [
    "library(heatmaply)\n",
    "library(scFunctions)\n",
    "library(tidyverse)\n",
    "#library(SCENIC)\n",
    "#library(SeuratDisk)\n",
    "library(pheatmap)\n",
    "library(RColorBrewer)\n",
    "library(dendextend)\n",
    "library(reshape2)\n",
    "source(\"/home/jovyan/zxli_SCI/script/scenic/CSI.R\")"
   ]
  },
  {
   "cell_type": "code",
   "execution_count": 71,
   "metadata": {
    "vscode": {
     "languageId": "r"
    }
   },
   "outputs": [],
   "source": [
    "save_pheatmap_pdf <- function(x, filename, width=10, height=10) {\n",
    "   stopifnot(!missing(x))\n",
    "   stopifnot(!missing(filename))\n",
    "   pdf(filename, width=width, height=height)\n",
    "   grid::grid.newpage()\n",
    "   grid::grid.draw(x$gtable)\n",
    "   dev.off()\n",
    "}"
   ]
  },
  {
   "cell_type": "markdown",
   "metadata": {},
   "source": [
    "### regulon genes scale expression"
   ]
  },
  {
   "cell_type": "code",
   "execution_count": 73,
   "metadata": {
    "vscode": {
     "languageId": "r"
    }
   },
   "outputs": [],
   "source": [
    "da<-readRDS(\"/home/jovyan/zxli_SCI/result/Seurat/reg.CC/WT_replace_v2/res02_220310/WT.merge.replace_v2.SCT.regress_CC.nC.mt.ident.pc20.k50.res02.rds\")"
   ]
  },
  {
   "cell_type": "code",
   "execution_count": null,
   "metadata": {
    "vscode": {
     "languageId": "r"
    }
   },
   "outputs": [],
   "source": [
    "regulongenes<-gsub(\"...$\",\"\",colnames(auc_mtx))\n",
    "regulongenes<-intersect(regulongenes,rownames(da))\n",
    "length(regulongenes)\n",
    "head(regulongenes)"
   ]
  },
  {
   "cell_type": "code",
   "execution_count": null,
   "metadata": {
    "vscode": {
     "languageId": "r"
    }
   },
   "outputs": [],
   "source": [
    "ma<-da@assays$SCT@scale.data[regulongenes,]\n",
    "ma<-as.matrix(ma)\n",
    "dim(ma)"
   ]
  },
  {
   "cell_type": "code",
   "execution_count": 84,
   "metadata": {
    "vscode": {
     "languageId": "r"
    }
   },
   "outputs": [],
   "source": [
    "write.csv(ma,\"regulongenes.SCT.scale.data.csv\")"
   ]
  },
  {
   "cell_type": "code",
   "execution_count": null,
   "metadata": {
    "collapsed": true,
    "vscode": {
     "languageId": "r"
    }
   },
   "outputs": [],
   "source": [
    "ma2<-t(ma)\n",
    "head(ma2)"
   ]
  },
  {
   "cell_type": "code",
   "execution_count": null,
   "metadata": {
    "collapsed": true,
    "vscode": {
     "languageId": "r"
    }
   },
   "outputs": [],
   "source": [
    "c1<-cor(ma2)\n",
    "c1[1:5,1:5]"
   ]
  },
  {
   "cell_type": "code",
   "execution_count": 87,
   "metadata": {
    "vscode": {
     "languageId": "r"
    }
   },
   "outputs": [],
   "source": [
    "write.csv(c1,\"regulongenes.SCT.scale.data.pearson.correlation.csv\")"
   ]
  },
  {
   "cell_type": "code",
   "execution_count": 88,
   "metadata": {
    "vscode": {
     "languageId": "r"
    }
   },
   "outputs": [],
   "source": [
    "pcc<-as.data.frame(c1)\n",
    "pcc$regulon_1 <- rownames(pcc)\n",
    "  pcc <- pcc %>%\n",
    "    gather(regulon_2,pcc,-regulon_1) %>%\n",
    "    mutate(\"regulon_pair\" = paste(regulon_1,regulon_2,sep=\"_\"))"
   ]
  },
  {
   "cell_type": "markdown",
   "metadata": {},
   "source": [
    "### SCT auc data as input : regulon auc_mtx binarized by pyscenic"
   ]
  },
  {
   "cell_type": "code",
   "execution_count": null,
   "metadata": {
    "vscode": {
     "languageId": "r"
    }
   },
   "outputs": [],
   "source": [
    "wd<-\"/home/jovyan/zxli_SCI/result/pyscenic/WT.merge.replace_v2/CSI/pc20k50res02/time_domain/\"\n",
    "if(!dir.exists(wd))\n",
    "    dir.create(wd)\n",
    "setwd(wd)\n",
    "getwd()"
   ]
  },
  {
   "cell_type": "code",
   "execution_count": null,
   "metadata": {
    "collapsed": true,
    "vscode": {
     "languageId": "r"
    }
   },
   "outputs": [],
   "source": [
    "auc_mtx<-read.csv(\"/home/jovyan/zxli_SCI/result/pyscenic/WT.merge.replace_v2/SCT/auc_mtx.csv\")\n",
    "rownames(auc_mtx)<-auc_mtx[,1]\n",
    "auc_mtx<-auc_mtx[,-1]\n",
    "head(auc_mtx)"
   ]
  },
  {
   "cell_type": "code",
   "execution_count": null,
   "metadata": {
    "collapsed": true,
    "vscode": {
     "languageId": "r"
    }
   },
   "outputs": [],
   "source": [
    "binary_auc<-read.csv(\"../../WT.SCT.binarizedbyPyscenic.auc_mtx.csv\")\n",
    "rownames(binary_auc)<-binary_auc$Cell\n",
    "binary_auc<-binary_auc[,-1]\n",
    "head(binary_auc)"
   ]
  },
  {
   "cell_type": "code",
   "execution_count": null,
   "metadata": {
    "collapsed": true,
    "vscode": {
     "languageId": "r"
    }
   },
   "outputs": [],
   "source": [
    "#transposition the matrix\n",
    "binary_regulons_trans<-as.matrix(t(binary_auc))\n",
    "binary_regulons_trans[1:4,1:4]"
   ]
  },
  {
   "cell_type": "code",
   "execution_count": null,
   "metadata": {
    "collapsed": true,
    "vscode": {
     "languageId": "r"
    }
   },
   "outputs": [],
   "source": [
    "regulons_trans<-as.matrix(t(auc_mtx))\n",
    "regulons_trans[1:4,1:4]"
   ]
  },
  {
   "cell_type": "markdown",
   "metadata": {
    "collapsed": true
   },
   "source": [
    "### calculate regulon specificty score (RSS)"
   ]
  },
  {
   "cell_type": "code",
   "execution_count": null,
   "metadata": {
    "collapsed": true,
    "vscode": {
     "languageId": "r"
    }
   },
   "outputs": [],
   "source": [
    "#da <- readRDS(\"/home/jovyan/zxli_SCI/result/Seurat/reg.CC/WT_replace_v2/SCT/WT.merge.replace_v2.SCT.regress_CC.nC.mt.ident.pc20.k50.res025.rds\")\n",
    "#meta<-da@meta.data\n",
    "meta<-read.csv(\"/home/jovyan/zxli_SCI/result/Seurat/reg.CC/WT_replace_v2/res02_220310/WT.SCT.pc20.k50.res02.meta.data.csv\")\n",
    "rownames(meta)<-meta[,1]\n",
    "meta<-meta[,-1]\n",
    "head(meta)"
   ]
  },
  {
   "cell_type": "code",
   "execution_count": null,
   "metadata": {
    "vscode": {
     "languageId": "r"
    }
   },
   "outputs": [],
   "source": [
    "meta$time_domain<-paste0(meta$time,\"_\",meta$domain_res02)\n",
    "unique(meta$time_domain)\n",
    "#unique(meta$SCT_snn_res.0.2)\n",
    "#head(meta)"
   ]
  },
  {
   "cell_type": "code",
   "execution_count": null,
   "metadata": {
    "vscode": {
     "languageId": "r"
    }
   },
   "outputs": [],
   "source": [
    "#meta$cell_type<-paste0(\"cluster_\",meta$SCT_snn_res.0.2)\n",
    "#meta$cell_type<-paste0(meta$time,\"_\",meta$domain)\n",
    "meta$cell_type<-meta$time_domain\n",
    "unique(meta$cell_type)"
   ]
  },
  {
   "cell_type": "code",
   "execution_count": null,
   "metadata": {
    "vscode": {
     "languageId": "r"
    }
   },
   "outputs": [],
   "source": [
    "# calculate the RSS for all regulons over all spatial clusters\n",
    "rrs_df<-calculate_rrs(meta,binary_regulons = binary_regulons_trans,cell_type_column = \"cell_type\")\n",
    "#rrs_df2<-calculate_rrs(meta2,binary_regulons = bi_reg_trans,cell_type_column = \"cell_type2\")\n",
    "#rrs_df<-calcRSS(AUC = regulons_trans,cellAnnotation = meta$cell_type)\n",
    "#rrs_df[1:5,1:5]"
   ]
  },
  {
   "cell_type": "code",
   "execution_count": null,
   "metadata": {
    "collapsed": true,
    "vscode": {
     "languageId": "r"
    }
   },
   "outputs": [],
   "source": [
    "library(reshape2)\n",
    "#rn<-rep(rownames(rrs_df),ncol(rrs_df))\n",
    "rss<-melt(rrs_df)\n",
    "#rss$regulon<-rn\n",
    "colnames(rss)<-c(\"regulon\",\"cell_type\",\"RSS\")\n",
    "head(rss)"
   ]
  },
  {
   "cell_type": "code",
   "execution_count": 69,
   "metadata": {
    "vscode": {
     "languageId": "r"
    }
   },
   "outputs": [],
   "source": [
    "write.csv(rss,\"WT.regulons.res02_time-domain.rss.dataframe.csv\")"
   ]
  },
  {
   "cell_type": "code",
   "execution_count": 287,
   "metadata": {
    "vscode": {
     "languageId": "r"
    }
   },
   "outputs": [],
   "source": [
    "write.csv(rrs_df,\"WT.binary.regulons.res02_time-domain.rrs.dataframe.csv\")\n"
   ]
  },
  {
   "cell_type": "code",
   "execution_count": null,
   "metadata": {
    "collapsed": true,
    "vscode": {
     "languageId": "r"
    }
   },
   "outputs": [],
   "source": [
    "rrs_df<-read.csv(\"WT.binary.regulons.res02_time-domain.rrs.dataframe.csv\")\n",
    "rownames(rrs_df)<-rrs_df[,1]\n",
    "rrs_df<-rrs_df[,-1]\n",
    "head(rrs_df)"
   ]
  },
  {
   "cell_type": "code",
   "execution_count": null,
   "metadata": {
    "vscode": {
     "languageId": "r"
    }
   },
   "outputs": [],
   "source": [
    "rrs_df %>% \n",
    "    group_by(cell_type) %>%\n",
    "    top_n(.,n=20,wt=RSS) ->rss_sub\n",
    "dim(rss_sub)"
   ]
  },
  {
   "cell_type": "code",
   "execution_count": null,
   "metadata": {
    "vscode": {
     "languageId": "r"
    }
   },
   "outputs": [],
   "source": [
    "#subR<-unique(rss_sub$regulon)\n",
    "subR<-unique(rss_sub$regulon)\n",
    "length(subR)"
   ]
  },
  {
   "cell_type": "code",
   "execution_count": null,
   "metadata": {
    "vscode": {
     "languageId": "r"
    }
   },
   "outputs": [],
   "source": [
    "# visualize all regulons over all cell types using heatmaps. Let's first investigate the distribution of RSS over all cell types\n",
    "library(ggridges)\n",
    "range(rrs_df$RSS)"
   ]
  },
  {
   "cell_type": "code",
   "execution_count": null,
   "metadata": {
    "collapsed": true,
    "vscode": {
     "languageId": "r"
    }
   },
   "outputs": [],
   "source": [
    "rrs_df_wide<-rrs_df %>% spread(cell_type,RSS)\n",
    "rownames(rrs_df_wide)<-rrs_df_wide$regulon\n",
    "rrs_df_wide<-rrs_df_wide[,2:ncol(rrs_df_wide)]\n",
    "head(rrs_df_wide)"
   ]
  },
  {
   "cell_type": "code",
   "execution_count": null,
   "metadata": {
    "vscode": {
     "languageId": "r"
    }
   },
   "outputs": [],
   "source": [
    "## subset all regulons that don't have at least an RSS of 0.2 for one cell type\n",
    "rrs_df_wide_specific<-rrs_df_wide[subR,]#[apply(rrs_df_wide,MARGIN = 1,FUN = function(x) any(x>0.25)),]\n",
    "#rrs_df_wide_specific<-rrs_df_wide[subR,]\n",
    "dim(rrs_df_wide_specific)\n",
    "                                        "
   ]
  },
  {
   "cell_type": "code",
   "execution_count": 245,
   "metadata": {
    "vscode": {
     "languageId": "r"
    }
   },
   "outputs": [],
   "source": [
    "# order col\n",
    "rrs_df_wide_specific<-rrs_df_wide_specific[,#c('WT_sham_DH_0.5mm','WT_3h_DH_0.5mm','WT_24h_DH_0.5mm',\n",
    "                                             # 'WT_sham_DH_1mm','WT_3h_DH_1mm','WT_24h_DH_1mm','WT_72h_DH_1mm',\n",
    "                                             # 'WT_sham_MG_0.5mm','WT_3h_MG_0.5mm','WT_24h_MG_0.5mm','WT_72h_MG_0.5mm',\n",
    "                                             # 'WT_sham_MG_1mm','WT_3h_MG_1mm','WT_24h_MG_1mm','WT_72h_MG_1mm',\n",
    "                                             # 'WT_sham_VH_0.5mm','WT_3h_VH_0.5mm','WT_24h_VH_0.5mm','WT_72h_VH_0.5mm',\n",
    "                                             # 'WT_sham_VH_1mm','WT_3h_VH_1mm','WT_24h_VH_1mm','WT_72h_VH_1mm',\n",
    "                                             # 'WT_sham_WM_0.5mm','WT_3h_WM_0.5mm','WT_24h_WM_0.5mm','WT_72h_WM_0.5mm',\n",
    "                                             # 'WT_sham_WM_1mm','WT_3h_WM_1mm','WT_24h_WM_1mm','WT_72h_WM_1mm')\n",
    "                                           c('WT_sham_DH','WT_3h_DH','WT_24h_DH','WT_72h_DH',\n",
    "                                              'WT_sham_MG','WT_3h_MG','WT_24h_MG','WT_72h_MG',\n",
    "                                              'WT_sham_VH','WT_3h_VH','WT_24h_VH','WT_72h_VH',\n",
    "                                              'WT_sham_WM','WT_3h_WM','WT_24h_WM','WT_72h_WM')\n",
    "                                           #c(\"cluster_0\",\"cluster_1\",\"cluster_2\",\"cluster_3\",\n",
    "                                           # \"cluster_4\",\"cluster_5\",\"cluster_6\",\"cluster_7\")\n",
    "                                          ]"
   ]
  },
  {
   "cell_type": "code",
   "execution_count": 13,
   "metadata": {
    "vscode": {
     "languageId": "r"
    }
   },
   "outputs": [],
   "source": [
    "# visulaize the regulons that show an RSS over the defined threshold using heatmapply, a heatmap library using plotly.\n",
    "library(heatmaply)\n",
    "library(plotly)\n",
    "library(htmlwidgets)"
   ]
  },
  {
   "cell_type": "code",
   "execution_count": null,
   "metadata": {
    "collapsed": true,
    "vscode": {
     "languageId": "r"
    }
   },
   "outputs": [],
   "source": [
    "head(rrs_df_wide_specific)\n",
    "col_anno<-data.frame(row.names = colnames(rrs_df_wide_specific),\"domain\"=c(rep(\"WM\",4),rep(\"MG\",4),rep(\"DH\",4),rep(\"VH\",4)),\n",
    "                    \"time\"=c(rep(c(\"sham\",\"3h\",\"24h\",\"72h\"),4)))\n",
    "col_anno"
   ]
  },
  {
   "cell_type": "code",
   "execution_count": 55,
   "metadata": {
    "vscode": {
     "languageId": "r"
    }
   },
   "outputs": [],
   "source": [
    "domain_col<-c('#20854EA8','#0072B5A8','#BC3C29A8','#E18727A8')\n",
    "names(domain_col)<-c(\"WM\", \"MG\", \"DH\", \"VH\")\n",
    "time_col<-c('#374E55FF','#DF8F44FF','#00A1D5FF','#B24745FF')\n",
    "names(time_col)<-c(\"sham\",\"3h\",\"24h\",\"72h\")"
   ]
  },
  {
   "cell_type": "code",
   "execution_count": null,
   "metadata": {
    "collapsed": true,
    "vscode": {
     "languageId": "r"
    }
   },
   "outputs": [],
   "source": [
    "col_list<-list(domain=domain_col,time=time_col)\n",
    "col_list"
   ]
  },
  {
   "cell_type": "code",
   "execution_count": 57,
   "metadata": {
    "vscode": {
     "languageId": "r"
    }
   },
   "outputs": [],
   "source": [
    "gap_col<-c(4,8,12)"
   ]
  },
  {
   "cell_type": "code",
   "execution_count": null,
   "metadata": {
    "collapsed": true,
    "vscode": {
     "languageId": "r"
    }
   },
   "outputs": [],
   "source": [
    "d_hc<-hclust(dist(rrs_df_wide_specific))\n",
    "den<-as.dendrogram(hclust(dist(rrs_df_wide_specific)))\n",
    "#den<-rotate(den,49:1)\n",
    "#den<-color_branches(den,k=7)\n",
    "##labels_colors(den)<-rainbow_hcl(7)[sort_levels_values(\n",
    "##                    as.numeric(rownames()))]\n",
    "#den<-hang.dendrogram(den,hang_height = 0.1)\n",
    "#plot(den,horiz=T)"
   ]
  },
  {
   "cell_type": "code",
   "execution_count": null,
   "metadata": {
    "collapsed": true,
    "vscode": {
     "languageId": "r"
    }
   },
   "outputs": [],
   "source": [
    "options(repr.plot.width=6,repr.plot.height=7)\n",
    "#pdf(\"WT.regulon.RSS.thrs01.cluster.heatmaply.pdf\",width=8,height=8)\n",
    "p<-pheatmap(rrs_df_wide_specific,col=colorRampPalette(rev(brewer.pal(10,\"Spectral\")))(50),scale=\"none\",\n",
    "          cluster_cols=F,cluster_rows=T,treeheight_row=10,cutree_rows=7,annotation_col=col_anno,border_color=\"NA\",\n",
    "         annotation_colors=col_list,legend=T,gaps_col=gap_col,\n",
    "            show_rownames=T#,legend_labels=c(\"RSS\")\n",
    "          #file = \"WT.SCT.pct01.data.regulons.01wide.RSS.of.clusters.pheatmap.html\",\n",
    "          ) "
   ]
  },
  {
   "cell_type": "code",
   "execution_count": null,
   "metadata": {
    "vscode": {
     "languageId": "r"
    }
   },
   "outputs": [],
   "source": [
    "save_pheatmap_pdf(p,\"WT.res02.time-domain.binary.regulon.RSS.top3.pheatmap.pdf\",width = 6,height = 7)"
   ]
  },
  {
   "cell_type": "code",
   "execution_count": null,
   "metadata": {
    "collapsed": true,
    "vscode": {
     "languageId": "r"
    }
   },
   "outputs": [],
   "source": [
    "options(repr.plot.width=6,repr.plot.height=10)\n",
    "#pdf(\"WT.regulon.RSS.thrs01.cluster.heatmaply.pdf\",width=8,height=8)\n",
    "p<-pheatmap(rrs_df_wide_specific,col=colorRampPalette(rev(brewer.pal(10,\"Spectral\")))(50),scale=\"none\",\n",
    "          cluster_cols=F,cluster_rows=T,treeheight_row=10,cutree_rows=7,annotation_col=col_anno,border_color=\"NA\",\n",
    "         annotation_colors=col_list,legend=T,gaps_col=gap_col,\n",
    "            show_rownames=F#,legend_labels=c(\"RSS\")\n",
    "          #file = \"WT.SCT.pct01.data.regulons.01wide.RSS.of.clusters.pheatmap.html\",\n",
    "          ) "
   ]
  },
  {
   "cell_type": "markdown",
   "metadata": {},
   "source": [
    "### calculate connection specificity index (CSI) for all regulons/ selected top regulons\n",
    "- the final statistics that we want to calculate is the connection specificity index. The CSI is a major connectedness between the different regulons. Regulons that share high CSI likely are co-regulating downstream genes and are together responsible for cell function"
   ]
  },
  {
   "cell_type": "code",
   "execution_count": null,
   "metadata": {
    "collapsed": true,
    "vscode": {
     "languageId": "r"
    }
   },
   "outputs": [],
   "source": [
    "#regulonAUC<-t(auc_mtx)\n",
    "regulonAUC<-t(binary_auc)\n",
    "head(regulonAUC)"
   ]
  },
  {
   "cell_type": "code",
   "execution_count": null,
   "metadata": {
    "vscode": {
     "languageId": "r"
    }
   },
   "outputs": [],
   "source": [
    "regulonAUC_sub<-regulonAUC[subR,]\n",
    "dim(regulonAUC_sub)"
   ]
  },
  {
   "cell_type": "code",
   "execution_count": 143,
   "metadata": {
    "vscode": {
     "languageId": "r"
    }
   },
   "outputs": [],
   "source": [
    "regulons_csi <- calculate_csi(regulonAUC_sub,\n",
    "                              calc_extended = FALSE)"
   ]
  },
  {
   "cell_type": "code",
   "execution_count": null,
   "metadata": {
    "collapsed": true,
    "vscode": {
     "languageId": "r"
    }
   },
   "outputs": [],
   "source": [
    "#test<-binary_auc[,subR]\n",
    "test_sub<-t(test)\n",
    "head(test)"
   ]
  },
  {
   "cell_type": "code",
   "execution_count": 63,
   "metadata": {
    "vscode": {
     "languageId": "r"
    }
   },
   "outputs": [],
   "source": [
    "pearson_cor <- cor(test)\n",
    "  pearson_cor_df <- as.data.frame(pearson_cor)\n",
    "  pearson_cor_df$regulon_1 <- rownames(pearson_cor_df)\n",
    "  pearson_cor_long <- pearson_cor_df %>%\n",
    "    gather(regulon_2,pcc,-regulon_1) %>%\n",
    "    mutate(\"regulon_pair\" = paste(regulon_1,regulon_2,sep=\"_\"))"
   ]
  },
  {
   "cell_type": "code",
   "execution_count": null,
   "metadata": {
    "collapsed": true,
    "vscode": {
     "languageId": "r"
    }
   },
   "outputs": [],
   "source": [
    "#head(pcc)\n",
    "#pcc$edge<-abs(pcc$pcc)\n",
    "pcc$PN<-NA\n",
    "pcc[pcc$pcc<0,\"PN\"]<-\"0\"\n",
    "pcc[pcc$pcc>0,\"PN\"]<-\"1\"\n",
    "pcc$PN<-as.factor(pcc$PN)\n",
    "head(pcc)"
   ]
  },
  {
   "cell_type": "code",
   "execution_count": null,
   "metadata": {
    "collapsed": true,
    "vscode": {
     "languageId": "r"
    }
   },
   "outputs": [],
   "source": [
    "pearson_cor_long<-merge(pcc,regulons_csi[,c(\"regulon_pair\",\"CSI\")],by = \"regulon_pair\")\n",
    "head(pearson_cor_long)"
   ]
  },
  {
   "cell_type": "code",
   "execution_count": null,
   "metadata": {
    "vscode": {
     "languageId": "r"
    }
   },
   "outputs": [],
   "source": [
    "write.csv(pearson_cor_long,\"time_domain.RSS.top20.regulons.genescaleexp_correlation.and.csi.df.csv\")\n",
    "dim(pearson_cor_long)"
   ]
  },
  {
   "cell_type": "code",
   "execution_count": null,
   "metadata": {
    "collapsed": true,
    "vscode": {
     "languageId": "r"
    }
   },
   "outputs": [],
   "source": [
    "pearson_cor_long<-read.csv(\"time_domain.RSS.top20.regulons.correlation.and.csi.df.csv\")\n",
    "head(pearson_cor_long)"
   ]
  },
  {
   "cell_type": "code",
   "execution_count": null,
   "metadata": {
    "vscode": {
     "languageId": "r"
    }
   },
   "outputs": [],
   "source": [
    "pearson_cor_long<-pearson_cor_long[abs(pearson_cor_long$pcc)>0.65#&pearson_cor_long$CSI>0\n",
    "                                   ,]\n",
    "pearson_cor_long<-pearson_cor_long[!pearson_cor_long$regulon_1==pearson_cor_long$regulon_2,]\n",
    "dim(pearson_cor_long)"
   ]
  },
  {
   "cell_type": "code",
   "execution_count": null,
   "metadata": {
    "vscode": {
     "languageId": "r"
    }
   },
   "outputs": [],
   "source": [
    "pcc_df_filt<-pearson_cor_long#[!pearson_cor_long$regulon_pair %in% rm_regulon_c,]\n",
    "table(pcc_df_filt$PN)"
   ]
  },
  {
   "cell_type": "code",
   "execution_count": null,
   "metadata": {
    "vscode": {
     "languageId": "r"
    }
   },
   "outputs": [],
   "source": [
    "cluster_df_sub<-clusters_df[clusters_df$regulon %in% unique(c(pcc_df_filt$regulon_1,pcc_df_filt$regulon_2)),]\n",
    "table(cluster_df_sub$csi_cluster)"
   ]
  },
  {
   "cell_type": "code",
   "execution_count": null,
   "metadata": {
    "vscode": {
     "languageId": "r"
    }
   },
   "outputs": [],
   "source": [
    "reg<-unique(c(pcc_df_filt$regulon_1,pcc_df_filt$regulon_2))\n",
    "length(reg)"
   ]
  },
  {
   "cell_type": "code",
   "execution_count": 218,
   "metadata": {
    "vscode": {
     "languageId": "r"
    }
   },
   "outputs": [],
   "source": [
    "write.csv(pcc_df_filt,\"rss.top20.auc.regulon.auc_pearson.correlation065.long.CSI.csv\",quote=FALSE)"
   ]
  },
  {
   "cell_type": "code",
   "execution_count": 219,
   "metadata": {
    "vscode": {
     "languageId": "r"
    }
   },
   "outputs": [],
   "source": [
    "write.csv(cluster_df_sub,\"rss.top20.auc.regulon.auc_pearson.correlation065.long.CSI.nodes.csv\",quote=FALSE)"
   ]
  },
  {
   "cell_type": "code",
   "execution_count": 171,
   "metadata": {
    "vscode": {
     "languageId": "r"
    }
   },
   "outputs": [],
   "source": [
    "write.csv(pearson_cor_long,\"rss.top20.regulon.pearson.correlation.long.csv\",quote=FALSE)"
   ]
  },
  {
   "cell_type": "code",
   "execution_count": 102,
   "metadata": {
    "vscode": {
     "languageId": "r"
    }
   },
   "outputs": [],
   "source": [
    "write.csv(regulons_csi,\"WT.SCT.binary.regulons.SCT.res02.time-domain.RSS.top20.csi.csv\")"
   ]
  },
  {
   "cell_type": "code",
   "execution_count": null,
   "metadata": {
    "collapsed": true,
    "vscode": {
     "languageId": "r"
    }
   },
   "outputs": [],
   "source": [
    "regulons_csi<-read.csv(\"WT.SCT.binary.regulons.SCT.res02.time-domain.RSS.top20.csi.csv\")\n",
    "rownames(regulons_csi)<-regulons_csi[,1]\n",
    "regulons_csi<-regulons_csi[,-1]\n",
    "regulons_csi$regulon_1<-gsub(\"...$\",\"\",regulons_csi$regulon_1)\n",
    "regulons_csi$regulon_2<-gsub(\"...$\",\"\",regulons_csi$regulon_2)\n",
    "head(regulons_csi)\n",
    "regulons_csi$regulon_pair<-paste0(regulons_csi$regulon_1,\"_\",regulons_csi$regulon_2)\n",
    "head(regulons_csi)"
   ]
  },
  {
   "cell_type": "code",
   "execution_count": null,
   "metadata": {
    "collapsed": true,
    "vscode": {
     "languageId": "r"
    }
   },
   "outputs": [],
   "source": [
    "# finnally, we can also export the SCI cluster modules by the following code with the same cluster number we used on to create the heatmap\n",
    "csi_csi_wide<- regulons_csi %>% \n",
    "    spread(regulon_2,CSI)\n",
    "\n",
    "future_rownames<-csi_csi_wide$regulon_1\n",
    "csi_csi_wide<-as.matrix(csi_csi_wide[,2:ncol(csi_csi_wide)])\n",
    "rownames(csi_csi_wide)<-future_rownames\n",
    "csi_csi_wide[1:5,1:5]"
   ]
  },
  {
   "cell_type": "code",
   "execution_count": 154,
   "metadata": {
    "vscode": {
     "languageId": "r"
    }
   },
   "outputs": [],
   "source": [
    "write.csv(csi_csi_wide,\"WT.SCT.res02.time-domain.RSS_top20.binary_csi.wide.matrix.csv\")"
   ]
  },
  {
   "cell_type": "code",
   "execution_count": null,
   "metadata": {
    "collapsed": true,
    "vscode": {
     "languageId": "r"
    }
   },
   "outputs": [],
   "source": [
    "csi_csi_wide<-read.csv(\"WT.SCT.res02.time-domain.RSS_top20.binary_csi.wide.matrix.csv\")\n",
    "rownames(csi_csi_wide)<-csi_csi_wide[,1]\n",
    "csi_csi_wide<-csi_csi_wide[,-1]\n",
    "head(csi_csi_wide)"
   ]
  },
  {
   "cell_type": "code",
   "execution_count": null,
   "metadata": {
    "vscode": {
     "languageId": "r"
    }
   },
   "outputs": [],
   "source": [
    "subR<-rownames(csi_csi_wide)\n",
    "length(subR)"
   ]
  },
  {
   "cell_type": "code",
   "execution_count": null,
   "metadata": {
    "collapsed": true,
    "vscode": {
     "languageId": "r"
    }
   },
   "outputs": [],
   "source": [
    "options(repr.plot.width=12,repr.plot.height=12)\n",
    "p<- pheatmap(csi_csi_wide,\n",
    "           show_colnames = FALSE,\n",
    "           show_rownames=FALSE,\n",
    "           display_numbers=F,\n",
    "           color = viridis(n = 25),\n",
    "           cutree_cols = 7,\n",
    "           cutree_rows = 7,\n",
    "           #fontsize_row = 0,#font_size_regulons,\n",
    "           cluster_cols = TRUE,\n",
    "           cluster_rows = TRUE,\n",
    "           treeheight_row = 5,\n",
    "           treeheight_col = 5,\n",
    "           clustering_method=\"complete\",\n",
    "           clustering_distance_rows = \"euclidean\",\n",
    "           clustering_distance_cols = \"euclidean\",\n",
    "           width = 300,\n",
    "           height = 300)\n",
    "  #dev.off()"
   ]
  },
  {
   "cell_type": "code",
   "execution_count": 47,
   "metadata": {
    "vscode": {
     "languageId": "r"
    }
   },
   "outputs": [],
   "source": [
    "regulons_hclust<-hclust(dist(csi_csi_wide,method=\"euclidean\"),method = \"complete\")"
   ]
  },
  {
   "cell_type": "code",
   "execution_count": 48,
   "metadata": {
    "vscode": {
     "languageId": "r"
    }
   },
   "outputs": [],
   "source": [
    "clusters<-cutree(regulons_hclust,k=7)\n",
    "clusters_df<-data.frame(\"regulon\"=names(clusters),\n",
    "                       \"csi_cluster\"=clusters)"
   ]
  },
  {
   "cell_type": "code",
   "execution_count": null,
   "metadata": {
    "collapsed": true,
    "vscode": {
     "languageId": "r"
    }
   },
   "outputs": [],
   "source": [
    "anno_row<-data.frame(row.names = rownames(clusters_df),\"CSI_module\"=as.character(clusters_df[,2]))\n",
    "\n",
    "head(anno_row)"
   ]
  },
  {
   "cell_type": "code",
   "execution_count": null,
   "metadata": {
    "vscode": {
     "languageId": "r"
    }
   },
   "outputs": [],
   "source": [
    "anno_col<-brewer.pal(7,\"Set3\")\n",
    "names(anno_col)<-unique(anno_row$CSI_module)\n",
    "anno_col<-list(CSI_module=anno_col)\n",
    "anno_col"
   ]
  },
  {
   "cell_type": "code",
   "execution_count": null,
   "metadata": {
    "collapsed": true,
    "vscode": {
     "languageId": "r"
    }
   },
   "outputs": [],
   "source": [
    "p<- pheatmap(csi_csi_wide,annotation_row = anno_row,annotation_colors = anno_col,\n",
    "           show_colnames = FALSE,\n",
    "           show_rownames=FALSE,\n",
    "           display_numbers=F,\n",
    "           color = viridis(n = 25),\n",
    "           cutree_cols = 7,\n",
    "           cutree_rows = 7,\n",
    "           #fontsize_row = 0,#font_size_regulons,\n",
    "           cluster_cols = TRUE,\n",
    "           cluster_rows = TRUE,\n",
    "           treeheight_row = 5,\n",
    "           treeheight_col = 5,\n",
    "           clustering_method=\"complete\",\n",
    "           clustering_distance_ro0ws = \"euclidean\",\n",
    "           clustering_distance_cols = \"euclidean\",\n",
    "           width = 300,\n",
    "           height = 800)\n",
    "  #dev.off()"
   ]
  },
  {
   "cell_type": "code",
   "execution_count": null,
   "metadata": {
    "vscode": {
     "languageId": "r"
    }
   },
   "outputs": [],
   "source": [
    "save_pheatmap_pdf(p,\"WT.res02_time_domain.rss_top20.csi.complete_nclust7.hcluster.withAnno.pheatmap.pdf\")"
   ]
  },
  {
   "cell_type": "code",
   "execution_count": null,
   "metadata": {
    "vscode": {
     "languageId": "r"
    }
   },
   "outputs": [],
   "source": [
    "## export module node dataframe to cytoscape for regulatory network visualization\n",
    "head(clusters_df)\n",
    "rownames(clusters_df)<-gsub(\"...$\",\"\",rownames(clusters_df))\n",
    "clusters_df$regulon<-gsub(\"...$\",\"\",clusters_df$regulon)\n",
    "head(clusters_df)\n",
    "write.csv(clusters_df,\"rss.top20.regulons.csi.7hcluster.df.csv\",quote=FALSE)"
   ]
  },
  {
   "cell_type": "code",
   "execution_count": null,
   "metadata": {
    "collapsed": true,
    "vscode": {
     "languageId": "r"
    }
   },
   "outputs": [],
   "source": [
    "clusters_df<-read.csv(\"rss.top20.regulons.csi.7hcluster.df.csv\")\n",
    "head(clusters_df)"
   ]
  },
  {
   "cell_type": "code",
   "execution_count": null,
   "metadata": {
    "vscode": {
     "languageId": "r"
    }
   },
   "outputs": [],
   "source": [
    "regulons <- unique(clusters_df$regulon)\n",
    "length(regulons)"
   ]
  },
  {
   "cell_type": "code",
   "execution_count": 30,
   "metadata": {
    "vscode": {
     "languageId": "r"
    }
   },
   "outputs": [],
   "source": [
    "rownames(regulonAUC_sub)<-gsub(\"...$\",\"\",rownames(regulonAUC_sub))"
   ]
  },
  {
   "cell_type": "code",
   "execution_count": 31,
   "metadata": {
    "vscode": {
     "languageId": "r"
    }
   },
   "outputs": [],
   "source": [
    "## Finally, let's calculate activity scores for each csi module based on the specifity scores of all the regulons in that module.\n",
    "# For this, we will load the AUC matrix again and calculate the mean of AUC fr each regulon per cell type and add up these scores per module\n",
    "csi_cluster_activity_wide<-calc_csi_module_activity(clusters_df,regulonAUC_sub,metadata = meta,cell_type_column = \"cell_type\")"
   ]
  },
  {
   "cell_type": "code",
   "execution_count": null,
   "metadata": {
    "collapsed": true,
    "vscode": {
     "languageId": "r"
    }
   },
   "outputs": [],
   "source": [
    "#csi_cluster_activity_wide<-csi_cluster_activity_wide[,c('WT_sham_DH_0.5mm','WT_3h_DH_0.5mm','WT_24h_DH_0.5mm',\n",
    "#                                              'WT_sham_DH_1mm','WT_3h_DH_1mm','WT_24h_DH_1mm','WT_72h_DH_1mm',\n",
    "#                                              'WT_sham_MG_0.5mm','WT_3h_MG_0.5mm','WT_24h_MG_0.5mm','WT_72h_MG_0.5mm',\n",
    "#                                              'WT_sham_MG_1mm','WT_3h_MG_1mm','WT_24h_MG_1mm','WT_72h_MG_1mm',\n",
    "#                                              'WT_sham_VH_0.5mm','WT_3h_VH_0.5mm','WT_24h_VH_0.5mm','WT_72h_VH_0.5mm',\n",
    "#                                              'WT_sham_VH_1mm','WT_3h_VH_1mm','WT_24h_VH_1mm','WT_72h_VH_1mm',\n",
    "#                                              'WT_sham_WM_0.5mm','WT_3h_WM_0.5mm','WT_24h_WM_0.5mm','WT_72h_WM_0.5mm',\n",
    "#                                              'WT_sham_WM_1mm','WT_3h_WM_1mm','WT_24h_WM_1mm','WT_72h_WM_1mm')]\n",
    "csi_cluster_activity_wide<-csi_cluster_activity_wide[,\n",
    "                                                     c('WT_sham_WM','WT_3h_WM','WT_24h_WM','WT_72h_WM',\n",
    "                                                       'WT_sham_MG','WT_3h_MG','WT_24h_MG','WT_72h_MG',\n",
    "                                                       'WT_sham_DH','WT_3h_DH','WT_24h_DH',\"WT_72h_DH\",\n",
    "                                              'WT_sham_VH','WT_3h_VH','WT_24h_VH','WT_72h_VH'\n",
    "                                              \n",
    "                                              \n",
    "                                              #       c(\"cluster_0\",\"cluster_1\",\"cluster_2\",\"cluster_3\",\"cluster_4\",\"cluster_5\",\n",
    "                                              #        \"cluster_6\"#,\"cluster_7\"\n",
    "                                              )]\n",
    "head(csi_cluster_activity_wide)"
   ]
  },
  {
   "cell_type": "code",
   "execution_count": null,
   "metadata": {
    "collapsed": true,
    "vscode": {
     "languageId": "r"
    }
   },
   "outputs": [],
   "source": [
    "csi_long<-melt(t(scale(t(csi_cluster_activity_wide),center = T,scale = T)),value.name = \"csi\",varnames = \"cluster_csi\")#,variable.name = \"cluster_exp\"\n",
    "colnames(csi_long)<-c(\"cluster_csi\",\"cluster_exp\",\"csi\")\n",
    "head(csi_long)"
   ]
  },
  {
   "cell_type": "code",
   "execution_count": 62,
   "metadata": {
    "vscode": {
     "languageId": "r"
    }
   },
   "outputs": [],
   "source": [
    "top3<-csi_long %>% group_by(cluster_exp) %>% top_n(.,wt = csi,n = 1)"
   ]
  },
  {
   "cell_type": "code",
   "execution_count": 63,
   "metadata": {
    "vscode": {
     "languageId": "r"
    }
   },
   "outputs": [],
   "source": [
    "top3$cluster_csi = factor(top3$cluster_csi,levels = rev(unique(top3$cluster_csi)))"
   ]
  },
  {
   "cell_type": "code",
   "execution_count": 64,
   "metadata": {
    "vscode": {
     "languageId": "r"
    }
   },
   "outputs": [],
   "source": [
    "csi_cluster_wide<-csi_cluster_activity_wide[c(2,3,1,6,4,5,7),#unique(as.character(top3$cluster_csi)),\n",
    "                                           ]"
   ]
  },
  {
   "cell_type": "code",
   "execution_count": null,
   "metadata": {
    "collapsed": true,
    "vscode": {
     "languageId": "r"
    }
   },
   "outputs": [],
   "source": [
    "col_anno<-data.frame(row.names = colnames(csi_cluster_wide),\"domain\"=c(rep(\"WM\",4),rep(\"MG\",4),rep(\"DH\",4),rep(\"VH\",4)),\n",
    "                    \"time\"=c(rep(c(\"sham\",\"3h\",\"24h\",\"72h\"),4)))\n",
    "col_anno"
   ]
  },
  {
   "cell_type": "code",
   "execution_count": null,
   "metadata": {
    "collapsed": true,
    "vscode": {
     "languageId": "r"
    }
   },
   "outputs": [],
   "source": [
    "anno_row<-data.frame(row.names = unique(clusters_df$csi_cluster),\"CSI_module\"=as.character(unique(clusters_df$csi_cluster)))\n",
    "head(anno_row)\n",
    "anno_col<-brewer.pal(7,\"Set3\")\n",
    "names(anno_col)<-anno_row$CSI_module\n",
    "col_list<-list(CSI_module=anno_col,domain=domain_col,time=time_col)\n",
    "col_list"
   ]
  },
  {
   "cell_type": "code",
   "execution_count": null,
   "metadata": {
    "collapsed": true,
    "vscode": {
     "languageId": "r"
    }
   },
   "outputs": [],
   "source": [
    "options(repr.plot.width=6,repr.plot.height=5)\n",
    "p<-pheatmap(csi_cluster_wide,border_color = \"NA\",\n",
    "           show_colnames = TRUE,\n",
    "           color = viridis(n = 100),#colorRampPalette(rev(brewer.pal(6,\"RdYlBu\")))(50),#viridis(n = 100),\n",
    "           cluster_cols = F,\n",
    "           cluster_rows = F,\n",
    "           annotation_col=col_anno,\n",
    "           annotation_colors=col_list,\n",
    "            legend=T,\n",
    "            gaps_col=gap_col,\n",
    "            annotation_row=anno_row,\n",
    "            \n",
    "           #scale=\"row\",\n",
    "        \n",
    "           #clustering_distance_rows = \"euclidean\"#,\n",
    "           #clustering_distance_cols = \"euclidean\"\n",
    "            )\n",
    "save_pheatmap_pdf(p,\"WT.SCT.binary.regulon.res02_time-domain.rss_top20.7csi.heatmap.viridis_220720.pdf\")"
   ]
  },
  {
   "cell_type": "markdown",
   "metadata": {},
   "source": [
    "#### 7 csi module activity in WM clusters"
   ]
  },
  {
   "cell_type": "code",
   "execution_count": null,
   "metadata": {
    "collapsed": true,
    "vscode": {
     "languageId": "r"
    }
   },
   "outputs": [],
   "source": [
    "meta<-read.csv(\"/home/jovyan/zxli_SCI/result/Seurat/reg.CC/WT_replace_v2/res02_220310/WT.SCT.pc20.k50.res02.meta.data.csv\")\n",
    "rownames(meta)<-meta[,1]\n",
    "meta<-meta[,-1]\n",
    "head(meta)"
   ]
  },
  {
   "cell_type": "code",
   "execution_count": null,
   "metadata": {
    "collapsed": true,
    "vscode": {
     "languageId": "r"
    }
   },
   "outputs": [],
   "source": [
    "binary_auc<-read.csv(\"../../WT.SCT.binarizedbyPyscenic.auc_mtx.csv\")\n",
    "rownames(binary_auc)<-binary_auc$Cell\n",
    "binary_auc<-binary_auc[,-1]\n",
    "colnames(binary_auc)<-gsub(\"...$\",\"\",colnames(binary_auc))\n",
    "head(binary_auc)"
   ]
  },
  {
   "cell_type": "code",
   "execution_count": null,
   "metadata": {
    "collapsed": true,
    "vscode": {
     "languageId": "r"
    }
   },
   "outputs": [],
   "source": [
    "regulonAUC<-t(binary_auc)\n",
    "head(regulonAUC)"
   ]
  },
  {
   "cell_type": "code",
   "execution_count": null,
   "metadata": {
    "collapsed": true,
    "vscode": {
     "languageId": "r"
    }
   },
   "outputs": [],
   "source": [
    "clusters_df<-read.csv(\"rss.top20.regulons.csi.7hcluster.df.csv\")\n",
    "head(clusters_df)"
   ]
  },
  {
   "cell_type": "code",
   "execution_count": null,
   "metadata": {
    "vscode": {
     "languageId": "r"
    }
   },
   "outputs": [],
   "source": [
    "regulons <- unique(clusters_df$regulon)\n",
    "length(regulons)"
   ]
  },
  {
   "cell_type": "code",
   "execution_count": null,
   "metadata": {
    "vscode": {
     "languageId": "r"
    }
   },
   "outputs": [],
   "source": [
    "meta_s<-meta[meta$domain_res02==\"WM\",]\n",
    "dim(meta_s)"
   ]
  },
  {
   "cell_type": "code",
   "execution_count": null,
   "metadata": {
    "collapsed": true,
    "vscode": {
     "languageId": "r"
    }
   },
   "outputs": [],
   "source": [
    "meta_s$time_cluster<-paste0(meta_s$time,\"-\",meta_s$SCT_snn_res.0.2)\n",
    "table(meta_s$time_cluster)\n",
    "meta_s<-meta_s[!meta_s$time_cluster==\"WT_sham-3\",]\n",
    "table(meta_s$time_cluster)"
   ]
  },
  {
   "cell_type": "code",
   "execution_count": null,
   "metadata": {
    "vscode": {
     "languageId": "r"
    }
   },
   "outputs": [],
   "source": [
    "regulonAUC_s<-regulonAUC[,rownames(meta_s)]\n",
    "dim(regulonAUC_s)"
   ]
  },
  {
   "cell_type": "code",
   "execution_count": 23,
   "metadata": {
    "vscode": {
     "languageId": "r"
    }
   },
   "outputs": [],
   "source": [
    "csi_cluster_activity_wide<-calc_csi_module_activity(clusters_df,regulonAUC_s,metadata = meta_s,cell_type_column = \"time_cluster\")"
   ]
  },
  {
   "cell_type": "code",
   "execution_count": null,
   "metadata": {
    "collapsed": true,
    "vscode": {
     "languageId": "r"
    }
   },
   "outputs": [],
   "source": [
    "csi_cluster_activity_wide<-csi_cluster_activity_wide[,\n",
    "                                                     c('WT_sham-0','WT_3h-0','WT_24h-0','WT_72h-0',\n",
    "                                                       'WT_sham-4','WT_3h-4','WT_24h-4','WT_72h-4',\n",
    "                                                       'WT_24h-3','WT_72h-3'\n",
    "                                              #       c(\"cluster_0\",\"cluster_1\",\"cluster_2\",\"cluster_3\",\"cluster_4\",\"cluster_5\",\n",
    "                                              #        \"cluster_6\"#,\"cluster_7\"\n",
    "                                              )]\n",
    "head(csi_cluster_activity_wide)"
   ]
  },
  {
   "cell_type": "code",
   "execution_count": 31,
   "metadata": {
    "vscode": {
     "languageId": "r"
    }
   },
   "outputs": [],
   "source": [
    "csi_cluster_wide<-csi_cluster_activity_wide[c(4,6,7,2,3,5,1),#unique(as.character(top3$cluster_csi)),\n",
    "                                           ]"
   ]
  },
  {
   "cell_type": "code",
   "execution_count": null,
   "metadata": {
    "collapsed": true,
    "vscode": {
     "languageId": "r"
    }
   },
   "outputs": [],
   "source": [
    "cluster_col<-c('#66AB94','#E2E293','#C580AA')\n",
    "names(cluster_col)<-c(\"0\", \"3\", \"4\")\n",
    "time_col<-c('#374E55FF','#DF8F44FF','#00A1D5FF','#B24745FF')\n",
    "names(time_col)<-c(\"sham\",\"3h\",\"24h\",\"72h\")\n",
    "#gap_col<-c(2,4,7)\n",
    "gap_col<-c(4,8)\n",
    "anno_row<-data.frame(row.names = unique(clusters_df$csi_cluster),\"CSI_module\"=as.character(unique(clusters_df$csi_cluster)))\n",
    "head(anno_row)\n",
    "anno_col<-brewer.pal(7,\"Set3\")\n",
    "names(anno_col)<-anno_row$CSI_module\n",
    "col_list<-list(CSI_module=anno_col,cluster=cluster_col,time=time_col)\n",
    "col_list\n",
    "col_anno<-data.frame(row.names = colnames(csi_cluster_wide),\n",
    "                     #\"cluster\"=c(rep(c(\"0\",\"4\"),2),rep(c(\"0\",\"3\",\"4\"),2)),\n",
    "                     \"cluster\"=c(rep(\"0\",4),rep(\"4\",4),rep(\"3\",2)),\n",
    "                    #\"time\"=c(rep(\"sham\",2),rep(\"3h\",2),rep(\"24h\",3),rep(\"72h\",3))\n",
    "                     \"time\"=c(rep(c(\"sham\",\"3h\",\"24h\",\"72h\"),2),\"24h\",\"72h\")\n",
    "                    )\n",
    "col_anno"
   ]
  },
  {
   "cell_type": "code",
   "execution_count": null,
   "metadata": {
    "collapsed": true,
    "vscode": {
     "languageId": "r"
    }
   },
   "outputs": [],
   "source": [
    "options(repr.plot.width=6,repr.plot.height=5)\n",
    "p<-pheatmap(csi_cluster_wide,border_color = \"NA\",\n",
    "           show_colnames = TRUE,\n",
    "           color = viridis(n = 100),#colorRampPalette(rev(brewer.pal(6,\"RdYlBu\")))(50),#viridis(n = 100),\n",
    "           cluster_cols = F,\n",
    "           cluster_rows = F,\n",
    "           annotation_col=col_anno,\n",
    "           annotation_colors=col_list,\n",
    "            legend=T,\n",
    "            gaps_col=gap_col,\n",
    "            annotation_row=anno_row,\n",
    "            \n",
    "           #scale=\"row\",\n",
    "        \n",
    "           #clustering_distance_rows = \"euclidean\"#,\n",
    "           #clustering_distance_cols = \"euclidean\"\n",
    "            )\n",
    "save_pheatmap_pdf(p,\"WT.SCT.binary.regulon.res02_time-domain.rss_top20.7csimodule_WM.time.cluster.heatmap.viridis_2.pdf\")"
   ]
  },
  {
   "cell_type": "markdown",
   "metadata": {},
   "source": [
    "#### cis module average activity in spatial -220701"
   ]
  },
  {
   "cell_type": "code",
   "execution_count": null,
   "metadata": {
    "collapsed": true,
    "vscode": {
     "languageId": "r"
    }
   },
   "outputs": [],
   "source": [
    "meta<-read.csv(\"/home/jovyan/zxli_SCI/result/Seurat/reg.CC/WT_replace_v2/res02_220310/WT.SCT.pc20.k50.res02.meta.data.csv\")\n",
    "rownames(meta)<-meta[,1]\n",
    "meta<-meta[,-1]\n",
    "head(meta)"
   ]
  },
  {
   "cell_type": "code",
   "execution_count": null,
   "metadata": {
    "collapsed": true,
    "vscode": {
     "languageId": "r"
    }
   },
   "outputs": [],
   "source": [
    "clusters_df<-read.csv(\"rss.top20.regulons.csi.7hcluster.df.csv\")\n",
    "head(clusters_df)"
   ]
  },
  {
   "cell_type": "code",
   "execution_count": null,
   "metadata": {
    "collapsed": true,
    "vscode": {
     "languageId": "r"
    }
   },
   "outputs": [],
   "source": [
    "colnames(auc_mtx)<-gsub(\"...$\",\"\",colnames(auc_mtx))\n",
    "auc_mtx[1:5,1:5]"
   ]
  },
  {
   "cell_type": "code",
   "execution_count": 10,
   "metadata": {
    "vscode": {
     "languageId": "r"
    }
   },
   "outputs": [],
   "source": [
    "meta<-cbind(meta,auc_mtx)"
   ]
  },
  {
   "cell_type": "code",
   "execution_count": null,
   "metadata": {
    "vscode": {
     "languageId": "r"
    }
   },
   "outputs": [],
   "source": [
    "temp<-auc_mtx[,clusters_df$regulon]\n",
    "dim(temp)"
   ]
  },
  {
   "cell_type": "code",
   "execution_count": 12,
   "metadata": {
    "vscode": {
     "languageId": "r"
    }
   },
   "outputs": [],
   "source": [
    "temp<-as.data.frame(t(temp))\n",
    "temp$module<-clusters_df$csi_cluster"
   ]
  },
  {
   "cell_type": "code",
   "execution_count": 13,
   "metadata": {
    "vscode": {
     "languageId": "r"
    }
   },
   "outputs": [],
   "source": [
    "temp_m<-temp\n",
    "temp_m$module<-as.character(temp_m$module)\n",
    "temp_m<-aggregate(temp_m[,colnames(temp_m)!=\"module\"],list(temp_m$module),mean)\n",
    "head(temp_m)"
   ]
  },
  {
   "cell_type": "code",
   "execution_count": null,
   "metadata": {
    "vscode": {
     "languageId": "r"
    }
   },
   "outputs": [],
   "source": [
    "rownames(temp_m)<-temp_m[,1]\n",
    "temp_m<-temp_m[,-1]\n",
    "head(temp_m)"
   ]
  },
  {
   "cell_type": "code",
   "execution_count": 25,
   "metadata": {
    "vscode": {
     "languageId": "r"
    }
   },
   "outputs": [],
   "source": [
    "write.csv(temp_m,\"7csi.module.average.auc.activity.eachSpot.df.csv\")"
   ]
  },
  {
   "cell_type": "code",
   "execution_count": null,
   "metadata": {
    "vscode": {
     "languageId": "r"
    }
   },
   "outputs": [],
   "source": [
    "rownames(temp_m)<-paste0(\"module\",rownames(temp_m))\n",
    "head(temp_m)"
   ]
  },
  {
   "cell_type": "code",
   "execution_count": null,
   "metadata": {
    "vscode": {
     "languageId": "r"
    }
   },
   "outputs": [],
   "source": [
    "meta_m<-cbind(meta,t(temp_m))\n",
    "dim(meta_m)"
   ]
  },
  {
   "cell_type": "code",
   "execution_count": 29,
   "metadata": {
    "vscode": {
     "languageId": "r"
    }
   },
   "outputs": [],
   "source": [
    "saveRDS(meta_m,\"7csi.module.average.auc.activity.eachSpot.meta.rds\")"
   ]
  },
  {
   "cell_type": "code",
   "execution_count": 15,
   "metadata": {
    "vscode": {
     "languageId": "r"
    }
   },
   "outputs": [],
   "source": [
    "meta_m<-readRDS(\"7csi.module.average.auc.activity.eachSpot.meta.rds\")"
   ]
  },
  {
   "cell_type": "code",
   "execution_count": 3,
   "metadata": {
    "vscode": {
     "languageId": "r"
    }
   },
   "outputs": [],
   "source": [
    "meta_m<-readRDS(\"7csi.module.average.auc.activity.eachSpot.meta.rds\")"
   ]
  },
  {
   "cell_type": "code",
   "execution_count": 6,
   "metadata": {
    "vscode": {
     "languageId": "r"
    }
   },
   "outputs": [],
   "source": [
    "sf<-\"module.spatial_220720/\"\n",
    "if(!dir.exists(sf))\n",
    "    dir.create(sf)"
   ]
  },
  {
   "cell_type": "code",
   "execution_count": 8,
   "metadata": {
    "vscode": {
     "languageId": "r"
    }
   },
   "outputs": [],
   "source": [
    "for(i in paste0(\"module\",seq(1:7))){\n",
    "    options(repr.plot.width=20,repr.plot.height=16)\n",
    "    ggplot(meta_m,aes_string(\"x.ad\",\"y.ad\",color=i))+geom_point(size=1)+\n",
    "        scale_color_gradientn(colours = c('#0000ff','#3232ff','#6666ff','#9898ff','#ccccff',\n",
    "                                              '#fffefe','#ffcccc','#ff9898','#ff6666','#ff3232','#ff0000'))+\n",
    "        #scale_fill_gradientn(colours = colorRampPalette(viridis(n = 10,option = \"B\"))(50))+\n",
    "        xlab(paste0(\"\")) +\n",
    "        ylab(paste0(\"\")) + \n",
    "        theme(panel.background = element_blank(),\n",
    "              panel.grid.major =element_blank(), \n",
    "              panel.grid.minor = element_blank(),\n",
    "              axis.text.x = element_blank(),#element_text(size = 15,colour = \"black\"),\n",
    "              axis.text.y = element_blank()#element_text(size = 20,colour = \"black\")\n",
    "              # axis.ticks.x = element_blank(),\n",
    "        )\n",
    "    ggsave(paste0(sf,\"WT.merge.regress_CC.nC.mt.ident_\",i,\".spatial_manually_220720.png\"),width=20,height=16,dpi=300)\n",
    "}\n"
   ]
  },
  {
   "cell_type": "code",
   "execution_count": null,
   "metadata": {
    "collapsed": true,
    "vscode": {
     "languageId": "r"
    }
   },
   "outputs": [],
   "source": [
    "options(repr.plot.width=20,repr.plot.height=16)\n",
    "ggplot(meta_m,aes_string(\"x.ad\",\"y.ad\",color=\"module1\"))+geom_point(size=1)+\n",
    "        #scale_colour_gradientn(colours=colorRampPalette(rev(brewer.pal(n = 11, name = \"Spectral\")))(50))+\n",
    "        ggplot2::scale_colour_gradientn(colours = c('#0000ff','#3232ff','#6666ff','#9898ff','#ccccff',\n",
    "                                              '#fffefe','#ffcccc','#ff9898','#ff6666','#ff3232','#ff0000'))+\n",
    "        xlab(paste0(\"\")) +\n",
    "        ylab(paste0(\"\")) + \n",
    "        theme(panel.background = element_blank(),\n",
    "              panel.grid.major =element_blank(), \n",
    "              panel.grid.minor = element_blank(),\n",
    "              axis.text.x = element_blank(),\n",
    "              axis.text.y = element_blank()\n",
    "          # axis.ticks.x = element_blank(),\n",
    "    )#+"
   ]
  }
 ],
 "metadata": {
  "kernelspec": {
   "display_name": "R",
   "language": "R",
   "name": "ir"
  },
  "language_info": {
   "codemirror_mode": "r",
   "file_extension": ".r",
   "mimetype": "text/x-r-source",
   "name": "R",
   "pygments_lexer": "r",
   "version": "4.1.0"
  }
 },
 "nbformat": 4,
 "nbformat_minor": 2
}
