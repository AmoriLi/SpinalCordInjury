{
 "cells": [
  {
   "cell_type": "code",
   "execution_count": null,
   "metadata": {
    "vscode": {
     "languageId": "r"
    }
   },
   "outputs": [],
   "source": [
    "wd<-\"/result/WGCNA/WT.SCT.res02.domain_220311/\"\n",
    "if(!dir.exists(wd))\n",
    "    dir.create(wd)\n",
    "setwd(wd)\n",
    "getwd()"
   ]
  },
  {
   "cell_type": "code",
   "execution_count": 2,
   "metadata": {
    "vscode": {
     "languageId": "r"
    }
   },
   "outputs": [],
   "source": [
    "save_pheatmap_pdf <- function(x, filename, width=30, height=30\n",
    "                             ) {\n",
    "   stopifnot(!missing(x))\n",
    "   stopifnot(!missing(filename))\n",
    "   pdf(filename#, width=width, height=height\n",
    "      )\n",
    "   grid::grid.newpage()\n",
    "   grid::grid.draw(x$gtable)\n",
    "   dev.off()\n",
    "}"
   ]
  },
  {
   "cell_type": "code",
   "execution_count": null,
   "metadata": {
    "collapsed": true,
    "vscode": {
     "languageId": "r"
    }
   },
   "outputs": [],
   "source": [
    "library(WGCNA)\n",
    "library(dplyr)\n",
    "#enableWGCNAThreads()\n",
    "enableWGCNAThreads()\n",
    "options(stringsAsFactors = FALSE)\n",
    "library(Seurat)\n",
    "#library(SeuratObject)\n",
    "library(pheatmap)\n",
    "#library(ComplexHeatmap)\n",
    "library(scales)\n",
    "library(colorspace)"
   ]
  },
  {
   "cell_type": "code",
   "execution_count": 5,
   "metadata": {
    "vscode": {
     "languageId": "r"
    }
   },
   "outputs": [],
   "source": [
    "### preprocess: get tissue-domain average gene expression matrix and dattrait2\n",
    "#load SCT data \n",
    "da<-readRDS(\"/result/Seurat/reg.CC/WT_replace_v2/res02_220310/WT.merge.replace_v2.SCT.regress_CC.nC.mt.ident.pc20.k50.res02.rds\")"
   ]
  },
  {
   "cell_type": "code",
   "execution_count": null,
   "metadata": {
    "collapsed": true,
    "vscode": {
     "languageId": "r"
    }
   },
   "outputs": [],
   "source": [
    "meta<-da@meta.data\n",
    "dim(meta)\n",
    "sctda<-da@assays$SCT@data\n",
    "dim(sctda)"
   ]
  },
  {
   "cell_type": "code",
   "execution_count": null,
   "metadata": {
    "collapsed": true,
    "vscode": {
     "languageId": "r"
    }
   },
   "outputs": [],
   "source": [
    "sctda[1:5,1:5]\n",
    "sctda<-as.matrix(sctda)\n",
    "sctda[1:5,1:5]"
   ]
  },
  {
   "cell_type": "code",
   "execution_count": null,
   "metadata": {
    "vscode": {
     "languageId": "r"
    }
   },
   "outputs": [],
   "source": [
    "#remove low detection genes\n",
    "keep<-rowSums(sctda)>=100\n",
    "table(keep)"
   ]
  },
  {
   "cell_type": "code",
   "execution_count": null,
   "metadata": {
    "vscode": {
     "languageId": "r"
    }
   },
   "outputs": [],
   "source": [
    "#remove low detection genes\n",
    "library(edgeR)\n",
    "y<-DGEList(counts=sctda)\n",
    "#筛选cpm>1>=2的基因\n",
    "keep<-rowSums(cpm(y)>1)>=20\n",
    "y<-y[keep,,keep.lib.sizes=FALSE]\n",
    "#y<-calcNormFactors(y)\n",
    "edgrdata=y$counts\n",
    "dim(edgrdata)"
   ]
  },
  {
   "cell_type": "code",
   "execution_count": null,
   "metadata": {
    "vscode": {
     "languageId": "r"
    }
   },
   "outputs": [],
   "source": [
    "sctda_filt<-sctda[keep,]\n",
    "dim(sctda_filt)"
   ]
  },
  {
   "cell_type": "code",
   "execution_count": 111,
   "metadata": {
    "vscode": {
     "languageId": "r"
    }
   },
   "outputs": [],
   "source": [
    "sctda_filt<-edgrdata"
   ]
  },
  {
   "cell_type": "code",
   "execution_count": null,
   "metadata": {
    "collapsed": true,
    "vscode": {
     "languageId": "r"
    }
   },
   "outputs": [],
   "source": [
    "unique(meta$domain_res02)\n",
    "unique(meta$orig.ident)\n",
    "meta$group<-paste0(meta$orig.ident,\"_\",meta$domain_res02)\n",
    "datexpr<-data.frame(row.names = rownames(sctda_filt))\n",
    "for(i in unique(meta$group)){\n",
    "    cells<-rownames(subset(meta,group==i))\n",
    "    datexpr[,i]<-apply(sctda_filt[,cells],1,mean)\n",
    "}\n",
    "dim(datexpr)\n",
    "head(datexpr)"
   ]
  },
  {
   "cell_type": "code",
   "execution_count": 198,
   "metadata": {
    "vscode": {
     "languageId": "r"
    }
   },
   "outputs": [],
   "source": [
    "saveRDS(datexpr,\"WT.SCT.domain.thr100.datexpr.rds\")"
   ]
  },
  {
   "cell_type": "code",
   "execution_count": 4,
   "metadata": {
    "vscode": {
     "languageId": "r"
    }
   },
   "outputs": [],
   "source": [
    "datexpr<-readRDS(\"WT.SCT.domain.thr100.datexpr.rds\")"
   ]
  },
  {
   "cell_type": "code",
   "execution_count": null,
   "metadata": {
    "collapsed": true,
    "vscode": {
     "languageId": "r"
    }
   },
   "outputs": [],
   "source": [
    "# transverse expression matrix\n",
    "datexpr<-as.data.frame(t(as.matrix(datexpr)))\n",
    "dim(datexpr)\n",
    "datexpr[1:5,1:5]"
   ]
  },
  {
   "cell_type": "code",
   "execution_count": null,
   "metadata": {
    "collapsed": true,
    "vscode": {
     "languageId": "r"
    }
   },
   "outputs": [],
   "source": [
    "#1.b checking data for excessive missing data and identification of outlier samples\n",
    "gsg=goodSamplesGenes(datexpr,verbose = 3)\n",
    "gsg$allOK  #last statement returns TRUE means all genes pass the cuts\n",
    "#cluster samples to see if there are any obvious outliers\n",
    "sampletree=hclust(dist(datexpr),method = \"average\")\n"
   ]
  },
  {
   "cell_type": "code",
   "execution_count": 8,
   "metadata": {
    "vscode": {
     "languageId": "r"
    }
   },
   "outputs": [],
   "source": [
    "#Remove the offending genes and samples from the data:\n",
    "datexpr<-datexpr[gsg$goodSamples,gsg$goodGenes]"
   ]
  },
  {
   "cell_type": "code",
   "execution_count": null,
   "metadata": {
    "vscode": {
     "languageId": "r"
    }
   },
   "outputs": [],
   "source": [
    "#library(WGCNA)\n",
    "options(repr.plot.width=10, repr.plot.height=7#,font.size=1.5\n",
    "       )\n",
    "#sampletree=hclust(dist(datexpr),method = \"average\")\n",
    "pdf(\"WT.domain.SCT.data.thr100.average_sample.hclust.pdf\",width = 10,height = 7)\n",
    "#\n",
    "plot(sampletree,main = \"WT.SCT.domain_sampletree.hclustering to detect outliers\",\n",
    "     sub = \"\",xlab = \"\",cex=0.7#,cex.axis=1,cex.main=3\n",
    "    )\n",
    "dev.off()"
   ]
  },
  {
   "cell_type": "code",
   "execution_count": null,
   "metadata": {
    "collapsed": true,
    "vscode": {
     "languageId": "r"
    }
   },
   "outputs": [],
   "source": [
    "# create dattrait\n",
    "dattrait=data.frame(row.names =rownames(datexpr))\n",
    "for(i in 1:nrow(datexpr)){\n",
    "    dattrait[,rownames(datexpr)[i]]=c(rep(0,i-1),1,rep(0,nrow(datexpr)-i))\n",
    "}\n",
    "dattrait\n",
    "dim(dattrait)"
   ]
  },
  {
   "cell_type": "code",
   "execution_count": 11,
   "metadata": {
    "vscode": {
     "languageId": "r"
    }
   },
   "outputs": [],
   "source": [
    "save(datexpr,dattrait,file = \"WT.SCT.domain.thr100-01-datainput.RData\")"
   ]
  },
  {
   "cell_type": "code",
   "execution_count": 6,
   "metadata": {
    "vscode": {
     "languageId": "r"
    }
   },
   "outputs": [],
   "source": [
    "#load data saved in the first part\n",
    "#rm(list=ls())\n",
    "lnames=load(file = \"WT.SCT.domain.thr100-01-datainput.RData\")"
   ]
  },
  {
   "cell_type": "code",
   "execution_count": null,
   "metadata": {
    "collapsed": true,
    "vscode": {
     "languageId": "r"
    }
   },
   "outputs": [],
   "source": [
    "\n",
    "#the variable lnames contains the name of loaded variables\n",
    "#lnames\n",
    "#2.a.1 choosing the soft-thresholding power(beta):analysis of network topology\n",
    "#co-expression similarity is raised to calculate adjacency\n",
    "#choose a set of soft-thresholding powers\n",
    "powers=c(1:30)\n",
    "##call the network topology analysis function\n",
    "sft=pickSoftThreshold(datexpr,dataIsExpr = TRUE,\n",
    "                      powerVector = powers,corFnc = cor,\n",
    "                      corOptions = list(use = 'p'),\n",
    "                      networkType = \"signed\")  "
   ]
  },
  {
   "cell_type": "code",
   "execution_count": null,
   "metadata": {
    "collapsed": true,
    "vscode": {
     "languageId": "r"
    }
   },
   "outputs": [],
   "source": [
    "### pick a soft threshold power near the curve of the plot\n",
    "cex1=0.9\n",
    "plot(sft$fitIndices[, 1],\n",
    "     -sign(sft$fitIndices[, 3]) * sft$fitIndices[, 2],\n",
    "     xlab = \"Soft Threshold (power)\",\n",
    "     ylab = \"Scale Free Topology Model Fit, signed R^2\",\n",
    "     main = paste(\"Scale independence\")\n",
    ")\n",
    "text(sft$fitIndices[, 1],\n",
    "     -sign(sft$fitIndices[, 3]) * sft$fitIndices[, 2],\n",
    "     labels = powers, cex = cex1, col = \"red\"\n",
    ")\n",
    "abline(h = 0.80, col = \"red\")\n",
    "plot(sft$fitIndices[, 1],\n",
    "     sft$fitIndices[, 5],\n",
    "     xlab = \"Soft Threshold (power)\",\n",
    "     ylab = \"Mean Connectivity\",\n",
    "     type = \"n\",\n",
    "     main = paste(\"Mean connectivity\")\n",
    ")\n",
    "text(sft$fitIndices[, 1],\n",
    "     sft$fitIndices[, 5],\n",
    "     labels = powers,\n",
    "     cex = cex1, col = \"red\")"
   ]
  },
  {
   "cell_type": "code",
   "execution_count": 23,
   "metadata": {
    "vscode": {
     "languageId": "r"
    }
   },
   "outputs": [],
   "source": [
    "softpower=18\n",
    "adjacency=adjacency(datexpr,power = softpower,type = \"signed\")\n"
   ]
  },
  {
   "cell_type": "code",
   "execution_count": null,
   "metadata": {
    "vscode": {
     "languageId": "r"
    }
   },
   "outputs": [],
   "source": [
    "# Turn adjacency into topological overlap\n",
    "TOM = TOMsimilarity(adjacency,TOMType = \"signed\")\n",
    "dissTOM = 1-TOM"
   ]
  },
  {
   "cell_type": "code",
   "execution_count": 78,
   "metadata": {
    "vscode": {
     "languageId": "r"
    }
   },
   "outputs": [],
   "source": [
    "# Call the hierarchical clustering function\n",
    "geneTree = hclust(as.dist(dissTOM), method = \"average\"\n",
    "                 )"
   ]
  },
  {
   "cell_type": "code",
   "execution_count": null,
   "metadata": {
    "collapsed": true,
    "vscode": {
     "languageId": "r"
    }
   },
   "outputs": [],
   "source": [
    "# Plot the resulting clustering tree (dendrogram)\n",
    "#sizeGrWindow(12,9)\n",
    "#pdf(\"Gene clustering on TOM-based dissimilarity.pdf\")\n",
    "plot(geneTree, xlab=\"\", sub=\"\", main = \"Gene clustering on TOM-based dissimilarity\",\n",
    "     labels = FALSE, hang = 0.04)\n",
    "#dev.off()\n",
    "\n",
    "abline(h = 0.99,col=\"red\")"
   ]
  },
  {
   "cell_type": "code",
   "execution_count": null,
   "metadata": {
    "collapsed": true,
    "vscode": {
     "languageId": "r"
    }
   },
   "outputs": [],
   "source": [
    "minModuleSize = 30\n",
    "# Module identification using dynamic tree cut:\n",
    "dynamicMods = cutreeDynamic(dendro = geneTree, #distM = dissTOM,\n",
    "                            method = \"tree\",\n",
    "                deepSplit = 2,pamRespectsDendro = FALSE,\n",
    "                #minSplitHeight=0.3,\n",
    "                #cutHeight=0.99,\n",
    "                minClusterSize = minModuleSize)\n",
    "table(dynamicMods)"
   ]
  },
  {
   "cell_type": "code",
   "execution_count": null,
   "metadata": {
    "collapsed": true,
    "vscode": {
     "languageId": "r"
    }
   },
   "outputs": [],
   "source": [
    "# Convert numeric lables into colors\n",
    "dynamicColors = labels2colors(dynamicMods)\n",
    "table(dynamicColors)\n",
    "# Plot the dendrogram and colors underneath\n",
    "#sizeGrWindow(30,20)\n",
    "options(repr.plot.width=10,repr.plot.height=7)\n",
    "#pdf(\"Dynamic Tree Cut.pdf\",width = 10,height = 7)\n",
    "\n",
    "plotDendroAndColors(geneTree, dynamicColors, \"Dynamic Tree Cut\",\n",
    "                    dendroLabels = FALSE, hang = 0.03,\n",
    "                    addGuide = TRUE, guideHang = 0.05,\n",
    "                    main = \"Gene dendrogram and module colors\")\n",
    "abline(h = 0.99,col=\"red\")\n",
    "#dev.off()"
   ]
  },
  {
   "cell_type": "code",
   "execution_count": 81,
   "metadata": {
    "vscode": {
     "languageId": "r"
    }
   },
   "outputs": [],
   "source": [
    "# Calculate eigengenes\n",
    "MEList = moduleEigengenes(datexpr, colors = dynamicColors)\n",
    "MEs = MEList$eigengenes\n",
    "# Calculate dissimilarity of module eigengenes\n",
    "MEDiss = 1-cor(MEs);\n",
    "# Cluster module eigengenes\n",
    "METree = hclust(as.dist(MEDiss), method = \"average\");"
   ]
  },
  {
   "cell_type": "code",
   "execution_count": null,
   "metadata": {
    "collapsed": true,
    "vscode": {
     "languageId": "r"
    }
   },
   "outputs": [],
   "source": [
    "# Plot the result\n",
    "#sizeGrWindow(7, 6)\n",
    "#pdf(\"Clustering of module eigengenes.pdf\",width = 10,height = 7)\n",
    "plot(METree, main = \"Clustering of module eigengenes\",\n",
    "     xlab = \"\", sub = \"\")\n",
    "MEDissThres = 0.15\n",
    "# Plot the cut line into the dendrogram\n",
    "abline(h=MEDissThres, col = \"red\")\n",
    "#abline(h=0.1,col=\"blue\")\n",
    "#dev.off()"
   ]
  },
  {
   "cell_type": "code",
   "execution_count": null,
   "metadata": {
    "collapsed": true,
    "vscode": {
     "languageId": "r"
    }
   },
   "outputs": [],
   "source": [
    "# Call an automatic merging function\n",
    "merge = mergeCloseModules(datexpr, dynamicColors, cutHeight = MEDissThres, verbose = 3)\n",
    "# The merged module colors\n",
    "mergedColors = merge$colors\n",
    "# Eigengenes of the new merged modules:\n",
    "mergedMEs = merge$newMEs"
   ]
  },
  {
   "cell_type": "code",
   "execution_count": 85,
   "metadata": {
    "vscode": {
     "languageId": "r"
    }
   },
   "outputs": [],
   "source": [
    "# Rename to moduleColors\n",
    "moduleColors = mergedColors\n",
    "# Construct numerical labels corresponding to the colors\n",
    "colorOrder = c(\"grey\", standardColors(50))\n",
    "moduleLabels = match(moduleColors, colorOrder)-1\n",
    "MEs = mergedMEs\n",
    "# Save module colors and labels for use in subsequent parts\n",
    "#save(MEs, moduleLabels, moduleColors, geneTree, file = \"WT.SCT.domain-02-networkConstruction-stepByStep.RData\")"
   ]
  },
  {
   "cell_type": "code",
   "execution_count": null,
   "metadata": {
    "collapsed": true,
    "vscode": {
     "languageId": "r"
    }
   },
   "outputs": [],
   "source": [
    "#pdf(\"geneDendro-mergheight01.pdf\", width = 10, height = 7)\n",
    "plotDendroAndColors(geneTree, cbind(dynamicColors, mergedColors),\n",
    "                    c(\"Dynamic Tree Cut\", \"Merged dynamic\"),\n",
    "                    dendroLabels = FALSE, hang = 0.03,\n",
    "                    addGuide = TRUE, guideHang = 0.05)\n",
    "#dev.off()"
   ]
  },
  {
   "cell_type": "code",
   "execution_count": 26,
   "metadata": {
    "vscode": {
     "languageId": "r"
    }
   },
   "outputs": [],
   "source": [
    "# output modules\n",
    "WGCNA.modules.full.gene.list = data.frame(module = moduleColors,\n",
    "                                          gene = colnames(datexpr))\n",
    "write.csv(WGCNA.modules.full.gene.list, file = \"thr100.sp18.hclust_average.min30.deep2.h015.34modules.full.gene.list.csv\",quote=FALSE)"
   ]
  },
  {
   "cell_type": "code",
   "execution_count": null,
   "metadata": {
    "collapsed": true,
    "vscode": {
     "languageId": "r"
    }
   },
   "outputs": [],
   "source": [
    "WGCNA.modules.full.gene.list<-read.csv(\"thr100.sp18.hclust_average.min30.deep2.h015.34modules.full.gene.list.csv\")\n",
    "head(WGCNA.modules.full.gene.list)\n",
    "table(WGCNA.modules.full.gene.list$module==\"grey\")"
   ]
  },
  {
   "cell_type": "code",
   "execution_count": 86,
   "metadata": {
    "vscode": {
     "languageId": "r"
    }
   },
   "outputs": [],
   "source": [
    "#### TOMplot\n",
    "#transfer dissTOM with a power to make moderately strong, connections more visible in the heatmap\n",
    "plotTOM<-dissTOM^10\n",
    "#set diagonal to NA for a nicer plot\n",
    "diag(plotTOM)<-NA\n",
    "\n",
    "#TOMplot(plotTOM,geneTree,dynamicColors,)"
   ]
  },
  {
   "cell_type": "code",
   "execution_count": null,
   "metadata": {
    "vscode": {
     "languageId": "r"
    }
   },
   "outputs": [],
   "source": [
    "myheatcol<-rev(viridis_pal(option = \"D\")(10))#rev(c('#91BFDB','#FEE090','#FC8D59','#D73027'))\n",
    "myheatcol"
   ]
  },
  {
   "cell_type": "code",
   "execution_count": null,
   "metadata": {
    "collapsed": true,
    "vscode": {
     "languageId": "r"
    }
   },
   "outputs": [],
   "source": [
    "library(scales)\n",
    "show_col(rev(c('#91BFDB','#FEE090','#FC8D59','#D73027')))\n",
    "show_col(rev(viridis_pal(option = \"D\")(10)))"
   ]
  },
  {
   "cell_type": "code",
   "execution_count": null,
   "metadata": {
    "vscode": {
     "languageId": "r"
    }
   },
   "outputs": [],
   "source": [
    "png(\"thr100.sp18.min30.deep2.h015.TOMplot_220720.col2.png\")\n",
    "TOMplot(plotTOM,geneTree,\n",
    "        moduleColors,#dynamicColors#,\n",
    "        col=myheatcol\n",
    "       )\n",
    "dev.off()"
   ]
  },
  {
   "cell_type": "code",
   "execution_count": null,
   "metadata": {
    "collapsed": true,
    "vscode": {
     "languageId": "r"
    }
   },
   "outputs": [],
   "source": [
    "### merge distance dattrait\n",
    "head(dattrait)\n"
   ]
  },
  {
   "cell_type": "code",
   "execution_count": null,
   "metadata": {
    "collapsed": true,
    "vscode": {
     "languageId": "r"
    }
   },
   "outputs": [],
   "source": [
    "# Define numbers of genes and samples\n",
    "nGenes = ncol(datexpr)\n",
    "nSamples = nrow(datexpr)\n",
    "# Recalculate MEs with color labels\n",
    "MEs0 = moduleEigengenes(datexpr, moduleColors)$eigengenes\n",
    "MEs = orderMEs(MEs0)\n",
    "head(MEs)"
   ]
  },
  {
   "cell_type": "code",
   "execution_count": null,
   "metadata": {
    "collapsed": true,
    "vscode": {
     "languageId": "r"
    }
   },
   "outputs": [],
   "source": [
    "## merge distance MEs together\n",
    "mMEs<-MEs\n",
    "mMEs$domain<-factor(str_sub(rownames(mMEs),-2,-1),levels=c(\"WM\",\"MG\",\"DH\",\"VH\"))\n",
    "mMEs$time<-factor(str_split(rownames(MEs),\"_[H*T]_\",simplify = T)[,1],\n",
    "                   levels = c('WT_sham','WT_3h','WT_24h','WT_72h'))\n",
    "\n",
    "mMEs$group<-paste0(mMEs$time,\"_\",mMEs$domain)\n",
    "#mMEs<-arrange(mMEs,group_by=domain)\n",
    "#head(mMEs)\n",
    "mMEs<-mMEs[,-which(colnames(mMEs)%in%c(\"domain\",\"time\"))]\n",
    "head(mMEs)"
   ]
  },
  {
   "cell_type": "code",
   "execution_count": null,
   "metadata": {
    "collapsed": true,
    "vscode": {
     "languageId": "r"
    }
   },
   "outputs": [],
   "source": [
    "test<-as.matrix(mMEs[,-which(colnames(mMEs)==\"group\")])\n",
    "head(test)\n",
    "group<-mMEs$group\n",
    "names(group)<-rownames(mMEs)\n",
    "head(group)"
   ]
  },
  {
   "cell_type": "code",
   "execution_count": null,
   "metadata": {
    "collapsed": true,
    "vscode": {
     "languageId": "r"
    }
   },
   "outputs": [],
   "source": [
    "mergedMEs<-as.data.frame(rowsum(test,group = group))\n",
    "head(mergedMEs)"
   ]
  },
  {
   "cell_type": "code",
   "execution_count": 97,
   "metadata": {
    "vscode": {
     "languageId": "r"
    }
   },
   "outputs": [],
   "source": [
    "mergedMEs<-mergedMEs[c('WT_sham_DH','WT_3h_DH','WT_24h_DH','WT_72h_DH',\n",
    "                                  'WT_sham_MG','WT_3h_MG','WT_24h_MG','WT_72h_MG',\n",
    "                                  'WT_sham_VH','WT_3h_VH','WT_24h_VH','WT_72h_VH',\n",
    "                                  'WT_sham_WM','WT_3h_WM','WT_24h_WM','WT_72h_WM'),]"
   ]
  },
  {
   "cell_type": "code",
   "execution_count": null,
   "metadata": {
    "collapsed": true,
    "vscode": {
     "languageId": "r"
    }
   },
   "outputs": [],
   "source": [
    "dattrait2<-data.frame(row.names = rownames(mergedMEs))\n",
    "j=1\n",
    "for(i in rownames(mergedMEs)){\n",
    "    dattrait2[,i]<-c(rep(0,j-1),1,rep(0,nrow(dattrait2)-j))\n",
    "    j=j+1\n",
    "}\n",
    "dattrait2"
   ]
  },
  {
   "cell_type": "code",
   "execution_count": 15,
   "metadata": {
    "vscode": {
     "languageId": "r"
    }
   },
   "outputs": [],
   "source": [
    "moduleTraitCor = cor(mergedMEs, dattrait2, use = \"p\")\n",
    "moduleTraitPvalue = corPvalueStudent(moduleTraitCor, 16)"
   ]
  },
  {
   "cell_type": "code",
   "execution_count": null,
   "metadata": {
    "vscode": {
     "languageId": "r"
    }
   },
   "outputs": [],
   "source": [
    "# Will display correlations and their p-values\n",
    "pdf(\"module-time_domain relationships.pdf\",width=30,height=30)\n",
    "textMatrix =  paste(signif(moduleTraitCor, 2), \"\\n(\",\n",
    "                           signif(moduleTraitPvalue, 1), \")\", sep = \"\");\n",
    "dim(textMatrix) = dim(moduleTraitCor)\n",
    "par(mar = c(13,12, 3, 3));\n",
    "# Display the correlation values within a heatmap plot\n",
    "options(repr.plot.width=30,repr.plot.height=30)\n",
    "labeledHeatmap(Matrix = moduleTraitCor,\n",
    "               xLabels = names(dattrait2),\n",
    "               yLabels = names(mergedMEs),\n",
    "               ySymbols = names(mergedMEs),\n",
    "               colorLabels = FALSE,\n",
    "               colors = blueWhiteRed(50),\n",
    "               textMatrix = textMatrix,\n",
    "               setStdMargins = FALSE,\n",
    "               cex.text = 1.5,\n",
    "               zlim = c(-1,1),\n",
    "               plotLegend=T,\n",
    "               main = paste(\"Module-trait relationships\"))\n",
    "dev.off()"
   ]
  },
  {
   "cell_type": "code",
   "execution_count": null,
   "metadata": {
    "collapsed": true,
    "vscode": {
     "languageId": "r"
    }
   },
   "outputs": [],
   "source": [
    "row_anno<-data.frame(row.names = rownames(moduleTraitCor),\"module\"=gsub(\"ME\",\"\",rownames(moduleTraitCor)))\n",
    "row_anno\n",
    "row_color<-row_anno$module\n",
    "names(row_color)<-row_anno$module\n",
    "col_anno<-data.frame(row.names = colnames(moduleTraitCor),\"domain\"=c(rep(\"DH\",4),rep(\"MG\",4),rep(\"VH\",4),rep(\"WM\",4)),\n",
    "                    \"time\"=c(rep(c(\"sham\",\"3h\",\"24h\",\"72h\"),4)))\n",
    "col_anno\n",
    "domain_col<-c('#BC3C29A8','#0072B5A8','#E18727A8','#20854EA8')\n",
    "names(domain_col)<-c(\"DH\", \"MG\", \"VH\", \"WM\")\n",
    "time_col<-c('#374E55FF','#DF8F44FF','#00A1D5FF','#B24745FF')\n",
    "names(time_col)<-c(\"sham\",\"3h\",\"24h\",\"72h\")\n",
    "col_list<-list(module=row_color,domain=domain_col,time=time_col)"
   ]
  },
  {
   "cell_type": "code",
   "execution_count": 124,
   "metadata": {
    "vscode": {
     "languageId": "r"
    }
   },
   "outputs": [],
   "source": [
    "gap_col<-c(4,8,12)"
   ]
  },
  {
   "cell_type": "code",
   "execution_count": null,
   "metadata": {
    "collapsed": true,
    "vscode": {
     "languageId": "r"
    }
   },
   "outputs": [],
   "source": [
    "p<-pheatmap(moduleTraitCor,#col=colorRampPalette(rev(brewer.pal(10,\"Spectral\")))(50),\n",
    "         scale=\"none\",\n",
    "          cluster_cols=F,cluster_rows=F,#treeheight_row=10,cutree_rows=7,\n",
    "         annotation_row=row_anno,\n",
    "         annotation_col=col_anno,\n",
    "         border_color=\"NA\",\n",
    "         fontsize=5,\n",
    "         annotation_colors=col_list,\n",
    "         legend=T,gaps_col=gap_col,\n",
    "         #cellwidth=25,cellheight=25,\n",
    "         show_rownames=T)\n",
    "save_pheatmap_pdf(p,filename = \"module-time_domain relationships.pheatmap.pdf\")"
   ]
  },
  {
   "cell_type": "code",
   "execution_count": null,
   "metadata": {
    "collapsed": true,
    "vscode": {
     "languageId": "r"
    }
   },
   "outputs": [],
   "source": [
    "### merge time into unique domain dattrait\n",
    "mMEs<-MEs\n",
    "mMEs$domain<-factor(str_sub(rownames(mMEs),-2,-1),levels=c(\"WM\",\"MG\",\"DH\",\"VH\"))\n",
    "test<-as.matrix(mMEs[,-which(colnames(mMEs)==\"domain\")])\n",
    "head(test)\n",
    "group<-mMEs$domain\n",
    "names(group)<-rownames(mMEs)\n",
    "head(group)"
   ]
  },
  {
   "cell_type": "code",
   "execution_count": null,
   "metadata": {
    "collapsed": true,
    "vscode": {
     "languageId": "r"
    }
   },
   "outputs": [],
   "source": [
    "mergedMEs<-as.data.frame(rowsum(test,group = group))\n",
    "head(mergedMEs)"
   ]
  },
  {
   "cell_type": "code",
   "execution_count": null,
   "metadata": {
    "collapsed": true,
    "vscode": {
     "languageId": "r"
    }
   },
   "outputs": [],
   "source": [
    "dattrait2<-data.frame(row.names = rownames(mergedMEs))\n",
    "j=1\n",
    "for(i in rownames(mergedMEs)){\n",
    "    dattrait2[,i]<-c(rep(0,j-1),1,rep(0,nrow(dattrait2)-j))\n",
    "    j=j+1\n",
    "}\n",
    "dattrait2"
   ]
  },
  {
   "cell_type": "code",
   "execution_count": 145,
   "metadata": {
    "vscode": {
     "languageId": "r"
    }
   },
   "outputs": [],
   "source": [
    "moduleTraitCor = cor(mergedMEs, dattrait2, use = \"p\")\n",
    "moduleTraitPvalue = corPvalueStudent(moduleTraitCor, 4)"
   ]
  },
  {
   "cell_type": "code",
   "execution_count": null,
   "metadata": {
    "vscode": {
     "languageId": "r"
    }
   },
   "outputs": [],
   "source": [
    "# Will display correlations and their p-values\n",
    "pdf(\"module-domain relationships.withoutText.pdf\",width=8,height=30)\n",
    "textMatrix =  paste(signif(moduleTraitCor, 2), \"\\n(\",\n",
    "                           signif(moduleTraitPvalue, 1), \")\", sep = \"\");\n",
    "dim(textMatrix) = dim(moduleTraitCor)\n",
    "par(mar = c(13,12, 3, 3));\n",
    "# Display the correlation values within a heatmap plot\n",
    "options(repr.plot.width=8,repr.plot.height=30)\n",
    "labeledHeatmap(Matrix = moduleTraitCor,\n",
    "               xLabels = names(dattrait2),\n",
    "               yLabels = names(mergedMEs),\n",
    "               ySymbols = names(mergedMEs),\n",
    "               colorLabels = FALSE,\n",
    "               colors = blueWhiteRed(50),\n",
    "               #textMatrix = textMatrix,\n",
    "               setStdMargins = FALSE,\n",
    "               cex.text = 1.5,\n",
    "               zlim = c(-1,1),\n",
    "               plotLegend=T,\n",
    "               main = paste(\"Module-trait relationships\"))\n",
    "dev.off()"
   ]
  },
  {
   "cell_type": "markdown",
   "metadata": {},
   "source": [
    "### export network to cytoscape"
   ]
  },
  {
   "cell_type": "code",
   "execution_count": null,
   "metadata": {
    "collapsed": true,
    "vscode": {
     "languageId": "r"
    }
   },
   "outputs": [],
   "source": [
    "df<-WGCNA.modules.full.gene.list\n",
    "df<-df[!df$module==\"grey\",]\n",
    "head(df)\n",
    "unique(df$module)"
   ]
  },
  {
   "cell_type": "code",
   "execution_count": null,
   "metadata": {
    "vscode": {
     "languageId": "r"
    }
   },
   "outputs": [],
   "source": [
    "probes=colnames(datexpr)\n",
    "head(probes)\n",
    "length(probes)"
   ]
  },
  {
   "cell_type": "code",
   "execution_count": 20,
   "metadata": {
    "vscode": {
     "languageId": "r"
    }
   },
   "outputs": [],
   "source": [
    "#select modules\n",
    "modules=unique(df$module)\n",
    "\n",
    "#select modules probes\n",
    "#inModule=is.finite(match(mergedColors,modules))\n",
    "#head(inModule)\n",
    "#table(inModule)"
   ]
  },
  {
   "cell_type": "code",
   "execution_count": 157,
   "metadata": {
    "vscode": {
     "languageId": "r"
    }
   },
   "outputs": [],
   "source": [
    "### export module one by one\n",
    "sf<-\"cytoscape/\"\n",
    "if(!dir.exists(sf))\n",
    "    dir.create(sf)\n",
    "\n",
    "for(i in 1:length(modules)){\n",
    "    module=modules[i]\n",
    "    inModule=(mergedColors==module)#is.finite(match(dynamicColors,i))\n",
    "    head(inModule)\n",
    "    modGenes=probes[inModule]\n",
    "    length(modGenes)\n",
    "    # select the corresponding Topological Overlap\n",
    "    modTOM=TOM[inModule,inModule]\n",
    "    dim(modTOM)\n",
    "    dimnames(modTOM)=list(modGenes,modGenes)\n",
    "    modTOM[1:5,1:5]\n",
    "    # Export the nerwork into edge and node list files Cytoscape can read\n",
    "    cyt=exportNetworkToCytoscape(modTOM,\n",
    "                            edgeFile=paste(sf,\"CytoscapeInput-edges-\",paste(module,collapse = \"-\"),\".txt\",sep = \"\"),\n",
    "                            nodeFile=paste(sf,\"CytoscapeInput-nodes-\",paste(module,collapse = \"-\"),\".txt\",sep = \"\"),\n",
    "                            weighted=TRUE,\n",
    "                            threshold=0.02,\n",
    "                            nodeNames=modGenes,\n",
    "                            altNodeNames=modGenes,\n",
    "                            nodeAttr=dynamicColors[inModule])\n",
    "    top100<-cyt$edgeData %>% top_n(.,wt=weight,n=100)\n",
    "    write.csv(top100,paste(sf,\"CytoscapeInput-edges-\",paste(module,collapse = \"-\"),\"wt.top100.csv\",sep = \"\"),row.names=F,quote=F)\n",
    "    top50<-cyt$edgeData %>% top_n(.,wt=weight,n=50)\n",
    "    write.csv(top50,paste(sf,\"CytoscapeInput-edges-\",paste(module,collapse = \"-\"),\"wt.top50.csv\",sep = \"\"),row.names=F,quote=F)\n",
    "}\n"
   ]
  },
  {
   "cell_type": "code",
   "execution_count": null,
   "metadata": {
    "collapsed": true,
    "vscode": {
     "languageId": "r"
    }
   },
   "outputs": [],
   "source": [
    "### adjust cyan module(remove Rpl*, Rps* related genes)\n",
    "module=\"cyan\"\n",
    "    inModule=which(WGCNA.modules.full.gene.list$module==module)#is.finite(match(dynamicColors,i))\n",
    "    head(inModule)\n",
    "    modGenes=probes[inModule]\n",
    "    length(modGenes)\n",
    "    # select the corresponding Topological Overlap\n",
    "    modTOM=TOM[inModule,inModule]\n",
    "    dim(modTOM)\n",
    "    dimnames(modTOM)=list(modGenes,modGenes)\n",
    "    modTOM[1:5,1:5]    "
   ]
  },
  {
   "cell_type": "code",
   "execution_count": null,
   "metadata": {
    "collapsed": true,
    "vscode": {
     "languageId": "r"
    }
   },
   "outputs": [],
   "source": [
    "modTOM<-modTOM[!grepl(\"Rpl\",rownames(modTOM)),!grepl(\"Rpl\",rownames(modTOM))]\n",
    "dim(modTOM)\n",
    "head(modTOM)"
   ]
  },
  {
   "cell_type": "code",
   "execution_count": null,
   "metadata": {
    "collapsed": true,
    "vscode": {
     "languageId": "r"
    }
   },
   "outputs": [],
   "source": [
    "modTOM<-modTOM[!grepl(\"Rps\",rownames(modTOM)),!grepl(\"Rps\",rownames(modTOM))]\n",
    "dim(modTOM)\n",
    "head(modTOM)"
   ]
  },
  {
   "cell_type": "code",
   "execution_count": 51,
   "metadata": {
    "vscode": {
     "languageId": "r"
    }
   },
   "outputs": [],
   "source": [
    "modGenes=rownames(modTOM)"
   ]
  },
  {
   "cell_type": "code",
   "execution_count": 52,
   "metadata": {
    "vscode": {
     "languageId": "r"
    }
   },
   "outputs": [],
   "source": [
    "# Export the nerwork into edge and node list files Cytoscape can read\n",
    "cyt=exportNetworkToCytoscape(modTOM,\n",
    "                            edgeFile=paste(\"cytoscape/\",\"CytoscapeInput-edges-\",paste(module,collapse = \"-\"),\".txt\",sep = \"\"),\n",
    "                            nodeFile=paste(\"cytoscape/\",\"CytoscapeInput-nodes-\",paste(module,collapse = \"-\"),\".txt\",sep = \"\"),\n",
    "                            weighted=TRUE,\n",
    "                            threshold=0.02,\n",
    "                            nodeNames=modGenes,\n",
    "                            altNodeNames=modGenes#,\n",
    "                            #nodeAttr=WGCNA.modules.full.gene.list$module[inModule]\n",
    "                            )\n",
    "\n",
    "    top50<-cyt$edgeData %>% top_n(.,wt=weight,n=50)"
   ]
  },
  {
   "cell_type": "code",
   "execution_count": 54,
   "metadata": {
    "vscode": {
     "languageId": "r"
    }
   },
   "outputs": [],
   "source": [
    "write.csv(top50,paste(\"cytoscape/\",\"CytoscapeInput-edges-\",paste(\"cyan\",collapse = \"-\"),\"wt.top50_rmRp.220812.csv\",sep = \"\"),row.names=F,quote=F)"
   ]
  },
  {
   "attachments": {},
   "cell_type": "markdown",
   "metadata": {},
   "source": [
    "### module seurat score correlation with trait"
   ]
  },
  {
   "cell_type": "code",
   "execution_count": null,
   "metadata": {
    "collapsed": true,
    "vscode": {
     "languageId": "r"
    }
   },
   "outputs": [],
   "source": [
    "module_score<-read.csv(\"WT.domain.thr100.sp18.hclust_average.min30.deep2.h015.33modules.SCT.score.ex_grey.csv\")\n",
    "rownames(module_score)<-module_score[,1]\n",
    "module_score<-module_score[,-1]\n",
    "head(module_score)"
   ]
  },
  {
   "cell_type": "code",
   "execution_count": null,
   "metadata": {
    "collapsed": true,
    "vscode": {
     "languageId": "r"
    }
   },
   "outputs": [],
   "source": [
    "meta<-read.csv(\"/home/jovyan/zxli_SCI/result/Seurat/reg.CC/WT_replace_v2/res02_220310/WT.SCT.pc20.k50.res02.meta.data.csv\")\n",
    "rownames(meta)<-meta[,1]\n",
    "head(meta)"
   ]
  },
  {
   "cell_type": "code",
   "execution_count": null,
   "metadata": {
    "collapsed": true,
    "vscode": {
     "languageId": "r"
    }
   },
   "outputs": [],
   "source": [
    "colnames(meta)\n",
    "unique(meta$time)\n",
    "unique(meta$domain_res02)\n",
    "table(rownames(module_score)==rownames(meta))"
   ]
  },
  {
   "cell_type": "markdown",
   "metadata": {},
   "source": [
    "1. time_domain correlation and pval"
   ]
  },
  {
   "cell_type": "code",
   "execution_count": null,
   "metadata": {
    "collapsed": true,
    "vscode": {
     "languageId": "r"
    }
   },
   "outputs": [],
   "source": [
    "mod_dom_mean<-module_score\n",
    "mod_dom_mean$time_domain<-paste0(meta$time,\"_\",meta$domain_res02)\n",
    "mod_dom_mean<-aggregate(mod_dom_mean[,-which(colnames(mod_dom_mean)==\"time_domain\")],list(mod_dom_mean$time_domain),mean)\n",
    "rownames(mod_dom_mean)<-mod_dom_mean[,1]\n",
    "mod_dom_mean<-mod_dom_mean[,-1]\n",
    "head(mod_dom_mean)\n",
    "\n",
    "trait<-data.frame(row.names = rownames(mod_dom_mean))\n",
    "for(i in rownames(trait)){\n",
    "    #trait[,i]<-0\n",
    "    for(j in 1:nrow(trait)){\n",
    "        trait[j,i]<-ifelse(rownames(trait)[j]==i,1,0)\n",
    "    }\n",
    "}\n",
    "trait\n",
    "\n",
    "c<-cor(mod_dom_mean,trait)\n",
    "head(c)\n",
    "pval<-corPvalueStudent(c,16)\n",
    "pval\n",
    "c_long<-melt(c)\n",
    "c_long$Var2<-factor(c_long$Var2,\n",
    "                    levels = c('WT_sham_WM','WT_3h_WM','WT_24h_WM','WT_72h_WM',\n",
    "        'WT_sham_MG','WT_3h_MG','WT_24h_MG', 'WT_72h_MG',\n",
    "        'WT_sham_DH','WT_3h_DH','WT_24h_DH', 'WT_72h_DH',\n",
    "        'WT_sham_VH','WT_3h_VH','WT_24h_VH', 'WT_72h_VH')\n",
    "                    #c('WT_sham_DH','WT_sham_MG','WT_sham_VH','WT_sham_WM',\n",
    "                             #  'WT_3h_DH','WT_3h_MG','WT_3h_VH','WT_3h_WM',\n",
    "                             #  'WT_24h_DH','WT_24h_MG','WT_24h_VH','WT_24h_WM',\n",
    "                             #  'WT_72h_DH','WT_72h_MG','WT_72h_VH','WT_72h_WM'\n",
    "                             # )\n",
    "                   )\n",
    "head(c_long)\n",
    "pval_long<-melt(pval)\n",
    "pval_long$c<-c_long$value\n",
    "pval_long$l<-paste0(\"(\",as.character(round(pval_long$c,2)),\")\",\"\\n\",as.character(round(pval_long$value,2)))\n",
    "head(pval_long)"
   ]
  },
  {
   "cell_type": "code",
   "execution_count": 8,
   "metadata": {
    "vscode": {
     "languageId": "r"
    }
   },
   "outputs": [],
   "source": [
    "c<-c[,c('WT_sham_WM','WT_3h_WM','WT_24h_WM','WT_72h_WM',\n",
    "        'WT_sham_MG','WT_3h_MG','WT_24h_MG', 'WT_72h_MG',\n",
    "        'WT_sham_DH','WT_3h_DH','WT_24h_DH', 'WT_72h_DH',\n",
    "        'WT_sham_VH','WT_3h_VH','WT_24h_VH', 'WT_72h_VH'\n",
    "        )]"
   ]
  },
  {
   "cell_type": "code",
   "execution_count": 9,
   "metadata": {
    "vscode": {
     "languageId": "r"
    }
   },
   "outputs": [],
   "source": [
    "library(reshape2)"
   ]
  },
  {
   "cell_type": "code",
   "execution_count": null,
   "metadata": {
    "collapsed": true,
    "vscode": {
     "languageId": "r"
    }
   },
   "outputs": [],
   "source": [
    "head(c)\n",
    "c_df<-as.data.frame(c)\n",
    "c_df$module<-rownames(c_df)\n",
    "c_df<-melt(c_df)\n",
    "head(c_df)"
   ]
  },
  {
   "cell_type": "code",
   "execution_count": null,
   "metadata": {
    "collapsed": true,
    "vscode": {
     "languageId": "r"
    }
   },
   "outputs": [],
   "source": [
    "df1 = c_df %>% group_by(.,variable) %>% top_n(.,5,value)\n",
    "head(df1)\n",
    "length(unique(df1$module))"
   ]
  },
  {
   "cell_type": "code",
   "execution_count": null,
   "metadata": {
    "collapsed": true,
    "vscode": {
     "languageId": "r"
    }
   },
   "outputs": [],
   "source": [
    "c_ad<-c[rev(unique(df1$module)),]\n",
    "head(c_ad)"
   ]
  },
  {
   "cell_type": "code",
   "execution_count": null,
   "metadata": {
    "collapsed": true,
    "vscode": {
     "languageId": "r"
    }
   },
   "outputs": [],
   "source": [
    "row_anno<-data.frame(row.names = rownames(c_ad),\"module\"=rownames(c_ad))\n",
    "row_anno\n",
    "row_color<-row_anno$module\n",
    "names(row_color)<-row_anno$module\n",
    "col_anno<-data.frame(row.names = colnames(c_ad),\"domain\"=c(rep(\"WM\",4),rep(\"MG\",4),rep(\"DH\",4),rep(\"VH\",4)),\n",
    "                    \"time\"=c(rep(c(\"sham\",\"3h\",\"24h\",\"72h\"),4)))\n",
    "col_anno\n",
    "domain_col<-c('#20854EA8','#0072B5A8','#BC3C29A8','#E18727A8')\n",
    "names(domain_col)<-c(\"WM\", \"MG\", \"DH\", \"VH\")\n",
    "time_col<-c('#374E55FF','#DF8F44FF','#00A1D5FF','#B24745FF')\n",
    "names(time_col)<-c(\"sham\",\"3h\",\"24h\",\"72h\")\n",
    "col_list<-list(module=row_color,domain=domain_col,time=time_col)"
   ]
  },
  {
   "cell_type": "code",
   "execution_count": 16,
   "metadata": {
    "vscode": {
     "languageId": "r"
    }
   },
   "outputs": [],
   "source": [
    "gap_col<-c(4,8,12)"
   ]
  },
  {
   "cell_type": "code",
   "execution_count": null,
   "metadata": {
    "collapsed": true,
    "vscode": {
     "languageId": "r"
    }
   },
   "outputs": [],
   "source": [
    "#pdf(\"module-time_domain relationships.pheatmap_220530.pdf\")\n",
    "options(repr.plot.width=8,repr.plot.height=12)\n",
    "p<-pheatmap(c_ad,\n",
    "            col=colorRampPalette(colors = c('#0000ff',\n",
    "                                            #'#440154FF',\n",
    "                                            '#fffefe',\n",
    "                                            '#ff0000'\n",
    "                                            #'#FDE725FF'\n",
    "            ))(50),\n",
    "         scale=\"none\",\n",
    "         cluster_cols=F,cluster_rows=F,#treeheight_row=10,cutree_rows=7,\n",
    "         annotation_row=row_anno,\n",
    "         annotation_col=col_anno,\n",
    "         border_color=\"NA\",\n",
    "         fontsize=6,\n",
    "         annotation_colors=col_list,\n",
    "         legend=T,gaps_col=gap_col,\n",
    "         #cellwidth=25,cellheight=25,\n",
    "         show_rownames=T)\n",
    "save_pheatmap_pdf(p,filename = \"module-time_domain relationships.pheatmap_220721.pdf\",width = 8,height = 12)\n",
    "#dev.off()"
   ]
  },
  {
   "cell_type": "code",
   "execution_count": 34,
   "metadata": {
    "vscode": {
     "languageId": "r"
    }
   },
   "outputs": [],
   "source": [
    "temp<-as.matrix(as.data.frame(c_ad)[c(\"antiquewhite1\",\"antiquewhite2\",\"bisque4\",\"blueviolet\",\"brown2\",\"brown4\",\"chocolate4\",\n",
    "      \"coral\",\"cyan\",\"darkolivegreen\",\"darkorange\",\"darkred\",\"darkseagreen4\",\"darkturquoise\",\n",
    "       \"firebrick4\",\"indianred3\",\"lavenderblush\",\"lightcoral\",\"lightslateblue\",\"lightsteelblue1\",\n",
    "       \"mediumpurple\",\"mediumpurple3\",\"mediumpurple4\",\"mistyrose\",\"navajowhite\",\"palevioletred1\",\n",
    "      \"palevioletred2\",\"palevioletred3\",\"pink4\",\"purple\",\"skyblue1\",\"skyblue4\",\"thistle4\"),])"
   ]
  },
  {
   "cell_type": "code",
   "execution_count": null,
   "metadata": {
    "collapsed": true,
    "vscode": {
     "languageId": "r"
    }
   },
   "outputs": [],
   "source": [
    "row_anno<-data.frame(row.names = rownames(temp),\"module\"=rownames(temp))\n",
    "row_anno\n",
    "row_color<-row_anno$module\n",
    "names(row_color)<-row_anno$module\n",
    "col_anno<-data.frame(row.names = colnames(c_ad),\"domain\"=c(rep(\"WM\",4),rep(\"MG\",4),rep(\"DH\",4),rep(\"VH\",4)),\n",
    "                    \"time\"=c(rep(c(\"sham\",\"3h\",\"24h\",\"72h\"),4)))\n",
    "col_anno\n",
    "domain_col<-c('#20854EA8','#0072B5A8','#BC3C29A8','#E18727A8')\n",
    "names(domain_col)<-c(\"WM\", \"MG\", \"DH\", \"VH\")\n",
    "time_col<-c('#374E55FF','#DF8F44FF','#00A1D5FF','#B24745FF')\n",
    "names(time_col)<-c(\"sham\",\"3h\",\"24h\",\"72h\")\n",
    "col_list<-list(module=row_color,domain=domain_col,time=time_col)"
   ]
  },
  {
   "cell_type": "code",
   "execution_count": null,
   "metadata": {
    "collapsed": true,
    "vscode": {
     "languageId": "r"
    }
   },
   "outputs": [],
   "source": [
    "#pdf(\"module-time_domain relationships.pheatmap_220530.pdf\")\n",
    "options(repr.plot.width=8,repr.plot.height=12)\n",
    "p<-pheatmap(temp,\n",
    "            col=colorRampPalette(colors = c('#0000ff',\n",
    "                                            #'#440154FF',\n",
    "                                            '#fffefe',\n",
    "                                            '#ff0000'\n",
    "                                            #'#FDE725FF'\n",
    "            ))(50),\n",
    "         scale=\"none\",\n",
    "         cluster_cols=F,cluster_rows=F,#treeheight_row=10,cutree_rows=7,\n",
    "         annotation_row=row_anno,\n",
    "         annotation_col=col_anno,\n",
    "         border_color=\"NA\",\n",
    "         fontsize=6,\n",
    "         annotation_colors=col_list,\n",
    "         legend=T,gaps_col=gap_col,\n",
    "         #cellwidth=25,cellheight=25,\n",
    "         show_rownames=T)\n",
    "save_pheatmap_pdf(p,filename = \"module-time_domain relationships.pheatmap_220722.pdf\",width = 8,height = 12)\n",
    "#dev.off()"
   ]
  },
  {
   "cell_type": "markdown",
   "metadata": {},
   "source": [
    "#### module go term -220804"
   ]
  },
  {
   "cell_type": "code",
   "execution_count": null,
   "metadata": {
    "vscode": {
     "languageId": "r"
    }
   },
   "outputs": [],
   "source": [
    "modgene<-WGCNA.modules.full.gene.list[WGCNA.modules.full.gene.list$module!=\"grey\",]\n",
    "length(unique(modgene$module))"
   ]
  },
  {
   "cell_type": "code",
   "execution_count": null,
   "metadata": {
    "collapsed": true,
    "vscode": {
     "languageId": "r"
    }
   },
   "outputs": [],
   "source": [
    "library(clusterProfiler)\n",
    "options(connectionObserver=NULL)\n",
    "library(org.Mm.eg.db)\n",
    "library(ggplot2)"
   ]
  },
  {
   "cell_type": "code",
   "execution_count": null,
   "metadata": {
    "vscode": {
     "languageId": "r"
    }
   },
   "outputs": [],
   "source": [
    "backid<-read.table(\"/home/jovyan/zxli_SCI/result/Seurat/reg.CC/WT_replace_v2/WT.GOterm.SCT.backgeneids.txt\")\n",
    "backid<-as.character(backid$x)\n",
    "head(backid)"
   ]
  },
  {
   "cell_type": "code",
   "execution_count": null,
   "metadata": {
    "collapsed": true,
    "vscode": {
     "languageId": "r"
    }
   },
   "outputs": [],
   "source": [
    "grlabs<-split(modgene$gene,modgene$module)\n",
    "gcSample<-lapply(grlabs,function(gr) as.numeric(bitr(gr,fromType=\"SYMBOL\",toType = \"ENTREZID\",OrgDb=\"org.Mm.eg.db\")$ENTREZID))\n",
    "pvalueCutoff=0.1\n",
    "qvalueCutoff=0.1\n",
    "xx.mus.go<-compareCluster(gcSample,OrgDb=\"org.Mm.eg.db\",fun=\"enrichGO\",universe=backid,\n",
    "                          pvalueCutoff=pvalueCutoff,qvalueCutoff=qvalueCutoff,\n",
    "                         ont=\"MF\",readable=T)\n",
    "saveRDS(xx.mus.go,\"thr100.sp18.min30.deep2.h015.33modules.module.gene.go.pqval01_MF.220805.rds\")"
   ]
  },
  {
   "cell_type": "code",
   "execution_count": 4,
   "metadata": {
    "vscode": {
     "languageId": "r"
    }
   },
   "outputs": [],
   "source": [
    "xx.mus.go<-readRDS(\"thr100.sp18.min30.deep2.h015.33modules.module.gene.go.pqval01_220804.rds\")"
   ]
  },
  {
   "cell_type": "code",
   "execution_count": null,
   "metadata": {
    "collapsed": true,
    "vscode": {
     "languageId": "r"
    }
   },
   "outputs": [],
   "source": [
    "df<-xx.mus.go@compareClusterResult\n",
    "#head(df)\n",
    "dim(df)\n",
    "unique(df$Cluster)\n",
    "df<-df %>% filter(p.adjust<0.05 & qvalue<0.05)\n",
    "table(df$Cluster)"
   ]
  },
  {
   "cell_type": "code",
   "execution_count": 52,
   "metadata": {
    "vscode": {
     "languageId": "r"
    }
   },
   "outputs": [],
   "source": [
    "write.csv(df,\"25module.pqval005.ALL.Goterm.dataframe_220805.csv\")"
   ]
  },
  {
   "cell_type": "code",
   "execution_count": 11,
   "metadata": {
    "vscode": {
     "languageId": "r"
    }
   },
   "outputs": [],
   "source": [
    "library(dplyr)\n",
    "df1<-df %>% filter(p.adjust<0.05 & qvalue<0.05) %>% group_by(.,Cluster) %>% top_n(.,-3,p.adjust)%>% top_n(.,3,Count) # order by cluster and select each top10 terms\n",
    "df1$Description<-factor(df1$Description,levels=rev(unique(df1$Description))) #order Description by cluster "
   ]
  },
  {
   "cell_type": "code",
   "execution_count": null,
   "metadata": {
    "collapsed": true,
    "vscode": {
     "languageId": "r"
    }
   },
   "outputs": [],
   "source": [
    "col1<-unique(as.character(df1$Cluster))\n",
    "col1\n",
    "col_darken<-darken(col1,0.15,space = \"HLS\")"
   ]
  },
  {
   "cell_type": "code",
   "execution_count": null,
   "metadata": {
    "collapsed": true,
    "vscode": {
     "languageId": "r"
    }
   },
   "outputs": [],
   "source": [
    "### barplot\n",
    "options(repr.plot.width=12,repr.plot.height=15)\n",
    "ggplot(df1,aes(x=Description,y=-log10(p.adjust),\n",
    "              fill=Cluster))+\n",
    "    geom_bar(stat=\"identity\",position = \"dodge\")+\n",
    "    coord_flip()+\n",
    "    scale_fill_manual(values = alpha(col_darken,0.88))+\n",
    "    theme_bw()+\n",
    "    #geom_text(aes(label=Count),hjust=1,size=3.5,color=\"white\")+\n",
    "    theme(axis.text.y.left = element_text(size = 10),panel.background = element_blank(),axis.title.y = element_blank(),\n",
    "          panel.grid.major = element_blank(),panel.grid.minor=element_blank())\n",
    "ggsave(\"25module.pqval005.top3.Goterm.barplot_220810.png\",width = 12,height = 15,dpi = 300)\n",
    "#text(p,0.1,df1$Count,cex = 1)"
   ]
  },
  {
   "cell_type": "markdown",
   "metadata": {},
   "source": [
    "#### representative three modules' manually selected GO terms -220812"
   ]
  },
  {
   "cell_type": "code",
   "execution_count": null,
   "metadata": {
    "vscode": {
     "languageId": "r"
    }
   },
   "outputs": [],
   "source": [
    "# cyan(9)\n",
    "temp<-df[df$Cluster==\"cyan\" & df$Description %in% c(\"positive regulation of angiogenesis\",\"response to wounding\",\n",
    "                                                    #\"myeloid leukocyte migration\",\n",
    "                                                    \"leukocyte chemotaxis\",\"response to interferon-gamma\"),]\n",
    "temp<-temp[order(temp$p.adjust),]\n",
    "temp$Description<-factor(temp$Description,levels = rev(unique(temp$Description)))\n",
    "temp"
   ]
  },
  {
   "cell_type": "code",
   "execution_count": null,
   "metadata": {
    "vscode": {
     "languageId": "r"
    }
   },
   "outputs": [],
   "source": [
    "options(repr.plot.width=6,repr.plot.height=3)\n",
    "ggplot(temp,aes(x=Description,y=-log10(p.adjust),\n",
    "              fill=Cluster))+\n",
    "    geom_bar(stat=\"identity\",position = \"dodge\")+\n",
    "    coord_flip()+\n",
    "    scale_fill_manual(values = alpha(darken(\"cyan\",0.15,space = \"HLS\"),0.88))+\n",
    "    theme_bw()+\n",
    "    #geom_text(aes(label=Count),hjust=1,size=3.5,color=\"white\")+\n",
    "    theme(axis.text.y.left = element_text(size = 10),panel.background = element_blank(),axis.title.y = element_blank(),\n",
    "          panel.grid.major = element_blank(),panel.grid.minor=element_blank())\n",
    "ggsave(\"cyan.selected.Goterm.barplot_220822.png\",width = 6,height = 3,dpi = 300)\n",
    "#text(p,0.1,df1$Count,cex = 1)"
   ]
  },
  {
   "cell_type": "code",
   "execution_count": null,
   "metadata": {
    "vscode": {
     "languageId": "r"
    }
   },
   "outputs": [],
   "source": [
    "# darkseagreen4(13)\n",
    "temp<-df[df$Cluster==\"darkseagreen4\" & df$Description %in% c(\"ERK1 and ERK2 cascade\",#\"regulation of tumor necrosis factor production\",\n",
    "                                                    \"response to lipopolysaccharide\",\n",
    "                                                    \"cellular response to interleukin-1\",\"tumor necrosis factor production\"),]\n",
    "temp<-temp[order(temp$p.adjust),]\n",
    "temp$Description<-factor(temp$Description,levels = rev(unique(temp$Description)))\n",
    "temp"
   ]
  },
  {
   "cell_type": "code",
   "execution_count": null,
   "metadata": {
    "vscode": {
     "languageId": "r"
    }
   },
   "outputs": [],
   "source": [
    "options(repr.plot.width=6,repr.plot.height=3)\n",
    "ggplot(temp,aes(x=Description,y=-log10(p.adjust),\n",
    "              fill=Cluster))+\n",
    "    geom_bar(stat=\"identity\",position = \"dodge\")+\n",
    "    coord_flip()+\n",
    "    scale_fill_manual(values = alpha(darken(\"darkseagreen4\",0.15,space = \"HLS\"),0.88))+\n",
    "    theme_bw()+\n",
    "    #geom_text(aes(label=Count),hjust=1,size=3.5,color=\"white\")+\n",
    "    theme(axis.text.y.left = element_text(size = 10),panel.background = element_blank(),axis.title.y = element_blank(),\n",
    "          panel.grid.major = element_blank(),panel.grid.minor=element_blank())\n",
    "ggsave(\"darkseagreen4.selected.Goterm.barplot_220822.png\",width = 6,height = 3,dpi = 300)\n",
    "#text(p,0.1,df1$Count,cex = 1)"
   ]
  },
  {
   "cell_type": "code",
   "execution_count": null,
   "metadata": {
    "vscode": {
     "languageId": "r"
    }
   },
   "outputs": [],
   "source": [
    "# darkseagreen4(13)\n",
    "temp<-df[df$Cluster==\"darkorange\" & df$Description %in% c(\"synapse organization\",#\"regulation of tumor necrosis factor production\",\n",
    "                                                    \"oxidative phosphorylation\",\n",
    "                                                    \"synaptic vesicle cycle\",\"neurotransmitter secretion\"),]\n",
    "temp<-temp[order(temp$p.adjust),]\n",
    "temp$Description<-factor(temp$Description,levels = rev(unique(temp$Description)))\n",
    "temp"
   ]
  },
  {
   "cell_type": "code",
   "execution_count": null,
   "metadata": {
    "vscode": {
     "languageId": "r"
    }
   },
   "outputs": [],
   "source": [
    "options(repr.plot.width=6,repr.plot.height=3)\n",
    "ggplot(temp,aes(x=Description,y=-log10(p.adjust),\n",
    "              fill=Cluster))+\n",
    "    geom_bar(stat=\"identity\",position = \"dodge\")+\n",
    "    coord_flip()+\n",
    "    scale_fill_manual(values = alpha(darken(\"darkorange\",0.15,space = \"HLS\"),0.88))+\n",
    "    theme_bw()+\n",
    "    #geom_text(aes(label=Count),hjust=1,size=3.5,color=\"white\")+\n",
    "    theme(axis.text.y.left = element_text(size = 10),panel.background = element_blank(),axis.title.y = element_blank(),\n",
    "          panel.grid.major = element_blank(),panel.grid.minor=element_blank())\n",
    "ggsave(\"darkorange.selected.Goterm.barplot_220822.png\",width = 6,height = 3,dpi = 300)\n",
    "#text(p,0.1,df1$Count,cex = 1)"
   ]
  }
 ],
 "metadata": {
  "kernelspec": {
   "display_name": "R",
   "language": "R",
   "name": "ir"
  },
  "language_info": {
   "codemirror_mode": "r",
   "file_extension": ".r",
   "mimetype": "text/x-r-source",
   "name": "R",
   "pygments_lexer": "r",
   "version": "4.1.0"
  }
 },
 "nbformat": 4,
 "nbformat_minor": 4
}
