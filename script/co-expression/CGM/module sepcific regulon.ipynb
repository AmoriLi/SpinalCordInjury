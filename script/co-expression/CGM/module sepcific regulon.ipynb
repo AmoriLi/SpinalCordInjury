{
 "cells": [
  {
   "cell_type": "code",
   "execution_count": null,
   "metadata": {
    "vscode": {
     "languageId": "r"
    }
   },
   "outputs": [],
   "source": [
    "wd<-\"/home/jovyan/zxli_SCI/result/WGCNA/WT.SCT.res02.domain_220311/topregulon_220411/\"\n",
    "if(!dir.exists(wd))\n",
    "    dir.create(wd)\n",
    "setwd(wd)\n",
    "getwd()"
   ]
  },
  {
   "cell_type": "code",
   "execution_count": null,
   "metadata": {
    "collapsed": true,
    "vscode": {
     "languageId": "r"
    }
   },
   "outputs": [],
   "source": [
    "library(KernSmooth)\n",
    "library(RColorBrewer)\n",
    "library(plotly)\n",
    "library(BiocParallel)\n",
    "library(grid)\n",
    "#library(ComplexHeatmap)\n",
    "library(data.table)\n",
    "library(dplyr)\n",
    "library(tidyverse)\n",
    "library(pheatmap)\n",
    "library(scales)"
   ]
  },
  {
   "cell_type": "code",
   "execution_count": 4,
   "metadata": {
    "vscode": {
     "languageId": "r"
    }
   },
   "outputs": [],
   "source": [
    "save_pheatmap_pdf <- function(x, filename, width=10, height=10) {\n",
    "   stopifnot(!missing(x))\n",
    "   stopifnot(!missing(filename))\n",
    "   pdf(filename, width=width, height=height)\n",
    "   grid::grid.newpage()\n",
    "   grid::grid.draw(x$gtable)\n",
    "   dev.off()\n",
    "}"
   ]
  },
  {
   "cell_type": "code",
   "execution_count": null,
   "metadata": {
    "vscode": {
     "languageId": "r"
    }
   },
   "outputs": [],
   "source": [
    "### create module gene"
   ]
  },
  {
   "cell_type": "code",
   "execution_count": null,
   "metadata": {
    "collapsed": true,
    "vscode": {
     "languageId": "r"
    }
   },
   "outputs": [],
   "source": [
    "modgene<-read.csv(\"../thr100.sp18.hclust_average.min30.deep2.h015.34modules.full.gene.list.csv\")#(\"min30.ch09.mh01/min30.cuth09.mergh01.modules.full.gene.list.csv\")#(\"WT.s4.modules.mergheight045.full.gene.list.csv\")#read.csv(\"WT.s4.hvg1w.modules.full.gene.list.csv\")\n",
    "rownames(modgene)<-modgene$gene\n",
    "dim(modgene)\n",
    "modgene<-modgene[!modgene$module==\"grey\",]\n",
    "#modgene<-modgene[,-which(colnames(modgene)%in%c(\"X\",\"gene\"))]\n",
    "head(modgene)\n",
    "dim(modgene)\n",
    "table(modgene$module)\n",
    "length(unique(modgene$module))"
   ]
  },
  {
   "cell_type": "code",
   "execution_count": null,
   "metadata": {
    "collapsed": true,
    "vscode": {
     "languageId": "r"
    }
   },
   "outputs": [],
   "source": [
    "auc<-read.csv(\"/home/jovyan/result/pyscenic/WT.merge.replace_v2/SCT/auc_mtx.csv\")\n",
    "auc[1:5,1:5]\n",
    "dim(auc)"
   ]
  },
  {
   "cell_type": "code",
   "execution_count": null,
   "metadata": {
    "collapsed": true,
    "vscode": {
     "languageId": "r"
    }
   },
   "outputs": [],
   "source": [
    "meta<-read.csv(\"/home/jovyan/result/Seurat/reg.CC/WT_replace_v2/res02_220310/WT.SCT.pc20.k50.res02.meta.data.csv\")\n",
    "rownames(meta)<-meta[,1]\n",
    "head(meta)"
   ]
  },
  {
   "cell_type": "code",
   "execution_count": 10,
   "metadata": {
    "vscode": {
     "languageId": "r"
    }
   },
   "outputs": [],
   "source": [
    "meta<-cbind(meta,auc)"
   ]
  },
  {
   "cell_type": "code",
   "execution_count": 11,
   "metadata": {
    "vscode": {
     "languageId": "r"
    }
   },
   "outputs": [],
   "source": [
    "write.csv(meta,\"WT.SCT.reg.pc20.k50.res02.auc.meta.csv\")"
   ]
  },
  {
   "cell_type": "code",
   "execution_count": null,
   "metadata": {
    "collapsed": true,
    "vscode": {
     "languageId": "r"
    }
   },
   "outputs": [],
   "source": [
    "meta<-read.csv(\"WT.SCT.reg.pc20.k50.res02.auc.meta.csv\")\n",
    "rownames(meta)<-meta[,1]"
   ]
  },
  {
   "cell_type": "code",
   "execution_count": null,
   "metadata": {
    "collapsed": true,
    "vscode": {
     "languageId": "r"
    }
   },
   "outputs": [],
   "source": [
    "mods<-split(modgene$gene,modgene$module)\n",
    "head(mods)"
   ]
  },
  {
   "cell_type": "code",
   "execution_count": null,
   "metadata": {
    "collapsed": true,
    "vscode": {
     "languageId": "r"
    }
   },
   "outputs": [],
   "source": [
    "regulon<-read.csv(\"/home/jovyan/result/pyscenic/WT.merge.replace_v2/SCT/regulons.csv\")\n",
    "head(regulon)"
   ]
  },
  {
   "cell_type": "code",
   "execution_count": null,
   "metadata": {
    "collapsed": true,
    "vscode": {
     "languageId": "r"
    }
   },
   "outputs": [],
   "source": [
    "rownames(regulon)<-regulon$tfs\n",
    "head(regulon)\n",
    "length(unique(regulon$motif))\n",
    "dim(regulon)\n",
    "length(unique(regulon$tfs))\n",
    "regulon$targets<-as.character(regulon$targets)"
   ]
  },
  {
   "cell_type": "code",
   "execution_count": null,
   "metadata": {
    "vscode": {
     "languageId": "r"
    }
   },
   "outputs": [],
   "source": [
    "# get regulon genes list\n",
    "regulon_list<-list()\n",
    "for(i in regulon$tfs){\n",
    "    regulon_list[[i]]<-c(i,unlist(strsplit(regulon[regulon$tfs==i,\"targets\"],\",\")))\n",
    "}\n",
    "length(regulon_list)"
   ]
  },
  {
   "cell_type": "code",
   "execution_count": 18,
   "metadata": {
    "vscode": {
     "languageId": "r"
    }
   },
   "outputs": [],
   "source": [
    "saveRDS(regulon_list,\"WT.regulon.list.rds\")"
   ]
  },
  {
   "cell_type": "code",
   "execution_count": 3,
   "metadata": {
    "vscode": {
     "languageId": "r"
    }
   },
   "outputs": [],
   "source": [
    "regulon_list<-readRDS(\"WT.regulon.list.rds\")"
   ]
  },
  {
   "cell_type": "code",
   "execution_count": null,
   "metadata": {
    "collapsed": true,
    "vscode": {
     "languageId": "r"
    }
   },
   "outputs": [],
   "source": [
    "regulon_list[[1]]\n",
    "head(regulon_list)"
   ]
  },
  {
   "cell_type": "code",
   "execution_count": null,
   "metadata": {
    "vscode": {
     "languageId": "r"
    }
   },
   "outputs": [],
   "source": [
    "r_genes<-unique(unlist(regulon_list))\n",
    "length(r_genes)"
   ]
  },
  {
   "cell_type": "code",
   "execution_count": null,
   "metadata": {
    "vscode": {
     "languageId": "r"
    }
   },
   "outputs": [],
   "source": [
    "### 220411:change background genes from all module genes to SCT genes\n",
    "##background genes\n",
    "backgenes<-readRDS(\"/home/jovyan/result/cellchat/time_domain_220325/WT.SCT.data.rds\")\n",
    "backgenes<-rownames(backgenes)\n",
    "head(backgenes)"
   ]
  },
  {
   "cell_type": "code",
   "execution_count": null,
   "metadata": {
    "vscode": {
     "languageId": "r"
    }
   },
   "outputs": [],
   "source": [
    "total_genes<-backgenes#unique(unlist(regulon_list))\n",
    "t_l<-length(total_genes)\n",
    "t_l"
   ]
  },
  {
   "cell_type": "code",
   "execution_count": null,
   "metadata": {
    "vscode": {
     "languageId": "r"
    }
   },
   "outputs": [],
   "source": [
    "### check if all module genes are contained in background genes\n",
    "intgenes<-intersect(r_genes,total_genes)\n",
    "length(intgenes)\n",
    "table(r_genes %in% total_genes)"
   ]
  },
  {
   "cell_type": "code",
   "execution_count": 1,
   "metadata": {
    "vscode": {
     "languageId": "r"
    }
   },
   "outputs": [],
   "source": [
    "### create hypergeometric dataframe for each module\n",
    "mod_regulon_df_list<-list()\n",
    "#inter_mod_reg_df<-data.frame(row.names = names(mods),module=names(mods))\n",
    "#c<-2\n",
    "f<-\"intersect_genes/\"\n",
    "if(!dir.exists(f))\n",
    "    dir.create(f)\n",
    "\n",
    "for(i in names(regulon_list)){\n",
    "    inter_list<-list()\n",
    "    #inter_mod_reg_df[,i]<-NA\n",
    "    r_genes<-regulon_list[[i]]\n",
    "    #r_genes<-intersect(r_genes,intgenes) ### filter regulon genes that not exist in all module gene background\n",
    "    k<-length(r_genes)\n",
    "    # find the module success gene number in target regulon,regulon number, remaining regulons size and module size\n",
    "    hyper_df <- data.frame(matrix(nrow=length(mods),ncol = 9),row.names = names(mods))\n",
    "    \n",
    "\n",
    "    colnames(hyper_df) <- c(\"q\",  #regulon in module\n",
    "                            \"m\",  #module size\n",
    "                            \"n\",  #regulon in background \n",
    "                            \"k\",  #regulon size\n",
    "                            \"p.val\",\n",
    "                            \"p.val.ad\",\n",
    "                            \"sig\",\n",
    "                            \"ratio\",\n",
    "                            \"score\")\n",
    "\n",
    "    for(j in names(mods)){\n",
    "        m_genes<-mods[[j]]\n",
    "        suc_genes<-intersect(m_genes,r_genes)\n",
    "        suc_genes_l<-length(suc_genes)\n",
    "        m<-length(m_genes)\n",
    "        n<-t_l-m\n",
    "        p<-round(phyper(suc_genes_l,m,n,k,lower.tail = F,log.p = F),4)\n",
    "        r<-round(suc_genes_l/k,4)\n",
    "        \n",
    "        if(suc_genes_l==0){\n",
    "            inter_list[[j]]<-\"\"\n",
    "        }else{\n",
    "            inter_list[[j]]<-c(suc_genes)\n",
    "        }\n",
    "        \n",
    "        \n",
    "        hyper_df[j,c(\"q\",\"m\",\"n\",\"k\",\"p.val\")]<-c(suc_genes_l,m,n,k,p)\n",
    "        hyper_df$ratio<-round(hyper_df$q/hyper_df$k,4) #calculate the regulon enriched ratio in each module\n",
    "        #hyper_df<-subset(hyper_df,ratio>0.2) #subset regulons that have 20% enrichment ratio in target modules\n",
    "    }\n",
    "    \n",
    "    saveRDS(inter_list,paste0(f,i,\".intersect_genes.in.modules.rds\"))\n",
    "    #inter_mod_reg_df<-as.data.frame(cbind(inter_mod_reg_df,inter_list))\n",
    "    #colnames(inter_mod_reg_df)[c]<-i\n",
    "    \n",
    "    hyper_df$p.val.ad<-round(p.adjust(hyper_df$p.val,\"bonferroni\"),4)\n",
    "    hyper_df$sig<-round((1-hyper_df$p.val.ad)/0.05,4)\n",
    "    hyper_df[hyper_df$p.val.ad>=0.01,\"sig\"]<-0\n",
    "    hyper_df$score<-hyper_df$sig*hyper_df$ratio\n",
    "    mod_regulon_df_list[[i]]<-hyper_df\n",
    "    #mod_regulon_df_list[[i]]$p.val.ad<-\n",
    "    #mod_regulon_df_list[[i]]$sig<-round(mod_regulon_df_list[[i]])\n",
    "    #dim(df)\n",
    "    #head(df)\n",
    "    #c<-c+1\n",
    "}\n"
   ]
  },
  {
   "cell_type": "code",
   "execution_count": null,
   "metadata": {
    "collapsed": true,
    "vscode": {
     "languageId": "r"
    }
   },
   "outputs": [],
   "source": [
    "### create module-regulon p.val matrix\n",
    "p_ma<-do.call(cbind.data.frame,mod_regulon_df_list)\n",
    "head(p_ma)\n",
    "p_ma<-as.matrix(p_ma[,grepl(\".sig\",colnames(p_ma))])\n",
    "colnames(p_ma)<-gsub(\".sig\",\"\",colnames(p_ma))\n",
    "p_ma<-t(p_ma)\n",
    "head(p_ma)"
   ]
  },
  {
   "cell_type": "code",
   "execution_count": null,
   "metadata": {
    "collapsed": true,
    "vscode": {
     "languageId": "r"
    }
   },
   "outputs": [],
   "source": [
    "# create ratio matrix\n",
    "r_ma<-do.call(cbind.data.frame,mod_regulon_df_list)\n",
    "head(r_ma)\n",
    "r_ma<-as.matrix(r_ma[,grepl(\"ratio\",colnames(r_ma))])\n",
    "colnames(r_ma)<-gsub(\".ratio\",\"\",colnames(r_ma))\n",
    "r_ma<-t(r_ma)\n",
    "head(r_ma)"
   ]
  },
  {
   "cell_type": "code",
   "execution_count": null,
   "metadata": {
    "collapsed": true,
    "vscode": {
     "languageId": "r"
    }
   },
   "outputs": [],
   "source": [
    "s_ma<-do.call(cbind.data.frame,mod_regulon_df_list)\n",
    "head(s_ma)\n",
    "s_ma<-as.matrix(s_ma[,grepl(\"score\",colnames(s_ma))])\n",
    "colnames(s_ma)<-gsub(\".score\",\"\",colnames(s_ma))\n",
    "s_ma<-t(s_ma)\n",
    "head(s_ma)"
   ]
  },
  {
   "cell_type": "code",
   "execution_count": 116,
   "metadata": {
    "vscode": {
     "languageId": "r"
    }
   },
   "outputs": [],
   "source": [
    "write.csv(p_ma,\"module_regulon.hyper.pad001.pval.ad_significance.matrix.csv\")\n",
    "write.csv(s_ma,\"module-regulon.hyper.pad001.pval-ratio.score.matrix.csv\")"
   ]
  },
  {
   "cell_type": "code",
   "execution_count": null,
   "metadata": {
    "collapsed": true,
    "vscode": {
     "languageId": "r"
    }
   },
   "outputs": [],
   "source": [
    "s_ma<-read.csv(\"module-regulon.hyper.pad001.pval-ratio.score.matrix.csv\")\n",
    "rownames(s_ma)<-s_ma[,1]\n",
    "s_ma<-s_ma[,-1]\n",
    "head(s_ma)"
   ]
  },
  {
   "cell_type": "code",
   "execution_count": 117,
   "metadata": {
    "vscode": {
     "languageId": "r"
    }
   },
   "outputs": [],
   "source": [
    "saveRDS(mod_regulon_df_list,\"module.regulon.hypergeomic.test.list.pad001.rds\")"
   ]
  },
  {
   "cell_type": "code",
   "execution_count": 5,
   "metadata": {
    "vscode": {
     "languageId": "r"
    }
   },
   "outputs": [],
   "source": [
    "mod_regulon_df_list<-readRDS(\"module.regulon.hypergeomic.test.list.rds\")"
   ]
  },
  {
   "cell_type": "code",
   "execution_count": null,
   "metadata": {
    "collapsed": true,
    "vscode": {
     "languageId": "r"
    }
   },
   "outputs": [],
   "source": [
    "df<-do.call(rbind.data.frame,mod_regulon_df_list)\n",
    "head(df)\n",
    "df$module<-str_split(rownames(df),\"\\\\.\",simplify = T)[,2]\n",
    "df$regulon<-str_split(rownames(df),\"\\\\.\",simplify = T)[,1]\n",
    "##df<-df[!df$module==\"\",]\n",
    "head(df)\n",
    "dim(df)"
   ]
  },
  {
   "cell_type": "code",
   "execution_count": 119,
   "metadata": {
    "vscode": {
     "languageId": "r"
    }
   },
   "outputs": [],
   "source": [
    "#remove regulon size <=10\n",
    "df<-subset(df,k>10)"
   ]
  },
  {
   "cell_type": "code",
   "execution_count": 120,
   "metadata": {
    "vscode": {
     "languageId": "r"
    }
   },
   "outputs": [],
   "source": [
    "top3<- df %>% subset(.,score>0) %>% group_by(module)  %>% top_n(.,wt = sig,n = 10) %>% top_n(.,wt = score,n = 3) #\n",
    "    "
   ]
  },
  {
   "cell_type": "code",
   "execution_count": null,
   "metadata": {
    "collapsed": true,
    "vscode": {
     "languageId": "r"
    }
   },
   "outputs": [],
   "source": [
    "#top3<-ubset(top3,module %in% c(\"black\",\"blue\",\"brown\",\"green\",\"greenyellow\",\n",
    "#                               \"lightcyan\",\"magenta\",\"pink\",\"purple\",\"red\",\"yellow\"))\n",
    "top3<-arrange(top3,module)\n",
    "head(top3)"
   ]
  },
  {
   "cell_type": "code",
   "execution_count": null,
   "metadata": {
    "collapsed": true,
    "vscode": {
     "languageId": "r"
    }
   },
   "outputs": [],
   "source": [
    "df3<-p_ma[unique(top3$regulon),unique(top3$module)]\n",
    "#df2<-df2[,c(\"black\",\"blue\",\"brown\",\"green\",\"greenyellow\",\"lightcyan\",\"magenta\",\"pink\",\"purple\",\"red\",\"yellow\")]\n",
    "df3"
   ]
  },
  {
   "cell_type": "code",
   "execution_count": 124,
   "metadata": {
    "vscode": {
     "languageId": "r"
    }
   },
   "outputs": [],
   "source": [
    "col_anno<-data.frame(row.names = colnames(df3),\"module\"=colnames(df3))\n",
    "module_col<-colnames(df3)\n",
    "names(module_col)<-colnames(df3)\n",
    "col_list<-list(module=module_col)"
   ]
  },
  {
   "cell_type": "code",
   "execution_count": null,
   "metadata": {
    "collapsed": true,
    "vscode": {
     "languageId": "r"
    }
   },
   "outputs": [],
   "source": [
    "options(repr.plot.width=7, repr.plot.height=12) # To set the figure size in Jupyter\n",
    "#png(\"selected.module.pad001.selfdefine.top3.score.regulons.heatmap.png\",width=7,height=12,res = 300)\n",
    "p<-pheatmap(df3, name=\"Score\",cluster_rows = F,cluster_cols = F,border_color = NA,#scale = \"row\",\n",
    "         col=viridisLite::viridis(n = 50),annotation_col=col_anno,annotation_colors=col_list\n",
    "         #colorRampPalette(c(\"darkred\",\"white\",\"skyblue\"),space=\"rgb\")(100),\n",
    "                       #row_names_gp=grid::gpar(fontsize=11),cluster_columns=F,cluster_rows=F\n",
    "        )\n",
    "#dev.off()"
   ]
  },
  {
   "cell_type": "code",
   "execution_count": null,
   "metadata": {
    "vscode": {
     "languageId": "r"
    }
   },
   "outputs": [],
   "source": [
    "save_pheatmap_pdf(p,filename = \"selected.module.pad001.selfdefine.top3.significance.regulons.heatmap.unscaled.pdf\",width = 7,height = 12)"
   ]
  },
  {
   "cell_type": "markdown",
   "metadata": {},
   "source": [
    "#### plot module top3 regulon dotplot on time_domain groups"
   ]
  },
  {
   "cell_type": "code",
   "execution_count": null,
   "metadata": {
    "collapsed": true,
    "vscode": {
     "languageId": "r"
    }
   },
   "outputs": [],
   "source": [
    "meta$time_domain<-paste0(meta$time,\"_\",meta$domain)\n",
    "colnames(meta)\n",
    "unique(meta$time_domain)"
   ]
  },
  {
   "cell_type": "code",
   "execution_count": null,
   "metadata": {
    "vscode": {
     "languageId": "r"
    }
   },
   "outputs": [],
   "source": [
    "meta$time_domain<-factor(meta$time_domain,levels = c(unique(meta$time_domain)))\n",
    "levels(meta$time_domain)"
   ]
  },
  {
   "cell_type": "code",
   "execution_count": 149,
   "metadata": {
    "vscode": {
     "languageId": "r"
    }
   },
   "outputs": [],
   "source": [
    "meta %>% group_by(time_domain) %>% summarise_at(vars(colnames(meta)[49:ncol(meta)-1]),mean) ->td_mean"
   ]
  },
  {
   "cell_type": "code",
   "execution_count": null,
   "metadata": {
    "collapsed": true,
    "vscode": {
     "languageId": "r"
    }
   },
   "outputs": [],
   "source": [
    "td_mean$time<-str_split(td_mean$time_domain,\"_\",simplify = T)[,2]\n",
    "td_mean$domain<-str_split(td_mean$time_domain,\"_\",simplify = T)[,3]\n",
    "head(td_mean)"
   ]
  },
  {
   "cell_type": "code",
   "execution_count": 151,
   "metadata": {
    "vscode": {
     "languageId": "r"
    }
   },
   "outputs": [],
   "source": [
    "td_mean$time<-factor(td_mean$time,levels = c(\"72h\",\"24h\",\"3h\",\"sham\"))"
   ]
  },
  {
   "cell_type": "code",
   "execution_count": null,
   "metadata": {
    "collapsed": true,
    "vscode": {
     "languageId": "r"
    }
   },
   "outputs": [],
   "source": [
    "#colnames(td_mean)<-gsub(\"...$\",\"\",colnames(td_mean))\n",
    "colnames(td_mean)<-gsub(\"\\\\.\",\"-\",colnames(td_mean),fixed = T)\n",
    "head(td_mean)"
   ]
  },
  {
   "cell_type": "code",
   "execution_count": 153,
   "metadata": {
    "vscode": {
     "languageId": "r"
    }
   },
   "outputs": [],
   "source": [
    "write.csv(td_mean,\"regulon.average.auc.score.time_domain.csv\")"
   ]
  },
  {
   "cell_type": "code",
   "execution_count": 154,
   "metadata": {
    "vscode": {
     "languageId": "r"
    }
   },
   "outputs": [],
   "source": [
    "options(repr.plot.width=4.5,repr.plot.height=4)\n",
    "library(ggplot2)\n",
    "f2<-\"module_top_regulon_dotplot_0412\"\n",
    "if(!dir.exists(f2))\n",
    "    dir.create(f2)\n",
    "for(i in paste0(top3$regulon,\"...\")){\n",
    "    \n",
    "    if(!i %in% colnames(td_mean))\n",
    "        i<-gsub(\"-\",\".\",i)\n",
    "    ggplot(td_mean,aes(domain,time))+geom_point(aes_string(color=i),size=20)+\n",
    "    scale_color_gradientn(colours = c(\"blue\",\"white\",\"orangered\"))+theme_bw()+\n",
    "    theme(axis.text = element_text(size = 12),panel.background = element_blank(),panel.grid = element_blank())\n",
    "    ggsave(paste0(f2,\"/\",i,\"_time_domain.mean.dotplot.png\"),width = 4.5,height = 4,dpi = 300)\n",
    "}"
   ]
  },
  {
   "cell_type": "markdown",
   "metadata": {},
   "source": [
    "### plot module top3 regulon spatial plot"
   ]
  },
  {
   "cell_type": "code",
   "execution_count": null,
   "metadata": {
    "collapsed": true,
    "vscode": {
     "languageId": "r"
    }
   },
   "outputs": [],
   "source": [
    "#adjust spatial position between multiple samples\n",
    "grep(\"x.ad2\",colnames(meta))\n",
    "meta$x.ad2<-NA\n",
    "meta$y.ad2<-NA\n",
    "for(i in 1:length(unique(meta$orig.ident))){\n",
    "    m=(i-1)%/%4\n",
    "    x.add=(i-4*m-1)*100\n",
    "    y.add=150*(4-m)\n",
    "    meta[meta$orig.ident==unique(meta$orig.ident)[i],\"x.ad2\"]<-meta[meta$orig.ident==unique(meta$orig.ident)[i],\"x.axis\"]+x.add\n",
    "    meta[meta$orig.ident==unique(meta$orig.ident)[i],\"y.ad2\"]<-meta[meta$orig.ident==unique(meta$orig.ident)[i],\"y.axis\"]+y.add\n",
    "}\n",
    "range(meta$x.ad2)\n",
    "range(meta$y.ad2)"
   ]
  },
  {
   "cell_type": "code",
   "execution_count": null,
   "metadata": {
    "vscode": {
     "languageId": "r"
    }
   },
   "outputs": [],
   "source": [
    "#dir.create(\"moduletop3.regulon_spatialplot\")\n",
    "options(repr.plot.width=20,repr.plot.height=16)\n",
    "for(i in unique(top3$regulon)){\n",
    "    ggplot(meta,aes_string(\"x.ad2\",\"y.ad2\",color=paste0(i,\"...\")))+geom_point(size=1)+\n",
    "        #scale_colour_gradientn(colours=colorRampPalette(rev(brewer.pal(n = 11, name = \"Spectral\")))(50))+\n",
    "        ggplot2::scale_colour_gradientn(colours = c('#0000ff','#3232ff','#6666ff','#9898ff','#ccccff',\n",
    "                                              '#fffefe','#ffcccc','#ff9898','#ff6666','#ff3232','#ff0000'))+\n",
    "        xlab(paste0(\"\")) +\n",
    "        ylab(paste0(\"\")) + \n",
    "        theme(panel.background = element_blank(),\n",
    "              panel.grid.major =element_blank(), \n",
    "              panel.grid.minor = element_blank(),\n",
    "              axis.text.x = element_blank(),\n",
    "              axis.text.y = element_blank()\n",
    "          # axis.ticks.x = element_blank(),\n",
    "    )#+\n",
    "    #ggtitle(label = top3)\n",
    "    #p<-SpatialFeaturePlot(mergda,features = c(i),min.cutoff=mean(mergda@meta.data[,i]),combine = F)\n",
    "    #do.call(ggpubr::ggarrange,c(p,list(ncol=4,nrow=8,common.legend=T,legend=\"right\")))\n",
    "    ggsave(paste0(\"moduletop3.regulon_spatialplot/regulon_\",i,\".auc.score.spatial.png\"),width=20,height=16,dpi=300)\n",
    "    }"
   ]
  }
 ],
 "metadata": {
  "kernelspec": {
   "display_name": "R",
   "language": "R",
   "name": "ir"
  },
  "language_info": {
   "codemirror_mode": "r",
   "file_extension": ".r",
   "mimetype": "text/x-r-source",
   "name": "R",
   "pygments_lexer": "r",
   "version": "4.1.0"
  }
 },
 "nbformat": 4,
 "nbformat_minor": 2
}
