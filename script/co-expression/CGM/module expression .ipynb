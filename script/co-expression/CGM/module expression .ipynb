{
 "cells": [
  {
   "cell_type": "markdown",
   "metadata": {},
   "source": [
    "### WT.cluster.avg_module.avg 220112"
   ]
  },
  {
   "cell_type": "code",
   "execution_count": null,
   "metadata": {
    "vscode": {
     "languageId": "r"
    }
   },
   "outputs": [],
   "source": [
    "wd<-\"/home/jovyan/zxli_SCI/result/WGCNA/WT.SCT.res02.domain_220311/\"#\"/home/jovyan/zxli_SCI/result/WGCNA/spot/s4_allgene/\"\n",
    "#wd<-\"/home/jovyan/zxli_SCI/result/WGCNA/WTKO/spot/\"\n",
    "#dir.create(wd)\n",
    "setwd(wd)\n",
    "getwd()"
   ]
  },
  {
   "cell_type": "code",
   "execution_count": 99,
   "metadata": {
    "vscode": {
     "languageId": "r"
    }
   },
   "outputs": [],
   "source": [
    "library(Seurat)\n",
    "library(ggplot2)\n",
    "library(patchwork)\n",
    "library(dplyr)\n",
    "library(hdf5r)\n",
    "library(png)\n",
    "library(ggalluvial)\n",
    "#library(tidyverse)\n",
    "library(clustree)\n",
    "library(RCTD)\n",
    "library(Matrix)\n",
    "library(SPOTlight)\n",
    "library(future)\n",
    "library(grid)\n",
    "library(RColorBrewer)\n",
    "library(pheatmap)\n",
    "library(circlize)\n",
    "library(igraph)\n",
    "library(ComplexHeatmap)\n",
    "library(stringr)\n",
    "library(ComplexHeatmap)\n",
    "library(cowplot)\n",
    "library(biomaRt)\n",
    "#library(scClustViz)\n",
    "library(ggsci)\n",
    "library(colorspace)\n",
    "library(scales)"
   ]
  },
  {
   "cell_type": "code",
   "execution_count": null,
   "metadata": {
    "vscode": {
     "languageId": "r"
    }
   },
   "outputs": [],
   "source": [
    "da<-readRDS(\"/home/jovyan/zxli_SCI/result/Seurat/reg.CC/WT_replace_v2/res02_220310/WT.merge.replace_v2.SCT.regress_CC.nC.mt.ident.pc20.k50.res02.rds\")\n",
    "da"
   ]
  },
  {
   "cell_type": "code",
   "execution_count": 112,
   "metadata": {
    "vscode": {
     "languageId": "r"
    }
   },
   "outputs": [],
   "source": [
    "write.csv(rownames(da),\"/home/jovyan/zxli_SCI/data/Seurat/WT.SCT.allgenes.csv\")"
   ]
  },
  {
   "attachments": {},
   "cell_type": "markdown",
   "metadata": {},
   "source": [
    "### module gene average expression on space"
   ]
  },
  {
   "cell_type": "code",
   "execution_count": null,
   "metadata": {
    "collapsed": true,
    "vscode": {
     "languageId": "r"
    }
   },
   "outputs": [],
   "source": [
    "### correlation module 220117\n",
    "#modgene<-read.csv(\"/home/jovyan/zxli_SCI/result/WGCNA/spot/pearson/WTKO.s4.SCT.data.genotype.top1w.hvg.union_pearson.correlation.L1norm.averagelinkage.k200.filt30.27module_gene.csv\")\n",
    "modgene<-read.csv(\"thr100.sp18.hclust_average.min30.deep2.h015.34modules.full.gene.list.csv\")#(\"min30.ch09.mh01/min30.cuth09.mergh01.modules.full.gene.list.csv\")#(\"WT.s4.modules.mergheight045.full.gene.list.csv\")#read.csv(\"WT.s4.hvg1w.modules.full.gene.list.csv\")\n",
    "rownames(modgene)<-modgene$gene\n",
    "dim(modgene)\n",
    "modgene<-modgene[!modgene$module==\"grey\",]\n",
    "#modgene<-modgene[,-which(colnames(modgene)%in%c(\"X\",\"gene\"))]\n",
    "head(modgene)\n",
    "dim(modgene)\n",
    "table(modgene$module)\n",
    "length(unique(modgene$module))"
   ]
  },
  {
   "cell_type": "code",
   "execution_count": null,
   "metadata": {
    "collapsed": true,
    "vscode": {
     "languageId": "r"
    }
   },
   "outputs": [],
   "source": [
    "modgene_filt<-subset(modgene,module!=\"grey\")\n",
    "table(modgene_filt$module)"
   ]
  },
  {
   "cell_type": "code",
   "execution_count": null,
   "metadata": {
    "collapsed": true,
    "vscode": {
     "languageId": "r"
    }
   },
   "outputs": [],
   "source": [
    "for(i in unique(modgene_filt$module)){\n",
    "    genes<-modgene_filt[modgene_filt$module==i,\"gene\"]\n",
    "    da<-AddModuleScore(da,features = list(genes),name = i)\n",
    "}\n",
    "colnames(da@meta.data)"
   ]
  },
  {
   "cell_type": "code",
   "execution_count": null,
   "metadata": {
    "collapsed": true,
    "vscode": {
     "languageId": "r"
    }
   },
   "outputs": [],
   "source": [
    "module_score<-da@meta.data[,c(which(colnames(da@meta.data)==\"coral1\"):ncol(da@meta.data))]\n",
    "colnames(module_score)<-gsub(\"1$\",\"\",colnames(module_score))\n",
    "head(module_score)"
   ]
  },
  {
   "cell_type": "code",
   "execution_count": 93,
   "metadata": {
    "vscode": {
     "languageId": "r"
    }
   },
   "outputs": [],
   "source": [
    "write.csv(module_score,\"WT.domain.thr100.sp18.hclust_average.min30.deep2.h015.33modules.SCT.score.ex_grey.csv\")"
   ]
  },
  {
   "cell_type": "code",
   "execution_count": null,
   "metadata": {
    "vscode": {
     "languageId": "r"
    }
   },
   "outputs": [],
   "source": [
    "name<-colnames(da@meta.data)[which(colnames(da@meta.data)==\"coral1\"):ncol(da@meta.data)]\n",
    "name\n",
    "length(name)"
   ]
  },
  {
   "cell_type": "code",
   "execution_count": 95,
   "metadata": {
    "vscode": {
     "languageId": "r"
    }
   },
   "outputs": [],
   "source": [
    "#### adjust position to plot no-background, manual color ggplot\n",
    "meta<-da@meta.data\n",
    "#meta$x.ad2<-NA\n",
    "#meta$y.ad2<-NA\n",
    "#for(i in 1:length(unique(da2$orig.ident))){\n",
    "#    m=(i-1)%/%4\n",
    "#    x.add<-(i-4*m-1)*100\n",
    "#    y.add<-150*(8-m)\n",
    "#    meta[meta$orig.ident==unique(meta$orig.ident)[i],\"x.ad2\"]<-meta[meta$orig.ident==unique(meta$orig.ident)[i],\"x.axis\"]+x.add\n",
    "#    meta[meta$orig.ident==unique(meta$orig.ident)[i],\"y.ad2\"]<-meta[meta$orig.ident==unique(meta$orig.ident)[i],\"y.axis\"]+y.add\n",
    "#\n",
    "#}\n",
    "#range(meta$x.ad2)\n",
    "#range(meta$y.ad2)"
   ]
  },
  {
   "cell_type": "code",
   "execution_count": 101,
   "metadata": {
    "scrolled": true,
    "vscode": {
     "languageId": "r"
    }
   },
   "outputs": [],
   "source": [
    "#dir.create(\"WTKO.SCT.hvg1w.union.cor.hcluster.L1norm.averagelinkage.filt30.module.scale.data.avg_spatialplot/\")\n",
    "sf<-\"modulescore_spatial/\"\n",
    "if(!dir.exists(sf))\n",
    "    dir.create(sf)\n",
    "options(repr.plot.width=20,repr.plot.height=16)\n",
    "for(i in name){\n",
    "    ggplot(meta,aes_string(\"x.ad\",\"y.ad\",color=i))+geom_point(size=1)+\n",
    "        #scale_colour_gradientn(colours=colorRampPalette(rev(brewer.pal(n = 11, name = \"Spectral\")))(50))+\n",
    "        ggplot2::scale_colour_gradientn(colours = c('#0000ff','#3232ff','#6666ff','#9898ff','#ccccff',\n",
    "                                              '#fffefe','#ffcccc','#ff9898','#ff6666','#ff3232','#ff0000'))+\n",
    "        xlab(paste0(\"\")) +\n",
    "        ylab(paste0(\"\")) + \n",
    "        theme(panel.background = element_blank(),\n",
    "              panel.grid.major =element_blank(), \n",
    "              panel.grid.minor = element_blank(),\n",
    "              axis.text.x = element_blank(),\n",
    "              axis.text.y = element_blank()\n",
    "          # axis.ticks.x = element_blank(),\n",
    "    )#+\n",
    "    #plot(p)\n",
    "    #p<-SpatialFeaturePlot(mergda,features = c(i),min.cutoff=mean(mergda@meta.data[,i]),combine = F)\n",
    "    #do.call(ggpubr::ggarrange,c(p,list(ncol=4,nrow=8,common.legend=T,legend=\"right\")))\n",
    "    ggsave(paste0(sf,\"WT_\",i,\".module.score.spatial.png\"),width=20,height=16,dpi=300)\n",
    "    }"
   ]
  },
  {
   "cell_type": "markdown",
   "metadata": {},
   "source": [
    "#### ridgeplot of each module at time_domain level"
   ]
  },
  {
   "cell_type": "code",
   "execution_count": null,
   "metadata": {
    "collapsed": true,
    "vscode": {
     "languageId": "r"
    }
   },
   "outputs": [],
   "source": [
    "df<-da@meta.data\n",
    "colnames(df)<-gsub(\"1$\",\"\",colnames(df))\n",
    "df$time<-factor(df$time,levels = rev(c(\"WT_sham\",\"WT_3h\",\"WT_24h\",\"WT_72h\")))\n",
    "head(df)\n",
    "levels(df$time)"
   ]
  },
  {
   "cell_type": "code",
   "execution_count": 140,
   "metadata": {
    "vscode": {
     "languageId": "r"
    }
   },
   "outputs": [],
   "source": [
    "library(ggridges)\n",
    "library(ggsci)\n",
    "library(scales)"
   ]
  },
  {
   "cell_type": "code",
   "execution_count": null,
   "metadata": {
    "collapsed": true,
    "vscode": {
     "languageId": "r"
    }
   },
   "outputs": [],
   "source": [
    "col<-c('#BC3C29A8','#0072B5A8','#E18727A8','#20854EA8')\n",
    "show_col(col)\n",
    "names(col)<-c('DH','MG','VH','WM')"
   ]
  },
  {
   "cell_type": "code",
   "execution_count": null,
   "metadata": {
    "vscode": {
     "languageId": "r"
    }
   },
   "outputs": [],
   "source": [
    "name<-gsub(\"1$\",\"\",name)\n",
    "name"
   ]
  },
  {
   "cell_type": "code",
   "execution_count": null,
   "metadata": {
    "collapsed": true,
    "vscode": {
     "languageId": "r"
    }
   },
   "outputs": [],
   "source": [
    "options(repr.plot.width=6,repr.plot.height=4)\n",
    "ggplot(df,aes_string(x=\"coral\",y=\"time\",color=\"domain\",fill=\"domain\"))+\n",
    "    geom_density_ridges(color=\"white\")+\n",
    "    scale_y_discrete(expand = c(0,0))+\n",
    "    scale_x_continuous(expand = c(0,0),name = paste0(i,\" module score\")#,limits=c(min(df[,\"lightcyan1\"]),max(df[,\"lightcyan1\"]))\n",
    "                      )+\n",
    "    scale_fill_manual(values = c(alpha(col,0.66)),labels=c(\"DH\",\"MG\",\"VH\",\"WM\"))+\n",
    "    coord_cartesian(clip = \"off\")+\n",
    "    guides(fill=guide_legend(override.aes=list(fill=col,\n",
    "                                               color=NA,points_color=NA)))+\n",
    "    #ggtitle(paste0(i,\" module score at domain after SCI\"))+\n",
    "    theme_ridges(center=TRUE)+\n",
    "    theme(panel.grid.major = element_blank(),axis.title.y.left = element_blank())"
   ]
  },
  {
   "cell_type": "code",
   "execution_count": null,
   "metadata": {
    "collapsed": true,
    "vscode": {
     "languageId": "r"
    }
   },
   "outputs": [],
   "source": [
    "options(repr.plot.width=6,repr.plot.height=4)\n",
    "fig1<-\"moduleScore_ridgePlot\"\n",
    "if(!dir.exists(fig1))\n",
    "    dir.create(fig1)\n",
    "for(i in name){\n",
    "    ggplot(df,aes_string(x=i,y=\"time\",color=\"domain\",fill=\"domain\"))+\n",
    "    geom_density_ridges(color=\"white\")+\n",
    "    scale_y_discrete(expand = c(0,0))+\n",
    "    scale_x_continuous(expand = c(0,0),name = paste0(i,\" module score\")#,limits=c(min(df[,\"lightcyan1\"]),max(df[,\"lightcyan1\"]))\n",
    "                      )+\n",
    "    scale_fill_manual(values = c(alpha(col,0.66)),labels=c(\"DH\",\"MG\",\"VH\",\"WM\"))+\n",
    "    coord_cartesian(clip = \"off\")+\n",
    "    guides(fill=guide_legend(override.aes=list(fill=col,\n",
    "                                               color=NA,points_color=NA)))+\n",
    "    #ggtitle(paste0(i,\" module score at domain after SCI\"))+\n",
    "    theme_ridges(center=TRUE)+\n",
    "    theme_ridges(center=TRUE)+\n",
    "    theme(panel.grid.major = element_blank(),axis.title.y.left = element_blank())\n",
    "    ggsave(paste0(fig1,\"/\",i,\"_moduleScore.ridgePlot.png\"),width = 6,height = 4,dpi = 300)\n",
    "}\n"
   ]
  }
 ],
 "metadata": {
  "kernelspec": {
   "display_name": "R",
   "language": "R",
   "name": "ir"
  },
  "language_info": {
   "codemirror_mode": "r",
   "file_extension": ".r",
   "mimetype": "text/x-r-source",
   "name": "R",
   "pygments_lexer": "r",
   "version": "4.1.0"
  }
 },
 "nbformat": 4,
 "nbformat_minor": 2
}
