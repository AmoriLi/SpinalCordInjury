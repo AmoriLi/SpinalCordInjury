{
 "cells": [
  {
   "cell_type": "code",
   "execution_count": null,
   "id": "2b52002d",
   "metadata": {
    "vscode": {
     "languageId": "r"
    }
   },
   "outputs": [],
   "source": [
    "wd<-\"/Seurat/reg.CC/WT_replace_v2/res02_220310/\"\n",
    "if(!dir.exists(wd))\n",
    "    dir.create(wd)\n",
    "setwd(wd)\n",
    "getwd()"
   ]
  },
  {
   "cell_type": "code",
   "execution_count": null,
   "id": "01fba30a",
   "metadata": {
    "scrolled": true,
    "vscode": {
     "languageId": "r"
    }
   },
   "outputs": [],
   "source": [
    "library(Seurat)\n",
    "library(ggplot2)\n",
    "library(patchwork)\n",
    "library(dplyr)\n",
    "#library(hdf5r)\n",
    "library(png)\n",
    "#library(ggalluvial)\n",
    "#library(tidyverse)\n",
    "library(clustree)\n",
    "library(RCTD)\n",
    "library(Matrix)\n",
    "#library(SPOTlight)\n",
    "library(future)\n",
    "library(grid)\n",
    "library(RColorBrewer)\n",
    "#library(pheatmap)\n",
    "library(circlize)\n",
    "library(igraph)\n",
    "#library(ComplexHeatmap)\n",
    "library(stringr)\n",
    "#library(ComplexHeatmap)\n",
    "library(cowplot)\n",
    "library(biomaRt)\n",
    "#library(scClustViz)\n",
    "library(scales)\n",
    "library(colorspace)\n",
    "library(biomaRt)\n",
    "library(clusterProfiler)\n",
    "options(connectionObserver = NULL)\n",
    "library(reshape2)\n",
    "library(pheatmap)\n",
    "library(\"readxl\")"
   ]
  },
  {
   "cell_type": "markdown",
   "id": "bba1a5d5",
   "metadata": {},
   "source": [
    "### Astrocyte migration marker score -220612\n",
    "#### positive regulation of cell migration score -220620"
   ]
  },
  {
   "cell_type": "code",
   "execution_count": 3,
   "id": "4612b4b2",
   "metadata": {
    "vscode": {
     "languageId": "r"
    }
   },
   "outputs": [],
   "source": [
    "wd<-\"Astrocyte/\"\n",
    "if(!dir.exists(wd))\n",
    "    dir.create(wd)\n",
    "#setwd(wd)\n",
    "#getwd()"
   ]
  },
  {
   "cell_type": "code",
   "execution_count": 4,
   "id": "532d8c1a",
   "metadata": {
    "vscode": {
     "languageId": "r"
    }
   },
   "outputs": [],
   "source": [
    "source(\"/home/jovyan/zxli_SCI/script/self_function/save_pheatmap_pdf.R\")"
   ]
  },
  {
   "cell_type": "code",
   "execution_count": null,
   "id": "0c97b283",
   "metadata": {
    "collapsed": true,
    "vscode": {
     "languageId": "r"
    }
   },
   "outputs": [],
   "source": [
    "cm<-read_excel(\"/home/jovyan/zxli_SCI/result/Seurat/sc_Astrocyte_recluster/lee/classifyBySpatialMarker/GO_term_positiveregulationofcellmigration_20220620_052409.xlsx\")\n",
    "head(cm)\n",
    "cmgenes<-unique(cm$Symbol)\n",
    "length(cmgenes)\n",
    "cmgenes<-intersect(cmgenes,rownames(da@assays$SCT@data))\n",
    "length(cmgenes)\n"
   ]
  },
  {
   "cell_type": "code",
   "execution_count": 23,
   "id": "472a487f",
   "metadata": {
    "vscode": {
     "languageId": "r"
    }
   },
   "outputs": [],
   "source": [
    "da<-AddModuleScore(da,features = list(cmgenes),name = \"positive_regulation_of_cell_migration\")"
   ]
  },
  {
   "cell_type": "code",
   "execution_count": null,
   "id": "2328d23a",
   "metadata": {
    "vscode": {
     "languageId": "r"
    }
   },
   "outputs": [],
   "source": [
    "da$pos_mig_bi<-as.character(ifelse(da$positive_regulation_of_cell_migration1>0.07204,1,0))\n",
    "table(da$pos_mig_bi)"
   ]
  },
  {
   "cell_type": "code",
   "execution_count": null,
   "id": "7448ddc7",
   "metadata": {
    "vscode": {
     "languageId": "r"
    }
   },
   "outputs": [],
   "source": [
    "#Mki67\n",
    "da$Mki67<-da@assays$SCT@data[\"Mki67\",]\n",
    "#head(da$Mki67)\n",
    "summary(da$Mki67)\n",
    "#\n",
    "#da$Mki67_bi<-as.character(ifelse(da$Mki67>0,1,0))\n",
    "#table(da$Mki67_bi)"
   ]
  },
  {
   "cell_type": "code",
   "execution_count": 25,
   "id": "9cec6e75",
   "metadata": {
    "vscode": {
     "languageId": "r"
    }
   },
   "outputs": [],
   "source": [
    "meta<-da@meta.data\n",
    "write.csv(meta,\"WT.Mki67.migration_score.meta.csv\")"
   ]
  },
  {
   "cell_type": "code",
   "execution_count": null,
   "id": "86996341",
   "metadata": {
    "collapsed": true,
    "vscode": {
     "languageId": "r"
    }
   },
   "outputs": [],
   "source": [
    "options(repr.plot.width=20,repr.plot.height=16)\n",
    "ggplot(da@meta.data,aes(x.ad,y.ad))+geom_point(size=1.6,shape=21,stroke=0.15,aes(fill= positive_regulation_of_cell_migration1))+\n",
    "    #scale_fill_gradientn(colours = colorRampPalette(rev(brewer.pal(n = 7,name = \"Spectral\")))(50))+\n",
    "    scale_fill_gradientn(colours = c('#034f84','#92a8d1',#'#b8a9c9', \n",
    "    \n",
    "        '#d6d4e0',#\"#deeaee\",\n",
    "    #\"#f0f0f0\",\n",
    "    #'#fff2df',\n",
    "       \n",
    "        #\"#eeac99\",\n",
    "        '#f4a688',\n",
    "        \"#ED797B\",                             \n",
    "        #\"#f7786b\",                             \n",
    "        \n",
    "        \"#d64161\",\n",
    "        \"#c94c4c\"#,\n",
    "        #\"#c83349\"\n",
    "                                    ))+\n",
    "    xlab(paste0(\"\")) +\n",
    "    ylab(paste0(\"\")) + \n",
    "    theme(panel.background = element_blank(),\n",
    "          panel.grid.major =element_blank(), \n",
    "          panel.grid.minor = element_blank(),\n",
    "          axis.text.x = element_blank(),#element_text(size = 15,colour = \"black\"),\n",
    "          axis.text.y = element_blank()#element_text(size = 20,colour = \"black\")\n",
    "          # axis.ticks.x = element_blank(),\n",
    "    )\n",
    "#ggsave(\"WT.merge.regress_CC.nC.mt.ident_positive_regulation_of_cell_migration.spatial_manually_220701.png\",width=20,height=16,dpi=400)"
   ]
  },
  {
   "cell_type": "code",
   "execution_count": null,
   "id": "9bbf4150",
   "metadata": {
    "collapsed": true,
    "vscode": {
     "languageId": "r"
    }
   },
   "outputs": [],
   "source": [
    "### calculate the colocalization pval of cell type each timepoint -220627\n",
    "ct_df<-read.csv(\"/home/jovyan/zxli_SCI/result/RCTD/testC5/WT_all/fcreg1_220503/16celltypes.dec_conf.nor.meta.csv\")\n",
    "rownames(ct_df)<-ct_df[,1]\n",
    "ct_df<-ct_df[,-1]\n",
    "head(ct_df)"
   ]
  },
  {
   "cell_type": "code",
   "execution_count": null,
   "id": "55a2a12a",
   "metadata": {
    "vscode": {
     "languageId": "r"
    }
   },
   "outputs": [],
   "source": [
    "ct<-colnames(ct_df)[46:61]\n",
    "ct"
   ]
  },
  {
   "cell_type": "code",
   "execution_count": null,
   "id": "cad85cd5",
   "metadata": {
    "vscode": {
     "languageId": "r"
    }
   },
   "outputs": [],
   "source": [
    "# remove Svep1 and Dendritic\n",
    "ct<-ct[!ct%in%c(\"Astro.Svep1\",\"Dendritic\")]\n",
    "ct"
   ]
  },
  {
   "cell_type": "code",
   "execution_count": null,
   "id": "01c6c081",
   "metadata": {
    "vscode": {
     "languageId": "r"
    }
   },
   "outputs": [],
   "source": [
    "wt_df<-ct_df[,ct]\n",
    "dim(wt_df)"
   ]
  },
  {
   "cell_type": "code",
   "execution_count": null,
   "id": "314ef7b1",
   "metadata": {
    "collapsed": true,
    "vscode": {
     "languageId": "r"
    }
   },
   "outputs": [],
   "source": [
    "wt_df_bi<-wt_df\n",
    "wt_df_bi<-apply(wt_df_bi,2,function(x) (ifelse(x>0,1,0)))\n",
    "head(wt_df_bi)"
   ]
  },
  {
   "cell_type": "code",
   "execution_count": null,
   "id": "c3ba8600",
   "metadata": {
    "vscode": {
     "languageId": "r"
    }
   },
   "outputs": [],
   "source": [
    "me<-cbind(da@meta.data,wt_df_bi)\n",
    "dim(me)"
   ]
  },
  {
   "cell_type": "code",
   "execution_count": 42,
   "id": "cb9dfa7c",
   "metadata": {
    "vscode": {
     "languageId": "r"
    }
   },
   "outputs": [],
   "source": [
    "## Fisher test and jaccard simmilarity\n",
    "pval_df<-data.frame(row.names = unique(me$time))\n",
    "spot_n<-data.frame(row.names = unique(me$time))\n",
    "jc_df<-data.frame(row.names = unique(me$time))\n",
    "#pcc_df<-data.frame(row.names = unique(me$time))\n",
    "for(i in unique(me$time)){\n",
    "    temp_me<-me[me$time==i,]\n",
    "    cells<-rownames(temp_me)\n",
    "    temp_wt<-wt_df_bi[cells,ct]\n",
    "    ## gene normalized express\n",
    "    #cc1<-temp_me[cells,]\n",
    "    ## Mki67 positive spots\n",
    "    #pp1<-temp_me[,\"pos_mig_bi\"]\n",
    "    pp1<-temp_me[,\"Mki67_bi\"]\n",
    "    lr_ind<-rownames(temp_me)[pp1==1]\n",
    "    for(j in ct){\n",
    "        if(sum(temp_wt[,j])==0){\n",
    "            pval_df[i,j]<-1\n",
    "            spot_n[i,j]<-0\n",
    "            jc_df[i,j]<-0\n",
    "        }\n",
    "        else{\n",
    "            # unbinary wt\n",
    "            #cc2<-wt_df[cells,j]\n",
    "            # binary wt\n",
    "            pp2<-temp_me[,j]\n",
    "            cp_ind<-rownames(temp_me)[pp2==1]\n",
    "            # pcc<-cor(pp1,pp2)\n",
    "            pp1<-factor(pp1,levels=c(0,1))\n",
    "            pp2<-factor(pp2,levels=c(0,1))\n",
    "            f_df<-table(pp1,pp2)\n",
    "            p<-fisher.test(f_df)$p.val\n",
    "            pval_df[i,j]<-p\n",
    "            \n",
    "            n<-f_df[2,2]\n",
    "            #nn<-f_df[1,1]\n",
    "            spot_n[i,j]<-n\n",
    "            \n",
    "            JC<-length(intersect(cp_ind,lr_ind))/length(unique(c(cp_ind,lr_ind)))\n",
    "            jc_df[i,j]<-JC\n",
    "            \n",
    "            #cc<-cor(cc1,cc2)\n",
    "            #pcc_df[i,j]<-cc\n",
    "        }\n",
    "    }\n",
    "}"
   ]
  },
  {
   "cell_type": "code",
   "execution_count": null,
   "id": "d9a094d7",
   "metadata": {
    "collapsed": true,
    "vscode": {
     "languageId": "r"
    }
   },
   "outputs": [],
   "source": [
    "pval_l<-pval_df\n",
    "pval_l$time<-rownames(pval_l)\n",
    "pval_l<-melt(pval_l)\n",
    "colnames(pval_l)<-c(\"time\",\"celltype\",\"pval\")\n",
    "pval_l$key<-paste0(pval_l$time,\"-\",pval_l$celltype)\n",
    "head(pval_l)"
   ]
  },
  {
   "cell_type": "code",
   "execution_count": null,
   "id": "d826371a",
   "metadata": {
    "collapsed": true,
    "vscode": {
     "languageId": "r"
    }
   },
   "outputs": [],
   "source": [
    "nspot_l<-spot_n\n",
    "nspot_l$time<-rownames(nspot_l)\n",
    "nspot_l<-melt(nspot_l)\n",
    "colnames(nspot_l)<-c(\"time\",\"celltype\",\"n_spot\")\n",
    "nspot_l$key<-paste0(nspot_l$time,\"-\",nspot_l$celltype)\n",
    "head(nspot_l)"
   ]
  },
  {
   "cell_type": "code",
   "execution_count": null,
   "id": "fa8bf535",
   "metadata": {
    "collapsed": true,
    "vscode": {
     "languageId": "r"
    }
   },
   "outputs": [],
   "source": [
    "jc_l<-jc_df\n",
    "jc_l$time<-rownames(jc_l)\n",
    "jc_l<-melt(jc_l)\n",
    "colnames(jc_l)<-c(\"time\",\"celltype\",\"JC\")\n",
    "jc_l$key<-paste0(jc_l$time,\"-\",jc_l$celltype)\n",
    "head(jc_l)"
   ]
  },
  {
   "cell_type": "code",
   "execution_count": null,
   "id": "dbdf76cb",
   "metadata": {
    "vscode": {
     "languageId": "r"
    }
   },
   "outputs": [],
   "source": [
    "df_l<-merge(pval_l,nspot_l,by = \"key\")\n",
    "dim(df_l)\n",
    "df_l<-merge(df_l,jc_l,by = \"key\")\n",
    "dim(df_l)"
   ]
  },
  {
   "cell_type": "code",
   "execution_count": 47,
   "id": "d5c45014",
   "metadata": {
    "vscode": {
     "languageId": "r"
    }
   },
   "outputs": [],
   "source": [
    "write.csv(df_l,paste0(wd,\"Mki67_bi_bymean.14celltype.colocalization_eachtime.pval.nspot_220727.csv\"))"
   ]
  },
  {
   "cell_type": "code",
   "execution_count": null,
   "id": "76d3cec7",
   "metadata": {
    "vscode": {
     "languageId": "r"
    }
   },
   "outputs": [],
   "source": [
    "df_l<-read.csv(\"Astrocyte/positive_migration/pos_mig_bi.celltype.colocalization.pval.nspot.csv\")\n",
    "head(df_l)"
   ]
  },
  {
   "cell_type": "code",
   "execution_count": 48,
   "id": "692018b0",
   "metadata": {
    "vscode": {
     "languageId": "r"
    }
   },
   "outputs": [],
   "source": [
    "df_l_ad<-df_l"
   ]
  },
  {
   "cell_type": "code",
   "execution_count": null,
   "id": "82afece0",
   "metadata": {
    "collapsed": true,
    "vscode": {
     "languageId": "r"
    }
   },
   "outputs": [],
   "source": [
    "pval_ma<-df_l_ad[,c(\"time\",\"celltype\",\"JC\")]\n",
    "head(pval_ma)\n",
    "pval_ma<-reshape(pval_ma,idvar = \"time\",timevar = \"celltype\",direction = \"wide\")\n",
    "rownames(pval_ma)<-pval_ma[,1]\n",
    "pval_ma<-pval_ma[,-1]\n",
    "colnames(pval_ma)<-gsub(\"JC.\",\"\",colnames(pval_ma))\n",
    "pval_ma<-as.matrix(pval_ma[c(4,2,1,3),])\n",
    "head(pval_ma)"
   ]
  },
  {
   "cell_type": "code",
   "execution_count": null,
   "id": "2a217b7a",
   "metadata": {
    "collapsed": true,
    "vscode": {
     "languageId": "r"
    }
   },
   "outputs": [],
   "source": [
    "options(repr.plot.width=7,repr.plot.height=4)\n",
    "p<-pheatmap(pval_ma,scale = \"none\",cluster_rows = F,cluster_cols = T#,color = brewer.pal(n = 7,name = \"Reds\")\n",
    "           )\n",
    "#save_pheatmap_pdf(p,\"pos_mig_mean_bi.14ct.Fisher_test.pval.jc005.pheatmap_220727.pdf\",width = 7,height = 4)"
   ]
  },
  {
   "cell_type": "code",
   "execution_count": null,
   "id": "3cf697f8",
   "metadata": {
    "vscode": {
     "languageId": "r"
    }
   },
   "outputs": [],
   "source": [
    "## remove decreasing cell types: Neuron, Oligodendrocyte\n",
    "pval_ma_s<-pval_ma[,!colnames(pval_ma)%in% c(\"Neuron\",\"Oligodendrocyte\")]\n",
    "dim(pval_ma_s)"
   ]
  },
  {
   "cell_type": "code",
   "execution_count": null,
   "id": "ca744ac9",
   "metadata": {
    "collapsed": true,
    "vscode": {
     "languageId": "r"
    }
   },
   "outputs": [],
   "source": [
    "options(repr.plot.width=6.3,repr.plot.height=3.8)\n",
    "p<-pheatmap(pval_ma_s,scale = \"none\",cluster_rows = F,cluster_cols = T)\n",
    "save_pheatmap_pdf(p,\"Mki67.binary_byMean.jc005.rm_NO.12ct.JC,pheatmap_220727.pdf\",width = 6.3,height = 3.8)"
   ]
  },
  {
   "cell_type": "code",
   "execution_count": null,
   "id": "631f172d",
   "metadata": {
    "vscode": {
     "languageId": "r"
    }
   },
   "outputs": [],
   "source": [
    "options(repr.plot.width=9,repr.plot.height=7)\n",
    "p<-FeaturePlot(da,reduction=\"umap\",features = \"Cluster1\"#,min.cutoff = (-0.03413)\n",
    "              )+\n",
    "        theme(#legend.position =\"bottom\",\n",
    "            axis.ticks = element_blank(),axis.text = element_blank(),\n",
    "            axis.line = element_line(size = 0.8,arrow = arrow()) )+\n",
    "    scale_color_gradientn(colours = c(#\"#cfe0e8\",\n",
    "    \n",
    "                                                     '#b8a9c9', \n",
    "    \n",
    "        '#d6d4e0',\"#deeaee\",\n",
    "    #\"#f0f0f0\",\n",
    "    #'#fff2df',\n",
    "       #\"#f7786b\",\n",
    "        \"#eeac99\",\n",
    "        \"#ED797B\",\n",
    "        \"#d64161\",\n",
    "        \"#c94c4c\",\n",
    "        \"#c83349\"\n",
    "    ))\n",
    "plot(p)\n",
    "ggsave(\"Astrocyte/postive_cell_migration.score.data.UMAP.png\",width = 9,height = 7,dpi = 300)"
   ]
  },
  {
   "cell_type": "code",
   "execution_count": null,
   "id": "3ba5192f",
   "metadata": {
    "vscode": {
     "languageId": "r"
    }
   },
   "outputs": [],
   "source": [
    "da$time_domain<-paste0(da$time,\"-\",da$domain_res02)\n",
    "da$time_dis_domain<-paste0(da$time,\"-\",da$distance,\"-\",da$domain_res02)\n",
    "da$time_pos_domain<-paste0(da$pos,\"-\",da$domain_res02)\n",
    "table(da$time_domain)\n",
    "table(da$time_dis_domain)\n",
    "table(da$time_pos_domain)"
   ]
  },
  {
   "cell_type": "code",
   "execution_count": null,
   "id": "7e7e3fb7",
   "metadata": {
    "vscode": {
     "languageId": "r"
    }
   },
   "outputs": [],
   "source": [
    "da$domain2<-ifelse(da$domain_res02==\"WM\",\"WM\",\"GM\")\n",
    "da$time_domain2<-paste0(da$time,\"-\",da$domain2)\n",
    "da$time_dis_domain2<-paste0(da$time,\"-\",da$distance,\"-\",da$domain2)\n",
    "da$time_pos_domain2<-paste0(da$pos,\"-\",da$domain2)\n",
    "table(da$time_domain2)\n",
    "table(da$time_dis_domain2)\n",
    "table(da$time_pos_domain2)"
   ]
  },
  {
   "cell_type": "code",
   "execution_count": null,
   "id": "41a775ba",
   "metadata": {
    "vscode": {
     "languageId": "r"
    }
   },
   "outputs": [],
   "source": [
    "da$time_domain<-factor(da$time_domain,levels = c('WT_sham-WM',\n",
    "                                                 'WT_3h-WM',\n",
    "                                                 'WT_24h-WM',\n",
    "                                                 'WT_72h-WM',\n",
    "                                                 'WT_sham-VH',\n",
    "                                                  'WT_3h-VH',\n",
    "                                                 'WT_24h-VH',\n",
    "                                                 'WT_72h-VH',\n",
    "                                                 'WT_sham-MG',\n",
    "                                                  'WT_3h-MG',\n",
    "                                                 'WT_24h-MG',\n",
    "                                                 'WT_72h-MG',\n",
    "                                                 'WT_sham-DH',\n",
    "                                                 'WT_3h-DH',\n",
    "                                                 'WT_24h-DH',\n",
    "                                                 'WT_72h-DH'))\n",
    "Idents(da)<-da$time_domain\n",
    "options(repr.plot.width=5,repr.plot.height=4)\n",
    "VlnPlot(da,features = \"Cluster1\",\n",
    "        pt.size = 0,\n",
    "        cols = c(rep('#20854EA8',4),rep('#E18727A8',4),rep('#0072B5A8',4),rep('#BC3C29A8',4)))+\n",
    "    NoLegend()+\n",
    "    geom_boxplot(width=0.35,fill=\"white\",outlier.color = NA)\n",
    "    #scale_color_manual(values = c(rep('#20854EA8',4),rep('#E18727A8',4),rep('#0072B5A8',4),rep('#BC3C29A8',4)))\n",
    "ggsave(\"Astrocyte/postive_cell_migration.score.in.time_4doamin.vlnplot.png\",width = 5,height = 4,dpi = 300)"
   ]
  },
  {
   "cell_type": "code",
   "execution_count": null,
   "id": "88b6260b",
   "metadata": {
    "vscode": {
     "languageId": "r"
    }
   },
   "outputs": [],
   "source": [
    "da$time_domain2<-factor(da$time_domain2,levels = c('WT_sham-WM',\n",
    "                                                 'WT_3h-WM',\n",
    "                                                 'WT_24h-WM',\n",
    "                                                 'WT_72h-WM',\n",
    "                                                 'WT_sham-GM',\n",
    "                                                  'WT_3h-GM',\n",
    "                                                 'WT_24h-GM',\n",
    "                                                 'WT_72h-GM'))\n",
    "Idents(da)<-da$time_domain2\n",
    "options(repr.plot.width=4,repr.plot.height=4)\n",
    "VlnPlot(da,features = \"Cluster1\",\n",
    "        pt.size = 0,\n",
    "        cols = c(rep('#20854EA8',4),rep('#0072B5A8',4)))+\n",
    "    NoLegend()+\n",
    "    geom_boxplot(width=0.35,fill=\"white\",outlier.color = NA)\n",
    "    #scale_color_manual(values = c(rep('#20854EA8',4),rep('#E18727A8',4),rep('#0072B5A8',4),rep('#BC3C29A8',4)))\n",
    "ggsave(\"Astrocyte/postive_cell_migration.score.in.time_2doamin.vlnplot.png\",width = 4,height = 4,dpi = 300)"
   ]
  },
  {
   "cell_type": "code",
   "execution_count": null,
   "id": "b503aa1e",
   "metadata": {
    "vscode": {
     "languageId": "r"
    }
   },
   "outputs": [],
   "source": [
    "da$time_dis_domain<-factor(da$time_dis_domain,levels = c('WT_sham-0.5mm-WM',\n",
    "                                                 'WT_sham-1mm-WM',\n",
    "                                                 'WT_3h-0.5mm-WM',\n",
    "                                                 'WT_3h-1mm-WM',\n",
    "                                                 'WT_24h-0.5mm-WM',\n",
    "                                                 'WT_24h-1mm-WM',\n",
    "                                                 'WT_72h-0.5mm-WM',\n",
    "                                                 'WT_72h-1mm-WM',\n",
    "                                                 'WT_sham-0.5mm-VH',\n",
    "                                                 'WT_sham-1mm-VH',\n",
    "                                                  'WT_3h-0.5mm-VH',\n",
    "                                                 'WT_3h-1mm-VH',\n",
    "                                                 'WT_24h-0.5mm-VH',\n",
    "                                                 'WT_24h-1mm-VH',\n",
    "                                                 'WT_72h-0.5mm-VH',\n",
    "                                                 'WT_72h-1mm-VH',\n",
    "                                                 'WT_sham-0.5mm-MG',\n",
    "                                                 'WT_sham-1mm-MG',\n",
    "                                                  'WT_3h-0.5mm-MG',\n",
    "                                                 'WT_3h-1mm-MG',\n",
    "                                                 'WT_24h-0.5mm-MG',\n",
    "                                                 'WT_24h-1mm-MG',\n",
    "                                                 'WT_72h-0.5mm-MG',\n",
    "                                                 'WT_72h-1mm-MG',\n",
    "                                                 'WT_sham-0.5mm-DH',\n",
    "                                                 'WT_sham-1mm-DH',\n",
    "                                                 'WT_3h-0.5mm-DH',\n",
    "                                                 'WT_3h-1mm-DH',\n",
    "                                                 'WT_24h-0.5mm-DH',\n",
    "                                                 'WT_24h-1mm-DH',\n",
    "                                                 'WT_72h-0.5mm-DH',\n",
    "                                                 'WT_72h-1mm-DH' \n",
    "                                                ))\n",
    "Idents(da)<-da$time_dis_domain\n",
    "options(repr.plot.width=8,repr.plot.height=4)\n",
    "VlnPlot(da,features = \"Cluster1\",\n",
    "        pt.size = 0,\n",
    "        cols = c(rep(c(\"#09DB36\",'#20854EA8'),4),\n",
    "                 rep(c(\"#F2E338\",'#E18727A8'),4),\n",
    "                 rep(c('#0D6DF5','#0072B5A8'),4),\n",
    "                 rep(c('#F52C44','#BC3C29A8'),4)))+\n",
    "    NoLegend()+\n",
    "    geom_boxplot(width=0.35,fill=\"white\",outlier.color = NA)\n",
    "    #scale_color_manual(values = c(rep('#20854EA8',4),rep('#E18727A8',4),rep('#0072B5A8',4),rep('#BC3C29A8',4)))\n",
    "ggsave(\"Astrocyte/postive_cell_migration.score.in.time_dis_4doamin.vlnplot.png\",width = 8,height = 4,dpi = 300)"
   ]
  },
  {
   "cell_type": "code",
   "execution_count": null,
   "id": "bef694c8",
   "metadata": {
    "vscode": {
     "languageId": "r"
    }
   },
   "outputs": [],
   "source": [
    "da$time_dis_domain2<-factor(da$time_dis_domain2,levels = c('WT_sham-0.5mm-WM',\n",
    "                                                 'WT_sham-1mm-WM',\n",
    "                                                 'WT_3h-0.5mm-WM',\n",
    "                                                 'WT_3h-1mm-WM',\n",
    "                                                 'WT_24h-0.5mm-WM',\n",
    "                                                 'WT_24h-1mm-WM',\n",
    "                                                 'WT_72h-0.5mm-WM',\n",
    "                                                 'WT_72h-1mm-WM',\n",
    "                                                 'WT_sham-0.5mm-GM',\n",
    "                                                 'WT_sham-1mm-GM',\n",
    "                                                  'WT_3h-0.5mm-GM',\n",
    "                                                 'WT_3h-1mm-GM',\n",
    "                                                 'WT_24h-0.5mm-GM',\n",
    "                                                 'WT_24h-1mm-GM',\n",
    "                                                 'WT_72h-0.5mm-GM',\n",
    "                                                 'WT_72h-1mm-GM'\n",
    "                                                ))\n",
    "Idents(da)<-da$time_dis_domain2\n",
    "options(repr.plot.width=5,repr.plot.height=4)\n",
    "VlnPlot(da,features = \"Cluster1\",\n",
    "        pt.size = 0,\n",
    "        cols = c(rep(c(\"#09DB36\",'#20854EA8'),4),\n",
    "                 #rep(c(\"#F2E338\",'#E18727A8'),4),\n",
    "                 rep(c('#0D6DF5','#0072B5A8'),4)#,\n",
    "                 #rep(c('#F52C44','#BC3C29A8'),4)\n",
    "                ))+\n",
    "    NoLegend()+\n",
    "    geom_boxplot(width=0.35,fill=\"white\",outlier.color = NA)\n",
    "    #scale_color_manual(values = c(rep('#20854EA8',4),rep('#E18727A8',4),rep('#0072B5A8',4),rep('#BC3C29A8',4)))\n",
    "ggsave(\"Astrocyte/postive_cell_migration.score.in.time_dis_2doamin.vlnplot.png\",width = 5,height = 4,dpi = 300)"
   ]
  }
 ],
 "metadata": {
  "kernelspec": {
   "display_name": "R",
   "language": "R",
   "name": "ir"
  },
  "language_info": {
   "codemirror_mode": "r",
   "file_extension": ".r",
   "mimetype": "text/x-r-source",
   "name": "R",
   "pygments_lexer": "r",
   "version": "4.1.0"
  }
 },
 "nbformat": 4,
 "nbformat_minor": 5
}
