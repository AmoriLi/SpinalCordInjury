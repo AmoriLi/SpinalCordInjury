{
 "cells": [
  {
   "cell_type": "code",
   "execution_count": null,
   "id": "847563de",
   "metadata": {
    "vscode": {
     "languageId": "r"
    }
   },
   "outputs": [],
   "source": [
    "wd<-\"/home/jovyan/zxli_SCI/result/Seurat/reg.CC/WT_replace_v2/res02_220310/\"\n",
    "if(!dir.exists(wd))\n",
    "    dir.create(wd)\n",
    "setwd(wd)\n",
    "getwd()"
   ]
  },
  {
   "cell_type": "code",
   "execution_count": null,
   "id": "fa8b5e99",
   "metadata": {
    "vscode": {
     "languageId": "r"
    }
   },
   "outputs": [],
   "source": [
    "library(Seurat)\n",
    "library(ggplot2)\n",
    "library(patchwork)\n",
    "library(dplyr)\n",
    "#library(hdf5r)\n",
    "library(png)\n",
    "#library(ggalluvial)\n",
    "#library(tidyverse)\n",
    "library(clustree)\n",
    "library(RCTD)\n",
    "library(Matrix)\n",
    "#library(SPOTlight)\n",
    "library(future)\n",
    "library(grid)\n",
    "library(RColorBrewer)\n",
    "#library(pheatmap)\n",
    "library(circlize)\n",
    "library(igraph)\n",
    "#library(ComplexHeatmap)\n",
    "library(stringr)\n",
    "#library(ComplexHeatmap)\n",
    "library(cowplot)\n",
    "library(biomaRt)\n",
    "#library(scClustViz)\n",
    "library(scales)\n",
    "library(colorspace)\n",
    "library(biomaRt)\n",
    "library(clusterProfiler)\n",
    "options(connectionObserver = NULL)\n",
    "library(reshape2)"
   ]
  },
  {
   "cell_type": "code",
   "execution_count": null,
   "id": "f90e5aa0",
   "metadata": {
    "vscode": {
     "languageId": "r"
    }
   },
   "outputs": [],
   "source": [
    "da<-readRDS(\"/home/jovyan/zxli_SCI/result/Seurat/reg.CC/WT_replace_v2/res02_220310/WT.merge.replace_v2.SCT.regress_CC.nC.mt.ident.pc20.k50.res02.rds\")\n",
    "da"
   ]
  },
  {
   "cell_type": "markdown",
   "id": "37cbefd5",
   "metadata": {},
   "source": [
    "### spatial cluster markers and GO terms"
   ]
  },
  {
   "cell_type": "code",
   "execution_count": null,
   "id": "9ed1b017",
   "metadata": {
    "vscode": {
     "languageId": "r"
    }
   },
   "outputs": [],
   "source": [
    "Idents(da)<-da$SCT_snn_res.0.2\n",
    "cluster_marker<-FindAllMarkers(da,logfc.threshold = 0.25,test.use = \"wilcox\",min.pct = 0.25 ,only.pos = T)"
   ]
  },
  {
   "cell_type": "code",
   "execution_count": null,
   "id": "f6d87b19",
   "metadata": {
    "vscode": {
     "languageId": "r"
    }
   },
   "outputs": [],
   "source": [
    "write.csv(cluster_marker,\"pc20_k50.res02.fc025.pct025.pos.clusterMarker.csv\")"
   ]
  },
  {
   "cell_type": "code",
   "execution_count": null,
   "id": "02bdc228",
   "metadata": {
    "vscode": {
     "languageId": "r"
    }
   },
   "outputs": [],
   "source": [
    "cluster_marker<-read.csv(\"pc20_k50.res02.fc025.pct025.pos.clusterMarker.csv\")\n",
    "head(cluster_marker)"
   ]
  },
  {
   "cell_type": "code",
   "execution_count": null,
   "id": "b63b3907",
   "metadata": {
    "vscode": {
     "languageId": "r"
    }
   },
   "outputs": [],
   "source": [
    "cluster_marker %>%\n",
    "    filter(p_val_adj<0.01) %>%\n",
    "    group_by(cluster) %>% #filter(pct.1>0.75) %>%\n",
    "    #top_n(n=15,wt=-p_val_adj) %>%\n",
    "    top_n(n = 10, wt = avg_log2FC) ->top10"
   ]
  },
  {
   "cell_type": "code",
   "execution_count": null,
   "id": "3dafc870",
   "metadata": {
    "vscode": {
     "languageId": "r"
    }
   },
   "outputs": [],
   "source": [
    "options(repr.plot.width=8,repr.plot.height=10)\n",
    "DoHeatmap(da, features = unique(top10$gene),group.colors = col,slot=\"scale.data\"#,#remove.key=F,\n",
    "         ) +\n",
    "#+ NoLegend()\n",
    "    #scale_fill_viridis()\n",
    "    scale_fill_gradientn(colours = c('#4575B4','#91BFDB','#E0F3F8','white','#FC8D59','#D73027'))\n",
    "ggsave(\"pc20.k50_res0.2_clusterMarker.pos.top10_fc.heatmap.RdYlBu.png\",width = 8,height = 10,dpi = 400)"
   ]
  },
  {
   "cell_type": "markdown",
   "id": "2ce307ff",
   "metadata": {},
   "source": [
    "### cluster markers' functional pathway"
   ]
  },
  {
   "cell_type": "code",
   "execution_count": null,
   "id": "e0364c5f",
   "metadata": {
    "vscode": {
     "languageId": "r"
    }
   },
   "outputs": [],
   "source": [
    "temp<- cluster_marker %>% filter(p_val_adj<0.01 )#avg_log2FC>0.3\n",
    "    \n",
    "table(temp$cluster)"
   ]
  },
  {
   "cell_type": "code",
   "execution_count": null,
   "id": "acd1ae83",
   "metadata": {
    "vscode": {
     "languageId": "r"
    }
   },
   "outputs": [],
   "source": [
    "length(rownames(da))\n",
    "\n",
    "backid<-bitr(rownames(da),fromType = \"SYMBOL\",toType = \"ENTREZID\",OrgDb = \"org.Mm.eg.db\")\n",
    "dim(backid)"
   ]
  },
  {
   "cell_type": "code",
   "execution_count": null,
   "id": "e99cfa81",
   "metadata": {
    "vscode": {
     "languageId": "r"
    }
   },
   "outputs": [],
   "source": [
    "backgenes<-backid[,2]\n",
    "head(backgenes)\n",
    "write.table(backgenes,\"../WT.GOterm.SCT.backgeneids.txt\",row.names = T,col.names = T)"
   ]
  },
  {
   "cell_type": "code",
   "execution_count": null,
   "id": "3ab70f6b",
   "metadata": {
    "vscode": {
     "languageId": "r"
    }
   },
   "outputs": [],
   "source": [
    "backgenes<-read.table(\"../WT.GOterm.SCT.backgeneids.txt\")\n",
    "backgenes<-as.character(backgenes$x)\n",
    "head(backgenes)"
   ]
  },
  {
   "cell_type": "code",
   "execution_count": null,
   "id": "e599b373",
   "metadata": {
    "vscode": {
     "languageId": "r"
    }
   },
   "outputs": [],
   "source": [
    "library(org.Mm.eg.db)\n",
    "library(ggplot2)\n",
    "#grlabs<-split(gene.nodle.df$gene,gene.nodle.df$module)\n",
    "grlabs<-split(cluster_marker$gene,cluster_marker$cluster)\n",
    "gcSample = lapply(grlabs, function(gr) as.numeric(bitr(gr, fromType = \"SYMBOL\", toType = \"ENTREZID\", OrgDb = \"org.Mm.eg.db\")$ENTREZID))\n",
    "pvalueCutoff = 0.01\n",
    "qvalueCutoff = 0.01\n",
    "xx.mus.go <- compareCluster(gcSample, OrgDb='org.Mm.eg.db', fun='enrichGO', \n",
    "                            pvalueCutoff = pvalueCutoff, qvalueCutoff = qvalueCutoff, ont = \"BP\", \n",
    "                            readable=T,universe=backgenes#,maxGSSize=100\n",
    "                           )\n",
    "#EnrichResGO_mm = xx.mus.go@compareClusterResult\n",
    "#options(repr.plot.width=23,repr.plot.height=22)\n",
    "#                  dotplot(xx.mus.go, title = paste0(\"Mouse Gene Ontology (qval < \", qvalueCutoff, \")\"))\n",
    "saveRDS(xx.mus.go,\"pc20.k50.res02.cluster_fc025.pct025.pos.markergene_pqv001.go_220622.rds\")"
   ]
  },
  {
   "cell_type": "code",
   "execution_count": null,
   "id": "2a9a1b1b",
   "metadata": {
    "vscode": {
     "languageId": "r"
    }
   },
   "outputs": [],
   "source": [
    "xx.mus.go<-readRDS(\"pc20.k50.res02.cluster_fc025.pct025.pos.markergene_pqv001.go.rds\")"
   ]
  },
  {
   "cell_type": "code",
   "execution_count": null,
   "id": "b824da69",
   "metadata": {
    "vscode": {
     "languageId": "r"
    }
   },
   "outputs": [],
   "source": [
    "df<-xx.mus.go@compareClusterResult\n",
    "head(df)\n",
    "dim(df)\n",
    "unique(df$Cluster)\n",
    "library(dplyr)\n",
    "df1 = df %>% group_by(.,Cluster) %>% filter(.,Count>=5) %>% top_n(.,-5,p.adjust)  #按照Cluster排序，并取每个cluster的前20个\n",
    "df1$Description = factor(df1$Description,levels = rev(unique(df1$Description)))  #对Description进行按cluster排序，后面展示时同一cluster的go可以放在一起"
   ]
  },
  {
   "cell_type": "code",
   "execution_count": null,
   "id": "58022bc3",
   "metadata": {
    "vscode": {
     "languageId": "r"
    }
   },
   "outputs": [],
   "source": [
    "library(RColorBrewer)\n",
    "options(repr.plot.width=10,repr.plot.height=8)\n",
    "display.brewer.all()"
   ]
  },
  {
   "cell_type": "code",
   "execution_count": null,
   "id": "2ee93558",
   "metadata": {
    "vscode": {
     "languageId": "r"
    }
   },
   "outputs": [],
   "source": [
    "options(repr.plot.width=7.5, repr.plot.height=7)\n",
    "library(ggplot2)\n",
    "p=ggplot(df1,aes(Cluster,Description))+geom_point(aes(size=Count,color=p.adjust))+        #基因数目表示SIZE，p.adjust代表颜色深浅\n",
    "    scale_color_gradientn(colors=brewer.pal(9,\"Spectral\"),guide = guide_colorbar(reverse = T))+\n",
    "    theme_bw()+\n",
    "    theme(axis.title = element_blank(),axis.text = element_text(size = 13))\n",
    "p"
   ]
  },
  {
   "cell_type": "code",
   "execution_count": null,
   "id": "a5b0b638",
   "metadata": {
    "vscode": {
     "languageId": "r"
    }
   },
   "outputs": [],
   "source": [
    "ggsave(\"WT.SCT.reg.pc20.k50.res02.cluster_fc025.pct025.pos.markergene_pqv001.count5.pval.top5.dotplot_220622.png\",width = 7.5,height = 7,dpi = 400)"
   ]
  },
  {
   "cell_type": "markdown",
   "id": "c0965d80",
   "metadata": {},
   "source": [
    "### time bulk DEGs according to dimain"
   ]
  },
  {
   "cell_type": "code",
   "execution_count": null,
   "id": "8ceb41d6",
   "metadata": {
    "vscode": {
     "languageId": "r"
    }
   },
   "outputs": [],
   "source": [
    "Idents(da)<-\"time\"\n",
    "levels(Idents(da))"
   ]
  },
  {
   "cell_type": "code",
   "execution_count": null,
   "id": "f48895f1",
   "metadata": {
    "vscode": {
     "languageId": "r"
    }
   },
   "outputs": [],
   "source": [
    "wmda<-da[rownames(da),rownames(da@meta.data[da@meta.data$domain_res02==\"WM\",])]\n",
    "unique(wmda$time)\n",
    "unique(wmda$domain)\n",
    "mgda<-da[rownames(da),rownames(da@meta.data[da@meta.data$domain_res02==\"MG\",])]\n",
    "unique(mgda$time)\n",
    "unique(mgda$domain)\n",
    "vhda<-da[rownames(da),rownames(da@meta.data[da@meta.data$domain_res02==\"VH\",])]\n",
    "unique(vhda$time)\n",
    "unique(vhda$domain)\n",
    "dhda<-da[rownames(da),rownames(da@meta.data[da@meta.data$domain_res02==\"DH\",])]\n",
    "unique(dhda$time)\n",
    "unique(dhda$domain)"
   ]
  },
  {
   "cell_type": "code",
   "execution_count": null,
   "id": "d1b6ff55",
   "metadata": {
    "vscode": {
     "languageId": "r"
    }
   },
   "outputs": [],
   "source": [
    "HT<-c(wmda,mgda,dhda,vhda)\n",
    "HT"
   ]
  },
  {
   "cell_type": "code",
   "execution_count": null,
   "id": "17d16ba9",
   "metadata": {
    "vscode": {
     "languageId": "r"
    }
   },
   "outputs": [],
   "source": [
    "name<-c(\"WM\",\"MG\",\"DH\",\"VH\")\n",
    "name[1]"
   ]
  },
  {
   "cell_type": "code",
   "execution_count": null,
   "id": "6b97f83b",
   "metadata": {
    "vscode": {
     "languageId": "r"
    }
   },
   "outputs": [],
   "source": [
    "sd<-\"time_domain.marker/\"\n",
    "if(!dir.exists(sd))\n",
    "    dir.create(sd)\n",
    "\n",
    "for(i in c(1:4)){\n",
    "    temp<-HT[[i]]\n",
    "    mark<-FindAllMarkers(temp,logfc.threshold = 0.5,min.pct = 0.25,only.pos = F)\n",
    "    mark$up_down<-NA\n",
    "    mark[mark$avg_log2FC<0,\"up_down\"]<-\"down\"\n",
    "    mark[mark$avg_log2FC>0,\"up_down\"]<-\"up\"\n",
    "    mark$group<-paste(mark$cluster,name[i],mark$up_down,sep = \"-\")\n",
    "    mark$group<-factor(mark$group,\n",
    "                        levels = c(paste0('WT_sham-',name[i],'-up'),paste0('WT_3h-',name[i],'-up'),paste0('WT_24h-',name[i],'-up'),paste0('WT_72h-',name[i],'-up'),\n",
    "                                   paste0('WT_sham-',name[i],'-down'),paste0('WT_3h-',name[i],'-down'),paste0('WT_24h-',name[i],'-down'),paste0('WT_72h-',name[i],'-down')    \n",
    "                                                  ))\n",
    "    head(mark)\n",
    "    dim(mark)\n",
    "    mark <- filter(mark,p_val_adj<0.01)\n",
    "    dim(mark)\n",
    "    table(mark$group)\n",
    "    write.csv(mark,paste0(sd,\"WT.SCT.\",name[i],\".time_Marker.p001.csv\"))\n",
    "    mark_up<-mark[mark$up_down==\"up\",]\n",
    "    table(mark_up$group)\n",
    "    unique(mark_up$group)\n",
    "    mark_up$group<-factor(mark_up$group,levels = levels(mark$group)[1:4])\n",
    "    table(mark_up$group)\n",
    "    write.csv(mark_up,paste0(sd,\"WT.SCT.\",name[i],\".time_upMarker.p001.csv\"))\n",
    "    mark_up %>%\n",
    "        group_by(group) %>% #filter(pct.1>0.5) %>%\n",
    "        top_n(n = 10, wt = avg_log2FC) -> top10\n",
    "    options(repr.plot.width=12,repr.plot.height=12)\n",
    "    DoHeatmap(temp, features = top10$gene) + NoLegend()\n",
    "    ggsave(paste0(sd,name[i],\".time_Marker.pos.pct025.top10_fc.heatmap.png\"),width = 12,height = 12,dpi = 400)\n",
    "    mark_up %>%\n",
    "        group_by(group) %>% #filter(pct.1>0.5) %>%\n",
    "        top_n(n = 30, wt = avg_log2FC) -> top30\n",
    "    options(repr.plot.width=10,repr.plot.height=15)\n",
    "    DoHeatmap(temp, features = top30$gene) + NoLegend()\n",
    "    ggsave(paste0(sd,name[i],\".time_Marker.pos.pct025.top30_fc.heatmap.png\"),width = 10,height = 15,dpi = 400)\n",
    "           \n",
    "}"
   ]
  },
  {
   "cell_type": "code",
   "execution_count": null,
   "id": "a3d5539e",
   "metadata": {
    "vscode": {
     "languageId": "r"
    }
   },
   "outputs": [],
   "source": [
    "for(j in c(\"WM\",\"MG\",\"VH\",\"DH\")){\n",
    "    temp2<-HT[[j]]\n",
    "    #name<-names(HT[j])\n",
    "    for(a in c(levels(Idents(temp2))[2:4])){\n",
    "        mark<-FindMarkers(temp2,logfc.threshold = 0.5,min.pct = 0.25,only.pos = F,ident.1=a,ident.2=\"WT_sham\")\n",
    "            \n",
    "        mark <- filter(mark,p_val_adj<0.01)\n",
    "        dim(mark)\n",
    "        mark$group<-paste0(a,\"_\",j)\n",
    "        table(mark$group)\n",
    "        write.csv(mark,paste0(sd,\"WT.SCT.\",j,\"_\",a,\".timevs.sham_Marker.np.p001.csv\"))\n",
    "    }\n",
    "}"
   ]
  },
  {
   "cell_type": "markdown",
   "id": "f2bb5fca",
   "metadata": {},
   "source": [
    "### merge domain deg and revise number barplot -220524"
   ]
  },
  {
   "cell_type": "code",
   "execution_count": null,
   "id": "c8726840",
   "metadata": {
    "vscode": {
     "languageId": "r"
    }
   },
   "outputs": [],
   "source": [
    "sf<-\"/home/jovyan/zxli_SCI/result/Seurat/reg.CC/WT_replace_v2/res02_220310/time_domain.marker/\"\n",
    "f<-dir(sf,pattern = \"WT.SCT.*.np.*csv\")\n",
    "f"
   ]
  },
  {
   "cell_type": "code",
   "execution_count": null,
   "id": "49d78426",
   "metadata": {
    "vscode": {
     "languageId": "r"
    }
   },
   "outputs": [],
   "source": [
    "ht<-read.csv(paste0(sf,f[1]))\n",
    "head(ht)\n",
    "\n",
    "for(i in 2:length(f)){\n",
    "    temp<-read.csv(paste0(sf,f[i]))\n",
    "    ht<-rbind(ht,temp)\n",
    "}\n",
    "unique(ht$group)\n",
    "write.csv(ht,\"time_domain.marker/WT.domain.timevs.sham.fc05.pct025.p001.np.marker.csv\")"
   ]
  },
  {
   "cell_type": "code",
   "execution_count": null,
   "id": "04eca463",
   "metadata": {
    "vscode": {
     "languageId": "r"
    }
   },
   "outputs": [],
   "source": [
    "#domain bulk\n",
    "ht$change<-\"specific\"\n",
    "deg_3h_com<-Reduce(intersect,list(ht[ht$group=='WT_3h_WM',\"X\"],ht[ht$group=='WT_3h_MG',\"X\"],\n",
    "                      ht[ht$group=='WT_3h_VH',\"X\"],ht[ht$group=='WT_3h_DH',\"X\"]))\n",
    "length(deg_3h_com)\n",
    "head(deg_3h_com)\n",
    "ht[ht$group %in% c('WT_3h_WM','WT_3h_MG','WT_3h_VH','WT_3h_DH')& ht$X %in% deg_3h_com,\"change\"]<-\"common\"\n",
    "\n",
    "deg_24h_com<-Reduce(intersect,list(ht[ht$group=='WT_24h_WM',\"X\"],ht[ht$group=='WT_24h_MG',\"X\"],\n",
    "                      ht[ht$group=='WT_24h_VH',\"X\"],ht[ht$group=='WT_24h_DH',\"X\"]))\n",
    "length(deg_24h_com)\n",
    "head(deg_24h_com)\n",
    "ht[ht$group %in% c('WT_24h_WM','WT_24h_MG','WT_24h_VH','WT_24h_DH')& ht$X %in% deg_24h_com,\"change\"]<-\"common\"\n",
    "\n",
    "deg_72h_com<-Reduce(intersect,list(ht[ht$group=='WT_72h_WM',\"X\"],ht[ht$group=='WT_72h_MG',\"X\"],\n",
    "                      ht[ht$group=='WT_72h_VH',\"X\"],ht[ht$group=='WT_72h_DH',\"X\"]))\n",
    "length(deg_72h_com)\n",
    "head(deg_72h_com)\n",
    "ht[ht$group %in% c('WT_72h_WM','WT_72h_MG','WT_72h_VH','WT_72h_DH')& ht$X %in% deg_72h_com,\"change\"]<-\"common\"\n"
   ]
  },
  {
   "cell_type": "code",
   "execution_count": null,
   "id": "48d155ad",
   "metadata": {
    "vscode": {
     "languageId": "r"
    }
   },
   "outputs": [],
   "source": [
    "ht$up_down<-NA\n",
    "ht$up_down<-ifelse(ht$avg_log2FC>0,\"up\",\"down\")\n",
    "unique(ht$up_down)\n",
    "\n",
    "ht$time<-\"sham\"\n",
    "ht[grepl(\"3h\",ht$group,fixed = T) ,\"time\"]<-\"3h\"\n",
    "ht[grepl(\"24h\",ht$group,fixed = T) ,\"time\"]<-\"24h\"\n",
    "ht[grepl(\"72h\",ht$group,fixed = T) ,\"time\"]<-\"72h\"\n",
    "ht$time<-factor(ht$time,levels = c(\"3h\",\"24h\",\"72h\"))\n",
    "head(ht)"
   ]
  },
  {
   "cell_type": "code",
   "execution_count": null,
   "id": "1d944d88",
   "metadata": {
    "vscode": {
     "languageId": "r"
    }
   },
   "outputs": [],
   "source": [
    "write.csv(ht,\"time_domain.marker/WT.domain.timevs.sham.fc05.pct025.p001.np.marker_ad.csv\")"
   ]
  },
  {
   "cell_type": "code",
   "execution_count": null,
   "id": "500feebe",
   "metadata": {
    "vscode": {
     "languageId": "r"
    }
   },
   "outputs": [],
   "source": [
    "ht<-read.csv(\"time_domain.marker/WT.domain.timevs.sham.fc05.pct025.p001.np.marker_ad.csv\")\n",
    "head(ht)"
   ]
  },
  {
   "cell_type": "markdown",
   "id": "592bb52d",
   "metadata": {},
   "source": [
    "### barplot to show the specific and common number of DEGs"
   ]
  },
  {
   "cell_type": "code",
   "execution_count": 4,
   "id": "064fecec",
   "metadata": {
    "vscode": {
     "languageId": "r"
    }
   },
   "outputs": [],
   "source": [
    "temp<-ht"
   ]
  },
  {
   "cell_type": "code",
   "execution_count": null,
   "id": "21ab1da2",
   "metadata": {
    "vscode": {
     "languageId": "r"
    }
   },
   "outputs": [],
   "source": [
    "temp$value<-ifelse(temp$up_down==\"up\",1,-1)\n",
    "head(temp)\n",
    "table(temp$up_down)"
   ]
  },
  {
   "cell_type": "code",
   "execution_count": null,
   "id": "7e1d2d27",
   "metadata": {
    "vscode": {
     "languageId": "r"
    }
   },
   "outputs": [],
   "source": [
    "temp2<-temp %>% group_by(group,time,up_down,change) %>% summarise(total_count=sum(value))\n",
    "head(temp2)\n",
    "\n",
    "temp2$HT<-\"WM\"\n",
    "temp2[grepl(\"VH\",temp2$group),\"HT\"]<-\"VH\"\n",
    "temp2[grepl(\"DH\",temp2$group),\"HT\"]<-\"DH\"\n",
    "temp2[grepl(\"MG\",temp2$group),\"HT\"]<-\"MG\"\n",
    "unique(temp2$HT)\n",
    "temp2$change<-factor(temp2$change,levels = c(\"specific\",\"common\"))\n",
    "temp2$up_down<-factor(temp2$up_down,levels = c(\"up\",\"down\"))\n",
    "unique(temp2$group)\n",
    "temp2$group<-factor(temp2$group,levels = c('WT_3h_DH','WT_3h_MG','WT_3h_VH','WT_3h_WM',\n",
    "                               'WT_24h_DH','WT_24h_MG','WT_24h_VH','WT_24h_WM',\n",
    "                               'WT_72h_DH','WT_72h_MG','WT_72h_VH','WT_72h_WM'))\n",
    "temp2$fill<-paste0(temp2$up_down,\"_\",temp2$change)\n",
    "temp2$fill<-factor(temp2$fill,levels = c('up_specific','up_common','down_specific','down_common'))\n"
   ]
  },
  {
   "cell_type": "code",
   "execution_count": null,
   "id": "ff8b552e",
   "metadata": {
    "vscode": {
     "languageId": "r"
    }
   },
   "outputs": [],
   "source": [
    "write.csv(temp2,\"time_domain.marker/domain.time.vs.sham.barplot.number.csv\")"
   ]
  },
  {
   "cell_type": "code",
   "execution_count": null,
   "id": "0d793214",
   "metadata": {
    "vscode": {
     "languageId": "r"
    }
   },
   "outputs": [],
   "source": [
    "temp2<-read.csv(\"time_domain.marker/domain.time.vs.sham.barplot.number.csv\")\n",
    "head(temp2)"
   ]
  },
  {
   "cell_type": "code",
   "execution_count": 5,
   "id": "3e15b873",
   "metadata": {
    "vscode": {
     "languageId": "r"
    }
   },
   "outputs": [],
   "source": [
    "temp2$group<-factor(temp2$group,levels = c('WT_3h_WM','WT_3h_MG','WT_3h_DH','WT_3h_VH',\n",
    "                               'WT_24h_WM','WT_24h_MG','WT_24h_DH','WT_24h_VH',\n",
    "                                           'WT_72h_WM','WT_72h_MG',\n",
    "                               'WT_72h_DH','WT_72h_VH'))"
   ]
  },
  {
   "cell_type": "code",
   "execution_count": 6,
   "id": "de99c724",
   "metadata": {
    "vscode": {
     "languageId": "r"
    }
   },
   "outputs": [],
   "source": [
    "temp2$fill<-factor(temp2$fill,levels = c('down_specific','down_common','up_specific','up_common'))"
   ]
  },
  {
   "cell_type": "code",
   "execution_count": null,
   "id": "7efebeef",
   "metadata": {
    "vscode": {
     "languageId": "r"
    }
   },
   "outputs": [],
   "source": [
    "pdf(\"time_domain.marker/domain_time.vs.sham.np.deg.barplot_221029.pdf\",width = 7,height = 6)\n",
    "options(repr.plot.width=7,repr.plot.height=6)\n",
    "ggplot(temp2,aes(x=group,y=total_count,fill=fill))+\n",
    "    geom_bar(position = \"stack\",stat=\"identity\",alpha=0.8)+\n",
    "    scale_fill_manual(values = c('#2B83BA','#ABDDA4','#D7191C','#FDAE61'))+\n",
    "    theme_bw()+\n",
    "    theme(panel.grid  =element_blank(),axis.text.x.bottom = element_text(angle = 90),axis.line.x = element_line(colour = \"black\"))+\n",
    "    coord_cartesian(ylim = c(-600,600))\n",
    "#plot(p)\n",
    "#abline(h = 0,col=\"black\")\n",
    "#ggsave(\"time_domain.marker/domain_time.vs.sham.np.deg.barplot_221029.png\",width = 7,height = 6,dpi = 400)\n",
    "dev.off()"
   ]
  },
  {
   "cell_type": "code",
   "execution_count": null,
   "id": "ea090861",
   "metadata": {
    "vscode": {
     "languageId": "r"
    }
   },
   "outputs": [],
   "source": [
    "options(repr.plot.width=7,repr.plot.height=6)\n",
    "ggplot(temp2,aes(x=group,y=total_count,fill=fill))+\n",
    "    geom_bar(position = \"stack\",stat=\"identity\")+\n",
    "    scale_fill_manual(values = c('#2B83BA','#ABDDA4','#D7191C','#FDAE61'))+\n",
    "    theme_bw()+\n",
    "    theme(panel.grid  =element_blank(),axis.text.x.bottom = element_text(angle = 90),axis.line.x = element_line(colour = \"black\"))+\n",
    "    coord_cartesian(ylim = c(-600,600))"
   ]
  },
  {
   "cell_type": "markdown",
   "id": "7caea06d",
   "metadata": {},
   "source": [
    "### cluster composition each time-domain -220530"
   ]
  },
  {
   "cell_type": "code",
   "execution_count": null,
   "id": "2c07e40a",
   "metadata": {
    "vscode": {
     "languageId": "r"
    }
   },
   "outputs": [],
   "source": [
    "df<-da@meta.data[,c(\"time\",\"domain_res02\",\"SCT_snn_res.0.2\")]\n",
    "head(df)\n",
    "df$group<-paste0(df$time,\"_\",df$domain_res02)\n",
    "df<-df[,c(1，3,4)]\n",
    "colnames(df)<-c(\"time\",\"cluster\",\"group\")\n",
    "df$value<-1\n",
    "head(df)\n",
    "temp<-df %>% group_by(group,cluster) %>% summarise(spot_num=sum(value))\n",
    "head(temp)\n",
    "temp$group<-factor(temp$group,levels = c(\n",
    "                                         #\"g1\",\n",
    "                                         \n",
    "                                        # \"g2\",\n",
    "                                         'WT_sham_DH',\n",
    "                                         'WT_3h_DH',\n",
    "                                         'WT_24h_DH',\n",
    "                                         'WT_72h_DH',\n",
    "                                         #\"g3\",\n",
    "                                         'WT_sham_VH',\n",
    "                                        'WT_3h_VH',\n",
    "                                        'WT_24h_VH',\n",
    "                                        'WT_72h_VH',\n",
    "                                         'WT_sham_MG',\n",
    "                                         'WT_3h_MG',\n",
    "                                         'WT_24h_MG',\n",
    "                                        'WT_72h_MG',\n",
    "                                        'WT_sham_WM',\n",
    "                                         'WT_3h_WM',\n",
    "                                         'WT_24h_WM',\n",
    "                                         'WT_72h_WM'\n",
    "                                        )\n",
    "                   #c('WT_sham_WM','WT_sham_MG','WT_sham_DH','WT_sham_VH',\n",
    "                   #                     'WT_3h_WM','WT_3h_MG','WT_3h_DH','WT_3h_VH',\n",
    "                   #                     'WT_24h_WM','WT_24h_MG','WT_24h_DH','WT_24h_VH',\n",
    "                   #                     'WT_72h_WM','WT_72h_MG','WT_72h_DH','WT_72h_VH')\n",
    "                  )\n",
    "options(repr.plot.width=7,repr.plot.height=6)\n",
    "ggplot(temp,aes(x=group,y=spot_num,fill=cluster))+\n",
    "    geom_bar(position = \"stack\",stat=\"identity\")+\n",
    "    scale_fill_manual(values = c('#66AB94','#5D3B83','#316B9B','#E2E293','#C580AA','#C13031','#E18727A8',\"white\"))+\n",
    "    theme_bw()+\n",
    "    theme(panel.grid  =element_blank(),axis.text.x.bottom = element_text(angle = 90),axis.line.x = element_line(colour = \"black\"))#+\n",
    "    #coord_cartesian(ylim = c(0,100))\n",
    "ggsave(\"/home/jovyan/zxli_SCI/result/Seurat/reg.CC/WT_replace_v2/res02_220310/domain_cluster.barplot.png\",width =7,height = 6,dpi = 300)\n"
   ]
  }
 ],
 "metadata": {
  "kernelspec": {
   "display_name": "R",
   "language": "R",
   "name": "ir"
  },
  "language_info": {
   "codemirror_mode": "r",
   "file_extension": ".r",
   "mimetype": "text/x-r-source",
   "name": "R",
   "pygments_lexer": "r",
   "version": "4.1.0"
  }
 },
 "nbformat": 4,
 "nbformat_minor": 5
}
