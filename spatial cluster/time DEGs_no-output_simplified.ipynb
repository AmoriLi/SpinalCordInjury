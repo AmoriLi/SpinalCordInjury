{
 "cells": [
  {
   "cell_type": "code",
   "execution_count": null,
   "metadata": {
    "vscode": {
     "languageId": "r"
    }
   },
   "outputs": [],
   "source": [
    "wd<-\"/Seurat/reg.CC/WT_replace_v2/DEGs/SCT/res02_220622/\"\n",
    "if(!dir.exists(wd))\n",
    "    dir.create(wd)\n",
    "#dir.create(wd)\n",
    "setwd(wd)\n",
    "getwd()"
   ]
  },
  {
   "cell_type": "code",
   "execution_count": null,
   "metadata": {
    "scrolled": true,
    "vscode": {
     "languageId": "r"
    }
   },
   "outputs": [],
   "source": [
    "library(Seurat)\n",
    "library(ggplot2)\n",
    "library(patchwork)\n",
    "library(dplyr)\n",
    "library(hdf5r)\n",
    "library(png)\n",
    "library(ggalluvial)\n",
    "#library(tidyverse)\n",
    "library(clustree)\n",
    "library(RCTD)\n",
    "library(Matrix)\n",
    "#library(SPOTlight)\n",
    "library(future)\n",
    "library(grid)\n",
    "library(RColorBrewer)\n",
    "library(pheatmap)\n",
    "library(circlize)\n",
    "library(igraph)\n",
    "library(ComplexHeatmap)\n",
    "library(stringr)\n",
    "library(ComplexHeatmap)\n",
    "library(cowplot)\n",
    "library(clusterProfiler)\n",
    "options(connectionObserver = NULL)\n",
    "library(biomaRt)\n",
    "#library(scClustViz)\n"
   ]
  },
  {
   "cell_type": "code",
   "execution_count": null,
   "metadata": {
    "collapsed": true,
    "vscode": {
     "languageId": "r"
    }
   },
   "outputs": [],
   "source": [
    "da<-readRDS(\"/home/jovyan/zxli_SCI/result/Seurat/reg.CC/WT_replace_v2/res02_220310/WT.merge.replace_v2.SCT.regress_CC.nC.mt.ident.pc20.k50.res02.rds\")\n",
    "da"
   ]
  },
  {
   "cell_type": "code",
   "execution_count": null,
   "metadata": {
    "vscode": {
     "languageId": "r"
    }
   },
   "outputs": [],
   "source": [
    "backgenes<-read.table(\"/home/jovyan/zxli_SCI/result/Seurat/reg.CC/WT_replace_v2/WT.GOterm.SCT.backgeneids.txt\")\n",
    "backgenes<-as.character(backgenes$x)\n",
    "head(backgenes)"
   ]
  },
  {
   "cell_type": "markdown",
   "metadata": {},
   "source": [
    "1. time bulk DEGs vs. sham"
   ]
  },
  {
   "cell_type": "code",
   "execution_count": null,
   "metadata": {
    "vscode": {
     "languageId": "r"
    }
   },
   "outputs": [],
   "source": [
    "Idents(da)<-da$time\n",
    "levels(Idents(da))"
   ]
  },
  {
   "cell_type": "code",
   "execution_count": 4,
   "metadata": {
    "vscode": {
     "languageId": "r"
    }
   },
   "outputs": [],
   "source": [
    "sd<-\"time_vs_sham.marker/\"\n",
    "if(!dir.exists(sd))\n",
    "    dir.create(sd)"
   ]
  },
  {
   "cell_type": "code",
   "execution_count": 44,
   "metadata": {
    "vscode": {
     "languageId": "r"
    }
   },
   "outputs": [],
   "source": [
    "\n",
    "for(a in c(levels(Idents(da))[2:4])){\n",
    "    mark<-FindMarkers(da,logfc.threshold = 0.5,min.pct = 0.25,only.pos = F,ident.1=a,ident.2=\"WT_sham\")\n",
    "        \n",
    "    mark <- filter(mark,p_val_adj<0.01)\n",
    "    dim(mark)\n",
    "    mark$group<-a\n",
    "    table(mark$group)\n",
    "    write.csv(mark,paste0(sd,a,\".vs.sham_Marker.np.fc05.pct025.p001.csv\"))\n",
    "    \n",
    "}\n"
   ]
  },
  {
   "cell_type": "code",
   "execution_count": null,
   "metadata": {
    "collapsed": true,
    "vscode": {
     "languageId": "r"
    }
   },
   "outputs": [],
   "source": [
    "f<-dir(sd)\n",
    "f"
   ]
  },
  {
   "cell_type": "code",
   "execution_count": null,
   "metadata": {
    "collapsed": true,
    "vscode": {
     "languageId": "r"
    }
   },
   "outputs": [],
   "source": [
    "temp<-read.csv(paste0(sd,\"WT_24h.vs.sham_Marker.np.fc05.pct025.p001.csv\"))\n",
    "head(temp)\n",
    "for(i in 2:length(f)){\n",
    "    temp2<-read.csv(paste0(sd,f[i]))\n",
    "    temp<-rbind(temp,temp2)\n",
    "}\n",
    "dim(temp)"
   ]
  },
  {
   "cell_type": "code",
   "execution_count": null,
   "metadata": {
    "vscode": {
     "languageId": "r"
    }
   },
   "outputs": [],
   "source": [
    "temp$up_down<-\"\"\n",
    "temp$up_down[temp$avg_log2FC>0]<-\"up\"\n",
    "temp$up_down[temp$avg_log2FC<0]<-\"down\"\n",
    "table(temp$up_down)"
   ]
  },
  {
   "cell_type": "code",
   "execution_count": null,
   "metadata": {
    "vscode": {
     "languageId": "r"
    }
   },
   "outputs": [],
   "source": [
    "temp$time<-temp$group\n",
    "temp$group<-paste0(temp$time,\"-\",temp$up_down)\n",
    "table(temp$group)"
   ]
  },
  {
   "cell_type": "code",
   "execution_count": null,
   "metadata": {
    "vscode": {
     "languageId": "r"
    }
   },
   "outputs": [],
   "source": [
    "table(temp$group)\n",
    "write.csv(temp,paste0(sd,\"time.bulk.vs.sham.fc05.pct025.pad001.rbind.csv\"))"
   ]
  },
  {
   "cell_type": "code",
   "execution_count": null,
   "metadata": {
    "collapsed": true,
    "vscode": {
     "languageId": "r"
    }
   },
   "outputs": [],
   "source": [
    "library(clusterProfiler)\n",
    "options(connectionObserver = NULL)\n",
    "#remotes::install_version(\"RSQLite\", version = \"2.2.5\")\n",
    "library(org.Mm.eg.db)\n",
    "library(ggplot2)\n",
    "#grlabs<-split(gene.nodle.df$gene,gene.nodle.df$module)\n",
    "grlabs<-split(temp$X,temp$group)\n",
    "gcSample = lapply(grlabs, function(gr) as.numeric(bitr(gr, fromType = \"SYMBOL\", toType = \"ENTREZID\", OrgDb = \"org.Mm.eg.db\")$ENTREZID))\n",
    "pvalueCutoff = 0.01\n",
    "qvalueCutoff = 0.01\n",
    "xx.mus.go <- compareCluster(gcSample, OrgDb='org.Mm.eg.db', fun='enrichGO',#maxGSSize=150,\n",
    "                            pvalueCutoff = pvalueCutoff, qvalueCutoff = qvalueCutoff,\n",
    "                            ont = \"BP\", readable=T,universe=backgenes\n",
    "                           )\n",
    "EnrichResGO_mm = xx.mus.go@compareClusterResult\n",
    "saveRDS(xx.mus.go,paste0(sd,\"WT.time.vs.sham.fc05.pct025.p001.updown_pqval001.background.go.rds\"))"
   ]
  },
  {
   "cell_type": "code",
   "execution_count": 6,
   "metadata": {
    "vscode": {
     "languageId": "r"
    }
   },
   "outputs": [],
   "source": [
    "xx.mus.go<-readRDS(paste0(sd,\"WT.domain.time.vs.sham.fc05.pct025.p001.updown_pqval001.background.go.rds\"))"
   ]
  },
  {
   "cell_type": "code",
   "execution_count": null,
   "metadata": {
    "collapsed": true,
    "vscode": {
     "languageId": "r"
    }
   },
   "outputs": [],
   "source": [
    "###ggplot2\n",
    "df<-xx.mus.go@compareClusterResult\n",
    "head(df)\n",
    "dim(df)\n",
    "unique(df$Cluster)"
   ]
  },
  {
   "cell_type": "code",
   "execution_count": 15,
   "metadata": {
    "vscode": {
     "languageId": "r"
    }
   },
   "outputs": [],
   "source": [
    "df1 = df %>% group_by(.,Cluster) %>% filter(Count>=5) %>% top_n(.,-5,p.adjust)  #按照Cluster排序，并取每个cluster的前20个\n",
    "#df1<-df[df$Description %in% unique(df1$Description),]\n",
    "df1$Cluster<-factor(df1$Cluster,levels = c('WT_3h-up','WT_24h-up','WT_72h-up','WT_3h-down','WT_24h-down','WT_72h-down'))\n",
    "df1<-df1[order(df1$Cluster),]\n",
    "df1$Description = factor(df1$Description,levels = rev(unique(df1$Description)))  #对Description进行按cluster排序，后面展示时同一cluster的go可以放在一起\n"
   ]
  },
  {
   "cell_type": "code",
   "execution_count": 12,
   "metadata": {
    "vscode": {
     "languageId": "r"
    }
   },
   "outputs": [],
   "source": [
    "df_up<-df1[grep(\"up\",df1$Cluster),]"
   ]
  },
  {
   "cell_type": "code",
   "execution_count": null,
   "metadata": {
    "vscode": {
     "languageId": "r"
    }
   },
   "outputs": [],
   "source": [
    "options(repr.plot.width=6, repr.plot.height=5,font.size=15)\n",
    "library(ggplot2)\n",
    "p=ggplot(df_up,aes(Cluster,Description))+geom_point(aes(size=Count,color=p.adjust))+        #基因数目表示SIZE，p.adjust代表颜色深浅\n",
    "    scale_color_gradientn(colors=brewer.pal(9,\"Spectral\"),guide = guide_colorbar(reverse = T))+\n",
    "    theme_bw()+\n",
    "    theme(axis.title = element_blank(),axis.text = element_text(size = 13),axis.text.x.bottom = element_text(angle = 90))#+facet_grid(ONTOLOGY~., scales = \"free\")\n",
    "p\n",
    "ggsave(paste0(sd,\"WT.time.upMarker.fc05.pct025.p001_GO.pqval001.C5.pval.top5.go_220627.png\"),width = 6,height = 5,dpi = 400)"
   ]
  },
  {
   "cell_type": "code",
   "execution_count": 16,
   "metadata": {
    "vscode": {
     "languageId": "r"
    }
   },
   "outputs": [],
   "source": [
    "df_down<-df1[grep(\"down\",df1$Cluster),]"
   ]
  },
  {
   "cell_type": "code",
   "execution_count": null,
   "metadata": {
    "collapsed": true,
    "vscode": {
     "languageId": "r"
    }
   },
   "outputs": [],
   "source": [
    "options(repr.plot.width=5.5, repr.plot.height=5,font.size=15)\n",
    "library(ggplot2)\n",
    "p=ggplot(df_down,aes(Cluster,Description))+geom_point(aes(size=Count,color=p.adjust))+        #基因数目表示SIZE，p.adjust代表颜色深浅\n",
    "    scale_color_gradientn(colors=brewer.pal(9,\"Spectral\"),guide = guide_colorbar(reverse = T))+\n",
    "    theme_bw()+\n",
    "    theme(axis.title = element_blank(),axis.text = element_text(size = 13),axis.text.x.bottom = element_text(angle = 90))#+facet_grid(ONTOLOGY~., scales = \"free\")\n",
    "p\n",
    "ggsave(paste0(sd,\"WT.time.downMarker.fc05.pct025.p001_GO.pqval001.C5.pval.top5.go_220627.png\"),width = 5.5,height = 5,dpi = 400)"
   ]
  },
  {
   "cell_type": "markdown",
   "metadata": {},
   "source": [
    "2. HT DEGs"
   ]
  },
  {
   "cell_type": "code",
   "execution_count": null,
   "metadata": {
    "vscode": {
     "languageId": "r"
    }
   },
   "outputs": [],
   "source": [
    "Hda<-da[rownames(da),rownames(da@meta.data[da@meta.data$RC==\"WT_H\",])]\n",
    "unique(Hda$RC)"
   ]
  },
  {
   "cell_type": "code",
   "execution_count": null,
   "metadata": {
    "vscode": {
     "languageId": "r"
    }
   },
   "outputs": [],
   "source": [
    "Tda<-da[rownames(da),rownames(da@meta.data[da@meta.data$RC==\"WT_T\",])]\n",
    "unique(Tda$RC)"
   ]
  },
  {
   "cell_type": "code",
   "execution_count": null,
   "metadata": {
    "collapsed": true,
    "vscode": {
     "languageId": "r"
    }
   },
   "outputs": [],
   "source": [
    "HT<-c(Hda,Tda)\n",
    "HT"
   ]
  },
  {
   "cell_type": "code",
   "execution_count": null,
   "metadata": {
    "collapsed": true,
    "vscode": {
     "languageId": "r"
    }
   },
   "outputs": [],
   "source": [
    "names(HT)<-c(\"H\",\"T\")\n",
    "HT"
   ]
  },
  {
   "cell_type": "code",
   "execution_count": 108,
   "metadata": {
    "vscode": {
     "languageId": "r"
    }
   },
   "outputs": [],
   "source": [
    "for(j in c(\"H\",\"T\")){\n",
    "    temp2<-HT[[j]]\n",
    "    #name<-names(HT[j])\n",
    "    for(a in c(levels(Idents(temp2))[2:4])){\n",
    "        mark<-FindMarkers(temp2,logfc.threshold = 0.5,min.pct = 0.25,only.pos = F,ident.1=a,ident.2=\"WT_sham\")\n",
    "            \n",
    "        mark <- filter(mark,p_val_adj<0.01)\n",
    "        dim(mark)\n",
    "        mark$group<-paste0(a,\"_\",j)\n",
    "        table(mark$group)\n",
    "        write.csv(mark,paste0(sd,j,\"_\",a,\".timevs.sham_Marker.fc05.pct025.p001.csv\"))\n",
    "    }\n",
    "}"
   ]
  },
  {
   "cell_type": "code",
   "execution_count": null,
   "metadata": {
    "vscode": {
     "languageId": "r"
    }
   },
   "outputs": [],
   "source": [
    "f<-dir(sd,pattern = \"^[H-T]\")\n",
    "f"
   ]
  },
  {
   "cell_type": "code",
   "execution_count": null,
   "metadata": {
    "collapsed": true,
    "vscode": {
     "languageId": "r"
    }
   },
   "outputs": [],
   "source": [
    "temp<-read.csv(paste0(sd,f[1]))\n",
    "head(temp)\n",
    "for(i in 2:length(f)){\n",
    "    temp2<-read.csv(paste0(sd,f[i]))\n",
    "    temp<-rbind(temp,temp2)\n",
    "}\n",
    "dim(temp)"
   ]
  },
  {
   "cell_type": "code",
   "execution_count": null,
   "metadata": {
    "vscode": {
     "languageId": "r"
    }
   },
   "outputs": [],
   "source": [
    "temp$up_down<-\"\"\n",
    "temp$up_down[temp$avg_log2FC>0]<-\"up\"\n",
    "temp$up_down[temp$avg_log2FC<0]<-\"down\"\n",
    "table(temp$up_down)"
   ]
  },
  {
   "cell_type": "code",
   "execution_count": null,
   "metadata": {
    "collapsed": true,
    "vscode": {
     "languageId": "r"
    }
   },
   "outputs": [],
   "source": [
    "temp$time<-temp$group\n",
    "temp$group<-paste0(temp$time,\"-\",temp$up_down)\n",
    "table(temp$group)"
   ]
  },
  {
   "cell_type": "code",
   "execution_count": null,
   "metadata": {
    "collapsed": true,
    "vscode": {
     "languageId": "r"
    }
   },
   "outputs": [],
   "source": [
    "table(temp$group)\n",
    "write.csv(temp,paste0(sd,\"HT.time.bulk.vs.sham.fc05.pct025.pad001.rbind.csv\"))"
   ]
  },
  {
   "cell_type": "code",
   "execution_count": null,
   "metadata": {
    "collapsed": true,
    "vscode": {
     "languageId": "r"
    }
   },
   "outputs": [],
   "source": [
    "library(clusterProfiler)\n",
    "options(connectionObserver = NULL)\n",
    "#remotes::install_version(\"RSQLite\", version = \"2.2.5\")\n",
    "library(org.Mm.eg.db)\n",
    "library(ggplot2)\n",
    "#grlabs<-split(gene.nodle.df$gene,gene.nodle.df$module)\n",
    "grlabs<-split(temp$X,temp$group)\n",
    "gcSample = lapply(grlabs, function(gr) as.numeric(bitr(gr, fromType = \"SYMBOL\", toType = \"ENTREZID\", OrgDb = \"org.Mm.eg.db\")$ENTREZID))\n",
    "pvalueCutoff = 0.01\n",
    "qvalueCutoff = 0.01\n",
    "xx.mus.go <- compareCluster(gcSample, OrgDb='org.Mm.eg.db', fun='enrichGO',#maxGSSize=150,\n",
    "                            pvalueCutoff = pvalueCutoff, qvalueCutoff = qvalueCutoff,\n",
    "                            ont = \"BP\", readable=T,universe=backgenes\n",
    "                           )\n",
    "EnrichResGO_mm = xx.mus.go@compareClusterResult\n",
    "saveRDS(xx.mus.go,paste0(sd,\"WT.HT.time.vs.sham.fc05.pct025.p001.updown_pqval001.background.go.rds\"))"
   ]
  },
  {
   "cell_type": "code",
   "execution_count": 26,
   "metadata": {
    "vscode": {
     "languageId": "r"
    }
   },
   "outputs": [],
   "source": [
    "xx.mus.go<-readRDS(paste0(sd,\"WT.HT.time.vs.sham.fc05.pct025.p001.updown_pqval001.background.go.rds\"))"
   ]
  },
  {
   "cell_type": "markdown",
   "metadata": {},
   "source": [
    "3. distance"
   ]
  },
  {
   "cell_type": "code",
   "execution_count": null,
   "metadata": {
    "vscode": {
     "languageId": "r"
    }
   },
   "outputs": [],
   "source": [
    "Hda<-da[rownames(da),rownames(da@meta.data[da@meta.data$distance==\"1mm\",])]\n",
    "unique(Hda$distance)"
   ]
  },
  {
   "cell_type": "code",
   "execution_count": null,
   "metadata": {
    "vscode": {
     "languageId": "r"
    }
   },
   "outputs": [],
   "source": [
    "Tda<-da[rownames(da),rownames(da@meta.data[da@meta.data$distance==\"0.5mm\",])]\n",
    "unique(Tda$distance)"
   ]
  },
  {
   "cell_type": "code",
   "execution_count": null,
   "metadata": {
    "collapsed": true,
    "vscode": {
     "languageId": "r"
    }
   },
   "outputs": [],
   "source": [
    "HT<-c(Hda,Tda)\n",
    "HT"
   ]
  },
  {
   "cell_type": "code",
   "execution_count": null,
   "metadata": {
    "collapsed": true,
    "vscode": {
     "languageId": "r"
    }
   },
   "outputs": [],
   "source": [
    "names(HT)<-c(\"1mm\",\"0.5mm\")\n",
    "HT"
   ]
  },
  {
   "cell_type": "code",
   "execution_count": 148,
   "metadata": {
    "vscode": {
     "languageId": "r"
    }
   },
   "outputs": [],
   "source": [
    "for(j in c(\"1mm\",\"0.5mm\")){\n",
    "    temp2<-HT[[j]]\n",
    "    #name<-names(HT[j])\n",
    "    for(a in c(levels(Idents(temp2))[2:4])){\n",
    "        mark<-FindMarkers(temp2,logfc.threshold = 0.5,min.pct = 0.25,only.pos = F,ident.1=a,ident.2=\"WT_sham\")\n",
    "            \n",
    "        mark <- filter(mark,p_val_adj<0.01)\n",
    "        dim(mark)\n",
    "        mark$group<-paste0(a,\"_\",j)\n",
    "        table(mark$group)\n",
    "        write.csv(mark,paste0(sd,j,\"_\",a,\".timevs.sham_Marker.fc05.pct025.p001.csv\"))\n",
    "    }\n",
    "}"
   ]
  },
  {
   "cell_type": "code",
   "execution_count": null,
   "metadata": {
    "collapsed": true,
    "vscode": {
     "languageId": "r"
    }
   },
   "outputs": [],
   "source": [
    "f<-dir(sd,pattern = \"^[0-1]\")\n",
    "f"
   ]
  },
  {
   "cell_type": "code",
   "execution_count": null,
   "metadata": {
    "collapsed": true,
    "vscode": {
     "languageId": "r"
    }
   },
   "outputs": [],
   "source": [
    "temp<-read.csv(paste0(sd,f[1]))\n",
    "head(temp)\n",
    "for(i in 2:length(f)){\n",
    "    temp2<-read.csv(paste0(sd,f[i]))\n",
    "    temp<-rbind(temp,temp2)\n",
    "}\n",
    "dim(temp)"
   ]
  },
  {
   "cell_type": "code",
   "execution_count": null,
   "metadata": {
    "vscode": {
     "languageId": "r"
    }
   },
   "outputs": [],
   "source": [
    "temp$up_down<-\"\"\n",
    "temp$up_down[temp$avg_log2FC>0]<-\"up\"\n",
    "temp$up_down[temp$avg_log2FC<0]<-\"down\"\n",
    "table(temp$up_down)"
   ]
  },
  {
   "cell_type": "code",
   "execution_count": null,
   "metadata": {
    "collapsed": true,
    "vscode": {
     "languageId": "r"
    }
   },
   "outputs": [],
   "source": [
    "temp$time<-temp$group\n",
    "temp$group<-paste0(temp$time,\"-\",temp$up_down)\n",
    "table(temp$group)"
   ]
  },
  {
   "cell_type": "code",
   "execution_count": 11,
   "metadata": {
    "vscode": {
     "languageId": "r"
    }
   },
   "outputs": [],
   "source": [
    "write.csv(temp,paste0(sd,\"distance.time.bulk.vs.sham.fc05.pct025.pad001.rbind.csv\"))"
   ]
  },
  {
   "cell_type": "markdown",
   "metadata": {},
   "source": [
    "4. domain"
   ]
  },
  {
   "cell_type": "code",
   "execution_count": null,
   "metadata": {
    "collapsed": true,
    "vscode": {
     "languageId": "r"
    }
   },
   "outputs": [],
   "source": [
    "temp<-read.csv(\"/Seurat/reg.CC/WT_replace_v2/res02_220310/time_domain.marker/WT.domain.timevs.sham.fc05.pct025.p001.np.marker.csv\")\n",
    "temp<-temp[,-1]\n",
    "temp$time<-paste0(str_split(temp$group,\"_\",simplify = T)[,1],\"_\",str_split(temp$group,\"_\",simplify = T)[,2])\n",
    "head(temp)"
   ]
  },
  {
   "cell_type": "code",
   "execution_count": null,
   "metadata": {
    "collapsed": true,
    "vscode": {
     "languageId": "r"
    }
   },
   "outputs": [],
   "source": [
    "dim(temp)\n",
    "temp$up_down<-\"\"\n",
    "temp$up_down[temp$avg_log2FC>0]<-\"up\"\n",
    "temp$up_down[temp$avg_log2FC<0]<-\"down\"\n",
    "table(temp$up_down)"
   ]
  },
  {
   "cell_type": "code",
   "execution_count": null,
   "metadata": {
    "collapsed": true,
    "vscode": {
     "languageId": "r"
    }
   },
   "outputs": [],
   "source": [
    "temp$group<-paste0(temp$group,\"-\",temp$up_down)\n",
    "table(temp$group)"
   ]
  },
  {
   "cell_type": "code",
   "execution_count": 16,
   "metadata": {
    "vscode": {
     "languageId": "r"
    }
   },
   "outputs": [],
   "source": [
    "write.csv(temp,paste0(sd,\"domain.time.bulk.vs.sham.fc05.pct025.pad001.rbind.csv\"))"
   ]
  },
  {
   "cell_type": "code",
   "execution_count": null,
   "metadata": {
    "collapsed": true,
    "vscode": {
     "languageId": "r"
    }
   },
   "outputs": [],
   "source": [
    "library(clusterProfiler)\n",
    "options(connectionObserver = NULL)\n",
    "#remotes::install_version(\"RSQLite\", version = \"2.2.5\")\n",
    "library(org.Mm.eg.db)\n",
    "library(ggplot2)\n",
    "#grlabs<-split(gene.nodle.df$gene,gene.nodle.df$module)\n",
    "grlabs<-split(temp$X,temp$group)\n",
    "gcSample = lapply(grlabs, function(gr) as.numeric(bitr(gr, fromType = \"SYMBOL\", toType = \"ENTREZID\", OrgDb = \"org.Mm.eg.db\")$ENTREZID))\n",
    "pvalueCutoff = 0.01\n",
    "qvalueCutoff = 0.01\n",
    "xx.mus.go <- compareCluster(gcSample, OrgDb='org.Mm.eg.db', fun='enrichGO',#maxGSSize=150,\n",
    "                            pvalueCutoff = pvalueCutoff, qvalueCutoff = qvalueCutoff,\n",
    "                            ont = \"BP\", readable=T,universe=backgenes\n",
    "                           )\n",
    "EnrichResGO_mm = xx.mus.go@compareClusterResult\n",
    "saveRDS(xx.mus.go,paste0(sd,\"WT.domain.time.vs.sham.fc05.pct025.p001.updown_pqval001.background.go.rds\"))"
   ]
  },
  {
   "cell_type": "code",
   "execution_count": 158,
   "metadata": {
    "vscode": {
     "languageId": "r"
    }
   },
   "outputs": [],
   "source": [
    "xx.mus.go<-readRDS(paste0(sd,\"WT.domain.time.vs.sham.fc05.pct025.p001.updown_pqval001.background.go.rds\"))"
   ]
  },
  {
   "cell_type": "code",
   "execution_count": null,
   "metadata": {
    "collapsed": true,
    "vscode": {
     "languageId": "r"
    }
   },
   "outputs": [],
   "source": [
    "###ggplot2\n",
    "df<-xx.mus.go@compareClusterResult\n",
    "head(df)\n",
    "dim(df)\n",
    "unique(df$Cluster)"
   ]
  },
  {
   "cell_type": "markdown",
   "metadata": {},
   "source": [
    "#### show each group individually"
   ]
  },
  {
   "cell_type": "code",
   "execution_count": null,
   "metadata": {
    "collapsed": true,
    "vscode": {
     "languageId": "r"
    }
   },
   "outputs": [],
   "source": [
    "df$time<-paste0(str_split(df$Cluster,\"_\",simplify = T)[,1],\"_\",str_split(df$Cluster,\"_\",simplify = T)[,2])\n",
    "df$time<-factor(df$time,levels = c(\"WT_3h\",\"WT_24h\",\"WT_72h\"))\n",
    "df<-df[order(df$time),]\n",
    "df$up_down<-str_split(df$Cluster,\"-\",simplify = T)[,2]\n",
    "df$up_down<-factor(df$up_down,levels = c(\"up\",\"down\"))\n",
    "df<-df[order(df$up_down),]\n",
    "head(df)"
   ]
  },
  {
   "cell_type": "code",
   "execution_count": 55,
   "metadata": {
    "vscode": {
     "languageId": "r"
    }
   },
   "outputs": [],
   "source": [
    "write.csv(df,\"WT.domain.time.vs.sham.fc05.pct025.p001.updown_pqval001.background.go.adjust.dataframe.csv\")"
   ]
  },
  {
   "cell_type": "code",
   "execution_count": 187,
   "metadata": {
    "vscode": {
     "languageId": "r"
    }
   },
   "outputs": [],
   "source": [
    "df2<-df[grep(\"DH\",df$Cluster),]\n",
    "df1 = df1 %>% group_by(.,Cluster) %>% filter(Count>=5) %>% top_n(.,-5,p.adjust)  #按照Cluster排序，并取每个cluster的前20个\n",
    "df1<-df2[df2$Description %in% unique(df1$Description),]\n",
    "df1$Cluster<-factor(df1$Cluster,levels = c('WT_3h_DH-up','WT_3h_MG-up','WT_3h_VH-up','WT_3h_WM-up',\n",
    "                                           'WT_24h_DH-up','WT_24h_MG-up','WT_24h_VH-up','WT_24h_WM-up',\n",
    "                                           'WT_72h_DH-up','WT_72h_MG-up','WT_72h_VH-up','WT_72h_WM-up',\n",
    "                                           'WT_3h_DH-down','WT_3h_MG-down','WT_3h_VH-down','WT_3h_WM-down',\n",
    "                                           'WT_24h_DH-down','WT_24h_MG-down','WT_24h_VH-down','WT_24h_WM-down',\n",
    "                                           'WT_72h_DH-down','WT_72h_MG-down','WT_72h_VH-down','WT_72h_WM-down'\n",
    "                                          ))\n",
    "df1<-df1[order(df1$time),]\n",
    "df1<-df1[order(df1$up_down),]\n",
    "#if(unique(df1$up_down)==\"up\"){\n",
    "#    df1$Description = factor(df1$Description,\n",
    "#                         levels = c(unique(df1$Description)))  #对Description进\n",
    "#}else{\n",
    "#    df1$Description = factor(df1$Description,\n",
    "#                         levels = c(unique(df1$Description)))\n",
    "#}\n",
    "df1$Description = factor(df1$Description,\n",
    "                         levels = unique(c(unique(df1[df1$up_down==\"up\",]$Description),rev(unique(df1[df1$up_down==\"down\",]$Description)))))  #对Description进"
   ]
  },
  {
   "cell_type": "code",
   "execution_count": null,
   "metadata": {
    "collapsed": true,
    "vscode": {
     "languageId": "r"
    }
   },
   "outputs": [],
   "source": [
    "#df_up<-df1[grep(\"up\",df1$Cluster),]\n",
    "options(repr.plot.width=6, repr.plot.height=4,font.size=15)\n",
    "library(ggplot2)\n",
    "p=ggplot(df1,aes(time,Description))+geom_point(aes(size=Count,color=p.adjust))+        #基因数目表示SIZE，p.adjust代表颜色深浅\n",
    "    scale_color_gradientn(colors=brewer.pal(9,\"Spectral\"),guide = guide_colorbar(reverse = T))+\n",
    "    theme_bw()+facet_wrap(~up_down,nrow=2,scales = \"free\")+\n",
    "    theme(axis.title = element_blank(),axis.text = element_text(size = 13),axis.text.x.bottom = element_text(angle = 90))#+facet_grid(ONTOLOGY~., scales = \"free\")\n",
    "p\n",
    "ggsave(paste0(sd,\"WT.DH.time.Marker.fc05.pct025.p001_GO.pqval001.C5.pval.top5.go_updown.png\"),width = 6,height = 8.5,dpi = 400)"
   ]
  },
  {
   "cell_type": "code",
   "execution_count": 173,
   "metadata": {
    "vscode": {
     "languageId": "r"
    }
   },
   "outputs": [],
   "source": [
    "df2<-df[grep(\"MG\",df$Cluster),]\n",
    "df1 = df1 %>% group_by(.,Cluster) %>% filter(Count>=5) %>% top_n(.,-5,p.adjust)  #按照Cluster排序，并取每个cluster的前20个\n",
    "df1<-df2[df2$Description %in% unique(df1$Description),]\n",
    "#df1$Cluster<-factor(df1$Cluster,levels = c('WT_3h_DH-up','WT_3h_MG-up','WT_3h_VH-up','WT_3h_WM-up',\n",
    "#                                           'WT_24h_DH-up','WT_24h_MG-up','WT_24h_VH-up','WT_24h_WM-up',\n",
    "#                                           'WT_72h_DH-up','WT_72h_MG-up','WT_72h_VH-up','WT_72h_WM-up',\n",
    "#                                           'WT_3h_DH-down','WT_3h_MG-down','WT_3h_VH-down','WT_3h_WM-down',\n",
    "#                                           'WT_24h_DH-down','WT_24h_MG-down','WT_24h_VH-down','WT_24h_WM-down',\n",
    "#                                           'WT_72h_DH-down','WT_72h_MG-down','WT_72h_VH-down','WT_72h_WM-down'\n",
    "#                                          ))\n",
    "df1<-df1[order(df1$time),]\n",
    "df1<-df1[order(df1$up_down),]\n",
    "df1$Description = factor(df1$Description,\n",
    "                         levels = unique(c(unique(df1[df1$up_down==\"up\",]$Description),rev(unique(df1[df1$up_down==\"down\",]$Description)))))  #对Description进"
   ]
  },
  {
   "cell_type": "code",
   "execution_count": null,
   "metadata": {
    "collapsed": true,
    "vscode": {
     "languageId": "r"
    }
   },
   "outputs": [],
   "source": [
    "options(repr.plot.width=6.2, repr.plot.height=8.5,font.size=15)\n",
    "library(ggplot2)\n",
    "p=ggplot(df1,aes(time,Description))+geom_point(aes(size=Count,color=p.adjust))+        #基因数目表示SIZE，p.adjust代表颜色深浅\n",
    "    scale_color_gradientn(colors=brewer.pal(9,\"Spectral\"),guide = guide_colorbar(reverse = T))+\n",
    "    theme_bw()+facet_wrap(~up_down,nrow=2,scales = \"free\")+\n",
    "    theme(axis.title = element_blank(),axis.text = element_text(size = 13),axis.text.x.bottom = element_text(angle = 90))#+facet_grid(ONTOLOGY~., scales = \"free\")\n",
    "p\n",
    "#ggsave(paste0(sd,\"WT.MG.time.Marker.fc05.pct025.p001_GO.pqval001.C5.pval.top5.go_updown.png\"),width = 6.2,height = 8.5,dpi = 400)"
   ]
  },
  {
   "cell_type": "code",
   "execution_count": 176,
   "metadata": {
    "vscode": {
     "languageId": "r"
    }
   },
   "outputs": [],
   "source": [
    "df2<-df[grep(\"VH\",df$Cluster),]\n",
    "df1 = df1 %>% group_by(.,Cluster) %>% filter(Count>=5) %>% top_n(.,-5,p.adjust)  #按照Cluster排序，并取每个cluster的前20个\n",
    "df1<-df2[df2$Description %in% unique(df1$Description),]\n",
    "#df1$Cluster<-factor(df1$Cluster,levels = c('WT_3h_DH-up','WT_3h_MG-up','WT_3h_VH-up','WT_3h_WM-up',\n",
    "#                                           'WT_24h_DH-up','WT_24h_MG-up','WT_24h_VH-up','WT_24h_WM-up',\n",
    "#                                           'WT_72h_DH-up','WT_72h_MG-up','WT_72h_VH-up','WT_72h_WM-up',\n",
    "#                                           'WT_3h_DH-down','WT_3h_MG-down','WT_3h_VH-down','WT_3h_WM-down',\n",
    "#                                           'WT_24h_DH-down','WT_24h_MG-down','WT_24h_VH-down','WT_24h_WM-down',\n",
    "#                                           'WT_72h_DH-down','WT_72h_MG-down','WT_72h_VH-down','WT_72h_WM-down'\n",
    "#                                          ))\n",
    "df1<-df1[order(df1$time),]\n",
    "df1<-df1[order(df1$up_down),]\n",
    "df1$Description = factor(df1$Description,\n",
    "                         levels = unique(c(unique(df1[df1$up_down==\"up\",]$Description),rev(unique(df1[df1$up_down==\"down\",]$Description)))))  #对Description进"
   ]
  },
  {
   "cell_type": "code",
   "execution_count": null,
   "metadata": {
    "collapsed": true,
    "vscode": {
     "languageId": "r"
    }
   },
   "outputs": [],
   "source": [
    "options(repr.plot.width=6, repr.plot.height=8.5,font.size=15)\n",
    "library(ggplot2)\n",
    "p=ggplot(df1,aes(time,Description))+geom_point(aes(size=Count,color=p.adjust))+        #基因数目表示SIZE，p.adjust代表颜色深浅\n",
    "    scale_color_gradientn(colors=brewer.pal(9,\"Spectral\"),guide = guide_colorbar(reverse = T))+\n",
    "    theme_bw()+facet_wrap(~up_down,nrow=2,scales = \"free\")+\n",
    "    theme(axis.title = element_blank(),axis.text = element_text(size = 13),axis.text.x.bottom = element_text(angle = 90))#+facet_grid(ONTOLOGY~., scales = \"free\")\n",
    "p\n",
    "ggsave(paste0(sd,\"WT.VH.time.Marker.fc05.pct025.p001_GO.pqval001.C5.pval.top5.go_updown.png\"),width = 6,height = 8.5,dpi = 400)"
   ]
  },
  {
   "cell_type": "code",
   "execution_count": 179,
   "metadata": {
    "vscode": {
     "languageId": "r"
    }
   },
   "outputs": [],
   "source": [
    "df2<-df[grep(\"WM\",df$Cluster),]\n",
    "df1 = df1 %>% group_by(.,Cluster) %>% filter(Count>=5) %>% top_n(.,-5,p.adjust)  #按照Cluster排序，并取每个cluster的前20个\n",
    "df1<-df2[df2$Description %in% unique(df1$Description),]\n",
    "#df1$Cluster<-factor(df1$Cluster,levels = c('WT_3h_DH-up','WT_3h_MG-up','WT_3h_VH-up','WT_3h_WM-up',\n",
    "#                                           'WT_24h_DH-up','WT_24h_MG-up','WT_24h_VH-up','WT_24h_WM-up',\n",
    "#                                           'WT_72h_DH-up','WT_72h_MG-up','WT_72h_VH-up','WT_72h_WM-up',\n",
    "#                                           'WT_3h_DH-down','WT_3h_MG-down','WT_3h_VH-down','WT_3h_WM-down',\n",
    "#                                           'WT_24h_DH-down','WT_24h_MG-down','WT_24h_VH-down','WT_24h_WM-down',\n",
    "#                                           'WT_72h_DH-down','WT_72h_MG-down','WT_72h_VH-down','WT_72h_WM-down'\n",
    "#                                          ))\n",
    "df1<-df1[order(df1$time),]\n",
    "df1<-df1[order(df1$up_down),]\n",
    "df1$Description = factor(df1$Description,\n",
    "                         levels = unique(c(unique(df1[df1$up_down==\"up\",]$Description),rev(unique(df1[df1$up_down==\"down\",]$Description)))))  #对Description进"
   ]
  },
  {
   "cell_type": "code",
   "execution_count": null,
   "metadata": {
    "collapsed": true,
    "vscode": {
     "languageId": "r"
    }
   },
   "outputs": [],
   "source": [
    "options(repr.plot.width=6, repr.plot.height=8.5,font.size=15)\n",
    "library(ggplot2)\n",
    "p=ggplot(df1,aes(time,Description))+geom_point(aes(size=Count,color=p.adjust))+        #基因数目表示SIZE，p.adjust代表颜色深浅\n",
    "    scale_color_gradientn(colors=brewer.pal(9,\"Spectral\"),guide = guide_colorbar(reverse = T))+\n",
    "    theme_bw()+facet_wrap(~up_down,nrow=2,scales = \"free\")+\n",
    "    theme(axis.title = element_blank(),axis.text = element_text(size = 13),axis.text.x.bottom = element_text(angle = 90))#+facet_grid(ONTOLOGY~., scales = \"free\")\n",
    "p\n",
    "ggsave(paste0(sd,\"WT.WM.time.Marker.fc05.pct025.p001_GO.pqval001.C5.pval.top5.go_updown.png\"),width = 6,height = 8.5,dpi = 400)"
   ]
  },
  {
   "attachments": {},
   "cell_type": "markdown",
   "metadata": {},
   "source": [
    "### merge DEG"
   ]
  },
  {
   "cell_type": "code",
   "execution_count": 72,
   "metadata": {
    "vscode": {
     "languageId": "r"
    }
   },
   "outputs": [],
   "source": [
    "fp<-c(\"/home/jovyan/zxli_SCI/result/Seurat/reg.CC/WT_replace_v2/DEGs/SCT/HT/H/WT.SCT.H.time_Marker.p001.csv\",\n",
    "     \"/home/jovyan/zxli_SCI/result/Seurat/reg.CC/WT_replace_v2/DEGs/SCT/HT/T/WT.SCT.T.time_Marker.p001.csv\",\n",
    "     \"/home/jovyan/zxli_SCI/result/Seurat/reg.CC/WT_replace_v2/DEGs/SCT/distance/WT.SCT.0.5mm.time_Marker.p001.csv\",\n",
    "     \"/home/jovyan/zxli_SCI/result/Seurat/reg.CC/WT_replace_v2/DEGs/SCT/distance/WT.SCT.1mm.time_Marker.p001.csv\",\n",
    "     \"/home/jovyan/zxli_SCI/result/Seurat/reg.CC/WT_replace_v2/DEGs/SCT/domain_pc20.k50.res025/WM/WT.SCT.WM.time_Marker.p001.csv\",\n",
    "     \"/home/jovyan/zxli_SCI/result/Seurat/reg.CC/WT_replace_v2/DEGs/SCT/domain_pc20.k50.res025/MG/WT.SCT.MG.time_Marker.p001.csv\",\n",
    "     \"/home/jovyan/zxli_SCI/result/Seurat/reg.CC/WT_replace_v2/DEGs/SCT/domain_pc20.k50.res025/DH/WT.SCT.DH.time_Marker.p001.csv\",\n",
    "     \"/home/jovyan/zxli_SCI/result/Seurat/reg.CC/WT_replace_v2/DEGs/SCT/domain_pc20.k50.res025/VH/WT.SCT.VH.time_Marker.p001.csv\")"
   ]
  },
  {
   "cell_type": "code",
   "execution_count": null,
   "metadata": {
    "collapsed": true,
    "vscode": {
     "languageId": "r"
    }
   },
   "outputs": [],
   "source": [
    "mark<-time_mark\n",
    "for(i in 1:length(fp)){\n",
    "    temp<-read.csv(fp[i],header = T)\n",
    "    rownames(temp)<-temp[,1]\n",
    "    temp<-temp[,-1]\n",
    "    mark<-rbind(mark,temp)\n",
    "}\n",
    "dim(mark)\n",
    "unique(mark$group)"
   ]
  },
  {
   "cell_type": "code",
   "execution_count": 78,
   "metadata": {
    "vscode": {
     "languageId": "r"
    }
   },
   "outputs": [],
   "source": [
    "write.csv(mark,\"WT.SCT.allgroups.p001.DEGs.merge.csv\")"
   ]
  }
 ],
 "metadata": {
  "kernelspec": {
   "display_name": "R",
   "language": "R",
   "name": "ir"
  },
  "language_info": {
   "codemirror_mode": "r",
   "file_extension": ".r",
   "mimetype": "text/x-r-source",
   "name": "R",
   "pygments_lexer": "r",
   "version": "4.1.0"
  }
 },
 "nbformat": 4,
 "nbformat_minor": 2
}
